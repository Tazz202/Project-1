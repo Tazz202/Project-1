{
 "cells": [
  {
   "cell_type": "markdown",
   "metadata": {},
   "source": [
    "#### Question 4\n",
    "### Is there any relationship between the food abundancy and economic wealth?\n",
    "In this analysis, we will be analyzing the correlation between GDP per capita and food abundance. "
   ]
  },
  {
   "cell_type": "code",
   "execution_count": 152,
   "metadata": {},
   "outputs": [],
   "source": [
    "# Import pandas library\n",
    "import pandas as pd\n",
    "import matplotlib.pyplot as plt\n",
    "import scipy.stats as st\n"
   ]
  },
  {
   "cell_type": "code",
   "execution_count": 153,
   "metadata": {},
   "outputs": [
    {
     "data": {
      "text/html": [
       "<div>\n",
       "<style scoped>\n",
       "    .dataframe tbody tr th:only-of-type {\n",
       "        vertical-align: middle;\n",
       "    }\n",
       "\n",
       "    .dataframe tbody tr th {\n",
       "        vertical-align: top;\n",
       "    }\n",
       "\n",
       "    .dataframe thead th {\n",
       "        text-align: right;\n",
       "    }\n",
       "</style>\n",
       "<table border=\"1\" class=\"dataframe\">\n",
       "  <thead>\n",
       "    <tr style=\"text-align: right;\">\n",
       "      <th></th>\n",
       "      <th>Unnamed: 0</th>\n",
       "      <th>Country</th>\n",
       "      <th>Item</th>\n",
       "      <th>Element</th>\n",
       "      <th>Year</th>\n",
       "      <th>Unit</th>\n",
       "      <th>Value</th>\n",
       "      <th>Population Size</th>\n",
       "      <th>2020 GDP in USD</th>\n",
       "      <th>GDP Per Capita</th>\n",
       "    </tr>\n",
       "  </thead>\n",
       "  <tbody>\n",
       "    <tr>\n",
       "      <th>0</th>\n",
       "      <td>0</td>\n",
       "      <td>Afghanistan</td>\n",
       "      <td>Almonds, with shell</td>\n",
       "      <td>Production</td>\n",
       "      <td>2020</td>\n",
       "      <td>tonnes</td>\n",
       "      <td>39307.0</td>\n",
       "      <td>38928341.0</td>\n",
       "      <td>2.011614e+10</td>\n",
       "      <td>516.747871</td>\n",
       "    </tr>\n",
       "    <tr>\n",
       "      <th>1</th>\n",
       "      <td>1</td>\n",
       "      <td>Afghanistan</td>\n",
       "      <td>Anise, badian, fennel, coriander</td>\n",
       "      <td>Production</td>\n",
       "      <td>2020</td>\n",
       "      <td>tonnes</td>\n",
       "      <td>18387.0</td>\n",
       "      <td>38928341.0</td>\n",
       "      <td>2.011614e+10</td>\n",
       "      <td>516.747871</td>\n",
       "    </tr>\n",
       "    <tr>\n",
       "      <th>2</th>\n",
       "      <td>2</td>\n",
       "      <td>Afghanistan</td>\n",
       "      <td>Apples</td>\n",
       "      <td>Production</td>\n",
       "      <td>2020</td>\n",
       "      <td>tonnes</td>\n",
       "      <td>270857.0</td>\n",
       "      <td>38928341.0</td>\n",
       "      <td>2.011614e+10</td>\n",
       "      <td>516.747871</td>\n",
       "    </tr>\n",
       "    <tr>\n",
       "      <th>3</th>\n",
       "      <td>3</td>\n",
       "      <td>Afghanistan</td>\n",
       "      <td>Apricots</td>\n",
       "      <td>Production</td>\n",
       "      <td>2020</td>\n",
       "      <td>tonnes</td>\n",
       "      <td>131788.0</td>\n",
       "      <td>38928341.0</td>\n",
       "      <td>2.011614e+10</td>\n",
       "      <td>516.747871</td>\n",
       "    </tr>\n",
       "    <tr>\n",
       "      <th>4</th>\n",
       "      <td>4</td>\n",
       "      <td>Afghanistan</td>\n",
       "      <td>Barley</td>\n",
       "      <td>Production</td>\n",
       "      <td>2020</td>\n",
       "      <td>tonnes</td>\n",
       "      <td>127757.0</td>\n",
       "      <td>38928341.0</td>\n",
       "      <td>2.011614e+10</td>\n",
       "      <td>516.747871</td>\n",
       "    </tr>\n",
       "  </tbody>\n",
       "</table>\n",
       "</div>"
      ],
      "text/plain": [
       "   Unnamed: 0      Country                              Item     Element  \\\n",
       "0           0  Afghanistan               Almonds, with shell  Production   \n",
       "1           1  Afghanistan  Anise, badian, fennel, coriander  Production   \n",
       "2           2  Afghanistan                            Apples  Production   \n",
       "3           3  Afghanistan                          Apricots  Production   \n",
       "4           4  Afghanistan                            Barley  Production   \n",
       "\n",
       "   Year    Unit     Value  Population Size  2020 GDP in USD  GDP Per Capita  \n",
       "0  2020  tonnes   39307.0       38928341.0     2.011614e+10      516.747871  \n",
       "1  2020  tonnes   18387.0       38928341.0     2.011614e+10      516.747871  \n",
       "2  2020  tonnes  270857.0       38928341.0     2.011614e+10      516.747871  \n",
       "3  2020  tonnes  131788.0       38928341.0     2.011614e+10      516.747871  \n",
       "4  2020  tonnes  127757.0       38928341.0     2.011614e+10      516.747871  "
      ]
     },
     "execution_count": 153,
     "metadata": {},
     "output_type": "execute_result"
    }
   ],
   "source": [
    "df = pd.read_csv(\"./Resources/combined.csv\")\n",
    "df.head()"
   ]
  },
  {
   "cell_type": "code",
   "execution_count": 154,
   "metadata": {},
   "outputs": [
    {
     "data": {
      "text/html": [
       "<div>\n",
       "<style scoped>\n",
       "    .dataframe tbody tr th:only-of-type {\n",
       "        vertical-align: middle;\n",
       "    }\n",
       "\n",
       "    .dataframe tbody tr th {\n",
       "        vertical-align: top;\n",
       "    }\n",
       "\n",
       "    .dataframe thead th {\n",
       "        text-align: right;\n",
       "    }\n",
       "</style>\n",
       "<table border=\"1\" class=\"dataframe\">\n",
       "  <thead>\n",
       "    <tr style=\"text-align: right;\">\n",
       "      <th></th>\n",
       "      <th>Country</th>\n",
       "      <th>Code</th>\n",
       "      <th>Year</th>\n",
       "      <th>Regions</th>\n",
       "    </tr>\n",
       "  </thead>\n",
       "  <tbody>\n",
       "    <tr>\n",
       "      <th>0</th>\n",
       "      <td>Afghanistan</td>\n",
       "      <td>AFG</td>\n",
       "      <td>2017</td>\n",
       "      <td>South Asia</td>\n",
       "    </tr>\n",
       "    <tr>\n",
       "      <th>1</th>\n",
       "      <td>Albania</td>\n",
       "      <td>ALB</td>\n",
       "      <td>2017</td>\n",
       "      <td>Europe and Central Asia</td>\n",
       "    </tr>\n",
       "    <tr>\n",
       "      <th>2</th>\n",
       "      <td>Algeria</td>\n",
       "      <td>DZA</td>\n",
       "      <td>2017</td>\n",
       "      <td>Middle East and North Africa</td>\n",
       "    </tr>\n",
       "    <tr>\n",
       "      <th>3</th>\n",
       "      <td>American Samoa</td>\n",
       "      <td>ASM</td>\n",
       "      <td>2017</td>\n",
       "      <td>East Asia and Pacific</td>\n",
       "    </tr>\n",
       "    <tr>\n",
       "      <th>4</th>\n",
       "      <td>Andorra</td>\n",
       "      <td>AND</td>\n",
       "      <td>2017</td>\n",
       "      <td>Europe and Central Asia</td>\n",
       "    </tr>\n",
       "  </tbody>\n",
       "</table>\n",
       "</div>"
      ],
      "text/plain": [
       "          Country Code  Year                       Regions\n",
       "0     Afghanistan  AFG  2017                    South Asia\n",
       "1         Albania  ALB  2017       Europe and Central Asia\n",
       "2         Algeria  DZA  2017  Middle East and North Africa\n",
       "3  American Samoa  ASM  2017         East Asia and Pacific\n",
       "4         Andorra  AND  2017       Europe and Central Asia"
      ]
     },
     "execution_count": 154,
     "metadata": {},
     "output_type": "execute_result"
    }
   ],
   "source": [
    "regions_df = pd.read_csv(\"./Resources/world-regions.csv\")\n",
    "regions_df = regions_df.rename(columns={\"Entity\": \"Country\", \"World Region according to the World Bank\":\"Regions\"})\n",
    "regions_df.head()"
   ]
  },
  {
   "cell_type": "code",
   "execution_count": 155,
   "metadata": {},
   "outputs": [
    {
     "data": {
      "text/plain": [
       "Index(['Country', 'Item', 'Element', 'Year', 'Unit', 'Value',\n",
       "       'Population Size', '2020 GDP in USD', 'GDP Per Capita'],\n",
       "      dtype='object')"
      ]
     },
     "execution_count": 155,
     "metadata": {},
     "output_type": "execute_result"
    }
   ],
   "source": [
    "del df['Unnamed: 0']\n",
    "df.columns"
   ]
  },
  {
   "cell_type": "code",
   "execution_count": 156,
   "metadata": {},
   "outputs": [
    {
     "data": {
      "text/html": [
       "<div>\n",
       "<style scoped>\n",
       "    .dataframe tbody tr th:only-of-type {\n",
       "        vertical-align: middle;\n",
       "    }\n",
       "\n",
       "    .dataframe tbody tr th {\n",
       "        vertical-align: top;\n",
       "    }\n",
       "\n",
       "    .dataframe thead th {\n",
       "        text-align: right;\n",
       "    }\n",
       "</style>\n",
       "<table border=\"1\" class=\"dataframe\">\n",
       "  <thead>\n",
       "    <tr style=\"text-align: right;\">\n",
       "      <th></th>\n",
       "      <th>Country</th>\n",
       "      <th>Item</th>\n",
       "      <th>Element</th>\n",
       "      <th>Year</th>\n",
       "      <th>Unit</th>\n",
       "      <th>Value</th>\n",
       "      <th>Population Size</th>\n",
       "      <th>2020 GDP in USD</th>\n",
       "      <th>GDP Per Capita</th>\n",
       "      <th>Regions</th>\n",
       "    </tr>\n",
       "  </thead>\n",
       "  <tbody>\n",
       "    <tr>\n",
       "      <th>0</th>\n",
       "      <td>Afghanistan</td>\n",
       "      <td>Almonds, with shell</td>\n",
       "      <td>Production</td>\n",
       "      <td>2020</td>\n",
       "      <td>tonnes</td>\n",
       "      <td>39307.0</td>\n",
       "      <td>38928341.0</td>\n",
       "      <td>2.011614e+10</td>\n",
       "      <td>516.747871</td>\n",
       "      <td>South Asia</td>\n",
       "    </tr>\n",
       "    <tr>\n",
       "      <th>1</th>\n",
       "      <td>Afghanistan</td>\n",
       "      <td>Anise, badian, fennel, coriander</td>\n",
       "      <td>Production</td>\n",
       "      <td>2020</td>\n",
       "      <td>tonnes</td>\n",
       "      <td>18387.0</td>\n",
       "      <td>38928341.0</td>\n",
       "      <td>2.011614e+10</td>\n",
       "      <td>516.747871</td>\n",
       "      <td>South Asia</td>\n",
       "    </tr>\n",
       "    <tr>\n",
       "      <th>2</th>\n",
       "      <td>Afghanistan</td>\n",
       "      <td>Apples</td>\n",
       "      <td>Production</td>\n",
       "      <td>2020</td>\n",
       "      <td>tonnes</td>\n",
       "      <td>270857.0</td>\n",
       "      <td>38928341.0</td>\n",
       "      <td>2.011614e+10</td>\n",
       "      <td>516.747871</td>\n",
       "      <td>South Asia</td>\n",
       "    </tr>\n",
       "    <tr>\n",
       "      <th>3</th>\n",
       "      <td>Afghanistan</td>\n",
       "      <td>Apricots</td>\n",
       "      <td>Production</td>\n",
       "      <td>2020</td>\n",
       "      <td>tonnes</td>\n",
       "      <td>131788.0</td>\n",
       "      <td>38928341.0</td>\n",
       "      <td>2.011614e+10</td>\n",
       "      <td>516.747871</td>\n",
       "      <td>South Asia</td>\n",
       "    </tr>\n",
       "    <tr>\n",
       "      <th>4</th>\n",
       "      <td>Afghanistan</td>\n",
       "      <td>Barley</td>\n",
       "      <td>Production</td>\n",
       "      <td>2020</td>\n",
       "      <td>tonnes</td>\n",
       "      <td>127757.0</td>\n",
       "      <td>38928341.0</td>\n",
       "      <td>2.011614e+10</td>\n",
       "      <td>516.747871</td>\n",
       "      <td>South Asia</td>\n",
       "    </tr>\n",
       "    <tr>\n",
       "      <th>...</th>\n",
       "      <td>...</td>\n",
       "      <td>...</td>\n",
       "      <td>...</td>\n",
       "      <td>...</td>\n",
       "      <td>...</td>\n",
       "      <td>...</td>\n",
       "      <td>...</td>\n",
       "      <td>...</td>\n",
       "      <td>...</td>\n",
       "      <td>...</td>\n",
       "    </tr>\n",
       "    <tr>\n",
       "      <th>8551</th>\n",
       "      <td>Zimbabwe</td>\n",
       "      <td>Goats</td>\n",
       "      <td>Stocks</td>\n",
       "      <td>2020</td>\n",
       "      <td>Head</td>\n",
       "      <td>4773505.0</td>\n",
       "      <td>14862927.0</td>\n",
       "      <td>1.805117e+10</td>\n",
       "      <td>1214.509820</td>\n",
       "      <td>Sub-Saharan Africa</td>\n",
       "    </tr>\n",
       "    <tr>\n",
       "      <th>8552</th>\n",
       "      <td>Zimbabwe</td>\n",
       "      <td>Horses</td>\n",
       "      <td>Stocks</td>\n",
       "      <td>2020</td>\n",
       "      <td>Head</td>\n",
       "      <td>28284.0</td>\n",
       "      <td>14862927.0</td>\n",
       "      <td>1.805117e+10</td>\n",
       "      <td>1214.509820</td>\n",
       "      <td>Sub-Saharan Africa</td>\n",
       "    </tr>\n",
       "    <tr>\n",
       "      <th>8553</th>\n",
       "      <td>Zimbabwe</td>\n",
       "      <td>Mules</td>\n",
       "      <td>Stocks</td>\n",
       "      <td>2020</td>\n",
       "      <td>Head</td>\n",
       "      <td>1248.0</td>\n",
       "      <td>14862927.0</td>\n",
       "      <td>1.805117e+10</td>\n",
       "      <td>1214.509820</td>\n",
       "      <td>Sub-Saharan Africa</td>\n",
       "    </tr>\n",
       "    <tr>\n",
       "      <th>8554</th>\n",
       "      <td>Zimbabwe</td>\n",
       "      <td>Pigs</td>\n",
       "      <td>Stocks</td>\n",
       "      <td>2020</td>\n",
       "      <td>Head</td>\n",
       "      <td>272206.0</td>\n",
       "      <td>14862927.0</td>\n",
       "      <td>1.805117e+10</td>\n",
       "      <td>1214.509820</td>\n",
       "      <td>Sub-Saharan Africa</td>\n",
       "    </tr>\n",
       "    <tr>\n",
       "      <th>8555</th>\n",
       "      <td>Zimbabwe</td>\n",
       "      <td>Sheep</td>\n",
       "      <td>Stocks</td>\n",
       "      <td>2020</td>\n",
       "      <td>Head</td>\n",
       "      <td>375942.0</td>\n",
       "      <td>14862927.0</td>\n",
       "      <td>1.805117e+10</td>\n",
       "      <td>1214.509820</td>\n",
       "      <td>Sub-Saharan Africa</td>\n",
       "    </tr>\n",
       "  </tbody>\n",
       "</table>\n",
       "<p>8556 rows × 10 columns</p>\n",
       "</div>"
      ],
      "text/plain": [
       "          Country                              Item     Element  Year    Unit  \\\n",
       "0     Afghanistan               Almonds, with shell  Production  2020  tonnes   \n",
       "1     Afghanistan  Anise, badian, fennel, coriander  Production  2020  tonnes   \n",
       "2     Afghanistan                            Apples  Production  2020  tonnes   \n",
       "3     Afghanistan                          Apricots  Production  2020  tonnes   \n",
       "4     Afghanistan                            Barley  Production  2020  tonnes   \n",
       "...           ...                               ...         ...   ...     ...   \n",
       "8551     Zimbabwe                             Goats      Stocks  2020    Head   \n",
       "8552     Zimbabwe                            Horses      Stocks  2020    Head   \n",
       "8553     Zimbabwe                             Mules      Stocks  2020    Head   \n",
       "8554     Zimbabwe                              Pigs      Stocks  2020    Head   \n",
       "8555     Zimbabwe                             Sheep      Stocks  2020    Head   \n",
       "\n",
       "          Value  Population Size  2020 GDP in USD  GDP Per Capita  \\\n",
       "0       39307.0       38928341.0     2.011614e+10      516.747871   \n",
       "1       18387.0       38928341.0     2.011614e+10      516.747871   \n",
       "2      270857.0       38928341.0     2.011614e+10      516.747871   \n",
       "3      131788.0       38928341.0     2.011614e+10      516.747871   \n",
       "4      127757.0       38928341.0     2.011614e+10      516.747871   \n",
       "...         ...              ...              ...             ...   \n",
       "8551  4773505.0       14862927.0     1.805117e+10     1214.509820   \n",
       "8552    28284.0       14862927.0     1.805117e+10     1214.509820   \n",
       "8553     1248.0       14862927.0     1.805117e+10     1214.509820   \n",
       "8554   272206.0       14862927.0     1.805117e+10     1214.509820   \n",
       "8555   375942.0       14862927.0     1.805117e+10     1214.509820   \n",
       "\n",
       "                 Regions  \n",
       "0             South Asia  \n",
       "1             South Asia  \n",
       "2             South Asia  \n",
       "3             South Asia  \n",
       "4             South Asia  \n",
       "...                  ...  \n",
       "8551  Sub-Saharan Africa  \n",
       "8552  Sub-Saharan Africa  \n",
       "8553  Sub-Saharan Africa  \n",
       "8554  Sub-Saharan Africa  \n",
       "8555  Sub-Saharan Africa  \n",
       "\n",
       "[8556 rows x 10 columns]"
      ]
     },
     "execution_count": 156,
     "metadata": {},
     "output_type": "execute_result"
    }
   ],
   "source": [
    "# Merge regions and country data sets\n",
    "merged = pd.merge(df, regions_df[[\"Country\", \"Regions\"]], on=\"Country\")\n",
    "merged"
   ]
  },
  {
   "cell_type": "code",
   "execution_count": 157,
   "metadata": {},
   "outputs": [
    {
     "data": {
      "text/plain": [
       "Country            8556\n",
       "Item               8556\n",
       "Element            8556\n",
       "Year               8556\n",
       "Unit               8556\n",
       "Value              8556\n",
       "Population Size    8556\n",
       "2020 GDP in USD    8439\n",
       "GDP Per Capita     8439\n",
       "Regions            8556\n",
       "dtype: int64"
      ]
     },
     "execution_count": 157,
     "metadata": {},
     "output_type": "execute_result"
    }
   ],
   "source": [
    "# Check missing data\n",
    "merged.count()"
   ]
  },
  {
   "cell_type": "code",
   "execution_count": 158,
   "metadata": {},
   "outputs": [
    {
     "data": {
      "text/plain": [
       "Country            8439\n",
       "Item               8439\n",
       "Element            8439\n",
       "Year               8439\n",
       "Unit               8439\n",
       "Value              8439\n",
       "Population Size    8439\n",
       "2020 GDP in USD    8439\n",
       "GDP Per Capita     8439\n",
       "Regions            8439\n",
       "dtype: int64"
      ]
     },
     "execution_count": 158,
     "metadata": {},
     "output_type": "execute_result"
    }
   ],
   "source": [
    "# Drop Missing Values\n",
    "no_missing = merged.dropna(how=\"any\")\n",
    "no_missing.count()"
   ]
  },
  {
   "cell_type": "markdown",
   "metadata": {},
   "source": [
    "Food abundance can be defined as total amount of live stock and crop produced per country."
   ]
  },
  {
   "cell_type": "code",
   "execution_count": 159,
   "metadata": {},
   "outputs": [],
   "source": [
    "# Remove World from dataset\n",
    "no_world = no_missing.loc[no_missing['Country']!= \"World\",:]"
   ]
  },
  {
   "cell_type": "code",
   "execution_count": 160,
   "metadata": {},
   "outputs": [
    {
     "data": {
      "text/html": [
       "<div>\n",
       "<style scoped>\n",
       "    .dataframe tbody tr th:only-of-type {\n",
       "        vertical-align: middle;\n",
       "    }\n",
       "\n",
       "    .dataframe tbody tr th {\n",
       "        vertical-align: top;\n",
       "    }\n",
       "\n",
       "    .dataframe thead th {\n",
       "        text-align: right;\n",
       "    }\n",
       "</style>\n",
       "<table border=\"1\" class=\"dataframe\">\n",
       "  <thead>\n",
       "    <tr style=\"text-align: right;\">\n",
       "      <th></th>\n",
       "      <th>Country</th>\n",
       "      <th>Total Food Produced</th>\n",
       "    </tr>\n",
       "  </thead>\n",
       "  <tbody>\n",
       "    <tr>\n",
       "      <th>101</th>\n",
       "      <td>Nauru</td>\n",
       "      <td>1.142600e+04</td>\n",
       "    </tr>\n",
       "    <tr>\n",
       "      <th>88</th>\n",
       "      <td>Maldives</td>\n",
       "      <td>1.374000e+04</td>\n",
       "    </tr>\n",
       "    <tr>\n",
       "      <th>91</th>\n",
       "      <td>Marshall Islands</td>\n",
       "      <td>2.306200e+04</td>\n",
       "    </tr>\n",
       "    <tr>\n",
       "      <th>148</th>\n",
       "      <td>Tuvalu</td>\n",
       "      <td>7.378200e+04</td>\n",
       "    </tr>\n",
       "    <tr>\n",
       "      <th>129</th>\n",
       "      <td>Seychelles</td>\n",
       "      <td>1.341550e+05</td>\n",
       "    </tr>\n",
       "    <tr>\n",
       "      <th>...</th>\n",
       "      <td>...</td>\n",
       "      <td>...</td>\n",
       "    </tr>\n",
       "    <tr>\n",
       "      <th>112</th>\n",
       "      <td>Pakistan</td>\n",
       "      <td>1.804460e+09</td>\n",
       "    </tr>\n",
       "    <tr>\n",
       "      <th>65</th>\n",
       "      <td>India</td>\n",
       "      <td>2.472701e+09</td>\n",
       "    </tr>\n",
       "    <tr>\n",
       "      <th>20</th>\n",
       "      <td>Brazil</td>\n",
       "      <td>2.881277e+09</td>\n",
       "    </tr>\n",
       "    <tr>\n",
       "      <th>66</th>\n",
       "      <td>Indonesia</td>\n",
       "      <td>4.127112e+09</td>\n",
       "    </tr>\n",
       "    <tr>\n",
       "      <th>30</th>\n",
       "      <td>China</td>\n",
       "      <td>8.615244e+09</td>\n",
       "    </tr>\n",
       "  </tbody>\n",
       "</table>\n",
       "<p>157 rows × 2 columns</p>\n",
       "</div>"
      ],
      "text/plain": [
       "              Country  Total Food Produced\n",
       "101             Nauru         1.142600e+04\n",
       "88           Maldives         1.374000e+04\n",
       "91   Marshall Islands         2.306200e+04\n",
       "148            Tuvalu         7.378200e+04\n",
       "129        Seychelles         1.341550e+05\n",
       "..                ...                  ...\n",
       "112          Pakistan         1.804460e+09\n",
       "65              India         2.472701e+09\n",
       "20             Brazil         2.881277e+09\n",
       "66          Indonesia         4.127112e+09\n",
       "30              China         8.615244e+09\n",
       "\n",
       "[157 rows x 2 columns]"
      ]
     },
     "execution_count": 160,
     "metadata": {},
     "output_type": "execute_result"
    }
   ],
   "source": [
    "# Group by Country to find the sum of all the food per country\n",
    "grp_df = no_world.groupby([\"Country\"])\n",
    "tot_food_grp = grp_df[\"Value\"].sum()\n",
    "tot_food_df = pd.DataFrame({\"Country\": list(tot_food_grp.index), \"Total Food Produced\": list(tot_food_grp)})\n",
    "tot_food_df.sort_values(by=\"Total Food Produced\", ascending=True)"
   ]
  },
  {
   "cell_type": "code",
   "execution_count": 161,
   "metadata": {},
   "outputs": [
    {
     "data": {
      "text/html": [
       "<div>\n",
       "<style scoped>\n",
       "    .dataframe tbody tr th:only-of-type {\n",
       "        vertical-align: middle;\n",
       "    }\n",
       "\n",
       "    .dataframe tbody tr th {\n",
       "        vertical-align: top;\n",
       "    }\n",
       "\n",
       "    .dataframe thead th {\n",
       "        text-align: right;\n",
       "    }\n",
       "</style>\n",
       "<table border=\"1\" class=\"dataframe\">\n",
       "  <thead>\n",
       "    <tr style=\"text-align: right;\">\n",
       "      <th></th>\n",
       "      <th>Country</th>\n",
       "      <th>GDP Per Capita</th>\n",
       "      <th>Population Size</th>\n",
       "    </tr>\n",
       "  </thead>\n",
       "  <tbody>\n",
       "    <tr>\n",
       "      <th>23</th>\n",
       "      <td>Burundi</td>\n",
       "      <td>233.837510</td>\n",
       "      <td>11890781.0</td>\n",
       "    </tr>\n",
       "    <tr>\n",
       "      <th>134</th>\n",
       "      <td>Somalia</td>\n",
       "      <td>438.255166</td>\n",
       "      <td>15893219.0</td>\n",
       "    </tr>\n",
       "    <tr>\n",
       "      <th>98</th>\n",
       "      <td>Mozambique</td>\n",
       "      <td>448.843891</td>\n",
       "      <td>31255435.0</td>\n",
       "    </tr>\n",
       "    <tr>\n",
       "      <th>85</th>\n",
       "      <td>Madagascar</td>\n",
       "      <td>477.613041</td>\n",
       "      <td>27691019.0</td>\n",
       "    </tr>\n",
       "    <tr>\n",
       "      <th>27</th>\n",
       "      <td>Central African Republic</td>\n",
       "      <td>481.746297</td>\n",
       "      <td>4829764.0</td>\n",
       "    </tr>\n",
       "    <tr>\n",
       "      <th>...</th>\n",
       "      <td>...</td>\n",
       "      <td>...</td>\n",
       "      <td>...</td>\n",
       "    </tr>\n",
       "    <tr>\n",
       "      <th>37</th>\n",
       "      <td>Denmark</td>\n",
       "      <td>61063.316430</td>\n",
       "      <td>5831404.0</td>\n",
       "    </tr>\n",
       "    <tr>\n",
       "      <th>110</th>\n",
       "      <td>Norway</td>\n",
       "      <td>67329.677791</td>\n",
       "      <td>5379475.0</td>\n",
       "    </tr>\n",
       "    <tr>\n",
       "      <th>68</th>\n",
       "      <td>Ireland</td>\n",
       "      <td>85422.542868</td>\n",
       "      <td>4985674.0</td>\n",
       "    </tr>\n",
       "    <tr>\n",
       "      <th>141</th>\n",
       "      <td>Switzerland</td>\n",
       "      <td>87100.414821</td>\n",
       "      <td>8636561.0</td>\n",
       "    </tr>\n",
       "    <tr>\n",
       "      <th>84</th>\n",
       "      <td>Luxembourg</td>\n",
       "      <td>116356.158037</td>\n",
       "      <td>630419.0</td>\n",
       "    </tr>\n",
       "  </tbody>\n",
       "</table>\n",
       "<p>157 rows × 3 columns</p>\n",
       "</div>"
      ],
      "text/plain": [
       "                      Country  GDP Per Capita  Population Size\n",
       "23                    Burundi      233.837510       11890781.0\n",
       "134                   Somalia      438.255166       15893219.0\n",
       "98                 Mozambique      448.843891       31255435.0\n",
       "85                 Madagascar      477.613041       27691019.0\n",
       "27   Central African Republic      481.746297        4829764.0\n",
       "..                        ...             ...              ...\n",
       "37                    Denmark    61063.316430        5831404.0\n",
       "110                    Norway    67329.677791        5379475.0\n",
       "68                    Ireland    85422.542868        4985674.0\n",
       "141               Switzerland    87100.414821        8636561.0\n",
       "84                 Luxembourg   116356.158037         630419.0\n",
       "\n",
       "[157 rows x 3 columns]"
      ]
     },
     "execution_count": 161,
     "metadata": {},
     "output_type": "execute_result"
    }
   ],
   "source": [
    "# The GDP Per Capita is calculated per country already. Therefore, we just need to find all it's values per country by taking the max\n",
    "gdp_grp = grp_df[[\"GDP Per Capita\", \"Population Size\"]].max()\n",
    "gdp_df = pd.DataFrame({\"Country\":list(gdp_grp.index), \"GDP Per Capita\": list(gdp_grp['GDP Per Capita']), \"Population Size\":list(gdp_grp['Population Size'])})\n",
    "gdp_df.sort_values(\"GDP Per Capita\")"
   ]
  },
  {
   "cell_type": "code",
   "execution_count": 162,
   "metadata": {},
   "outputs": [
    {
     "data": {
      "text/html": [
       "<div>\n",
       "<style scoped>\n",
       "    .dataframe tbody tr th:only-of-type {\n",
       "        vertical-align: middle;\n",
       "    }\n",
       "\n",
       "    .dataframe tbody tr th {\n",
       "        vertical-align: top;\n",
       "    }\n",
       "\n",
       "    .dataframe thead th {\n",
       "        text-align: right;\n",
       "    }\n",
       "</style>\n",
       "<table border=\"1\" class=\"dataframe\">\n",
       "  <thead>\n",
       "    <tr style=\"text-align: right;\">\n",
       "      <th></th>\n",
       "      <th>Country</th>\n",
       "      <th>Regions</th>\n",
       "    </tr>\n",
       "  </thead>\n",
       "  <tbody>\n",
       "    <tr>\n",
       "      <th>0</th>\n",
       "      <td>Afghanistan</td>\n",
       "      <td>South Asia</td>\n",
       "    </tr>\n",
       "    <tr>\n",
       "      <th>43</th>\n",
       "      <td>Albania</td>\n",
       "      <td>Europe and Central Asia</td>\n",
       "    </tr>\n",
       "    <tr>\n",
       "      <th>110</th>\n",
       "      <td>Algeria</td>\n",
       "      <td>Middle East and North Africa</td>\n",
       "    </tr>\n",
       "    <tr>\n",
       "      <th>183</th>\n",
       "      <td>Angola</td>\n",
       "      <td>Sub-Saharan Africa</td>\n",
       "    </tr>\n",
       "    <tr>\n",
       "      <th>222</th>\n",
       "      <td>Antigua and Barbuda</td>\n",
       "      <td>Latin America and Caribbean</td>\n",
       "    </tr>\n",
       "    <tr>\n",
       "      <th>...</th>\n",
       "      <td>...</td>\n",
       "      <td>...</td>\n",
       "    </tr>\n",
       "    <tr>\n",
       "      <th>8276</th>\n",
       "      <td>Uruguay</td>\n",
       "      <td>Latin America and Caribbean</td>\n",
       "    </tr>\n",
       "    <tr>\n",
       "      <th>8331</th>\n",
       "      <td>Uzbekistan</td>\n",
       "      <td>Europe and Central Asia</td>\n",
       "    </tr>\n",
       "    <tr>\n",
       "      <th>8412</th>\n",
       "      <td>Vanuatu</td>\n",
       "      <td>East Asia and Pacific</td>\n",
       "    </tr>\n",
       "    <tr>\n",
       "      <th>8427</th>\n",
       "      <td>Zambia</td>\n",
       "      <td>Sub-Saharan Africa</td>\n",
       "    </tr>\n",
       "    <tr>\n",
       "      <th>8474</th>\n",
       "      <td>Zimbabwe</td>\n",
       "      <td>Sub-Saharan Africa</td>\n",
       "    </tr>\n",
       "  </tbody>\n",
       "</table>\n",
       "<p>160 rows × 2 columns</p>\n",
       "</div>"
      ],
      "text/plain": [
       "                  Country                       Regions\n",
       "0             Afghanistan                    South Asia\n",
       "43                Albania       Europe and Central Asia\n",
       "110               Algeria  Middle East and North Africa\n",
       "183                Angola            Sub-Saharan Africa\n",
       "222   Antigua and Barbuda   Latin America and Caribbean\n",
       "...                   ...                           ...\n",
       "8276              Uruguay   Latin America and Caribbean\n",
       "8331           Uzbekistan       Europe and Central Asia\n",
       "8412              Vanuatu         East Asia and Pacific\n",
       "8427               Zambia            Sub-Saharan Africa\n",
       "8474             Zimbabwe            Sub-Saharan Africa\n",
       "\n",
       "[160 rows x 2 columns]"
      ]
     },
     "execution_count": 162,
     "metadata": {},
     "output_type": "execute_result"
    }
   ],
   "source": [
    "dup_merged = merged[[\"Country\", \"Regions\"]].loc[merged[[\"Country\", \"Regions\"]].duplicated()==False, :]\n",
    "dup_merged\n"
   ]
  },
  {
   "cell_type": "code",
   "execution_count": 163,
   "metadata": {},
   "outputs": [
    {
     "data": {
      "text/html": [
       "<div>\n",
       "<style scoped>\n",
       "    .dataframe tbody tr th:only-of-type {\n",
       "        vertical-align: middle;\n",
       "    }\n",
       "\n",
       "    .dataframe tbody tr th {\n",
       "        vertical-align: top;\n",
       "    }\n",
       "\n",
       "    .dataframe thead th {\n",
       "        text-align: right;\n",
       "    }\n",
       "</style>\n",
       "<table border=\"1\" class=\"dataframe\">\n",
       "  <thead>\n",
       "    <tr style=\"text-align: right;\">\n",
       "      <th></th>\n",
       "      <th>Country</th>\n",
       "      <th>Total Food Produced</th>\n",
       "      <th>GDP Per Capita</th>\n",
       "      <th>Population Size</th>\n",
       "      <th>Regions</th>\n",
       "    </tr>\n",
       "  </thead>\n",
       "  <tbody>\n",
       "    <tr>\n",
       "      <th>0</th>\n",
       "      <td>Afghanistan</td>\n",
       "      <td>54771898.0</td>\n",
       "      <td>516.747871</td>\n",
       "      <td>38928341.0</td>\n",
       "      <td>South Asia</td>\n",
       "    </tr>\n",
       "    <tr>\n",
       "      <th>1</th>\n",
       "      <td>Albania</td>\n",
       "      <td>12904896.0</td>\n",
       "      <td>5332.160475</td>\n",
       "      <td>2837849.0</td>\n",
       "      <td>Europe and Central Asia</td>\n",
       "    </tr>\n",
       "    <tr>\n",
       "      <th>2</th>\n",
       "      <td>Algeria</td>\n",
       "      <td>201992285.0</td>\n",
       "      <td>3306.858208</td>\n",
       "      <td>43851043.0</td>\n",
       "      <td>Middle East and North Africa</td>\n",
       "    </tr>\n",
       "    <tr>\n",
       "      <th>3</th>\n",
       "      <td>Angola</td>\n",
       "      <td>84297733.0</td>\n",
       "      <td>1631.431691</td>\n",
       "      <td>32866268.0</td>\n",
       "      <td>Sub-Saharan Africa</td>\n",
       "    </tr>\n",
       "    <tr>\n",
       "      <th>4</th>\n",
       "      <td>Antigua and Barbuda</td>\n",
       "      <td>215545.0</td>\n",
       "      <td>13992.744480</td>\n",
       "      <td>97928.0</td>\n",
       "      <td>Latin America and Caribbean</td>\n",
       "    </tr>\n",
       "    <tr>\n",
       "      <th>...</th>\n",
       "      <td>...</td>\n",
       "      <td>...</td>\n",
       "      <td>...</td>\n",
       "      <td>...</td>\n",
       "      <td>...</td>\n",
       "    </tr>\n",
       "    <tr>\n",
       "      <th>152</th>\n",
       "      <td>Uruguay</td>\n",
       "      <td>65533304.0</td>\n",
       "      <td>15418.815309</td>\n",
       "      <td>3473727.0</td>\n",
       "      <td>Latin America and Caribbean</td>\n",
       "    </tr>\n",
       "    <tr>\n",
       "      <th>153</th>\n",
       "      <td>Uzbekistan</td>\n",
       "      <td>127834310.0</td>\n",
       "      <td>1749.655815</td>\n",
       "      <td>34232050.0</td>\n",
       "      <td>Europe and Central Asia</td>\n",
       "    </tr>\n",
       "    <tr>\n",
       "      <th>154</th>\n",
       "      <td>Vanuatu</td>\n",
       "      <td>1115324.0</td>\n",
       "      <td>2919.836800</td>\n",
       "      <td>307150.0</td>\n",
       "      <td>East Asia and Pacific</td>\n",
       "    </tr>\n",
       "    <tr>\n",
       "      <th>155</th>\n",
       "      <td>Zambia</td>\n",
       "      <td>62945959.0</td>\n",
       "      <td>985.132436</td>\n",
       "      <td>18383956.0</td>\n",
       "      <td>Sub-Saharan Africa</td>\n",
       "    </tr>\n",
       "    <tr>\n",
       "      <th>156</th>\n",
       "      <td>Zimbabwe</td>\n",
       "      <td>25785265.0</td>\n",
       "      <td>1214.509820</td>\n",
       "      <td>14862927.0</td>\n",
       "      <td>Sub-Saharan Africa</td>\n",
       "    </tr>\n",
       "  </tbody>\n",
       "</table>\n",
       "<p>157 rows × 5 columns</p>\n",
       "</div>"
      ],
      "text/plain": [
       "                 Country  Total Food Produced  GDP Per Capita  \\\n",
       "0            Afghanistan           54771898.0      516.747871   \n",
       "1                Albania           12904896.0     5332.160475   \n",
       "2                Algeria          201992285.0     3306.858208   \n",
       "3                 Angola           84297733.0     1631.431691   \n",
       "4    Antigua and Barbuda             215545.0    13992.744480   \n",
       "..                   ...                  ...             ...   \n",
       "152              Uruguay           65533304.0    15418.815309   \n",
       "153           Uzbekistan          127834310.0     1749.655815   \n",
       "154              Vanuatu            1115324.0     2919.836800   \n",
       "155               Zambia           62945959.0      985.132436   \n",
       "156             Zimbabwe           25785265.0     1214.509820   \n",
       "\n",
       "     Population Size                       Regions  \n",
       "0         38928341.0                    South Asia  \n",
       "1          2837849.0       Europe and Central Asia  \n",
       "2         43851043.0  Middle East and North Africa  \n",
       "3         32866268.0            Sub-Saharan Africa  \n",
       "4            97928.0   Latin America and Caribbean  \n",
       "..               ...                           ...  \n",
       "152        3473727.0   Latin America and Caribbean  \n",
       "153       34232050.0       Europe and Central Asia  \n",
       "154         307150.0         East Asia and Pacific  \n",
       "155       18383956.0            Sub-Saharan Africa  \n",
       "156       14862927.0            Sub-Saharan Africa  \n",
       "\n",
       "[157 rows x 5 columns]"
      ]
     },
     "execution_count": 163,
     "metadata": {},
     "output_type": "execute_result"
    }
   ],
   "source": [
    "# Merge data into one\n",
    "gdp_food = pd.merge(tot_food_df, gdp_df, on=\"Country\")\n",
    "gdp_food = pd.merge(gdp_food, dup_merged, on=\"Country\")\n",
    "gdp_food"
   ]
  },
  {
   "cell_type": "markdown",
   "metadata": {},
   "source": [
    "### Total Food Produced and GDP for all countries\n",
    "Histogram of the data"
   ]
  },
  {
   "cell_type": "code",
   "execution_count": 164,
   "metadata": {},
   "outputs": [
    {
     "data": {
      "image/png": "[encoded data removed]",
      "text/plain": [
       "<Figure size 432x288 with 1 Axes>"
      ]
     },
     "metadata": {
      "needs_background": "light"
     },
     "output_type": "display_data"
    },
    {
     "name": "stdout",
     "output_type": "stream",
     "text": [
      "NormaltestResult(statistic=268.03537660810383, pvalue=6.264082835109123e-59)\n"
     ]
    }
   ],
   "source": [
    "# Total Food Histogram\n",
    "plt.hist(gdp_food['Total Food Produced'])\n",
    "plt.xlabel('Total Food Produced')\n",
    "plt.ylabel('Counts')\n",
    "plt.title(\"Histogram of the Total Food Produced\")\n",
    "plt.show()\n",
    "print(st.normaltest(gdp_food[\"Total Food Produced\"]))"
   ]
  },
  {
   "cell_type": "markdown",
   "metadata": {},
   "source": [
    "Not normal"
   ]
  },
  {
   "cell_type": "code",
   "execution_count": 165,
   "metadata": {},
   "outputs": [
    {
     "data": {
      "image/png": "[encoded data removed]",
      "text/plain": [
       "<Figure size 432x288 with 1 Axes>"
      ]
     },
     "metadata": {
      "needs_background": "light"
     },
     "output_type": "display_data"
    },
    {
     "name": "stdout",
     "output_type": "stream",
     "text": [
      "NormaltestResult(statistic=95.08074111646093, pvalue=2.2567289433758462e-21)\n"
     ]
    }
   ],
   "source": [
    "# GDP Per Capita Histogram\n",
    "plt.hist(gdp_food['GDP Per Capita'])\n",
    "plt.xlabel('GDP Per Capita')\n",
    "plt.ylabel('Counts')\n",
    "plt.title(\"Histogram of the GDP Per Capita\")\n",
    "plt.show()\n",
    "print(st.normaltest(gdp_food[\"GDP Per Capita\"]))"
   ]
  },
  {
   "cell_type": "markdown",
   "metadata": {},
   "source": [
    "Not normal."
   ]
  },
  {
   "cell_type": "markdown",
   "metadata": {},
   "source": [
    "Boxplots"
   ]
  },
  {
   "cell_type": "code",
   "execution_count": 166,
   "metadata": {},
   "outputs": [
    {
     "data": {
      "image/png": "[encoded data removed]",
      "text/plain": [
       "<Figure size 432x288 with 1 Axes>"
      ]
     },
     "metadata": {
      "needs_background": "light"
     },
     "output_type": "display_data"
    }
   ],
   "source": [
    "fig1, ax1 = plt.subplots()\n",
    "ax1.set_title(\"Boxplot: Total Food Produced\")\n",
    "ax1.boxplot(gdp_food[[\"Total Food Produced\", \"GDP Per Capita\"]])\n",
    "ax1.set_xticklabels([\"Total Food Produced\", \"GDP Per Capita\"])\n",
    "plt.show()"
   ]
  },
  {
   "cell_type": "code",
   "execution_count": 167,
   "metadata": {},
   "outputs": [
    {
     "name": "stdout",
     "output_type": "stream",
     "text": [
      "The lower quartile is: 8177737.0\n",
      "The upper quartile is: 119752387.0\n",
      "The interquartile range is: 111574650.0\n",
      "The the median is: 37378424.0 \n",
      "Values below -159184238.0 could be outliers.\n",
      "Values above 287114362.0 could be outliers.\n"
     ]
    }
   ],
   "source": [
    "quartiles = gdp_food[\"Total Food Produced\"].quantile([.25,.5,.75])\n",
    "lowerq = quartiles[0.25]\n",
    "upperq = quartiles[0.75]\n",
    "iqr = upperq-lowerq\n",
    "\n",
    "print(f\"The lower quartile is: {lowerq}\")\n",
    "print(f\"The upper quartile is: {upperq}\")\n",
    "print(f\"The interquartile range is: {iqr}\")\n",
    "print(f\"The the median is: {quartiles[0.5]} \")\n",
    "\n",
    "lower_bound = lowerq - (1.5*iqr)\n",
    "upper_bound = upperq + (1.5*iqr)\n",
    "print(f\"Values below {lower_bound} could be outliers.\")\n",
    "print(f\"Values above {upper_bound} could be outliers.\")"
   ]
  },
  {
   "cell_type": "code",
   "execution_count": 168,
   "metadata": {},
   "outputs": [
    {
     "name": "stdout",
     "output_type": "stream",
     "text": [
      "Top 10 Food Producing Countries and their GDP Per Capita:\n"
     ]
    },
    {
     "data": {
      "text/html": [
       "<div>\n",
       "<style scoped>\n",
       "    .dataframe tbody tr th:only-of-type {\n",
       "        vertical-align: middle;\n",
       "    }\n",
       "\n",
       "    .dataframe tbody tr th {\n",
       "        vertical-align: top;\n",
       "    }\n",
       "\n",
       "    .dataframe thead th {\n",
       "        text-align: right;\n",
       "    }\n",
       "</style>\n",
       "<table border=\"1\" class=\"dataframe\">\n",
       "  <thead>\n",
       "    <tr style=\"text-align: right;\">\n",
       "      <th></th>\n",
       "      <th>Country</th>\n",
       "      <th>Total Food Produced</th>\n",
       "      <th>GDP Per Capita</th>\n",
       "      <th>Population Size</th>\n",
       "      <th>Regions</th>\n",
       "    </tr>\n",
       "  </thead>\n",
       "  <tbody>\n",
       "    <tr>\n",
       "      <th>30</th>\n",
       "      <td>China</td>\n",
       "      <td>8.615244e+09</td>\n",
       "      <td>10408.669756</td>\n",
       "      <td>1.411100e+09</td>\n",
       "      <td>East Asia and Pacific</td>\n",
       "    </tr>\n",
       "    <tr>\n",
       "      <th>66</th>\n",
       "      <td>Indonesia</td>\n",
       "      <td>4.127112e+09</td>\n",
       "      <td>3870.557620</td>\n",
       "      <td>2.735236e+08</td>\n",
       "      <td>East Asia and Pacific</td>\n",
       "    </tr>\n",
       "    <tr>\n",
       "      <th>20</th>\n",
       "      <td>Brazil</td>\n",
       "      <td>2.881277e+09</td>\n",
       "      <td>6814.875632</td>\n",
       "      <td>2.125594e+08</td>\n",
       "      <td>Latin America and Caribbean</td>\n",
       "    </tr>\n",
       "    <tr>\n",
       "      <th>65</th>\n",
       "      <td>India</td>\n",
       "      <td>2.472701e+09</td>\n",
       "      <td>1933.101069</td>\n",
       "      <td>1.380004e+09</td>\n",
       "      <td>South Asia</td>\n",
       "    </tr>\n",
       "    <tr>\n",
       "      <th>112</th>\n",
       "      <td>Pakistan</td>\n",
       "      <td>1.804460e+09</td>\n",
       "      <td>1359.514522</td>\n",
       "      <td>2.208923e+08</td>\n",
       "      <td>South Asia</td>\n",
       "    </tr>\n",
       "    <tr>\n",
       "      <th>94</th>\n",
       "      <td>Mexico</td>\n",
       "      <td>8.254478e+08</td>\n",
       "      <td>8431.665017</td>\n",
       "      <td>1.289328e+08</td>\n",
       "      <td>Latin America and Caribbean</td>\n",
       "    </tr>\n",
       "    <tr>\n",
       "      <th>11</th>\n",
       "      <td>Bangladesh</td>\n",
       "      <td>5.330869e+08</td>\n",
       "      <td>2270.347535</td>\n",
       "      <td>1.646894e+08</td>\n",
       "      <td>South Asia</td>\n",
       "    </tr>\n",
       "    <tr>\n",
       "      <th>99</th>\n",
       "      <td>Myanmar</td>\n",
       "      <td>4.943831e+08</td>\n",
       "      <td>1450.662673</td>\n",
       "      <td>5.440979e+07</td>\n",
       "      <td>East Asia and Pacific</td>\n",
       "    </tr>\n",
       "    <tr>\n",
       "      <th>143</th>\n",
       "      <td>Thailand</td>\n",
       "      <td>4.886396e+08</td>\n",
       "      <td>7158.766684</td>\n",
       "      <td>6.979998e+07</td>\n",
       "      <td>East Asia and Pacific</td>\n",
       "    </tr>\n",
       "    <tr>\n",
       "      <th>108</th>\n",
       "      <td>Nigeria</td>\n",
       "      <td>4.744781e+08</td>\n",
       "      <td>2097.092473</td>\n",
       "      <td>2.061396e+08</td>\n",
       "      <td>Sub-Saharan Africa</td>\n",
       "    </tr>\n",
       "  </tbody>\n",
       "</table>\n",
       "</div>"
      ],
      "text/plain": [
       "        Country  Total Food Produced  GDP Per Capita  Population Size  \\\n",
       "30        China         8.615244e+09    10408.669756     1.411100e+09   \n",
       "66    Indonesia         4.127112e+09     3870.557620     2.735236e+08   \n",
       "20       Brazil         2.881277e+09     6814.875632     2.125594e+08   \n",
       "65        India         2.472701e+09     1933.101069     1.380004e+09   \n",
       "112    Pakistan         1.804460e+09     1359.514522     2.208923e+08   \n",
       "94       Mexico         8.254478e+08     8431.665017     1.289328e+08   \n",
       "11   Bangladesh         5.330869e+08     2270.347535     1.646894e+08   \n",
       "99      Myanmar         4.943831e+08     1450.662673     5.440979e+07   \n",
       "143    Thailand         4.886396e+08     7158.766684     6.979998e+07   \n",
       "108     Nigeria         4.744781e+08     2097.092473     2.061396e+08   \n",
       "\n",
       "                         Regions  \n",
       "30         East Asia and Pacific  \n",
       "66         East Asia and Pacific  \n",
       "20   Latin America and Caribbean  \n",
       "65                    South Asia  \n",
       "112                   South Asia  \n",
       "94   Latin America and Caribbean  \n",
       "11                    South Asia  \n",
       "99         East Asia and Pacific  \n",
       "143        East Asia and Pacific  \n",
       "108           Sub-Saharan Africa  "
      ]
     },
     "execution_count": 168,
     "metadata": {},
     "output_type": "execute_result"
    }
   ],
   "source": [
    "print(\"Top 10 Food Producing Countries and their GDP Per Capita:\")\n",
    "gdp_food.sort_values(by='Total Food Produced', ascending=False).head(10)"
   ]
  },
  {
   "cell_type": "code",
   "execution_count": 169,
   "metadata": {},
   "outputs": [
    {
     "name": "stdout",
     "output_type": "stream",
     "text": [
      "Top 10 GDP Per Capita Countries and their Food Production Amount:\n"
     ]
    },
    {
     "data": {
      "text/html": [
       "<div>\n",
       "<style scoped>\n",
       "    .dataframe tbody tr th:only-of-type {\n",
       "        vertical-align: middle;\n",
       "    }\n",
       "\n",
       "    .dataframe tbody tr th {\n",
       "        vertical-align: top;\n",
       "    }\n",
       "\n",
       "    .dataframe thead th {\n",
       "        text-align: right;\n",
       "    }\n",
       "</style>\n",
       "<table border=\"1\" class=\"dataframe\">\n",
       "  <thead>\n",
       "    <tr style=\"text-align: right;\">\n",
       "      <th></th>\n",
       "      <th>Country</th>\n",
       "      <th>Total Food Produced</th>\n",
       "      <th>GDP Per Capita</th>\n",
       "      <th>Population Size</th>\n",
       "      <th>Regions</th>\n",
       "    </tr>\n",
       "  </thead>\n",
       "  <tbody>\n",
       "    <tr>\n",
       "      <th>84</th>\n",
       "      <td>Luxembourg</td>\n",
       "      <td>480888.0</td>\n",
       "      <td>116356.158037</td>\n",
       "      <td>630419.0</td>\n",
       "      <td>Europe and Central Asia</td>\n",
       "    </tr>\n",
       "    <tr>\n",
       "      <th>141</th>\n",
       "      <td>Switzerland</td>\n",
       "      <td>19618140.0</td>\n",
       "      <td>87100.414821</td>\n",
       "      <td>8636561.0</td>\n",
       "      <td>Europe and Central Asia</td>\n",
       "    </tr>\n",
       "    <tr>\n",
       "      <th>68</th>\n",
       "      <td>Ireland</td>\n",
       "      <td>14595870.0</td>\n",
       "      <td>85422.542868</td>\n",
       "      <td>4985674.0</td>\n",
       "      <td>Europe and Central Asia</td>\n",
       "    </tr>\n",
       "    <tr>\n",
       "      <th>110</th>\n",
       "      <td>Norway</td>\n",
       "      <td>22331121.0</td>\n",
       "      <td>67329.677791</td>\n",
       "      <td>5379475.0</td>\n",
       "      <td>Europe and Central Asia</td>\n",
       "    </tr>\n",
       "    <tr>\n",
       "      <th>37</th>\n",
       "      <td>Denmark</td>\n",
       "      <td>30623790.0</td>\n",
       "      <td>61063.316430</td>\n",
       "      <td>5831404.0</td>\n",
       "      <td>Europe and Central Asia</td>\n",
       "    </tr>\n",
       "    <tr>\n",
       "      <th>131</th>\n",
       "      <td>Singapore</td>\n",
       "      <td>3938625.0</td>\n",
       "      <td>60729.450349</td>\n",
       "      <td>5685807.0</td>\n",
       "      <td>East Asia and Pacific</td>\n",
       "    </tr>\n",
       "    <tr>\n",
       "      <th>64</th>\n",
       "      <td>Iceland</td>\n",
       "      <td>809770.0</td>\n",
       "      <td>59264.034091</td>\n",
       "      <td>366463.0</td>\n",
       "      <td>Europe and Central Asia</td>\n",
       "    </tr>\n",
       "    <tr>\n",
       "      <th>103</th>\n",
       "      <td>Netherlands</td>\n",
       "      <td>139471330.0</td>\n",
       "      <td>52396.032210</td>\n",
       "      <td>17441500.0</td>\n",
       "      <td>Europe and Central Asia</td>\n",
       "    </tr>\n",
       "    <tr>\n",
       "      <th>140</th>\n",
       "      <td>Sweden</td>\n",
       "      <td>23908513.0</td>\n",
       "      <td>52300.206199</td>\n",
       "      <td>10353442.0</td>\n",
       "      <td>Europe and Central Asia</td>\n",
       "    </tr>\n",
       "    <tr>\n",
       "      <th>7</th>\n",
       "      <td>Australia</td>\n",
       "      <td>263620034.0</td>\n",
       "      <td>51680.316523</td>\n",
       "      <td>25693267.0</td>\n",
       "      <td>East Asia and Pacific</td>\n",
       "    </tr>\n",
       "  </tbody>\n",
       "</table>\n",
       "</div>"
      ],
      "text/plain": [
       "         Country  Total Food Produced  GDP Per Capita  Population Size  \\\n",
       "84    Luxembourg             480888.0   116356.158037         630419.0   \n",
       "141  Switzerland           19618140.0    87100.414821        8636561.0   \n",
       "68       Ireland           14595870.0    85422.542868        4985674.0   \n",
       "110       Norway           22331121.0    67329.677791        5379475.0   \n",
       "37       Denmark           30623790.0    61063.316430        5831404.0   \n",
       "131    Singapore            3938625.0    60729.450349        5685807.0   \n",
       "64       Iceland             809770.0    59264.034091         366463.0   \n",
       "103  Netherlands          139471330.0    52396.032210       17441500.0   \n",
       "140       Sweden           23908513.0    52300.206199       10353442.0   \n",
       "7      Australia          263620034.0    51680.316523       25693267.0   \n",
       "\n",
       "                     Regions  \n",
       "84   Europe and Central Asia  \n",
       "141  Europe and Central Asia  \n",
       "68   Europe and Central Asia  \n",
       "110  Europe and Central Asia  \n",
       "37   Europe and Central Asia  \n",
       "131    East Asia and Pacific  \n",
       "64   Europe and Central Asia  \n",
       "103  Europe and Central Asia  \n",
       "140  Europe and Central Asia  \n",
       "7      East Asia and Pacific  "
      ]
     },
     "execution_count": 169,
     "metadata": {},
     "output_type": "execute_result"
    }
   ],
   "source": [
    "print(\"Top 10 GDP Per Capita Countries and their Food Production Amount:\")\n",
    "gdp_food.sort_values(by='GDP Per Capita', ascending=False).head(10)"
   ]
  },
  {
   "cell_type": "markdown",
   "metadata": {},
   "source": [
    "Is GDP Per Capita correlated to Total Amount of Food Produced?"
   ]
  },
  {
   "cell_type": "code",
   "execution_count": 170,
   "metadata": {},
   "outputs": [],
   "source": [
    "x_values = gdp_food['Total Food Produced']\n",
    "y_values = gdp_food['GDP Per Capita']\n"
   ]
  },
  {
   "cell_type": "code",
   "execution_count": 171,
   "metadata": {},
   "outputs": [
    {
     "data": {
      "image/png": "[encoded data removed]",
      "text/plain": [
       "<Figure size 432x288 with 1 Axes>"
      ]
     },
     "metadata": {
      "needs_background": "light"
     },
     "output_type": "display_data"
    },
    {
     "name": "stdout",
     "output_type": "stream",
     "text": [
      "Correlation: -0.07\n"
     ]
    }
   ],
   "source": [
    "plt.scatter(x_values,y_values)\n",
    "plt.xlabel(\"Total Food Produced\")\n",
    "plt.ylabel(\"GDP Per Capita\")\n",
    "plt.title(\"Total Food Produced and GDP Per Capita\\nCorrelation: -0.07\")\n",
    "plt.savefig(\"./Question4-Images/food_gdp_correlation.png\")\n",
    "plt.show()\n",
    "print(f\"Correlation: {round(st.pearsonr(x_values,y_values)[0],2)}\")"
   ]
  },
  {
   "cell_type": "markdown",
   "metadata": {},
   "source": [
    "Develop a linear regression model on the data to predict GDP Per Capita based on Total Food Availability per Country.\n",
    "\n",
    "x = Total amount of food produced in the country\n",
    "\n",
    "y = GDP per Capita"
   ]
  },
  {
   "cell_type": "code",
   "execution_count": 95,
   "metadata": {},
   "outputs": [
    {
     "name": "stdout",
     "output_type": "stream",
     "text": [
      "The r-value is: 0.004482507133208534\n"
     ]
    },
    {
     "data": {
      "image/png": "[encoded data removed]",
      "text/plain": [
       "<Figure size 432x288 with 1 Axes>"
      ]
     },
     "metadata": {
      "needs_background": "light"
     },
     "output_type": "display_data"
    }
   ],
   "source": [
    "(slope, intercept, rvalue, pvalue, stderr) = st.linregress(x_values, y_values)\n",
    "regress_values = x_values * slope + intercept\n",
    "line_eq = \"y = \" + str(round(slope,2)) + \"x + \" + str(round(intercept,2))\n",
    "plt.scatter(x_values,y_values)\n",
    "plt.plot(x_values,regress_values,\"r-\")\n",
    "plt.annotate(line_eq,(min(x_values)+1,min(y_values)+1),fontsize=15,color=\"red\")\n",
    "plt.xlabel(\"Total Food Produced\")\n",
    "plt.ylabel(\"GDP Per Capita\")\n",
    "print(f\"The r-value is: {rvalue**2}\")\n",
    "plt.show()"
   ]
  },
  {
   "cell_type": "markdown",
   "metadata": {},
   "source": [
    "Regression Analysis by Live Stock vs. Crop"
   ]
  },
  {
   "cell_type": "code",
   "execution_count": 96,
   "metadata": {},
   "outputs": [],
   "source": [
    "live_df = no_world.loc[no_world[\"Element\"]==\"Stocks\", :]\n",
    "crop_df = no_world.loc[no_world[\"Element\"]==\"Production\", :]"
   ]
  },
  {
   "cell_type": "code",
   "execution_count": 97,
   "metadata": {},
   "outputs": [],
   "source": [
    "# Group Elements\n",
    "live_grp = live_df.groupby(\"Country\")\n",
    "crop_grp = crop_df.groupby(\"Country\")"
   ]
  },
  {
   "cell_type": "code",
   "execution_count": 98,
   "metadata": {},
   "outputs": [
    {
     "data": {
      "text/html": [
       "<div>\n",
       "<style scoped>\n",
       "    .dataframe tbody tr th:only-of-type {\n",
       "        vertical-align: middle;\n",
       "    }\n",
       "\n",
       "    .dataframe tbody tr th {\n",
       "        vertical-align: top;\n",
       "    }\n",
       "\n",
       "    .dataframe thead th {\n",
       "        text-align: right;\n",
       "    }\n",
       "</style>\n",
       "<table border=\"1\" class=\"dataframe\">\n",
       "  <thead>\n",
       "    <tr style=\"text-align: right;\">\n",
       "      <th></th>\n",
       "      <th>Country</th>\n",
       "      <th>Total Live Stock</th>\n",
       "    </tr>\n",
       "  </thead>\n",
       "  <tbody>\n",
       "    <tr>\n",
       "      <th>0</th>\n",
       "      <td>Afghanistan</td>\n",
       "      <td>42292638.0</td>\n",
       "    </tr>\n",
       "    <tr>\n",
       "      <th>1</th>\n",
       "      <td>Albania</td>\n",
       "      <td>10112893.0</td>\n",
       "    </tr>\n",
       "    <tr>\n",
       "      <th>2</th>\n",
       "      <td>Algeria</td>\n",
       "      <td>177663901.0</td>\n",
       "    </tr>\n",
       "    <tr>\n",
       "      <th>3</th>\n",
       "      <td>Angola</td>\n",
       "      <td>63213788.0</td>\n",
       "    </tr>\n",
       "    <tr>\n",
       "      <th>4</th>\n",
       "      <td>Antigua and Barbuda</td>\n",
       "      <td>205722.0</td>\n",
       "    </tr>\n",
       "    <tr>\n",
       "      <th>...</th>\n",
       "      <td>...</td>\n",
       "      <td>...</td>\n",
       "    </tr>\n",
       "    <tr>\n",
       "      <th>150</th>\n",
       "      <td>Uruguay</td>\n",
       "      <td>58800714.0</td>\n",
       "    </tr>\n",
       "    <tr>\n",
       "      <th>151</th>\n",
       "      <td>Uzbekistan</td>\n",
       "      <td>98583248.0</td>\n",
       "    </tr>\n",
       "    <tr>\n",
       "      <th>152</th>\n",
       "      <td>Vanuatu</td>\n",
       "      <td>751300.0</td>\n",
       "    </tr>\n",
       "    <tr>\n",
       "      <th>153</th>\n",
       "      <td>Zambia</td>\n",
       "      <td>49141548.0</td>\n",
       "    </tr>\n",
       "    <tr>\n",
       "      <th>154</th>\n",
       "      <td>Zimbabwe</td>\n",
       "      <td>19205089.0</td>\n",
       "    </tr>\n",
       "  </tbody>\n",
       "</table>\n",
       "<p>155 rows × 2 columns</p>\n",
       "</div>"
      ],
      "text/plain": [
       "                 Country  Total Live Stock\n",
       "0            Afghanistan        42292638.0\n",
       "1                Albania        10112893.0\n",
       "2                Algeria       177663901.0\n",
       "3                 Angola        63213788.0\n",
       "4    Antigua and Barbuda          205722.0\n",
       "..                   ...               ...\n",
       "150              Uruguay        58800714.0\n",
       "151           Uzbekistan        98583248.0\n",
       "152              Vanuatu          751300.0\n",
       "153               Zambia        49141548.0\n",
       "154             Zimbabwe        19205089.0\n",
       "\n",
       "[155 rows x 2 columns]"
      ]
     },
     "execution_count": 98,
     "metadata": {},
     "output_type": "execute_result"
    }
   ],
   "source": [
    "# Take sum of values\n",
    "sum_live_grp = live_grp[\"Value\"].sum()\n",
    "live_df = pd.DataFrame({\"Country\":list(sum_live_grp.index), \"Total Live Stock\":list(sum_live_grp)})\n",
    "live_df.reset_index()\n",
    "live_df"
   ]
  },
  {
   "cell_type": "code",
   "execution_count": 99,
   "metadata": {},
   "outputs": [
    {
     "data": {
      "text/html": [
       "<div>\n",
       "<style scoped>\n",
       "    .dataframe tbody tr th:only-of-type {\n",
       "        vertical-align: middle;\n",
       "    }\n",
       "\n",
       "    .dataframe tbody tr th {\n",
       "        vertical-align: top;\n",
       "    }\n",
       "\n",
       "    .dataframe thead th {\n",
       "        text-align: right;\n",
       "    }\n",
       "</style>\n",
       "<table border=\"1\" class=\"dataframe\">\n",
       "  <thead>\n",
       "    <tr style=\"text-align: right;\">\n",
       "      <th></th>\n",
       "      <th>Country</th>\n",
       "      <th>Total Crops Produced</th>\n",
       "    </tr>\n",
       "  </thead>\n",
       "  <tbody>\n",
       "    <tr>\n",
       "      <th>30</th>\n",
       "      <td>China</td>\n",
       "      <td>1.816208e+09</td>\n",
       "    </tr>\n",
       "    <tr>\n",
       "      <th>65</th>\n",
       "      <td>India</td>\n",
       "      <td>1.101656e+09</td>\n",
       "    </tr>\n",
       "    <tr>\n",
       "      <th>20</th>\n",
       "      <td>Brazil</td>\n",
       "      <td>1.095737e+09</td>\n",
       "    </tr>\n",
       "    <tr>\n",
       "      <th>66</th>\n",
       "      <td>Indonesia</td>\n",
       "      <td>4.438164e+08</td>\n",
       "    </tr>\n",
       "    <tr>\n",
       "      <th>143</th>\n",
       "      <td>Thailand</td>\n",
       "      <td>1.751034e+08</td>\n",
       "    </tr>\n",
       "    <tr>\n",
       "      <th>...</th>\n",
       "      <td>...</td>\n",
       "      <td>...</td>\n",
       "    </tr>\n",
       "    <tr>\n",
       "      <th>88</th>\n",
       "      <td>Maldives</td>\n",
       "      <td>1.374000e+04</td>\n",
       "    </tr>\n",
       "    <tr>\n",
       "      <th>129</th>\n",
       "      <td>Seychelles</td>\n",
       "      <td>9.976000e+03</td>\n",
       "    </tr>\n",
       "    <tr>\n",
       "      <th>4</th>\n",
       "      <td>Antigua and Barbuda</td>\n",
       "      <td>9.823000e+03</td>\n",
       "    </tr>\n",
       "    <tr>\n",
       "      <th>101</th>\n",
       "      <td>Nauru</td>\n",
       "      <td>3.377000e+03</td>\n",
       "    </tr>\n",
       "    <tr>\n",
       "      <th>148</th>\n",
       "      <td>Tuvalu</td>\n",
       "      <td>3.199000e+03</td>\n",
       "    </tr>\n",
       "  </tbody>\n",
       "</table>\n",
       "<p>157 rows × 2 columns</p>\n",
       "</div>"
      ],
      "text/plain": [
       "                 Country  Total Crops Produced\n",
       "30                 China          1.816208e+09\n",
       "65                 India          1.101656e+09\n",
       "20                Brazil          1.095737e+09\n",
       "66             Indonesia          4.438164e+08\n",
       "143             Thailand          1.751034e+08\n",
       "..                   ...                   ...\n",
       "88              Maldives          1.374000e+04\n",
       "129           Seychelles          9.976000e+03\n",
       "4    Antigua and Barbuda          9.823000e+03\n",
       "101                Nauru          3.377000e+03\n",
       "148               Tuvalu          3.199000e+03\n",
       "\n",
       "[157 rows x 2 columns]"
      ]
     },
     "execution_count": 99,
     "metadata": {},
     "output_type": "execute_result"
    }
   ],
   "source": [
    "sum_crop_grp = crop_grp[\"Value\"].sum()\n",
    "crop_df = pd.DataFrame({\"Country\":list(sum_crop_grp.index), \"Total Crops Produced\":list(sum_crop_grp)})\n",
    "crop_df.reset_index()\n",
    "crop_df.sort_values(by=\"Total Crops Produced\", ascending=False)"
   ]
  },
  {
   "cell_type": "code",
   "execution_count": 100,
   "metadata": {},
   "outputs": [
    {
     "data": {
      "text/plain": [
       "1816208323.0"
      ]
     },
     "execution_count": 100,
     "metadata": {},
     "output_type": "execute_result"
    }
   ],
   "source": [
    "max(crop_df[\"Total Crops Produced\"])"
   ]
  },
  {
   "cell_type": "code",
   "execution_count": 101,
   "metadata": {},
   "outputs": [
    {
     "data": {
      "text/plain": [
       "1869715086.0"
      ]
     },
     "execution_count": 101,
     "metadata": {},
     "output_type": "execute_result"
    }
   ],
   "source": [
    "max(df.loc[df[\"Element\"]==\"Production\",\"Value\"])"
   ]
  },
  {
   "cell_type": "markdown",
   "metadata": {},
   "source": [
    "## Total Food Produced and GDP for South Asia Region\n",
    "\n",
    "Histogram"
   ]
  },
  {
   "cell_type": "code",
   "execution_count": 102,
   "metadata": {},
   "outputs": [
    {
     "data": {
      "text/plain": [
       "array(['South Asia', 'Europe and Central Asia',\n",
       "       'Middle East and North Africa', 'Sub-Saharan Africa',\n",
       "       'Latin America and Caribbean', 'East Asia and Pacific',\n",
       "       'North America'], dtype=object)"
      ]
     },
     "execution_count": 102,
     "metadata": {},
     "output_type": "execute_result"
    }
   ],
   "source": [
    "gdp_food[\"Regions\"].unique()"
   ]
  },
  {
   "cell_type": "code",
   "execution_count": 103,
   "metadata": {},
   "outputs": [
    {
     "data": {
      "text/html": [
       "<div>\n",
       "<style scoped>\n",
       "    .dataframe tbody tr th:only-of-type {\n",
       "        vertical-align: middle;\n",
       "    }\n",
       "\n",
       "    .dataframe tbody tr th {\n",
       "        vertical-align: top;\n",
       "    }\n",
       "\n",
       "    .dataframe thead th {\n",
       "        text-align: right;\n",
       "    }\n",
       "</style>\n",
       "<table border=\"1\" class=\"dataframe\">\n",
       "  <thead>\n",
       "    <tr style=\"text-align: right;\">\n",
       "      <th></th>\n",
       "      <th>Country</th>\n",
       "      <th>Total Food Produced</th>\n",
       "      <th>GDP Per Capita</th>\n",
       "      <th>Population Size</th>\n",
       "      <th>Regions</th>\n",
       "    </tr>\n",
       "  </thead>\n",
       "  <tbody>\n",
       "    <tr>\n",
       "      <th>0</th>\n",
       "      <td>Afghanistan</td>\n",
       "      <td>5.477190e+07</td>\n",
       "      <td>516.747871</td>\n",
       "      <td>3.892834e+07</td>\n",
       "      <td>South Asia</td>\n",
       "    </tr>\n",
       "    <tr>\n",
       "      <th>11</th>\n",
       "      <td>Bangladesh</td>\n",
       "      <td>5.330869e+08</td>\n",
       "      <td>2270.347535</td>\n",
       "      <td>1.646894e+08</td>\n",
       "      <td>South Asia</td>\n",
       "    </tr>\n",
       "    <tr>\n",
       "      <th>17</th>\n",
       "      <td>Bhutan</td>\n",
       "      <td>2.096207e+06</td>\n",
       "      <td>3000.777986</td>\n",
       "      <td>7.716120e+05</td>\n",
       "      <td>South Asia</td>\n",
       "    </tr>\n",
       "    <tr>\n",
       "      <th>65</th>\n",
       "      <td>India</td>\n",
       "      <td>2.472701e+09</td>\n",
       "      <td>1933.101069</td>\n",
       "      <td>1.380004e+09</td>\n",
       "      <td>South Asia</td>\n",
       "    </tr>\n",
       "    <tr>\n",
       "      <th>88</th>\n",
       "      <td>Maldives</td>\n",
       "      <td>1.374000e+04</td>\n",
       "      <td>6924.105745</td>\n",
       "      <td>5.405420e+05</td>\n",
       "      <td>South Asia</td>\n",
       "    </tr>\n",
       "    <tr>\n",
       "      <th>102</th>\n",
       "      <td>Nepal</td>\n",
       "      <td>1.353131e+08</td>\n",
       "      <td>1147.471971</td>\n",
       "      <td>2.913681e+07</td>\n",
       "      <td>South Asia</td>\n",
       "    </tr>\n",
       "    <tr>\n",
       "      <th>112</th>\n",
       "      <td>Pakistan</td>\n",
       "      <td>1.804460e+09</td>\n",
       "      <td>1359.514522</td>\n",
       "      <td>2.208923e+08</td>\n",
       "      <td>South Asia</td>\n",
       "    </tr>\n",
       "    <tr>\n",
       "      <th>137</th>\n",
       "      <td>Sri Lanka</td>\n",
       "      <td>3.737842e+07</td>\n",
       "      <td>3694.040948</td>\n",
       "      <td>2.191900e+07</td>\n",
       "      <td>South Asia</td>\n",
       "    </tr>\n",
       "  </tbody>\n",
       "</table>\n",
       "</div>"
      ],
      "text/plain": [
       "         Country  Total Food Produced  GDP Per Capita  Population Size  \\\n",
       "0    Afghanistan         5.477190e+07      516.747871     3.892834e+07   \n",
       "11    Bangladesh         5.330869e+08     2270.347535     1.646894e+08   \n",
       "17        Bhutan         2.096207e+06     3000.777986     7.716120e+05   \n",
       "65         India         2.472701e+09     1933.101069     1.380004e+09   \n",
       "88      Maldives         1.374000e+04     6924.105745     5.405420e+05   \n",
       "102        Nepal         1.353131e+08     1147.471971     2.913681e+07   \n",
       "112     Pakistan         1.804460e+09     1359.514522     2.208923e+08   \n",
       "137    Sri Lanka         3.737842e+07     3694.040948     2.191900e+07   \n",
       "\n",
       "        Regions  \n",
       "0    South Asia  \n",
       "11   South Asia  \n",
       "17   South Asia  \n",
       "65   South Asia  \n",
       "88   South Asia  \n",
       "102  South Asia  \n",
       "112  South Asia  \n",
       "137  South Asia  "
      ]
     },
     "execution_count": 103,
     "metadata": {},
     "output_type": "execute_result"
    }
   ],
   "source": [
    "s_asia = gdp_food.loc[gdp_food[\"Regions\"] == \"South Asia\"]\n",
    "s_asia"
   ]
  },
  {
   "cell_type": "code",
   "execution_count": 172,
   "metadata": {},
   "outputs": [
    {
     "data": {
      "image/png": "[encoded data removed]",
      "text/plain": [
       "<Figure size 432x288 with 2 Axes>"
      ]
     },
     "metadata": {
      "needs_background": "light"
     },
     "output_type": "display_data"
    },
    {
     "name": "stdout",
     "output_type": "stream",
     "text": [
      "NormaltestResult(statistic=4.1166719614268725, pvalue=0.12766623231427585)\n",
      "NormaltestResult(statistic=7.017255813736865, pvalue=0.029937963943313047)\n"
     ]
    },
    {
     "name": "stderr",
     "output_type": "stream",
     "text": [
      "c:\\Users\\krist\\anaconda3\\lib\\site-packages\\scipy\\stats\\stats.py:1541: UserWarning: kurtosistest only valid for n>=20 ... continuing anyway, n=8\n",
      "  warnings.warn(\"kurtosistest only valid for n>=20 ... continuing \"\n"
     ]
    }
   ],
   "source": [
    "# Histogram\n",
    "fig, ax = plt.subplots(1, 2)\n",
    "s_asia.hist('Total Food Produced', ax=ax[0])\n",
    "s_asia.hist(\"GDP Per Capita\", ax=ax[1])\n",
    "ax[0].set_title(\"Histogram of the Total Food Produced\", wrap=True)\n",
    "ax[1].set_title(\"Histogram of GDP Per Capita\", wrap=True)\n",
    "ax[0].set_xlabel(\"Total Food Produced\")\n",
    "ax[1].set_xlabel(\"GDP Per Capita\")\n",
    "ax[0].set_ylabel(\"Count\")\n",
    "fig.tight_layout()\n",
    "plt.savefig(\"./Question4-Images/histogram_south_asia.png\")\n",
    "plt.show()\n",
    "print(st.normaltest(s_asia[\"Total Food Produced\"]))\n",
    "print(st.normaltest(s_asia[\"GDP Per Capita\"]))"
   ]
  },
  {
   "cell_type": "code",
   "execution_count": 105,
   "metadata": {},
   "outputs": [
    {
     "data": {
      "image/png": "[encoded data removed]",
      "text/plain": [
       "<Figure size 432x288 with 1 Axes>"
      ]
     },
     "metadata": {
      "needs_background": "light"
     },
     "output_type": "display_data"
    }
   ],
   "source": [
    "fig1, ax1 = plt.subplots()\n",
    "ax1.set_title(\"Boxplot: Total Food Produced\")\n",
    "ax1.boxplot(s_asia[[\"Total Food Produced\", \"GDP Per Capita\"]])\n",
    "ax1.set_xticklabels([\"Total Food Produced\", \"GDP Per Capita\"])\n",
    "plt.show()"
   ]
  },
  {
   "cell_type": "code",
   "execution_count": 106,
   "metadata": {},
   "outputs": [],
   "source": [
    "x_values=s_asia[\"Total Food Produced\"]\n",
    "y_values=s_asia[\"GDP Per Capita\"]\n"
   ]
  },
  {
   "cell_type": "code",
   "execution_count": 145,
   "metadata": {},
   "outputs": [
    {
     "data": {
      "image/png": "[encoded data removed]",
      "text/plain": [
       "<Figure size 432x288 with 1 Axes>"
      ]
     },
     "metadata": {
      "needs_background": "light"
     },
     "output_type": "display_data"
    },
    {
     "name": "stdout",
     "output_type": "stream",
     "text": [
      "Correlation: -0.07\n"
     ]
    }
   ],
   "source": [
    "plt.scatter(x_values,y_values)\n",
    "plt.xlabel(\"Total Food Produced\")\n",
    "plt.ylabel(\"GDP Per Capita\")\n",
    "plt.title(\"Correlation between Total Food Produced in Asia and GDP Per Capita\", wrap=True)\n",
    "plt.show()\n",
    "print(f\"Correlation: {round(st.pearsonr(x_values,y_values)[0],2)}\")"
   ]
  },
  {
   "cell_type": "markdown",
   "metadata": {},
   "source": [
    "Very weak negative correlation"
   ]
  },
  {
   "cell_type": "code",
   "execution_count": 108,
   "metadata": {},
   "outputs": [
    {
     "name": "stdout",
     "output_type": "stream",
     "text": [
      "The r-value is: 0.10228282183572704\n"
     ]
    },
    {
     "data": {
      "image/png": "[encoded data removed]",
      "text/plain": [
       "<Figure size 432x288 with 1 Axes>"
      ]
     },
     "metadata": {
      "needs_background": "light"
     },
     "output_type": "display_data"
    }
   ],
   "source": [
    "(slope, intercept, rvalue, pvalue, stderr) = st.linregress(x_values, y_values)\n",
    "regress_values = x_values * slope + intercept\n",
    "line_eq = \"y = \" + str(round(slope,2)) + \"x + \" + str(round(intercept,2))\n",
    "plt.scatter(x_values,y_values)\n",
    "plt.plot(x_values,regress_values,\"r-\")\n",
    "plt.annotate(line_eq,(min(x_values)+1,min(y_values)+1),fontsize=15,color=\"red\")\n",
    "plt.xlabel(\"Total Food Produced\")\n",
    "plt.ylabel(\"GDP Per Capita\")\n",
    "plt.title(\"GDP Per Capita and Total Food Produced Model\")\n",
    "print(f\"The r-value is: {rvalue**2}\")\n",
    "plt.show()"
   ]
  },
  {
   "cell_type": "markdown",
   "metadata": {},
   "source": [
    "### Top 40% of GDP Per Capita Countries - Focus on Economic Wealth\n",
    "\n",
    "Not including the top 2%"
   ]
  },
  {
   "cell_type": "code",
   "execution_count": 109,
   "metadata": {},
   "outputs": [
    {
     "data": {
      "text/html": [
       "<div>\n",
       "<style scoped>\n",
       "    .dataframe tbody tr th:only-of-type {\n",
       "        vertical-align: middle;\n",
       "    }\n",
       "\n",
       "    .dataframe tbody tr th {\n",
       "        vertical-align: top;\n",
       "    }\n",
       "\n",
       "    .dataframe thead th {\n",
       "        text-align: right;\n",
       "    }\n",
       "</style>\n",
       "<table border=\"1\" class=\"dataframe\">\n",
       "  <thead>\n",
       "    <tr style=\"text-align: right;\">\n",
       "      <th></th>\n",
       "      <th>Country</th>\n",
       "      <th>Total Food Produced</th>\n",
       "      <th>GDP Per Capita</th>\n",
       "      <th>Population Size</th>\n",
       "      <th>Regions</th>\n",
       "    </tr>\n",
       "  </thead>\n",
       "  <tbody>\n",
       "    <tr>\n",
       "      <th>4</th>\n",
       "      <td>Antigua and Barbuda</td>\n",
       "      <td>2.155450e+05</td>\n",
       "      <td>13992.744480</td>\n",
       "      <td>9.792800e+04</td>\n",
       "      <td>Latin America and Caribbean</td>\n",
       "    </tr>\n",
       "    <tr>\n",
       "      <th>5</th>\n",
       "      <td>Argentina</td>\n",
       "      <td>3.813241e+08</td>\n",
       "      <td>8585.694742</td>\n",
       "      <td>4.537676e+07</td>\n",
       "      <td>Latin America and Caribbean</td>\n",
       "    </tr>\n",
       "    <tr>\n",
       "      <th>7</th>\n",
       "      <td>Australia</td>\n",
       "      <td>2.636200e+08</td>\n",
       "      <td>51680.316523</td>\n",
       "      <td>2.569327e+07</td>\n",
       "      <td>East Asia and Pacific</td>\n",
       "    </tr>\n",
       "    <tr>\n",
       "      <th>8</th>\n",
       "      <td>Austria</td>\n",
       "      <td>1.548362e+07</td>\n",
       "      <td>48588.659385</td>\n",
       "      <td>8.916864e+06</td>\n",
       "      <td>Europe and Central Asia</td>\n",
       "    </tr>\n",
       "    <tr>\n",
       "      <th>10</th>\n",
       "      <td>Bahrain</td>\n",
       "      <td>1.004125e+07</td>\n",
       "      <td>20406.502326</td>\n",
       "      <td>1.701583e+06</td>\n",
       "      <td>Middle East and North Africa</td>\n",
       "    </tr>\n",
       "    <tr>\n",
       "      <th>12</th>\n",
       "      <td>Barbados</td>\n",
       "      <td>4.417133e+06</td>\n",
       "      <td>16318.748105</td>\n",
       "      <td>2.873710e+05</td>\n",
       "      <td>Latin America and Caribbean</td>\n",
       "    </tr>\n",
       "    <tr>\n",
       "      <th>14</th>\n",
       "      <td>Belgium</td>\n",
       "      <td>2.268623e+07</td>\n",
       "      <td>45189.366900</td>\n",
       "      <td>1.154424e+07</td>\n",
       "      <td>Europe and Central Asia</td>\n",
       "    </tr>\n",
       "    <tr>\n",
       "      <th>21</th>\n",
       "      <td>Bulgaria</td>\n",
       "      <td>1.442610e+07</td>\n",
       "      <td>10079.203381</td>\n",
       "      <td>6.934015e+06</td>\n",
       "      <td>Europe and Central Asia</td>\n",
       "    </tr>\n",
       "    <tr>\n",
       "      <th>26</th>\n",
       "      <td>Canada</td>\n",
       "      <td>3.093858e+08</td>\n",
       "      <td>43258.263872</td>\n",
       "      <td>3.803720e+07</td>\n",
       "      <td>North America</td>\n",
       "    </tr>\n",
       "    <tr>\n",
       "      <th>29</th>\n",
       "      <td>Chile</td>\n",
       "      <td>1.379559e+08</td>\n",
       "      <td>13220.570758</td>\n",
       "      <td>1.911621e+07</td>\n",
       "      <td>Latin America and Caribbean</td>\n",
       "    </tr>\n",
       "    <tr>\n",
       "      <th>30</th>\n",
       "      <td>China</td>\n",
       "      <td>8.615244e+09</td>\n",
       "      <td>10408.669756</td>\n",
       "      <td>1.411100e+09</td>\n",
       "      <td>East Asia and Pacific</td>\n",
       "    </tr>\n",
       "    <tr>\n",
       "      <th>33</th>\n",
       "      <td>Costa Rica</td>\n",
       "      <td>3.854406e+07</td>\n",
       "      <td>12201.926033</td>\n",
       "      <td>5.094114e+06</td>\n",
       "      <td>Latin America and Caribbean</td>\n",
       "    </tr>\n",
       "    <tr>\n",
       "      <th>34</th>\n",
       "      <td>Croatia</td>\n",
       "      <td>2.044002e+07</td>\n",
       "      <td>14132.486561</td>\n",
       "      <td>4.047680e+06</td>\n",
       "      <td>Europe and Central Asia</td>\n",
       "    </tr>\n",
       "    <tr>\n",
       "      <th>35</th>\n",
       "      <td>Cuba</td>\n",
       "      <td>5.690568e+07</td>\n",
       "      <td>9477.852873</td>\n",
       "      <td>1.132662e+07</td>\n",
       "      <td>Latin America and Caribbean</td>\n",
       "    </tr>\n",
       "    <tr>\n",
       "      <th>36</th>\n",
       "      <td>Cyprus</td>\n",
       "      <td>7.706300e+05</td>\n",
       "      <td>20451.294969</td>\n",
       "      <td>1.207361e+06</td>\n",
       "      <td>Europe and Central Asia</td>\n",
       "    </tr>\n",
       "    <tr>\n",
       "      <th>37</th>\n",
       "      <td>Denmark</td>\n",
       "      <td>3.062379e+07</td>\n",
       "      <td>61063.316430</td>\n",
       "      <td>5.831404e+06</td>\n",
       "      <td>Europe and Central Asia</td>\n",
       "    </tr>\n",
       "    <tr>\n",
       "      <th>44</th>\n",
       "      <td>Estonia</td>\n",
       "      <td>4.750770e+06</td>\n",
       "      <td>23054.358491</td>\n",
       "      <td>1.329479e+06</td>\n",
       "      <td>Europe and Central Asia</td>\n",
       "    </tr>\n",
       "    <tr>\n",
       "      <th>48</th>\n",
       "      <td>Finland</td>\n",
       "      <td>1.548921e+07</td>\n",
       "      <td>49160.837152</td>\n",
       "      <td>5.529543e+06</td>\n",
       "      <td>Europe and Central Asia</td>\n",
       "    </tr>\n",
       "    <tr>\n",
       "      <th>49</th>\n",
       "      <td>France</td>\n",
       "      <td>4.169756e+08</td>\n",
       "      <td>39037.122631</td>\n",
       "      <td>6.737991e+07</td>\n",
       "      <td>Europe and Central Asia</td>\n",
       "    </tr>\n",
       "    <tr>\n",
       "      <th>50</th>\n",
       "      <td>French Polynesia</td>\n",
       "      <td>5.343580e+05</td>\n",
       "      <td>20182.584503</td>\n",
       "      <td>2.809040e+05</td>\n",
       "      <td>East Asia and Pacific</td>\n",
       "    </tr>\n",
       "    <tr>\n",
       "      <th>53</th>\n",
       "      <td>Germany</td>\n",
       "      <td>1.327493e+08</td>\n",
       "      <td>46252.689304</td>\n",
       "      <td>8.316087e+07</td>\n",
       "      <td>Europe and Central Asia</td>\n",
       "    </tr>\n",
       "    <tr>\n",
       "      <th>55</th>\n",
       "      <td>Greece</td>\n",
       "      <td>2.366289e+07</td>\n",
       "      <td>17647.232688</td>\n",
       "      <td>1.070056e+07</td>\n",
       "      <td>Europe and Central Asia</td>\n",
       "    </tr>\n",
       "    <tr>\n",
       "      <th>56</th>\n",
       "      <td>Grenada</td>\n",
       "      <td>3.405440e+05</td>\n",
       "      <td>9273.199292</td>\n",
       "      <td>1.125190e+05</td>\n",
       "      <td>Latin America and Caribbean</td>\n",
       "    </tr>\n",
       "    <tr>\n",
       "      <th>63</th>\n",
       "      <td>Hungary</td>\n",
       "      <td>6.371316e+07</td>\n",
       "      <td>16075.973266</td>\n",
       "      <td>9.750149e+06</td>\n",
       "      <td>Europe and Central Asia</td>\n",
       "    </tr>\n",
       "    <tr>\n",
       "      <th>64</th>\n",
       "      <td>Iceland</td>\n",
       "      <td>8.097700e+05</td>\n",
       "      <td>59264.034091</td>\n",
       "      <td>3.664630e+05</td>\n",
       "      <td>Europe and Central Asia</td>\n",
       "    </tr>\n",
       "    <tr>\n",
       "      <th>69</th>\n",
       "      <td>Israel</td>\n",
       "      <td>5.721127e+07</td>\n",
       "      <td>44177.571225</td>\n",
       "      <td>9.215100e+06</td>\n",
       "      <td>Middle East and North Africa</td>\n",
       "    </tr>\n",
       "    <tr>\n",
       "      <th>70</th>\n",
       "      <td>Italy</td>\n",
       "      <td>7.425048e+07</td>\n",
       "      <td>31834.972618</td>\n",
       "      <td>5.944953e+07</td>\n",
       "      <td>Europe and Central Asia</td>\n",
       "    </tr>\n",
       "    <tr>\n",
       "      <th>72</th>\n",
       "      <td>Japan</td>\n",
       "      <td>3.656301e+08</td>\n",
       "      <td>39918.167558</td>\n",
       "      <td>1.262610e+08</td>\n",
       "      <td>East Asia and Pacific</td>\n",
       "    </tr>\n",
       "    <tr>\n",
       "      <th>74</th>\n",
       "      <td>Kazakhstan</td>\n",
       "      <td>1.091180e+08</td>\n",
       "      <td>9121.637138</td>\n",
       "      <td>1.875567e+07</td>\n",
       "      <td>Europe and Central Asia</td>\n",
       "    </tr>\n",
       "    <tr>\n",
       "      <th>77</th>\n",
       "      <td>Kuwait</td>\n",
       "      <td>5.700338e+07</td>\n",
       "      <td>24811.769710</td>\n",
       "      <td>4.270563e+06</td>\n",
       "      <td>Middle East and North Africa</td>\n",
       "    </tr>\n",
       "    <tr>\n",
       "      <th>78</th>\n",
       "      <td>Latvia</td>\n",
       "      <td>5.148283e+06</td>\n",
       "      <td>17703.953443</td>\n",
       "      <td>1.900449e+06</td>\n",
       "      <td>Europe and Central Asia</td>\n",
       "    </tr>\n",
       "    <tr>\n",
       "      <th>82</th>\n",
       "      <td>Libya</td>\n",
       "      <td>4.896604e+07</td>\n",
       "      <td>7614.325449</td>\n",
       "      <td>6.871287e+06</td>\n",
       "      <td>Middle East and North Africa</td>\n",
       "    </tr>\n",
       "    <tr>\n",
       "      <th>83</th>\n",
       "      <td>Lithuania</td>\n",
       "      <td>1.093661e+07</td>\n",
       "      <td>20232.302036</td>\n",
       "      <td>2.794885e+06</td>\n",
       "      <td>Europe and Central Asia</td>\n",
       "    </tr>\n",
       "    <tr>\n",
       "      <th>87</th>\n",
       "      <td>Malaysia</td>\n",
       "      <td>4.112974e+08</td>\n",
       "      <td>10412.347668</td>\n",
       "      <td>3.236600e+07</td>\n",
       "      <td>East Asia and Pacific</td>\n",
       "    </tr>\n",
       "    <tr>\n",
       "      <th>90</th>\n",
       "      <td>Malta</td>\n",
       "      <td>1.369000e+05</td>\n",
       "      <td>28946.462677</td>\n",
       "      <td>5.153320e+05</td>\n",
       "      <td>Middle East and North Africa</td>\n",
       "    </tr>\n",
       "    <tr>\n",
       "      <th>93</th>\n",
       "      <td>Mauritius</td>\n",
       "      <td>1.932712e+07</td>\n",
       "      <td>8632.752859</td>\n",
       "      <td>1.265740e+06</td>\n",
       "      <td>Sub-Saharan Africa</td>\n",
       "    </tr>\n",
       "    <tr>\n",
       "      <th>94</th>\n",
       "      <td>Mexico</td>\n",
       "      <td>8.254478e+08</td>\n",
       "      <td>8431.665017</td>\n",
       "      <td>1.289328e+08</td>\n",
       "      <td>Latin America and Caribbean</td>\n",
       "    </tr>\n",
       "    <tr>\n",
       "      <th>96</th>\n",
       "      <td>Montenegro</td>\n",
       "      <td>1.296975e+06</td>\n",
       "      <td>7694.633759</td>\n",
       "      <td>6.213060e+05</td>\n",
       "      <td>Europe and Central Asia</td>\n",
       "    </tr>\n",
       "    <tr>\n",
       "      <th>101</th>\n",
       "      <td>Nauru</td>\n",
       "      <td>1.142600e+04</td>\n",
       "      <td>10580.268188</td>\n",
       "      <td>1.083400e+04</td>\n",
       "      <td>East Asia and Pacific</td>\n",
       "    </tr>\n",
       "    <tr>\n",
       "      <th>103</th>\n",
       "      <td>Netherlands</td>\n",
       "      <td>1.394713e+08</td>\n",
       "      <td>52396.032210</td>\n",
       "      <td>1.744150e+07</td>\n",
       "      <td>Europe and Central Asia</td>\n",
       "    </tr>\n",
       "    <tr>\n",
       "      <th>104</th>\n",
       "      <td>New Caledonia</td>\n",
       "      <td>7.176830e+05</td>\n",
       "      <td>34694.550402</td>\n",
       "      <td>2.719600e+05</td>\n",
       "      <td>East Asia and Pacific</td>\n",
       "    </tr>\n",
       "    <tr>\n",
       "      <th>105</th>\n",
       "      <td>New Zealand</td>\n",
       "      <td>6.674027e+07</td>\n",
       "      <td>41596.505502</td>\n",
       "      <td>5.090200e+06</td>\n",
       "      <td>East Asia and Pacific</td>\n",
       "    </tr>\n",
       "    <tr>\n",
       "      <th>111</th>\n",
       "      <td>Oman</td>\n",
       "      <td>1.022505e+07</td>\n",
       "      <td>14485.386116</td>\n",
       "      <td>5.106622e+06</td>\n",
       "      <td>Middle East and North Africa</td>\n",
       "    </tr>\n",
       "    <tr>\n",
       "      <th>113</th>\n",
       "      <td>Panama</td>\n",
       "      <td>3.167303e+07</td>\n",
       "      <td>12509.835291</td>\n",
       "      <td>4.314768e+06</td>\n",
       "      <td>Latin America and Caribbean</td>\n",
       "    </tr>\n",
       "    <tr>\n",
       "      <th>118</th>\n",
       "      <td>Poland</td>\n",
       "      <td>2.738708e+08</td>\n",
       "      <td>15742.453726</td>\n",
       "      <td>3.789907e+07</td>\n",
       "      <td>Europe and Central Asia</td>\n",
       "    </tr>\n",
       "    <tr>\n",
       "      <th>119</th>\n",
       "      <td>Portugal</td>\n",
       "      <td>1.225334e+07</td>\n",
       "      <td>22194.566115</td>\n",
       "      <td>1.029708e+07</td>\n",
       "      <td>Europe and Central Asia</td>\n",
       "    </tr>\n",
       "    <tr>\n",
       "      <th>120</th>\n",
       "      <td>Puerto Rico</td>\n",
       "      <td>1.571190e+07</td>\n",
       "      <td>31429.866118</td>\n",
       "      <td>3.281538e+06</td>\n",
       "      <td>Latin America and Caribbean</td>\n",
       "    </tr>\n",
       "    <tr>\n",
       "      <th>121</th>\n",
       "      <td>Qatar</td>\n",
       "      <td>2.992012e+06</td>\n",
       "      <td>50124.385936</td>\n",
       "      <td>2.881060e+06</td>\n",
       "      <td>Middle East and North Africa</td>\n",
       "    </tr>\n",
       "    <tr>\n",
       "      <th>122</th>\n",
       "      <td>Romania</td>\n",
       "      <td>4.882805e+07</td>\n",
       "      <td>12956.566248</td>\n",
       "      <td>1.925752e+07</td>\n",
       "      <td>Europe and Central Asia</td>\n",
       "    </tr>\n",
       "    <tr>\n",
       "      <th>126</th>\n",
       "      <td>Saudi Arabia</td>\n",
       "      <td>2.249406e+08</td>\n",
       "      <td>20203.668878</td>\n",
       "      <td>3.481387e+07</td>\n",
       "      <td>Middle East and North Africa</td>\n",
       "    </tr>\n",
       "    <tr>\n",
       "      <th>128</th>\n",
       "      <td>Serbia</td>\n",
       "      <td>3.979862e+07</td>\n",
       "      <td>7730.691746</td>\n",
       "      <td>6.899126e+06</td>\n",
       "      <td>Europe and Central Asia</td>\n",
       "    </tr>\n",
       "    <tr>\n",
       "      <th>129</th>\n",
       "      <td>Seychelles</td>\n",
       "      <td>1.341550e+05</td>\n",
       "      <td>12193.886874</td>\n",
       "      <td>9.846200e+04</td>\n",
       "      <td>Sub-Saharan Africa</td>\n",
       "    </tr>\n",
       "    <tr>\n",
       "      <th>131</th>\n",
       "      <td>Singapore</td>\n",
       "      <td>3.938625e+06</td>\n",
       "      <td>60729.450349</td>\n",
       "      <td>5.685807e+06</td>\n",
       "      <td>East Asia and Pacific</td>\n",
       "    </tr>\n",
       "    <tr>\n",
       "      <th>132</th>\n",
       "      <td>Slovenia</td>\n",
       "      <td>6.218142e+06</td>\n",
       "      <td>25489.500228</td>\n",
       "      <td>2.102419e+06</td>\n",
       "      <td>Europe and Central Asia</td>\n",
       "    </tr>\n",
       "    <tr>\n",
       "      <th>136</th>\n",
       "      <td>Spain</td>\n",
       "      <td>1.235764e+08</td>\n",
       "      <td>27056.421751</td>\n",
       "      <td>4.736342e+07</td>\n",
       "      <td>Europe and Central Asia</td>\n",
       "    </tr>\n",
       "    <tr>\n",
       "      <th>140</th>\n",
       "      <td>Sweden</td>\n",
       "      <td>2.390851e+07</td>\n",
       "      <td>52300.206199</td>\n",
       "      <td>1.035344e+07</td>\n",
       "      <td>Europe and Central Asia</td>\n",
       "    </tr>\n",
       "    <tr>\n",
       "      <th>146</th>\n",
       "      <td>Trinidad and Tobago</td>\n",
       "      <td>3.777971e+07</td>\n",
       "      <td>15285.940487</td>\n",
       "      <td>1.399491e+06</td>\n",
       "      <td>Latin America and Caribbean</td>\n",
       "    </tr>\n",
       "    <tr>\n",
       "      <th>151</th>\n",
       "      <td>United Arab Emirates</td>\n",
       "      <td>3.024236e+07</td>\n",
       "      <td>36284.555243</td>\n",
       "      <td>9.890400e+06</td>\n",
       "      <td>Middle East and North Africa</td>\n",
       "    </tr>\n",
       "    <tr>\n",
       "      <th>152</th>\n",
       "      <td>Uruguay</td>\n",
       "      <td>6.553330e+07</td>\n",
       "      <td>15418.815309</td>\n",
       "      <td>3.473727e+06</td>\n",
       "      <td>Latin America and Caribbean</td>\n",
       "    </tr>\n",
       "  </tbody>\n",
       "</table>\n",
       "</div>"
      ],
      "text/plain": [
       "                  Country  Total Food Produced  GDP Per Capita  \\\n",
       "4     Antigua and Barbuda         2.155450e+05    13992.744480   \n",
       "5               Argentina         3.813241e+08     8585.694742   \n",
       "7               Australia         2.636200e+08    51680.316523   \n",
       "8                 Austria         1.548362e+07    48588.659385   \n",
       "10                Bahrain         1.004125e+07    20406.502326   \n",
       "12               Barbados         4.417133e+06    16318.748105   \n",
       "14                Belgium         2.268623e+07    45189.366900   \n",
       "21               Bulgaria         1.442610e+07    10079.203381   \n",
       "26                 Canada         3.093858e+08    43258.263872   \n",
       "29                  Chile         1.379559e+08    13220.570758   \n",
       "30                  China         8.615244e+09    10408.669756   \n",
       "33             Costa Rica         3.854406e+07    12201.926033   \n",
       "34                Croatia         2.044002e+07    14132.486561   \n",
       "35                   Cuba         5.690568e+07     9477.852873   \n",
       "36                 Cyprus         7.706300e+05    20451.294969   \n",
       "37                Denmark         3.062379e+07    61063.316430   \n",
       "44                Estonia         4.750770e+06    23054.358491   \n",
       "48                Finland         1.548921e+07    49160.837152   \n",
       "49                 France         4.169756e+08    39037.122631   \n",
       "50       French Polynesia         5.343580e+05    20182.584503   \n",
       "53                Germany         1.327493e+08    46252.689304   \n",
       "55                 Greece         2.366289e+07    17647.232688   \n",
       "56                Grenada         3.405440e+05     9273.199292   \n",
       "63                Hungary         6.371316e+07    16075.973266   \n",
       "64                Iceland         8.097700e+05    59264.034091   \n",
       "69                 Israel         5.721127e+07    44177.571225   \n",
       "70                  Italy         7.425048e+07    31834.972618   \n",
       "72                  Japan         3.656301e+08    39918.167558   \n",
       "74             Kazakhstan         1.091180e+08     9121.637138   \n",
       "77                 Kuwait         5.700338e+07    24811.769710   \n",
       "78                 Latvia         5.148283e+06    17703.953443   \n",
       "82                  Libya         4.896604e+07     7614.325449   \n",
       "83              Lithuania         1.093661e+07    20232.302036   \n",
       "87               Malaysia         4.112974e+08    10412.347668   \n",
       "90                  Malta         1.369000e+05    28946.462677   \n",
       "93              Mauritius         1.932712e+07     8632.752859   \n",
       "94                 Mexico         8.254478e+08     8431.665017   \n",
       "96             Montenegro         1.296975e+06     7694.633759   \n",
       "101                 Nauru         1.142600e+04    10580.268188   \n",
       "103           Netherlands         1.394713e+08    52396.032210   \n",
       "104         New Caledonia         7.176830e+05    34694.550402   \n",
       "105           New Zealand         6.674027e+07    41596.505502   \n",
       "111                  Oman         1.022505e+07    14485.386116   \n",
       "113                Panama         3.167303e+07    12509.835291   \n",
       "118                Poland         2.738708e+08    15742.453726   \n",
       "119              Portugal         1.225334e+07    22194.566115   \n",
       "120           Puerto Rico         1.571190e+07    31429.866118   \n",
       "121                 Qatar         2.992012e+06    50124.385936   \n",
       "122               Romania         4.882805e+07    12956.566248   \n",
       "126          Saudi Arabia         2.249406e+08    20203.668878   \n",
       "128                Serbia         3.979862e+07     7730.691746   \n",
       "129            Seychelles         1.341550e+05    12193.886874   \n",
       "131             Singapore         3.938625e+06    60729.450349   \n",
       "132              Slovenia         6.218142e+06    25489.500228   \n",
       "136                 Spain         1.235764e+08    27056.421751   \n",
       "140                Sweden         2.390851e+07    52300.206199   \n",
       "146   Trinidad and Tobago         3.777971e+07    15285.940487   \n",
       "151  United Arab Emirates         3.024236e+07    36284.555243   \n",
       "152               Uruguay         6.553330e+07    15418.815309   \n",
       "\n",
       "     Population Size                       Regions  \n",
       "4       9.792800e+04   Latin America and Caribbean  \n",
       "5       4.537676e+07   Latin America and Caribbean  \n",
       "7       2.569327e+07         East Asia and Pacific  \n",
       "8       8.916864e+06       Europe and Central Asia  \n",
       "10      1.701583e+06  Middle East and North Africa  \n",
       "12      2.873710e+05   Latin America and Caribbean  \n",
       "14      1.154424e+07       Europe and Central Asia  \n",
       "21      6.934015e+06       Europe and Central Asia  \n",
       "26      3.803720e+07                 North America  \n",
       "29      1.911621e+07   Latin America and Caribbean  \n",
       "30      1.411100e+09         East Asia and Pacific  \n",
       "33      5.094114e+06   Latin America and Caribbean  \n",
       "34      4.047680e+06       Europe and Central Asia  \n",
       "35      1.132662e+07   Latin America and Caribbean  \n",
       "36      1.207361e+06       Europe and Central Asia  \n",
       "37      5.831404e+06       Europe and Central Asia  \n",
       "44      1.329479e+06       Europe and Central Asia  \n",
       "48      5.529543e+06       Europe and Central Asia  \n",
       "49      6.737991e+07       Europe and Central Asia  \n",
       "50      2.809040e+05         East Asia and Pacific  \n",
       "53      8.316087e+07       Europe and Central Asia  \n",
       "55      1.070056e+07       Europe and Central Asia  \n",
       "56      1.125190e+05   Latin America and Caribbean  \n",
       "63      9.750149e+06       Europe and Central Asia  \n",
       "64      3.664630e+05       Europe and Central Asia  \n",
       "69      9.215100e+06  Middle East and North Africa  \n",
       "70      5.944953e+07       Europe and Central Asia  \n",
       "72      1.262610e+08         East Asia and Pacific  \n",
       "74      1.875567e+07       Europe and Central Asia  \n",
       "77      4.270563e+06  Middle East and North Africa  \n",
       "78      1.900449e+06       Europe and Central Asia  \n",
       "82      6.871287e+06  Middle East and North Africa  \n",
       "83      2.794885e+06       Europe and Central Asia  \n",
       "87      3.236600e+07         East Asia and Pacific  \n",
       "90      5.153320e+05  Middle East and North Africa  \n",
       "93      1.265740e+06            Sub-Saharan Africa  \n",
       "94      1.289328e+08   Latin America and Caribbean  \n",
       "96      6.213060e+05       Europe and Central Asia  \n",
       "101     1.083400e+04         East Asia and Pacific  \n",
       "103     1.744150e+07       Europe and Central Asia  \n",
       "104     2.719600e+05         East Asia and Pacific  \n",
       "105     5.090200e+06         East Asia and Pacific  \n",
       "111     5.106622e+06  Middle East and North Africa  \n",
       "113     4.314768e+06   Latin America and Caribbean  \n",
       "118     3.789907e+07       Europe and Central Asia  \n",
       "119     1.029708e+07       Europe and Central Asia  \n",
       "120     3.281538e+06   Latin America and Caribbean  \n",
       "121     2.881060e+06  Middle East and North Africa  \n",
       "122     1.925752e+07       Europe and Central Asia  \n",
       "126     3.481387e+07  Middle East and North Africa  \n",
       "128     6.899126e+06       Europe and Central Asia  \n",
       "129     9.846200e+04            Sub-Saharan Africa  \n",
       "131     5.685807e+06         East Asia and Pacific  \n",
       "132     2.102419e+06       Europe and Central Asia  \n",
       "136     4.736342e+07       Europe and Central Asia  \n",
       "140     1.035344e+07       Europe and Central Asia  \n",
       "146     1.399491e+06   Latin America and Caribbean  \n",
       "151     9.890400e+06  Middle East and North Africa  \n",
       "152     3.473727e+06   Latin America and Caribbean  "
      ]
     },
     "execution_count": 109,
     "metadata": {},
     "output_type": "execute_result"
    }
   ],
   "source": [
    "top_40 = gdp_food.loc[(gdp_food[\"GDP Per Capita\"] >= gdp_food[\"GDP Per Capita\"].quantile(0.60)) & \n",
    "    (gdp_food[\"GDP Per Capita\"]<gdp_food[\"GDP Per Capita\"].quantile(0.98)), :]\n",
    "top_40"
   ]
  },
  {
   "cell_type": "code",
   "execution_count": 110,
   "metadata": {},
   "outputs": [
    {
     "data": {
      "image/png": "[encoded data removed]",
      "text/plain": [
       "<Figure size 432x288 with 1 Axes>"
      ]
     },
     "metadata": {
      "needs_background": "light"
     },
     "output_type": "display_data"
    },
    {
     "name": "stdout",
     "output_type": "stream",
     "text": [
      "NormaltestResult(statistic=8.36420507483937, pvalue=0.015266375673192422)\n"
     ]
    }
   ],
   "source": [
    "plt.hist(top_40['GDP Per Capita'])\n",
    "plt.xlabel('GDP Per Capita')\n",
    "plt.ylabel('Counts')\n",
    "plt.title(\"Histogram of the GDP Per Capita\")\n",
    "plt.show()\n",
    "print(st.normaltest(top_40[\"GDP Per Capita\"]))"
   ]
  },
  {
   "cell_type": "code",
   "execution_count": 111,
   "metadata": {},
   "outputs": [],
   "source": [
    "x_values = top_40[\"Total Food Produced\"]\n",
    "y_values = top_40[\"GDP Per Capita\"]"
   ]
  },
  {
   "cell_type": "code",
   "execution_count": 112,
   "metadata": {},
   "outputs": [
    {
     "data": {
      "image/png": "[encoded data removed]",
      "text/plain": [
       "<Figure size 432x288 with 1 Axes>"
      ]
     },
     "metadata": {
      "needs_background": "light"
     },
     "output_type": "display_data"
    },
    {
     "name": "stdout",
     "output_type": "stream",
     "text": [
      "Correlation: -0.13\n"
     ]
    }
   ],
   "source": [
    "plt.scatter(x_values,y_values)\n",
    "plt.xlabel(\"Total Food Produced\")\n",
    "plt.ylabel(\"GDP Per Capita\")\n",
    "plt.show()\n",
    "print(f\"Correlation: {round(st.pearsonr(x_values,y_values)[0],2)}\")"
   ]
  },
  {
   "cell_type": "markdown",
   "metadata": {},
   "source": [
    "## Human Development Index\n",
    "Those with score of 0.8 or higher is considered a First World Country\n",
    "- Low human development (0-.55)\n",
    "- Medium human development (.55-.70)\n",
    "- High human development (.70-80)\n",
    "- Very high human development (.80-1.0)"
   ]
  },
  {
   "cell_type": "code",
   "execution_count": 113,
   "metadata": {},
   "outputs": [
    {
     "data": {
      "text/html": [
       "<div>\n",
       "<style scoped>\n",
       "    .dataframe tbody tr th:only-of-type {\n",
       "        vertical-align: middle;\n",
       "    }\n",
       "\n",
       "    .dataframe tbody tr th {\n",
       "        vertical-align: top;\n",
       "    }\n",
       "\n",
       "    .dataframe thead th {\n",
       "        text-align: right;\n",
       "    }\n",
       "</style>\n",
       "<table border=\"1\" class=\"dataframe\">\n",
       "  <thead>\n",
       "    <tr style=\"text-align: right;\">\n",
       "      <th></th>\n",
       "      <th>Country</th>\n",
       "      <th>Country Code</th>\n",
       "      <th>HDI</th>\n",
       "    </tr>\n",
       "  </thead>\n",
       "  <tbody>\n",
       "    <tr>\n",
       "      <th>0</th>\n",
       "      <td>Afghanistan</td>\n",
       "      <td>AFG</td>\n",
       "      <td>0.511</td>\n",
       "    </tr>\n",
       "    <tr>\n",
       "      <th>1</th>\n",
       "      <td>Angola</td>\n",
       "      <td>AGO</td>\n",
       "      <td>0.581</td>\n",
       "    </tr>\n",
       "    <tr>\n",
       "      <th>2</th>\n",
       "      <td>Albania</td>\n",
       "      <td>ALB</td>\n",
       "      <td>0.795</td>\n",
       "    </tr>\n",
       "    <tr>\n",
       "      <th>3</th>\n",
       "      <td>Andorra</td>\n",
       "      <td>AND</td>\n",
       "      <td>0.868</td>\n",
       "    </tr>\n",
       "    <tr>\n",
       "      <th>4</th>\n",
       "      <td>United Arab Emirates</td>\n",
       "      <td>ARE</td>\n",
       "      <td>0.890</td>\n",
       "    </tr>\n",
       "  </tbody>\n",
       "</table>\n",
       "</div>"
      ],
      "text/plain": [
       "                Country Country Code    HDI\n",
       "0           Afghanistan          AFG  0.511\n",
       "1                Angola          AGO  0.581\n",
       "2               Albania          ALB  0.795\n",
       "3               Andorra          AND  0.868\n",
       "4  United Arab Emirates          ARE  0.890"
      ]
     },
     "execution_count": 113,
     "metadata": {},
     "output_type": "execute_result"
    }
   ],
   "source": [
    "hdi_df = pd.read_csv(\"./Resources/hdi.csv\")\n",
    "hdi_df.head()"
   ]
  },
  {
   "cell_type": "code",
   "execution_count": 114,
   "metadata": {},
   "outputs": [],
   "source": [
    "# Merge with food and gdp data\n",
    "merge_hdi = pd.merge(gdp_food, hdi_df[[\"Country\", \"HDI\"]], on=\"Country\")"
   ]
  },
  {
   "cell_type": "code",
   "execution_count": 115,
   "metadata": {},
   "outputs": [
    {
     "data": {
      "text/html": [
       "<div>\n",
       "<style scoped>\n",
       "    .dataframe tbody tr th:only-of-type {\n",
       "        vertical-align: middle;\n",
       "    }\n",
       "\n",
       "    .dataframe tbody tr th {\n",
       "        vertical-align: top;\n",
       "    }\n",
       "\n",
       "    .dataframe thead th {\n",
       "        text-align: right;\n",
       "    }\n",
       "</style>\n",
       "<table border=\"1\" class=\"dataframe\">\n",
       "  <thead>\n",
       "    <tr style=\"text-align: right;\">\n",
       "      <th></th>\n",
       "      <th>Country</th>\n",
       "      <th>Total Food Produced</th>\n",
       "      <th>GDP Per Capita</th>\n",
       "      <th>Population Size</th>\n",
       "      <th>Regions</th>\n",
       "      <th>HDI</th>\n",
       "    </tr>\n",
       "  </thead>\n",
       "  <tbody>\n",
       "    <tr>\n",
       "      <th>0</th>\n",
       "      <td>Afghanistan</td>\n",
       "      <td>54771898.0</td>\n",
       "      <td>516.747871</td>\n",
       "      <td>38928341.0</td>\n",
       "      <td>South Asia</td>\n",
       "      <td>0.511</td>\n",
       "    </tr>\n",
       "    <tr>\n",
       "      <th>1</th>\n",
       "      <td>Albania</td>\n",
       "      <td>12904896.0</td>\n",
       "      <td>5332.160475</td>\n",
       "      <td>2837849.0</td>\n",
       "      <td>Europe and Central Asia</td>\n",
       "      <td>0.795</td>\n",
       "    </tr>\n",
       "    <tr>\n",
       "      <th>2</th>\n",
       "      <td>Algeria</td>\n",
       "      <td>201992285.0</td>\n",
       "      <td>3306.858208</td>\n",
       "      <td>43851043.0</td>\n",
       "      <td>Middle East and North Africa</td>\n",
       "      <td>0.748</td>\n",
       "    </tr>\n",
       "    <tr>\n",
       "      <th>3</th>\n",
       "      <td>Angola</td>\n",
       "      <td>84297733.0</td>\n",
       "      <td>1631.431691</td>\n",
       "      <td>32866268.0</td>\n",
       "      <td>Sub-Saharan Africa</td>\n",
       "      <td>0.581</td>\n",
       "    </tr>\n",
       "    <tr>\n",
       "      <th>4</th>\n",
       "      <td>Antigua and Barbuda</td>\n",
       "      <td>215545.0</td>\n",
       "      <td>13992.744480</td>\n",
       "      <td>97928.0</td>\n",
       "      <td>Latin America and Caribbean</td>\n",
       "      <td>0.778</td>\n",
       "    </tr>\n",
       "  </tbody>\n",
       "</table>\n",
       "</div>"
      ],
      "text/plain": [
       "               Country  Total Food Produced  GDP Per Capita  Population Size  \\\n",
       "0          Afghanistan           54771898.0      516.747871       38928341.0   \n",
       "1              Albania           12904896.0     5332.160475        2837849.0   \n",
       "2              Algeria          201992285.0     3306.858208       43851043.0   \n",
       "3               Angola           84297733.0     1631.431691       32866268.0   \n",
       "4  Antigua and Barbuda             215545.0    13992.744480          97928.0   \n",
       "\n",
       "                        Regions    HDI  \n",
       "0                    South Asia  0.511  \n",
       "1       Europe and Central Asia  0.795  \n",
       "2  Middle East and North Africa  0.748  \n",
       "3            Sub-Saharan Africa  0.581  \n",
       "4   Latin America and Caribbean  0.778  "
      ]
     },
     "execution_count": 115,
     "metadata": {},
     "output_type": "execute_result"
    }
   ],
   "source": [
    "merge_hdi.head()"
   ]
  },
  {
   "cell_type": "markdown",
   "metadata": {},
   "source": [
    "### Correlation Analysis for Total Food Produced and HDI"
   ]
  },
  {
   "cell_type": "code",
   "execution_count": 116,
   "metadata": {},
   "outputs": [],
   "source": [
    "x_values = merge_hdi['Total Food Produced']\n",
    "y_values = merge_hdi['HDI']"
   ]
  },
  {
   "cell_type": "code",
   "execution_count": 117,
   "metadata": {},
   "outputs": [
    {
     "data": {
      "image/png": "[encoded data removed]",
      "text/plain": [
       "<Figure size 432x288 with 1 Axes>"
      ]
     },
     "metadata": {
      "needs_background": "light"
     },
     "output_type": "display_data"
    },
    {
     "name": "stdout",
     "output_type": "stream",
     "text": [
      "Correlation: -0.0\n"
     ]
    }
   ],
   "source": [
    "plt.scatter(x_values,y_values)\n",
    "plt.xlabel(\"Total Food Produced\")\n",
    "plt.ylabel(\"Human Development Index\")\n",
    "plt.show()\n",
    "print(f\"Correlation: {round(st.pearsonr(x_values,y_values)[0],2)}\")"
   ]
  },
  {
   "cell_type": "markdown",
   "metadata": {},
   "source": [
    "No correlation between HDI and Food Produced"
   ]
  },
  {
   "cell_type": "code",
   "execution_count": 118,
   "metadata": {},
   "outputs": [
    {
     "data": {
      "image/png": "[encoded data removed]",
      "text/plain": [
       "<Figure size 432x288 with 1 Axes>"
      ]
     },
     "metadata": {
      "needs_background": "light"
     },
     "output_type": "display_data"
    },
    {
     "name": "stdout",
     "output_type": "stream",
     "text": [
      "Correlation: -0.04\n"
     ]
    }
   ],
   "source": [
    "x_values=merge_hdi['Population Size']\n",
    "y_values = merge_hdi['HDI']\n",
    "plt.scatter(x_values, y_values)\n",
    "plt.xlabel(\"Population Size\")\n",
    "plt.ylabel(\"Human Development Index\")\n",
    "plt.show()\n",
    "print(f\"Correlation: {round(st.pearsonr(x_values,y_values)[0],2)}\")"
   ]
  },
  {
   "cell_type": "code",
   "execution_count": 119,
   "metadata": {},
   "outputs": [],
   "source": [
    "# Look within first 95% quantile\n",
    "top_95 = merge_hdi.loc[merge_hdi['Population Size']<merge_hdi['Population Size'].quantile(0.95), :]"
   ]
  },
  {
   "cell_type": "code",
   "execution_count": 120,
   "metadata": {},
   "outputs": [
    {
     "data": {
      "image/png": "[encoded data removed]",
      "text/plain": [
       "<Figure size 432x288 with 1 Axes>"
      ]
     },
     "metadata": {
      "needs_background": "light"
     },
     "output_type": "display_data"
    },
    {
     "name": "stdout",
     "output_type": "stream",
     "text": [
      "Correlation: 0.78\n"
     ]
    }
   ],
   "source": [
    "x_values=top_95['Population Size']\n",
    "y_values=top_95['Total Food Produced']\n",
    "plt.scatter(x_values, y_values)\n",
    "plt.xlabel(\"Population Size\")\n",
    "plt.ylabel(\"Total Food Produced\")\n",
    "plt.show()\n",
    "print(f\"Correlation: {round(st.pearsonr(x_values,y_values)[0],2)}\")"
   ]
  },
  {
   "cell_type": "markdown",
   "metadata": {},
   "source": [
    "### Correlation Analysis with GDP Per Capita and HDI\n",
    "Should be correlated"
   ]
  },
  {
   "cell_type": "code",
   "execution_count": 121,
   "metadata": {},
   "outputs": [],
   "source": [
    "x_values = merge_hdi['GDP Per Capita']\n",
    "y_values = merge_hdi['HDI']"
   ]
  },
  {
   "cell_type": "code",
   "execution_count": 122,
   "metadata": {},
   "outputs": [
    {
     "data": {
      "image/png": "[encoded data removed]",
      "text/plain": [
       "<Figure size 432x288 with 1 Axes>"
      ]
     },
     "metadata": {
      "needs_background": "light"
     },
     "output_type": "display_data"
    },
    {
     "name": "stdout",
     "output_type": "stream",
     "text": [
      "Correlation: 0.7\n"
     ]
    }
   ],
   "source": [
    "plt.scatter(x_values,y_values)\n",
    "plt.xlabel(\"GDP Per Capita\")\n",
    "plt.ylabel(\"Human Development Index\")\n",
    "plt.show()\n",
    "print(f\"Correlation: {round(st.pearsonr(x_values,y_values)[0],2)}\")"
   ]
  },
  {
   "cell_type": "markdown",
   "metadata": {},
   "source": [
    "Strong Correlation; graph looks like it is exponential. At some point in gdp, the HDI index starts to level slow down in it's rate of increase."
   ]
  },
  {
   "cell_type": "markdown",
   "metadata": {},
   "source": [
    "#### Group Data by the 4 levels of HDI\n",
    "- Low human development (0-.55)\n",
    "- Medium human development (.55-.70)\n",
    "- High human development (.70-80)\n",
    "- Very high human development (.80-1.0)"
   ]
  },
  {
   "cell_type": "code",
   "execution_count": 123,
   "metadata": {},
   "outputs": [],
   "source": [
    "low_hdi = merge_hdi.loc[merge_hdi['HDI']<= 0.55, :]\n",
    "med_hdi = merge_hdi.loc[(merge_hdi['HDI']>0.55)&(merge_hdi['HDI']<=0.7), :]\n",
    "high_hdi = merge_hdi.loc[(merge_hdi['HDI']>0.7)&(merge_hdi['HDI']<=0.8), :]\n",
    "very_high_hdi = merge_hdi.loc[(merge_hdi['HDI']>0.8), :]"
   ]
  },
  {
   "cell_type": "code",
   "execution_count": 124,
   "metadata": {},
   "outputs": [
    {
     "name": "stdout",
     "output_type": "stream",
     "text": [
      "Low:\n",
      "Country                            Uganda\n",
      "Total Food Produced           474478141.0\n",
      "GDP Per Capita                3219.701128\n",
      "Population Size               206139587.0\n",
      "Regions                Sub-Saharan Africa\n",
      "HDI                                 0.546\n",
      "dtype: object\n",
      "\n",
      "Medium:\n",
      "Country                          Zimbabwe\n",
      "Total Food Produced          2472700614.0\n",
      "GDP Per Capita                7198.335884\n",
      "Population Size              1380004385.0\n",
      "Regions                Sub-Saharan Africa\n",
      "HDI                                 0.686\n",
      "dtype: object\n",
      "\n",
      "High:\n",
      "Country                        Uzbekistan\n",
      "Total Food Produced          8615244017.0\n",
      "GDP Per Capita               15285.940487\n",
      "Population Size              1411100000.0\n",
      "Regions                Sub-Saharan Africa\n",
      "HDI                                 0.796\n",
      "dtype: object\n",
      "\n",
      "Very High:\n",
      "Country                           Uruguay\n",
      "Total Food Produced           416975630.0\n",
      "GDP Per Capita              116356.158037\n",
      "Population Size               126261000.0\n",
      "Regions                Sub-Saharan Africa\n",
      "HDI                                 0.957\n",
      "dtype: object\n"
     ]
    }
   ],
   "source": [
    "print(f\"Low:\\n{low_hdi.max()}\")\n",
    "print(f\"\\nMedium:\\n{med_hdi.max()}\")\n",
    "print(f\"\\nHigh:\\n{high_hdi.max()}\")\n",
    "print(f\"\\nVery High:\\n{very_high_hdi.max()}\")"
   ]
  },
  {
   "cell_type": "code",
   "execution_count": 125,
   "metadata": {},
   "outputs": [
    {
     "name": "stderr",
     "output_type": "stream",
     "text": [
      "C:\\Users\\krist\\AppData\\Local\\Temp\\ipykernel_16120\\1411921957.py:2: SettingWithCopyWarning: \n",
      "A value is trying to be set on a copy of a slice from a DataFrame.\n",
      "Try using .loc[row_indexer,col_indexer] = value instead\n",
      "\n",
      "See the caveats in the documentation: https://pandas.pydata.org/pandas-docs/stable/user_guide/indexing.html#returning-a-view-versus-a-copy\n",
      "  low_hdi['HDI Range'] = ['Low' for x in range(0, len(low_hdi))]\n",
      "C:\\Users\\krist\\AppData\\Local\\Temp\\ipykernel_16120\\1411921957.py:3: SettingWithCopyWarning: \n",
      "A value is trying to be set on a copy of a slice from a DataFrame.\n",
      "Try using .loc[row_indexer,col_indexer] = value instead\n",
      "\n",
      "See the caveats in the documentation: https://pandas.pydata.org/pandas-docs/stable/user_guide/indexing.html#returning-a-view-versus-a-copy\n",
      "  med_hdi['HDI Range'] = [\"Medium\" for x in range(0, len(med_hdi))]\n",
      "C:\\Users\\krist\\AppData\\Local\\Temp\\ipykernel_16120\\1411921957.py:4: SettingWithCopyWarning: \n",
      "A value is trying to be set on a copy of a slice from a DataFrame.\n",
      "Try using .loc[row_indexer,col_indexer] = value instead\n",
      "\n",
      "See the caveats in the documentation: https://pandas.pydata.org/pandas-docs/stable/user_guide/indexing.html#returning-a-view-versus-a-copy\n",
      "  high_hdi['HDI Range'] = [\"High\" for x in range(0, len(high_hdi))]\n",
      "C:\\Users\\krist\\AppData\\Local\\Temp\\ipykernel_16120\\1411921957.py:5: SettingWithCopyWarning: \n",
      "A value is trying to be set on a copy of a slice from a DataFrame.\n",
      "Try using .loc[row_indexer,col_indexer] = value instead\n",
      "\n",
      "See the caveats in the documentation: https://pandas.pydata.org/pandas-docs/stable/user_guide/indexing.html#returning-a-view-versus-a-copy\n",
      "  very_high_hdi[\"HDI Range\"] = [\"Very High\" for x in range(0, len(very_high_hdi))]\n"
     ]
    },
    {
     "data": {
      "text/plain": [
       "150"
      ]
     },
     "execution_count": 125,
     "metadata": {},
     "output_type": "execute_result"
    }
   ],
   "source": [
    "# Create a column with it's value\n",
    "low_hdi['HDI Range'] = ['Low' for x in range(0, len(low_hdi))]\n",
    "med_hdi['HDI Range'] = [\"Medium\" for x in range(0, len(med_hdi))]\n",
    "high_hdi['HDI Range'] = [\"High\" for x in range(0, len(high_hdi))]\n",
    "very_high_hdi[\"HDI Range\"] = [\"Very High\" for x in range(0, len(very_high_hdi))]\n",
    "hdi_range_df = pd.concat([low_hdi, med_hdi, high_hdi, very_high_hdi], axis = 0)\n",
    "len(hdi_range_df)"
   ]
  },
  {
   "cell_type": "markdown",
   "metadata": {},
   "source": [
    "Complete Correlation analyses on all 4 regions"
   ]
  },
  {
   "cell_type": "code",
   "execution_count": 173,
   "metadata": {},
   "outputs": [
    {
     "name": "stderr",
     "output_type": "stream",
     "text": [
      "c:\\Users\\krist\\anaconda3\\lib\\site-packages\\seaborn\\_decorators.py:36: FutureWarning: Pass the following variables as keyword args: x, y. From version 0.12, the only valid positional argument will be `data`, and passing other arguments without an explicit keyword will result in an error or misinterpretation.\n",
      "  warnings.warn(\n"
     ]
    },
    {
     "data": {
      "image/png": "[encoded data removed]",
      "text/plain": [
       "<Figure size 444.5x360 with 1 Axes>"
      ]
     },
     "metadata": {
      "needs_background": "light"
     },
     "output_type": "display_data"
    }
   ],
   "source": [
    "import seaborn as sns\n",
    "sns.lmplot(\"Total Food Produced\", \"GDP Per Capita\", data=hdi_range_df, hue=\"HDI Range\", fit_reg=False).set(\n",
    "    title=f\"Relationship between Total Food Produced and GDP Per Capita\\n(All Countries)\\nCorrelation:{round(st.pearsonr(x_values,y_values)[0],2)}\")\n",
    "plt.savefig(\"./Question4-Images/food_gdp_hdi_correlation.png\")\n",
    "plt.show()"
   ]
  },
  {
   "cell_type": "code",
   "execution_count": 127,
   "metadata": {},
   "outputs": [
    {
     "name": "stderr",
     "output_type": "stream",
     "text": [
      "c:\\Users\\krist\\anaconda3\\lib\\site-packages\\seaborn\\_decorators.py:36: FutureWarning: Pass the following variables as keyword args: x, y. From version 0.12, the only valid positional argument will be `data`, and passing other arguments without an explicit keyword will result in an error or misinterpretation.\n",
      "  warnings.warn(\n"
     ]
    },
    {
     "data": {
      "image/png": "[encoded data removed]",
      "text/plain": [
       "<Figure size 444.5x360 with 1 Axes>"
      ]
     },
     "metadata": {
      "needs_background": "light"
     },
     "output_type": "display_data"
    }
   ],
   "source": [
    "# Population\n",
    "sns.lmplot(\"Population Size\",\"Total Food Produced\", data=hdi_range_df, hue=\"HDI Range\", fit_reg=False)\n",
    "plt.show()"
   ]
  },
  {
   "cell_type": "code",
   "execution_count": 128,
   "metadata": {},
   "outputs": [
    {
     "data": {
      "image/png": "[encoded data removed]",
      "text/plain": [
       "<Figure size 432x288 with 1 Axes>"
      ]
     },
     "metadata": {
      "needs_background": "light"
     },
     "output_type": "display_data"
    },
    {
     "name": "stdout",
     "output_type": "stream",
     "text": [
      "Correlation: 0.19\n"
     ]
    }
   ],
   "source": [
    "low_x_values = low_hdi['Total Food Produced']\n",
    "low_y_values = low_hdi['GDP Per Capita']\n",
    "plt.scatter(low_x_values,low_y_values)\n",
    "plt.ylabel(\"GDP Per Capita\")\n",
    "plt.xlabel(\"Total Food Produced\")\n",
    "plt.show()\n",
    "print(f\"Correlation: {round(st.pearsonr(low_x_values,low_y_values)[0],2)}\")"
   ]
  },
  {
   "cell_type": "code",
   "execution_count": 129,
   "metadata": {},
   "outputs": [
    {
     "data": {
      "image/png": "[encoded data removed]",
      "text/plain": [
       "<Figure size 432x288 with 1 Axes>"
      ]
     },
     "metadata": {
      "needs_background": "light"
     },
     "output_type": "display_data"
    },
    {
     "name": "stdout",
     "output_type": "stream",
     "text": [
      "Correlation: -0.19\n"
     ]
    }
   ],
   "source": [
    "med_x_values = med_hdi['Total Food Produced']\n",
    "med_y_values = med_hdi['GDP Per Capita']\n",
    "plt.scatter(med_x_values,med_y_values)\n",
    "plt.ylabel(\"GDP Per Capita\")\n",
    "plt.xlabel(\"Total Food Produced\")\n",
    "plt.show()\n",
    "print(f\"Correlation: {round(st.pearsonr(med_x_values,med_y_values)[0],2)}\")"
   ]
  },
  {
   "cell_type": "code",
   "execution_count": 130,
   "metadata": {},
   "outputs": [
    {
     "data": {
      "image/png": "[encoded data removed]",
      "text/plain": [
       "<Figure size 432x288 with 1 Axes>"
      ]
     },
     "metadata": {
      "needs_background": "light"
     },
     "output_type": "display_data"
    },
    {
     "name": "stdout",
     "output_type": "stream",
     "text": [
      "Correlation: 0.17\n"
     ]
    }
   ],
   "source": [
    "high_x_values = high_hdi['Total Food Produced']\n",
    "high_y_values = high_hdi['GDP Per Capita']\n",
    "plt.scatter(high_x_values,high_y_values)\n",
    "plt.ylabel(\"GDP Per Capita\")\n",
    "plt.xlabel(\"Total Food Produced\")\n",
    "plt.show()\n",
    "print(f\"Correlation: {round(st.pearsonr(high_x_values,high_y_values)[0],2)}\")"
   ]
  },
  {
   "cell_type": "code",
   "execution_count": 131,
   "metadata": {},
   "outputs": [
    {
     "data": {
      "image/png": "[encoded data removed]",
      "text/plain": [
       "<Figure size 432x288 with 1 Axes>"
      ]
     },
     "metadata": {
      "needs_background": "light"
     },
     "output_type": "display_data"
    },
    {
     "name": "stdout",
     "output_type": "stream",
     "text": [
      "Correlation: -0.11\n"
     ]
    }
   ],
   "source": [
    "very_high_x_values = very_high_hdi['Total Food Produced']\n",
    "very_high_y_values = very_high_hdi['GDP Per Capita']\n",
    "plt.scatter(very_high_x_values,very_high_y_values)\n",
    "plt.ylabel(\"GDP Per Capita\")\n",
    "plt.xlabel(\"Total Food Produced\")\n",
    "plt.show()\n",
    "print(f\"Correlation: {round(st.pearsonr(very_high_x_values,very_high_y_values)[0],2)}\")"
   ]
  },
  {
   "cell_type": "code",
   "execution_count": 132,
   "metadata": {},
   "outputs": [],
   "source": [
    "# Create a Scatterplot Function\n",
    "def show_scat(x_values, y_values):\n",
    "    plt.scatter(x_values,y_values)\n",
    "    plt.xlabel(\"GDP Per Capita\")\n",
    "    plt.ylabel(\"Human Development Index\")\n",
    "    plt.show()\n",
    "    print(f\"Correlation: {round(st.pearsonr(x_values,y_values)[0],2)}\")"
   ]
  },
  {
   "cell_type": "code",
   "execution_count": 133,
   "metadata": {},
   "outputs": [
    {
     "data": {
      "image/png": "[encoded data removed]",
      "text/plain": [
       "<Figure size 432x288 with 1 Axes>"
      ]
     },
     "metadata": {
      "needs_background": "light"
     },
     "output_type": "display_data"
    },
    {
     "name": "stdout",
     "output_type": "stream",
     "text": [
      "Correlation: 0.07\n"
     ]
    }
   ],
   "source": [
    "show_scat(low_hdi['Total Food Produced'], low_hdi[\"HDI\"])"
   ]
  }
 ],
 "metadata": {
  "kernelspec": {
   "display_name": "Python 3.9.12 ('base')",
   "language": "python",
   "name": "python3"
  },
  "language_info": {
   "codemirror_mode": {
    "name": "ipython",
    "version": 3
   },
   "file_extension": ".py",
   "mimetype": "text/x-python",
   "name": "python",
   "nbconvert_exporter": "python",
   "pygments_lexer": "ipython3",
   "version": "3.9.12"
  },
  "orig_nbformat": 4,
  "vscode": {
   "interpreter": {
    "hash": "fd5f0602b361fcd80b6e43c9db32d5ff96b182a40640908c77b502a93aa9387e"
   }
  }
 },
 "nbformat": 4,
 "nbformat_minor": 2
}
