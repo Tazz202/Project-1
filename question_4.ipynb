{
 "cells": [
  {
   "cell_type": "markdown",
   "metadata": {},
   "source": [
    "#### Question 4\n",
    "### Is there any relationship between the food abundancy and economic wealth?\n",
    "In this analysis, we will be analyzing the correlation between GDP per capita and food abundance. "
   ]
  },
  {
   "cell_type": "code",
   "execution_count": 1,
   "metadata": {},
   "outputs": [],
   "source": [
    "# Import pandas library\n",
    "import pandas as pd\n",
    "import matplotlib.pyplot as plt\n",
    "import scipy.stats as st\n",
    "import seaborn as sns\n"
   ]
  },
  {
   "cell_type": "code",
   "execution_count": 2,
   "metadata": {},
   "outputs": [
    {
     "data": {
      "text/html": [
       "<div>\n",
       "<style scoped>\n",
       "    .dataframe tbody tr th:only-of-type {\n",
       "        vertical-align: middle;\n",
       "    }\n",
       "\n",
       "    .dataframe tbody tr th {\n",
       "        vertical-align: top;\n",
       "    }\n",
       "\n",
       "    .dataframe thead th {\n",
       "        text-align: right;\n",
       "    }\n",
       "</style>\n",
       "<table border=\"1\" class=\"dataframe\">\n",
       "  <thead>\n",
       "    <tr style=\"text-align: right;\">\n",
       "      <th></th>\n",
       "      <th>Country</th>\n",
       "      <th>Year</th>\n",
       "      <th>Value</th>\n",
       "      <th>Population Size in Millions</th>\n",
       "      <th>2020 GDP in USD</th>\n",
       "      <th>GDP Per Capita</th>\n",
       "      <th>Production in Millions</th>\n",
       "    </tr>\n",
       "  </thead>\n",
       "  <tbody>\n",
       "    <tr>\n",
       "      <th>0</th>\n",
       "      <td>Afghanistan</td>\n",
       "      <td>2020</td>\n",
       "      <td>54771898.0</td>\n",
       "      <td>3.892834</td>\n",
       "      <td>2.011614e+10</td>\n",
       "      <td>516.747871</td>\n",
       "      <td>5.477190</td>\n",
       "    </tr>\n",
       "    <tr>\n",
       "      <th>1</th>\n",
       "      <td>Albania</td>\n",
       "      <td>2020</td>\n",
       "      <td>12904896.0</td>\n",
       "      <td>0.283785</td>\n",
       "      <td>1.513187e+10</td>\n",
       "      <td>5332.160475</td>\n",
       "      <td>1.290490</td>\n",
       "    </tr>\n",
       "    <tr>\n",
       "      <th>2</th>\n",
       "      <td>Algeria</td>\n",
       "      <td>2020</td>\n",
       "      <td>201992285.0</td>\n",
       "      <td>4.385104</td>\n",
       "      <td>1.450092e+11</td>\n",
       "      <td>3306.858208</td>\n",
       "      <td>20.199229</td>\n",
       "    </tr>\n",
       "    <tr>\n",
       "      <th>3</th>\n",
       "      <td>Angola</td>\n",
       "      <td>2020</td>\n",
       "      <td>84297733.0</td>\n",
       "      <td>3.286627</td>\n",
       "      <td>5.361907e+10</td>\n",
       "      <td>1631.431691</td>\n",
       "      <td>8.429773</td>\n",
       "    </tr>\n",
       "    <tr>\n",
       "      <th>4</th>\n",
       "      <td>Antigua and Barbuda</td>\n",
       "      <td>2020</td>\n",
       "      <td>215545.0</td>\n",
       "      <td>0.009793</td>\n",
       "      <td>1.370281e+09</td>\n",
       "      <td>13992.744480</td>\n",
       "      <td>0.021555</td>\n",
       "    </tr>\n",
       "  </tbody>\n",
       "</table>\n",
       "</div>"
      ],
      "text/plain": [
       "               Country  Year        Value  Population Size in Millions  \\\n",
       "0          Afghanistan  2020   54771898.0                     3.892834   \n",
       "1              Albania  2020   12904896.0                     0.283785   \n",
       "2              Algeria  2020  201992285.0                     4.385104   \n",
       "3               Angola  2020   84297733.0                     3.286627   \n",
       "4  Antigua and Barbuda  2020     215545.0                     0.009793   \n",
       "\n",
       "   2020 GDP in USD  GDP Per Capita  Production in Millions  \n",
       "0     2.011614e+10      516.747871                5.477190  \n",
       "1     1.513187e+10     5332.160475                1.290490  \n",
       "2     1.450092e+11     3306.858208               20.199229  \n",
       "3     5.361907e+10     1631.431691                8.429773  \n",
       "4     1.370281e+09    13992.744480                0.021555  "
      ]
     },
     "execution_count": 2,
     "metadata": {},
     "output_type": "execute_result"
    }
   ],
   "source": [
    "df = pd.read_csv(\"./Resources/merged_data.csv\")\n",
    "df.head()"
   ]
  },
  {
   "cell_type": "code",
   "execution_count": 3,
   "metadata": {},
   "outputs": [
    {
     "data": {
      "text/html": [
       "<div>\n",
       "<style scoped>\n",
       "    .dataframe tbody tr th:only-of-type {\n",
       "        vertical-align: middle;\n",
       "    }\n",
       "\n",
       "    .dataframe tbody tr th {\n",
       "        vertical-align: top;\n",
       "    }\n",
       "\n",
       "    .dataframe thead th {\n",
       "        text-align: right;\n",
       "    }\n",
       "</style>\n",
       "<table border=\"1\" class=\"dataframe\">\n",
       "  <thead>\n",
       "    <tr style=\"text-align: right;\">\n",
       "      <th></th>\n",
       "      <th>Country</th>\n",
       "      <th>Code</th>\n",
       "      <th>Year</th>\n",
       "      <th>Regions</th>\n",
       "    </tr>\n",
       "  </thead>\n",
       "  <tbody>\n",
       "    <tr>\n",
       "      <th>0</th>\n",
       "      <td>Afghanistan</td>\n",
       "      <td>AFG</td>\n",
       "      <td>2017</td>\n",
       "      <td>South Asia</td>\n",
       "    </tr>\n",
       "    <tr>\n",
       "      <th>1</th>\n",
       "      <td>Albania</td>\n",
       "      <td>ALB</td>\n",
       "      <td>2017</td>\n",
       "      <td>Europe and Central Asia</td>\n",
       "    </tr>\n",
       "    <tr>\n",
       "      <th>2</th>\n",
       "      <td>Algeria</td>\n",
       "      <td>DZA</td>\n",
       "      <td>2017</td>\n",
       "      <td>Middle East and North Africa</td>\n",
       "    </tr>\n",
       "    <tr>\n",
       "      <th>3</th>\n",
       "      <td>American Samoa</td>\n",
       "      <td>ASM</td>\n",
       "      <td>2017</td>\n",
       "      <td>East Asia and Pacific</td>\n",
       "    </tr>\n",
       "    <tr>\n",
       "      <th>4</th>\n",
       "      <td>Andorra</td>\n",
       "      <td>AND</td>\n",
       "      <td>2017</td>\n",
       "      <td>Europe and Central Asia</td>\n",
       "    </tr>\n",
       "  </tbody>\n",
       "</table>\n",
       "</div>"
      ],
      "text/plain": [
       "          Country Code  Year                       Regions\n",
       "0     Afghanistan  AFG  2017                    South Asia\n",
       "1         Albania  ALB  2017       Europe and Central Asia\n",
       "2         Algeria  DZA  2017  Middle East and North Africa\n",
       "3  American Samoa  ASM  2017         East Asia and Pacific\n",
       "4         Andorra  AND  2017       Europe and Central Asia"
      ]
     },
     "execution_count": 3,
     "metadata": {},
     "output_type": "execute_result"
    }
   ],
   "source": [
    "regions_df = pd.read_csv(\"./Resources/world-regions.csv\")\n",
    "regions_df = regions_df.rename(columns={\"Entity\": \"Country\", \"World Region according to the World Bank\":\"Regions\"})\n",
    "regions_df.head()"
   ]
  },
  {
   "cell_type": "code",
   "execution_count": 4,
   "metadata": {},
   "outputs": [
    {
     "data": {
      "text/html": [
       "<div>\n",
       "<style scoped>\n",
       "    .dataframe tbody tr th:only-of-type {\n",
       "        vertical-align: middle;\n",
       "    }\n",
       "\n",
       "    .dataframe tbody tr th {\n",
       "        vertical-align: top;\n",
       "    }\n",
       "\n",
       "    .dataframe thead th {\n",
       "        text-align: right;\n",
       "    }\n",
       "</style>\n",
       "<table border=\"1\" class=\"dataframe\">\n",
       "  <thead>\n",
       "    <tr style=\"text-align: right;\">\n",
       "      <th></th>\n",
       "      <th>Country</th>\n",
       "      <th>Year</th>\n",
       "      <th>Value</th>\n",
       "      <th>Population Size in Millions</th>\n",
       "      <th>2020 GDP in USD</th>\n",
       "      <th>GDP Per Capita</th>\n",
       "      <th>Production in Millions</th>\n",
       "      <th>Regions</th>\n",
       "    </tr>\n",
       "  </thead>\n",
       "  <tbody>\n",
       "    <tr>\n",
       "      <th>0</th>\n",
       "      <td>Afghanistan</td>\n",
       "      <td>2020</td>\n",
       "      <td>54771898.0</td>\n",
       "      <td>3.892834</td>\n",
       "      <td>2.011614e+10</td>\n",
       "      <td>516.747871</td>\n",
       "      <td>5.477190</td>\n",
       "      <td>South Asia</td>\n",
       "    </tr>\n",
       "    <tr>\n",
       "      <th>1</th>\n",
       "      <td>Albania</td>\n",
       "      <td>2020</td>\n",
       "      <td>12904896.0</td>\n",
       "      <td>0.283785</td>\n",
       "      <td>1.513187e+10</td>\n",
       "      <td>5332.160475</td>\n",
       "      <td>1.290490</td>\n",
       "      <td>Europe and Central Asia</td>\n",
       "    </tr>\n",
       "    <tr>\n",
       "      <th>2</th>\n",
       "      <td>Algeria</td>\n",
       "      <td>2020</td>\n",
       "      <td>201992285.0</td>\n",
       "      <td>4.385104</td>\n",
       "      <td>1.450092e+11</td>\n",
       "      <td>3306.858208</td>\n",
       "      <td>20.199229</td>\n",
       "      <td>Middle East and North Africa</td>\n",
       "    </tr>\n",
       "    <tr>\n",
       "      <th>3</th>\n",
       "      <td>Angola</td>\n",
       "      <td>2020</td>\n",
       "      <td>84297733.0</td>\n",
       "      <td>3.286627</td>\n",
       "      <td>5.361907e+10</td>\n",
       "      <td>1631.431691</td>\n",
       "      <td>8.429773</td>\n",
       "      <td>Sub-Saharan Africa</td>\n",
       "    </tr>\n",
       "    <tr>\n",
       "      <th>4</th>\n",
       "      <td>Antigua and Barbuda</td>\n",
       "      <td>2020</td>\n",
       "      <td>215545.0</td>\n",
       "      <td>0.009793</td>\n",
       "      <td>1.370281e+09</td>\n",
       "      <td>13992.744480</td>\n",
       "      <td>0.021555</td>\n",
       "      <td>Latin America and Caribbean</td>\n",
       "    </tr>\n",
       "    <tr>\n",
       "      <th>...</th>\n",
       "      <td>...</td>\n",
       "      <td>...</td>\n",
       "      <td>...</td>\n",
       "      <td>...</td>\n",
       "      <td>...</td>\n",
       "      <td>...</td>\n",
       "      <td>...</td>\n",
       "      <td>...</td>\n",
       "    </tr>\n",
       "    <tr>\n",
       "      <th>155</th>\n",
       "      <td>Uruguay</td>\n",
       "      <td>2020</td>\n",
       "      <td>65533304.0</td>\n",
       "      <td>0.347373</td>\n",
       "      <td>5.356076e+10</td>\n",
       "      <td>15418.815309</td>\n",
       "      <td>6.553330</td>\n",
       "      <td>Latin America and Caribbean</td>\n",
       "    </tr>\n",
       "    <tr>\n",
       "      <th>156</th>\n",
       "      <td>Uzbekistan</td>\n",
       "      <td>2020</td>\n",
       "      <td>127834310.0</td>\n",
       "      <td>3.423205</td>\n",
       "      <td>5.989431e+10</td>\n",
       "      <td>1749.655815</td>\n",
       "      <td>12.783431</td>\n",
       "      <td>Europe and Central Asia</td>\n",
       "    </tr>\n",
       "    <tr>\n",
       "      <th>157</th>\n",
       "      <td>Vanuatu</td>\n",
       "      <td>2020</td>\n",
       "      <td>1115324.0</td>\n",
       "      <td>0.030715</td>\n",
       "      <td>8.968279e+08</td>\n",
       "      <td>2919.836800</td>\n",
       "      <td>0.111532</td>\n",
       "      <td>East Asia and Pacific</td>\n",
       "    </tr>\n",
       "    <tr>\n",
       "      <th>158</th>\n",
       "      <td>Zambia</td>\n",
       "      <td>2020</td>\n",
       "      <td>62945959.0</td>\n",
       "      <td>1.838396</td>\n",
       "      <td>1.811063e+10</td>\n",
       "      <td>985.132436</td>\n",
       "      <td>6.294596</td>\n",
       "      <td>Sub-Saharan Africa</td>\n",
       "    </tr>\n",
       "    <tr>\n",
       "      <th>159</th>\n",
       "      <td>Zimbabwe</td>\n",
       "      <td>2020</td>\n",
       "      <td>25785265.0</td>\n",
       "      <td>1.486293</td>\n",
       "      <td>1.805117e+10</td>\n",
       "      <td>1214.509820</td>\n",
       "      <td>2.578527</td>\n",
       "      <td>Sub-Saharan Africa</td>\n",
       "    </tr>\n",
       "  </tbody>\n",
       "</table>\n",
       "<p>160 rows × 8 columns</p>\n",
       "</div>"
      ],
      "text/plain": [
       "                 Country  Year        Value  Population Size in Millions  \\\n",
       "0            Afghanistan  2020   54771898.0                     3.892834   \n",
       "1                Albania  2020   12904896.0                     0.283785   \n",
       "2                Algeria  2020  201992285.0                     4.385104   \n",
       "3                 Angola  2020   84297733.0                     3.286627   \n",
       "4    Antigua and Barbuda  2020     215545.0                     0.009793   \n",
       "..                   ...   ...          ...                          ...   \n",
       "155              Uruguay  2020   65533304.0                     0.347373   \n",
       "156           Uzbekistan  2020  127834310.0                     3.423205   \n",
       "157              Vanuatu  2020    1115324.0                     0.030715   \n",
       "158               Zambia  2020   62945959.0                     1.838396   \n",
       "159             Zimbabwe  2020   25785265.0                     1.486293   \n",
       "\n",
       "     2020 GDP in USD  GDP Per Capita  Production in Millions  \\\n",
       "0       2.011614e+10      516.747871                5.477190   \n",
       "1       1.513187e+10     5332.160475                1.290490   \n",
       "2       1.450092e+11     3306.858208               20.199229   \n",
       "3       5.361907e+10     1631.431691                8.429773   \n",
       "4       1.370281e+09    13992.744480                0.021555   \n",
       "..               ...             ...                     ...   \n",
       "155     5.356076e+10    15418.815309                6.553330   \n",
       "156     5.989431e+10     1749.655815               12.783431   \n",
       "157     8.968279e+08     2919.836800                0.111532   \n",
       "158     1.811063e+10      985.132436                6.294596   \n",
       "159     1.805117e+10     1214.509820                2.578527   \n",
       "\n",
       "                          Regions  \n",
       "0                      South Asia  \n",
       "1         Europe and Central Asia  \n",
       "2    Middle East and North Africa  \n",
       "3              Sub-Saharan Africa  \n",
       "4     Latin America and Caribbean  \n",
       "..                            ...  \n",
       "155   Latin America and Caribbean  \n",
       "156       Europe and Central Asia  \n",
       "157         East Asia and Pacific  \n",
       "158            Sub-Saharan Africa  \n",
       "159            Sub-Saharan Africa  \n",
       "\n",
       "[160 rows x 8 columns]"
      ]
     },
     "execution_count": 4,
     "metadata": {},
     "output_type": "execute_result"
    }
   ],
   "source": [
    "# Merge regions and country data sets\n",
    "merged = pd.merge(df, regions_df[[\"Country\", \"Regions\"]], on=\"Country\")\n",
    "merged"
   ]
  },
  {
   "cell_type": "code",
   "execution_count": 5,
   "metadata": {},
   "outputs": [
    {
     "data": {
      "text/plain": [
       "Country                        160\n",
       "Year                           160\n",
       "Value                          160\n",
       "Population Size in Millions    160\n",
       "2020 GDP in USD                157\n",
       "GDP Per Capita                 157\n",
       "Production in Millions         160\n",
       "Regions                        160\n",
       "dtype: int64"
      ]
     },
     "execution_count": 5,
     "metadata": {},
     "output_type": "execute_result"
    }
   ],
   "source": [
    "# Check missing data\n",
    "merged.count()"
   ]
  },
  {
   "cell_type": "code",
   "execution_count": 6,
   "metadata": {},
   "outputs": [
    {
     "data": {
      "text/plain": [
       "Country                        157\n",
       "Year                           157\n",
       "Value                          157\n",
       "Population Size in Millions    157\n",
       "2020 GDP in USD                157\n",
       "GDP Per Capita                 157\n",
       "Production in Millions         157\n",
       "Regions                        157\n",
       "dtype: int64"
      ]
     },
     "execution_count": 6,
     "metadata": {},
     "output_type": "execute_result"
    }
   ],
   "source": [
    "# Drop Missing Values\n",
    "no_missing = merged.dropna(how=\"any\")\n",
    "no_missing.count()"
   ]
  },
  {
   "cell_type": "markdown",
   "metadata": {},
   "source": [
    "Food abundance can be defined as total amount of live stock and crop produced per country."
   ]
  },
  {
   "cell_type": "code",
   "execution_count": 7,
   "metadata": {},
   "outputs": [],
   "source": [
    "# Remove World from dataset\n",
    "no_world = no_missing.loc[no_missing['Country']!= \"World\",:]"
   ]
  },
  {
   "cell_type": "code",
   "execution_count": 8,
   "metadata": {},
   "outputs": [
    {
     "data": {
      "text/html": [
       "<div>\n",
       "<style scoped>\n",
       "    .dataframe tbody tr th:only-of-type {\n",
       "        vertical-align: middle;\n",
       "    }\n",
       "\n",
       "    .dataframe tbody tr th {\n",
       "        vertical-align: top;\n",
       "    }\n",
       "\n",
       "    .dataframe thead th {\n",
       "        text-align: right;\n",
       "    }\n",
       "</style>\n",
       "<table border=\"1\" class=\"dataframe\">\n",
       "  <thead>\n",
       "    <tr style=\"text-align: right;\">\n",
       "      <th></th>\n",
       "      <th>Country</th>\n",
       "      <th>Total Food Produced (millions)</th>\n",
       "    </tr>\n",
       "  </thead>\n",
       "  <tbody>\n",
       "    <tr>\n",
       "      <th>101</th>\n",
       "      <td>Nauru</td>\n",
       "      <td>0.001143</td>\n",
       "    </tr>\n",
       "    <tr>\n",
       "      <th>88</th>\n",
       "      <td>Maldives</td>\n",
       "      <td>0.001374</td>\n",
       "    </tr>\n",
       "    <tr>\n",
       "      <th>91</th>\n",
       "      <td>Marshall Islands</td>\n",
       "      <td>0.002306</td>\n",
       "    </tr>\n",
       "    <tr>\n",
       "      <th>148</th>\n",
       "      <td>Tuvalu</td>\n",
       "      <td>0.007378</td>\n",
       "    </tr>\n",
       "    <tr>\n",
       "      <th>129</th>\n",
       "      <td>Seychelles</td>\n",
       "      <td>0.013416</td>\n",
       "    </tr>\n",
       "    <tr>\n",
       "      <th>...</th>\n",
       "      <td>...</td>\n",
       "      <td>...</td>\n",
       "    </tr>\n",
       "    <tr>\n",
       "      <th>112</th>\n",
       "      <td>Pakistan</td>\n",
       "      <td>180.446048</td>\n",
       "    </tr>\n",
       "    <tr>\n",
       "      <th>65</th>\n",
       "      <td>India</td>\n",
       "      <td>247.270061</td>\n",
       "    </tr>\n",
       "    <tr>\n",
       "      <th>20</th>\n",
       "      <td>Brazil</td>\n",
       "      <td>288.127739</td>\n",
       "    </tr>\n",
       "    <tr>\n",
       "      <th>66</th>\n",
       "      <td>Indonesia</td>\n",
       "      <td>412.711205</td>\n",
       "    </tr>\n",
       "    <tr>\n",
       "      <th>30</th>\n",
       "      <td>China</td>\n",
       "      <td>861.524402</td>\n",
       "    </tr>\n",
       "  </tbody>\n",
       "</table>\n",
       "<p>157 rows × 2 columns</p>\n",
       "</div>"
      ],
      "text/plain": [
       "              Country  Total Food Produced (millions)\n",
       "101             Nauru                        0.001143\n",
       "88           Maldives                        0.001374\n",
       "91   Marshall Islands                        0.002306\n",
       "148            Tuvalu                        0.007378\n",
       "129        Seychelles                        0.013416\n",
       "..                ...                             ...\n",
       "112          Pakistan                      180.446048\n",
       "65              India                      247.270061\n",
       "20             Brazil                      288.127739\n",
       "66          Indonesia                      412.711205\n",
       "30              China                      861.524402\n",
       "\n",
       "[157 rows x 2 columns]"
      ]
     },
     "execution_count": 8,
     "metadata": {},
     "output_type": "execute_result"
    }
   ],
   "source": [
    "# Group by Country to find the sum of all the food per country\n",
    "grp_df = no_world.groupby([\"Country\"])\n",
    "tot_food_grp = grp_df[\"Production in Millions\"].sum()\n",
    "tot_food_df = pd.DataFrame({\"Country\": list(tot_food_grp.index), \"Total Food Produced (millions)\": list(tot_food_grp)})\n",
    "tot_food_df.sort_values(by=\"Total Food Produced (millions)\", ascending=True)"
   ]
  },
  {
   "cell_type": "code",
   "execution_count": 9,
   "metadata": {},
   "outputs": [
    {
     "data": {
      "text/html": [
       "<div>\n",
       "<style scoped>\n",
       "    .dataframe tbody tr th:only-of-type {\n",
       "        vertical-align: middle;\n",
       "    }\n",
       "\n",
       "    .dataframe tbody tr th {\n",
       "        vertical-align: top;\n",
       "    }\n",
       "\n",
       "    .dataframe thead th {\n",
       "        text-align: right;\n",
       "    }\n",
       "</style>\n",
       "<table border=\"1\" class=\"dataframe\">\n",
       "  <thead>\n",
       "    <tr style=\"text-align: right;\">\n",
       "      <th></th>\n",
       "      <th>Country</th>\n",
       "      <th>GDP Per Capita</th>\n",
       "      <th>Population Size (millions)</th>\n",
       "    </tr>\n",
       "  </thead>\n",
       "  <tbody>\n",
       "    <tr>\n",
       "      <th>23</th>\n",
       "      <td>Burundi</td>\n",
       "      <td>233.837510</td>\n",
       "      <td>1.189078</td>\n",
       "    </tr>\n",
       "    <tr>\n",
       "      <th>134</th>\n",
       "      <td>Somalia</td>\n",
       "      <td>438.255166</td>\n",
       "      <td>1.589322</td>\n",
       "    </tr>\n",
       "    <tr>\n",
       "      <th>98</th>\n",
       "      <td>Mozambique</td>\n",
       "      <td>448.843891</td>\n",
       "      <td>3.125544</td>\n",
       "    </tr>\n",
       "    <tr>\n",
       "      <th>85</th>\n",
       "      <td>Madagascar</td>\n",
       "      <td>477.613041</td>\n",
       "      <td>2.769102</td>\n",
       "    </tr>\n",
       "    <tr>\n",
       "      <th>27</th>\n",
       "      <td>Central African Republic</td>\n",
       "      <td>481.746297</td>\n",
       "      <td>0.482976</td>\n",
       "    </tr>\n",
       "    <tr>\n",
       "      <th>...</th>\n",
       "      <td>...</td>\n",
       "      <td>...</td>\n",
       "      <td>...</td>\n",
       "    </tr>\n",
       "    <tr>\n",
       "      <th>37</th>\n",
       "      <td>Denmark</td>\n",
       "      <td>61063.316430</td>\n",
       "      <td>0.583140</td>\n",
       "    </tr>\n",
       "    <tr>\n",
       "      <th>110</th>\n",
       "      <td>Norway</td>\n",
       "      <td>67329.677791</td>\n",
       "      <td>0.537948</td>\n",
       "    </tr>\n",
       "    <tr>\n",
       "      <th>68</th>\n",
       "      <td>Ireland</td>\n",
       "      <td>85422.542868</td>\n",
       "      <td>0.498567</td>\n",
       "    </tr>\n",
       "    <tr>\n",
       "      <th>141</th>\n",
       "      <td>Switzerland</td>\n",
       "      <td>87100.414821</td>\n",
       "      <td>0.863656</td>\n",
       "    </tr>\n",
       "    <tr>\n",
       "      <th>84</th>\n",
       "      <td>Luxembourg</td>\n",
       "      <td>116356.158037</td>\n",
       "      <td>0.063042</td>\n",
       "    </tr>\n",
       "  </tbody>\n",
       "</table>\n",
       "<p>157 rows × 3 columns</p>\n",
       "</div>"
      ],
      "text/plain": [
       "                      Country  GDP Per Capita  Population Size (millions)\n",
       "23                    Burundi      233.837510                    1.189078\n",
       "134                   Somalia      438.255166                    1.589322\n",
       "98                 Mozambique      448.843891                    3.125544\n",
       "85                 Madagascar      477.613041                    2.769102\n",
       "27   Central African Republic      481.746297                    0.482976\n",
       "..                        ...             ...                         ...\n",
       "37                    Denmark    61063.316430                    0.583140\n",
       "110                    Norway    67329.677791                    0.537948\n",
       "68                    Ireland    85422.542868                    0.498567\n",
       "141               Switzerland    87100.414821                    0.863656\n",
       "84                 Luxembourg   116356.158037                    0.063042\n",
       "\n",
       "[157 rows x 3 columns]"
      ]
     },
     "execution_count": 9,
     "metadata": {},
     "output_type": "execute_result"
    }
   ],
   "source": [
    "# The GDP Per Capita is calculated per country already. Therefore, we just need to find all it's values per country by taking the max\n",
    "gdp_grp = grp_df[[\"GDP Per Capita\", \"Population Size in Millions\"]].max()\n",
    "gdp_df = pd.DataFrame({\"Country\":list(gdp_grp.index), \"GDP Per Capita\": list(gdp_grp['GDP Per Capita']), \"Population Size (millions)\":list(gdp_grp['Population Size in Millions'])})\n",
    "gdp_df.sort_values(\"GDP Per Capita\")"
   ]
  },
  {
   "cell_type": "code",
   "execution_count": 10,
   "metadata": {},
   "outputs": [
    {
     "data": {
      "text/html": [
       "<div>\n",
       "<style scoped>\n",
       "    .dataframe tbody tr th:only-of-type {\n",
       "        vertical-align: middle;\n",
       "    }\n",
       "\n",
       "    .dataframe tbody tr th {\n",
       "        vertical-align: top;\n",
       "    }\n",
       "\n",
       "    .dataframe thead th {\n",
       "        text-align: right;\n",
       "    }\n",
       "</style>\n",
       "<table border=\"1\" class=\"dataframe\">\n",
       "  <thead>\n",
       "    <tr style=\"text-align: right;\">\n",
       "      <th></th>\n",
       "      <th>Country</th>\n",
       "      <th>Regions</th>\n",
       "    </tr>\n",
       "  </thead>\n",
       "  <tbody>\n",
       "    <tr>\n",
       "      <th>0</th>\n",
       "      <td>Afghanistan</td>\n",
       "      <td>South Asia</td>\n",
       "    </tr>\n",
       "    <tr>\n",
       "      <th>1</th>\n",
       "      <td>Albania</td>\n",
       "      <td>Europe and Central Asia</td>\n",
       "    </tr>\n",
       "    <tr>\n",
       "      <th>2</th>\n",
       "      <td>Algeria</td>\n",
       "      <td>Middle East and North Africa</td>\n",
       "    </tr>\n",
       "    <tr>\n",
       "      <th>3</th>\n",
       "      <td>Angola</td>\n",
       "      <td>Sub-Saharan Africa</td>\n",
       "    </tr>\n",
       "    <tr>\n",
       "      <th>4</th>\n",
       "      <td>Antigua and Barbuda</td>\n",
       "      <td>Latin America and Caribbean</td>\n",
       "    </tr>\n",
       "    <tr>\n",
       "      <th>...</th>\n",
       "      <td>...</td>\n",
       "      <td>...</td>\n",
       "    </tr>\n",
       "    <tr>\n",
       "      <th>155</th>\n",
       "      <td>Uruguay</td>\n",
       "      <td>Latin America and Caribbean</td>\n",
       "    </tr>\n",
       "    <tr>\n",
       "      <th>156</th>\n",
       "      <td>Uzbekistan</td>\n",
       "      <td>Europe and Central Asia</td>\n",
       "    </tr>\n",
       "    <tr>\n",
       "      <th>157</th>\n",
       "      <td>Vanuatu</td>\n",
       "      <td>East Asia and Pacific</td>\n",
       "    </tr>\n",
       "    <tr>\n",
       "      <th>158</th>\n",
       "      <td>Zambia</td>\n",
       "      <td>Sub-Saharan Africa</td>\n",
       "    </tr>\n",
       "    <tr>\n",
       "      <th>159</th>\n",
       "      <td>Zimbabwe</td>\n",
       "      <td>Sub-Saharan Africa</td>\n",
       "    </tr>\n",
       "  </tbody>\n",
       "</table>\n",
       "<p>160 rows × 2 columns</p>\n",
       "</div>"
      ],
      "text/plain": [
       "                 Country                       Regions\n",
       "0            Afghanistan                    South Asia\n",
       "1                Albania       Europe and Central Asia\n",
       "2                Algeria  Middle East and North Africa\n",
       "3                 Angola            Sub-Saharan Africa\n",
       "4    Antigua and Barbuda   Latin America and Caribbean\n",
       "..                   ...                           ...\n",
       "155              Uruguay   Latin America and Caribbean\n",
       "156           Uzbekistan       Europe and Central Asia\n",
       "157              Vanuatu         East Asia and Pacific\n",
       "158               Zambia            Sub-Saharan Africa\n",
       "159             Zimbabwe            Sub-Saharan Africa\n",
       "\n",
       "[160 rows x 2 columns]"
      ]
     },
     "execution_count": 10,
     "metadata": {},
     "output_type": "execute_result"
    }
   ],
   "source": [
    "dup_merged = merged[[\"Country\", \"Regions\"]].loc[merged[[\"Country\", \"Regions\"]].duplicated()==False, :]\n",
    "dup_merged\n"
   ]
  },
  {
   "cell_type": "code",
   "execution_count": 11,
   "metadata": {},
   "outputs": [
    {
     "data": {
      "text/html": [
       "<div>\n",
       "<style scoped>\n",
       "    .dataframe tbody tr th:only-of-type {\n",
       "        vertical-align: middle;\n",
       "    }\n",
       "\n",
       "    .dataframe tbody tr th {\n",
       "        vertical-align: top;\n",
       "    }\n",
       "\n",
       "    .dataframe thead th {\n",
       "        text-align: right;\n",
       "    }\n",
       "</style>\n",
       "<table border=\"1\" class=\"dataframe\">\n",
       "  <thead>\n",
       "    <tr style=\"text-align: right;\">\n",
       "      <th></th>\n",
       "      <th>Country</th>\n",
       "      <th>Total Food Produced (millions)</th>\n",
       "      <th>GDP Per Capita</th>\n",
       "      <th>Population Size (millions)</th>\n",
       "      <th>Regions</th>\n",
       "    </tr>\n",
       "  </thead>\n",
       "  <tbody>\n",
       "    <tr>\n",
       "      <th>0</th>\n",
       "      <td>Afghanistan</td>\n",
       "      <td>5.477190</td>\n",
       "      <td>516.747871</td>\n",
       "      <td>3.892834</td>\n",
       "      <td>South Asia</td>\n",
       "    </tr>\n",
       "    <tr>\n",
       "      <th>1</th>\n",
       "      <td>Albania</td>\n",
       "      <td>1.290490</td>\n",
       "      <td>5332.160475</td>\n",
       "      <td>0.283785</td>\n",
       "      <td>Europe and Central Asia</td>\n",
       "    </tr>\n",
       "    <tr>\n",
       "      <th>2</th>\n",
       "      <td>Algeria</td>\n",
       "      <td>20.199229</td>\n",
       "      <td>3306.858208</td>\n",
       "      <td>4.385104</td>\n",
       "      <td>Middle East and North Africa</td>\n",
       "    </tr>\n",
       "    <tr>\n",
       "      <th>3</th>\n",
       "      <td>Angola</td>\n",
       "      <td>8.429773</td>\n",
       "      <td>1631.431691</td>\n",
       "      <td>3.286627</td>\n",
       "      <td>Sub-Saharan Africa</td>\n",
       "    </tr>\n",
       "    <tr>\n",
       "      <th>4</th>\n",
       "      <td>Antigua and Barbuda</td>\n",
       "      <td>0.021555</td>\n",
       "      <td>13992.744480</td>\n",
       "      <td>0.009793</td>\n",
       "      <td>Latin America and Caribbean</td>\n",
       "    </tr>\n",
       "    <tr>\n",
       "      <th>...</th>\n",
       "      <td>...</td>\n",
       "      <td>...</td>\n",
       "      <td>...</td>\n",
       "      <td>...</td>\n",
       "      <td>...</td>\n",
       "    </tr>\n",
       "    <tr>\n",
       "      <th>152</th>\n",
       "      <td>Uruguay</td>\n",
       "      <td>6.553330</td>\n",
       "      <td>15418.815309</td>\n",
       "      <td>0.347373</td>\n",
       "      <td>Latin America and Caribbean</td>\n",
       "    </tr>\n",
       "    <tr>\n",
       "      <th>153</th>\n",
       "      <td>Uzbekistan</td>\n",
       "      <td>12.783431</td>\n",
       "      <td>1749.655815</td>\n",
       "      <td>3.423205</td>\n",
       "      <td>Europe and Central Asia</td>\n",
       "    </tr>\n",
       "    <tr>\n",
       "      <th>154</th>\n",
       "      <td>Vanuatu</td>\n",
       "      <td>0.111532</td>\n",
       "      <td>2919.836800</td>\n",
       "      <td>0.030715</td>\n",
       "      <td>East Asia and Pacific</td>\n",
       "    </tr>\n",
       "    <tr>\n",
       "      <th>155</th>\n",
       "      <td>Zambia</td>\n",
       "      <td>6.294596</td>\n",
       "      <td>985.132436</td>\n",
       "      <td>1.838396</td>\n",
       "      <td>Sub-Saharan Africa</td>\n",
       "    </tr>\n",
       "    <tr>\n",
       "      <th>156</th>\n",
       "      <td>Zimbabwe</td>\n",
       "      <td>2.578527</td>\n",
       "      <td>1214.509820</td>\n",
       "      <td>1.486293</td>\n",
       "      <td>Sub-Saharan Africa</td>\n",
       "    </tr>\n",
       "  </tbody>\n",
       "</table>\n",
       "<p>157 rows × 5 columns</p>\n",
       "</div>"
      ],
      "text/plain": [
       "                 Country  Total Food Produced (millions)  GDP Per Capita  \\\n",
       "0            Afghanistan                        5.477190      516.747871   \n",
       "1                Albania                        1.290490     5332.160475   \n",
       "2                Algeria                       20.199229     3306.858208   \n",
       "3                 Angola                        8.429773     1631.431691   \n",
       "4    Antigua and Barbuda                        0.021555    13992.744480   \n",
       "..                   ...                             ...             ...   \n",
       "152              Uruguay                        6.553330    15418.815309   \n",
       "153           Uzbekistan                       12.783431     1749.655815   \n",
       "154              Vanuatu                        0.111532     2919.836800   \n",
       "155               Zambia                        6.294596      985.132436   \n",
       "156             Zimbabwe                        2.578527     1214.509820   \n",
       "\n",
       "     Population Size (millions)                       Regions  \n",
       "0                      3.892834                    South Asia  \n",
       "1                      0.283785       Europe and Central Asia  \n",
       "2                      4.385104  Middle East and North Africa  \n",
       "3                      3.286627            Sub-Saharan Africa  \n",
       "4                      0.009793   Latin America and Caribbean  \n",
       "..                          ...                           ...  \n",
       "152                    0.347373   Latin America and Caribbean  \n",
       "153                    3.423205       Europe and Central Asia  \n",
       "154                    0.030715         East Asia and Pacific  \n",
       "155                    1.838396            Sub-Saharan Africa  \n",
       "156                    1.486293            Sub-Saharan Africa  \n",
       "\n",
       "[157 rows x 5 columns]"
      ]
     },
     "execution_count": 11,
     "metadata": {},
     "output_type": "execute_result"
    }
   ],
   "source": [
    "# Merge data into one\n",
    "gdp_food = pd.merge(tot_food_df, gdp_df, on=\"Country\")\n",
    "gdp_food = pd.merge(gdp_food, dup_merged, on=\"Country\")\n",
    "gdp_food"
   ]
  },
  {
   "cell_type": "markdown",
   "metadata": {},
   "source": [
    "### Total Food Produced and GDP for all countries\n",
    "Histogram of the data"
   ]
  },
  {
   "cell_type": "code",
   "execution_count": 12,
   "metadata": {},
   "outputs": [
    {
     "data": {
      "image/png": "[encoded data removed]",
      "text/plain": [
       "<Figure size 432x288 with 1 Axes>"
      ]
     },
     "metadata": {
      "needs_background": "light"
     },
     "output_type": "display_data"
    },
    {
     "name": "stdout",
     "output_type": "stream",
     "text": [
      "NormaltestResult(statistic=268.03537660810383, pvalue=6.264082835109123e-59)\n"
     ]
    }
   ],
   "source": [
    "# Total Food Histogram\n",
    "plt.hist(gdp_food['Total Food Produced (millions)'])\n",
    "plt.xlabel('Total Food Produced (millions)')\n",
    "plt.ylabel('Counts')\n",
    "plt.title(\"Histogram of the Total Food Produced\")\n",
    "plt.show()\n",
    "print(st.normaltest(gdp_food[\"Total Food Produced (millions)\"]))"
   ]
  },
  {
   "cell_type": "markdown",
   "metadata": {},
   "source": [
    "Not normal"
   ]
  },
  {
   "cell_type": "code",
   "execution_count": 13,
   "metadata": {},
   "outputs": [
    {
     "data": {
      "image/png": "[encoded data removed]",
      "text/plain": [
       "<Figure size 432x288 with 1 Axes>"
      ]
     },
     "metadata": {
      "needs_background": "light"
     },
     "output_type": "display_data"
    },
    {
     "name": "stdout",
     "output_type": "stream",
     "text": [
      "NormaltestResult(statistic=95.08074111646093, pvalue=2.2567289433758462e-21)\n"
     ]
    }
   ],
   "source": [
    "# GDP Per Capita Histogram\n",
    "plt.hist(gdp_food['GDP Per Capita'])\n",
    "plt.xlabel('GDP Per Capita')\n",
    "plt.ylabel('Counts')\n",
    "plt.title(\"Histogram of the GDP Per Capita\")\n",
    "plt.show()\n",
    "print(st.normaltest(gdp_food[\"GDP Per Capita\"]))"
   ]
  },
  {
   "cell_type": "markdown",
   "metadata": {},
   "source": [
    "Not normal."
   ]
  },
  {
   "cell_type": "markdown",
   "metadata": {},
   "source": [
    "Boxplots"
   ]
  },
  {
   "cell_type": "code",
   "execution_count": 14,
   "metadata": {},
   "outputs": [
    {
     "data": {
      "image/png": "[encoded data removed]",
      "text/plain": [
       "<Figure size 432x288 with 2 Axes>"
      ]
     },
     "metadata": {
      "needs_background": "light"
     },
     "output_type": "display_data"
    }
   ],
   "source": [
    "fig1, ax1 = plt.subplots(1, 2)\n",
    "ax1[0].set_title(\"Boxplot: Total Food Produced\")\n",
    "ax1[1].set_title(\"Boxplot: GDP Per Capita\")\n",
    "ax1[0].boxplot(gdp_food[\"Total Food Produced (millions)\"])\n",
    "ax1[1].boxplot(gdp_food[\"GDP Per Capita\"])\n",
    "ax1[0].set_xticklabels([\"Total Food Produced (millions)\"])\n",
    "ax1[1].set_xticklabels([\"GDP Per Capita\"])\n",
    "plt.tight_layout()\n",
    "plt.show()"
   ]
  },
  {
   "cell_type": "code",
   "execution_count": 15,
   "metadata": {},
   "outputs": [
    {
     "name": "stdout",
     "output_type": "stream",
     "text": [
      "The lower quartile is: 0.8177737\n",
      "The upper quartile is: 11.9752387\n",
      "The interquartile range is: 11.157465\n",
      "The the median is: 3.7378424 \n",
      "Values below -15.9184238 could be outliers.\n",
      "Values above 28.7114362 could be outliers.\n"
     ]
    }
   ],
   "source": [
    "quartiles = gdp_food[\"Total Food Produced (millions)\"].quantile([.25,.5,.75])\n",
    "lowerq = quartiles[0.25]\n",
    "upperq = quartiles[0.75]\n",
    "iqr = upperq-lowerq\n",
    "\n",
    "print(f\"The lower quartile is: {lowerq}\")\n",
    "print(f\"The upper quartile is: {upperq}\")\n",
    "print(f\"The interquartile range is: {iqr}\")\n",
    "print(f\"The the median is: {quartiles[0.5]} \")\n",
    "\n",
    "lower_bound = lowerq - (1.5*iqr)\n",
    "upper_bound = upperq + (1.5*iqr)\n",
    "print(f\"Values below {lower_bound} could be outliers.\")\n",
    "print(f\"Values above {upper_bound} could be outliers.\")"
   ]
  },
  {
   "cell_type": "code",
   "execution_count": 16,
   "metadata": {},
   "outputs": [
    {
     "name": "stdout",
     "output_type": "stream",
     "text": [
      "The lower quartile is: 1933.101068948096\n",
      "The upper quartile is: 15742.45372563683\n",
      "The interquartile range is: 13809.352656688734\n",
      "The the median is: 5332.160474568449 \n",
      "Values below -18780.927916085006 could be outliers.\n",
      "Values above 36456.48271066993 could be outliers.\n"
     ]
    }
   ],
   "source": [
    "quartiles = gdp_food[\"GDP Per Capita\"].quantile([.25,.5,.75])\n",
    "lowerq = quartiles[0.25]\n",
    "upperq = quartiles[0.75]\n",
    "iqr = upperq-lowerq\n",
    "\n",
    "print(f\"The lower quartile is: {lowerq}\")\n",
    "print(f\"The upper quartile is: {upperq}\")\n",
    "print(f\"The interquartile range is: {iqr}\")\n",
    "print(f\"The the median is: {quartiles[0.5]} \")\n",
    "\n",
    "lower_bound = lowerq - (1.5*iqr)\n",
    "upper_bound = upperq + (1.5*iqr)\n",
    "print(f\"Values below {lower_bound} could be outliers.\")\n",
    "print(f\"Values above {upper_bound} could be outliers.\")"
   ]
  },
  {
   "cell_type": "code",
   "execution_count": 17,
   "metadata": {},
   "outputs": [
    {
     "name": "stdout",
     "output_type": "stream",
     "text": [
      "Top 10 Food Producing Countries and their GDP Per Capita:\n"
     ]
    },
    {
     "data": {
      "text/html": [
       "<div>\n",
       "<style scoped>\n",
       "    .dataframe tbody tr th:only-of-type {\n",
       "        vertical-align: middle;\n",
       "    }\n",
       "\n",
       "    .dataframe tbody tr th {\n",
       "        vertical-align: top;\n",
       "    }\n",
       "\n",
       "    .dataframe thead th {\n",
       "        text-align: right;\n",
       "    }\n",
       "</style>\n",
       "<table border=\"1\" class=\"dataframe\">\n",
       "  <thead>\n",
       "    <tr style=\"text-align: right;\">\n",
       "      <th></th>\n",
       "      <th>Country</th>\n",
       "      <th>Total Food Produced (millions)</th>\n",
       "      <th>GDP Per Capita</th>\n",
       "      <th>Population Size (millions)</th>\n",
       "      <th>Regions</th>\n",
       "    </tr>\n",
       "  </thead>\n",
       "  <tbody>\n",
       "    <tr>\n",
       "      <th>30</th>\n",
       "      <td>China</td>\n",
       "      <td>861.524402</td>\n",
       "      <td>10408.669756</td>\n",
       "      <td>141.110000</td>\n",
       "      <td>East Asia and Pacific</td>\n",
       "    </tr>\n",
       "    <tr>\n",
       "      <th>66</th>\n",
       "      <td>Indonesia</td>\n",
       "      <td>412.711205</td>\n",
       "      <td>3870.557620</td>\n",
       "      <td>27.352362</td>\n",
       "      <td>East Asia and Pacific</td>\n",
       "    </tr>\n",
       "    <tr>\n",
       "      <th>20</th>\n",
       "      <td>Brazil</td>\n",
       "      <td>288.127739</td>\n",
       "      <td>6814.875632</td>\n",
       "      <td>21.255941</td>\n",
       "      <td>Latin America and Caribbean</td>\n",
       "    </tr>\n",
       "    <tr>\n",
       "      <th>65</th>\n",
       "      <td>India</td>\n",
       "      <td>247.270061</td>\n",
       "      <td>1933.101069</td>\n",
       "      <td>138.000439</td>\n",
       "      <td>South Asia</td>\n",
       "    </tr>\n",
       "    <tr>\n",
       "      <th>112</th>\n",
       "      <td>Pakistan</td>\n",
       "      <td>180.446048</td>\n",
       "      <td>1359.514522</td>\n",
       "      <td>22.089233</td>\n",
       "      <td>South Asia</td>\n",
       "    </tr>\n",
       "    <tr>\n",
       "      <th>94</th>\n",
       "      <td>Mexico</td>\n",
       "      <td>82.544780</td>\n",
       "      <td>8431.665017</td>\n",
       "      <td>12.893275</td>\n",
       "      <td>Latin America and Caribbean</td>\n",
       "    </tr>\n",
       "    <tr>\n",
       "      <th>11</th>\n",
       "      <td>Bangladesh</td>\n",
       "      <td>53.308693</td>\n",
       "      <td>2270.347535</td>\n",
       "      <td>16.468938</td>\n",
       "      <td>South Asia</td>\n",
       "    </tr>\n",
       "    <tr>\n",
       "      <th>99</th>\n",
       "      <td>Myanmar</td>\n",
       "      <td>49.438308</td>\n",
       "      <td>1450.662673</td>\n",
       "      <td>5.440979</td>\n",
       "      <td>East Asia and Pacific</td>\n",
       "    </tr>\n",
       "    <tr>\n",
       "      <th>143</th>\n",
       "      <td>Thailand</td>\n",
       "      <td>48.863964</td>\n",
       "      <td>7158.766684</td>\n",
       "      <td>6.979998</td>\n",
       "      <td>East Asia and Pacific</td>\n",
       "    </tr>\n",
       "    <tr>\n",
       "      <th>108</th>\n",
       "      <td>Nigeria</td>\n",
       "      <td>47.447814</td>\n",
       "      <td>2097.092473</td>\n",
       "      <td>20.613959</td>\n",
       "      <td>Sub-Saharan Africa</td>\n",
       "    </tr>\n",
       "  </tbody>\n",
       "</table>\n",
       "</div>"
      ],
      "text/plain": [
       "        Country  Total Food Produced (millions)  GDP Per Capita  \\\n",
       "30        China                      861.524402    10408.669756   \n",
       "66    Indonesia                      412.711205     3870.557620   \n",
       "20       Brazil                      288.127739     6814.875632   \n",
       "65        India                      247.270061     1933.101069   \n",
       "112    Pakistan                      180.446048     1359.514522   \n",
       "94       Mexico                       82.544780     8431.665017   \n",
       "11   Bangladesh                       53.308693     2270.347535   \n",
       "99      Myanmar                       49.438308     1450.662673   \n",
       "143    Thailand                       48.863964     7158.766684   \n",
       "108     Nigeria                       47.447814     2097.092473   \n",
       "\n",
       "     Population Size (millions)                      Regions  \n",
       "30                   141.110000        East Asia and Pacific  \n",
       "66                    27.352362        East Asia and Pacific  \n",
       "20                    21.255941  Latin America and Caribbean  \n",
       "65                   138.000439                   South Asia  \n",
       "112                   22.089233                   South Asia  \n",
       "94                    12.893275  Latin America and Caribbean  \n",
       "11                    16.468938                   South Asia  \n",
       "99                     5.440979        East Asia and Pacific  \n",
       "143                    6.979998        East Asia and Pacific  \n",
       "108                   20.613959           Sub-Saharan Africa  "
      ]
     },
     "execution_count": 17,
     "metadata": {},
     "output_type": "execute_result"
    }
   ],
   "source": [
    "print(\"Top 10 Food Producing Countries and their GDP Per Capita:\")\n",
    "gdp_food.sort_values(by='Total Food Produced (millions)', ascending=False).head(10)"
   ]
  },
  {
   "cell_type": "code",
   "execution_count": 18,
   "metadata": {},
   "outputs": [
    {
     "name": "stdout",
     "output_type": "stream",
     "text": [
      "Top 10 GDP Per Capita Countries and their Food Production Amount:\n"
     ]
    },
    {
     "data": {
      "text/html": [
       "<div>\n",
       "<style scoped>\n",
       "    .dataframe tbody tr th:only-of-type {\n",
       "        vertical-align: middle;\n",
       "    }\n",
       "\n",
       "    .dataframe tbody tr th {\n",
       "        vertical-align: top;\n",
       "    }\n",
       "\n",
       "    .dataframe thead th {\n",
       "        text-align: right;\n",
       "    }\n",
       "</style>\n",
       "<table border=\"1\" class=\"dataframe\">\n",
       "  <thead>\n",
       "    <tr style=\"text-align: right;\">\n",
       "      <th></th>\n",
       "      <th>Country</th>\n",
       "      <th>Total Food Produced (millions)</th>\n",
       "      <th>GDP Per Capita</th>\n",
       "      <th>Population Size (millions)</th>\n",
       "      <th>Regions</th>\n",
       "    </tr>\n",
       "  </thead>\n",
       "  <tbody>\n",
       "    <tr>\n",
       "      <th>84</th>\n",
       "      <td>Luxembourg</td>\n",
       "      <td>0.048089</td>\n",
       "      <td>116356.158037</td>\n",
       "      <td>0.063042</td>\n",
       "      <td>Europe and Central Asia</td>\n",
       "    </tr>\n",
       "    <tr>\n",
       "      <th>141</th>\n",
       "      <td>Switzerland</td>\n",
       "      <td>1.961814</td>\n",
       "      <td>87100.414821</td>\n",
       "      <td>0.863656</td>\n",
       "      <td>Europe and Central Asia</td>\n",
       "    </tr>\n",
       "    <tr>\n",
       "      <th>68</th>\n",
       "      <td>Ireland</td>\n",
       "      <td>1.459587</td>\n",
       "      <td>85422.542868</td>\n",
       "      <td>0.498567</td>\n",
       "      <td>Europe and Central Asia</td>\n",
       "    </tr>\n",
       "    <tr>\n",
       "      <th>110</th>\n",
       "      <td>Norway</td>\n",
       "      <td>2.233112</td>\n",
       "      <td>67329.677791</td>\n",
       "      <td>0.537948</td>\n",
       "      <td>Europe and Central Asia</td>\n",
       "    </tr>\n",
       "    <tr>\n",
       "      <th>37</th>\n",
       "      <td>Denmark</td>\n",
       "      <td>3.062379</td>\n",
       "      <td>61063.316430</td>\n",
       "      <td>0.583140</td>\n",
       "      <td>Europe and Central Asia</td>\n",
       "    </tr>\n",
       "    <tr>\n",
       "      <th>131</th>\n",
       "      <td>Singapore</td>\n",
       "      <td>0.393863</td>\n",
       "      <td>60729.450349</td>\n",
       "      <td>0.568581</td>\n",
       "      <td>East Asia and Pacific</td>\n",
       "    </tr>\n",
       "    <tr>\n",
       "      <th>64</th>\n",
       "      <td>Iceland</td>\n",
       "      <td>0.080977</td>\n",
       "      <td>59264.034091</td>\n",
       "      <td>0.036646</td>\n",
       "      <td>Europe and Central Asia</td>\n",
       "    </tr>\n",
       "    <tr>\n",
       "      <th>103</th>\n",
       "      <td>Netherlands</td>\n",
       "      <td>13.947133</td>\n",
       "      <td>52396.032210</td>\n",
       "      <td>1.744150</td>\n",
       "      <td>Europe and Central Asia</td>\n",
       "    </tr>\n",
       "    <tr>\n",
       "      <th>140</th>\n",
       "      <td>Sweden</td>\n",
       "      <td>2.390851</td>\n",
       "      <td>52300.206199</td>\n",
       "      <td>1.035344</td>\n",
       "      <td>Europe and Central Asia</td>\n",
       "    </tr>\n",
       "    <tr>\n",
       "      <th>7</th>\n",
       "      <td>Australia</td>\n",
       "      <td>26.362003</td>\n",
       "      <td>51680.316523</td>\n",
       "      <td>2.569327</td>\n",
       "      <td>East Asia and Pacific</td>\n",
       "    </tr>\n",
       "  </tbody>\n",
       "</table>\n",
       "</div>"
      ],
      "text/plain": [
       "         Country  Total Food Produced (millions)  GDP Per Capita  \\\n",
       "84    Luxembourg                        0.048089   116356.158037   \n",
       "141  Switzerland                        1.961814    87100.414821   \n",
       "68       Ireland                        1.459587    85422.542868   \n",
       "110       Norway                        2.233112    67329.677791   \n",
       "37       Denmark                        3.062379    61063.316430   \n",
       "131    Singapore                        0.393863    60729.450349   \n",
       "64       Iceland                        0.080977    59264.034091   \n",
       "103  Netherlands                       13.947133    52396.032210   \n",
       "140       Sweden                        2.390851    52300.206199   \n",
       "7      Australia                       26.362003    51680.316523   \n",
       "\n",
       "     Population Size (millions)                  Regions  \n",
       "84                     0.063042  Europe and Central Asia  \n",
       "141                    0.863656  Europe and Central Asia  \n",
       "68                     0.498567  Europe and Central Asia  \n",
       "110                    0.537948  Europe and Central Asia  \n",
       "37                     0.583140  Europe and Central Asia  \n",
       "131                    0.568581    East Asia and Pacific  \n",
       "64                     0.036646  Europe and Central Asia  \n",
       "103                    1.744150  Europe and Central Asia  \n",
       "140                    1.035344  Europe and Central Asia  \n",
       "7                      2.569327    East Asia and Pacific  "
      ]
     },
     "execution_count": 18,
     "metadata": {},
     "output_type": "execute_result"
    }
   ],
   "source": [
    "print(\"Top 10 GDP Per Capita Countries and their Food Production Amount:\")\n",
    "gdp_food.sort_values(by='GDP Per Capita', ascending=False).head(10)"
   ]
  },
  {
   "cell_type": "markdown",
   "metadata": {},
   "source": [
    "Is GDP Per Capita correlated to Total Amount of Food Produced?"
   ]
  },
  {
   "cell_type": "code",
   "execution_count": 19,
   "metadata": {},
   "outputs": [],
   "source": [
    "x_values = gdp_food['Total Food Produced (millions)']\n",
    "y_values = gdp_food['GDP Per Capita']\n"
   ]
  },
  {
   "cell_type": "code",
   "execution_count": 20,
   "metadata": {},
   "outputs": [
    {
     "data": {
      "image/png": "[encoded data removed]",
      "text/plain": [
       "<Figure size 432x288 with 1 Axes>"
      ]
     },
     "metadata": {
      "needs_background": "light"
     },
     "output_type": "display_data"
    },
    {
     "name": "stdout",
     "output_type": "stream",
     "text": [
      "Correlation: -0.07\n"
     ]
    }
   ],
   "source": [
    "plt.scatter(x_values,y_values, c='seagreen', edgecolors=\"darkgreen\")\n",
    "plt.xlabel(\"Total Food Produced (millions)\")\n",
    "plt.ylabel(\"GDP Per Capita\")\n",
    "plt.title(\"Total Food Produced and GDP Per Capita\\nCorrelation: -0.07\")\n",
    "plt.tight_layout()\n",
    "plt.show()\n",
    "print(f\"Correlation: {round(st.pearsonr(x_values,y_values)[0],2)}\")"
   ]
  },
  {
   "cell_type": "markdown",
   "metadata": {},
   "source": [
    "Develop a linear regression model on the data to predict GDP Per Capita based on Total Food Availability per Country.\n",
    "\n",
    "x = Total amount of food produced in the country\n",
    "\n",
    "y = GDP per Capita"
   ]
  },
  {
   "cell_type": "code",
   "execution_count": 21,
   "metadata": {},
   "outputs": [
    {
     "name": "stdout",
     "output_type": "stream",
     "text": [
      "The r-value is: 0.0044825071332085424\n"
     ]
    },
    {
     "data": {
      "image/png": "[encoded data removed]",
      "text/plain": [
       "<Figure size 432x288 with 1 Axes>"
      ]
     },
     "metadata": {
      "needs_background": "light"
     },
     "output_type": "display_data"
    }
   ],
   "source": [
    "(slope, intercept, rvalue, pvalue, stderr) = st.linregress(x_values, y_values)\n",
    "regress_values = x_values * slope + intercept\n",
    "line_eq = \"y = \" + str(round(slope,2)) + \"x + \" + str(round(intercept,2))\n",
    "plt.scatter(x_values,y_values)\n",
    "plt.plot(x_values,regress_values,\"r-\")\n",
    "plt.annotate(line_eq,(min(x_values)+1,min(y_values)+1),fontsize=12,color=\"red\")\n",
    "plt.xlabel(\"Total Food Produced (millions)\")\n",
    "plt.ylabel(\"GDP Per Capita\")\n",
    "print(f\"The r-value is: {rvalue**2}\")\n",
    "plt.show()"
   ]
  },
  {
   "cell_type": "markdown",
   "metadata": {},
   "source": [
    "## Total Food Produced and GDP for South Asia Region\n",
    "\n",
    "Histogram"
   ]
  },
  {
   "cell_type": "code",
   "execution_count": 22,
   "metadata": {},
   "outputs": [
    {
     "data": {
      "text/plain": [
       "array(['South Asia', 'Europe and Central Asia',\n",
       "       'Middle East and North Africa', 'Sub-Saharan Africa',\n",
       "       'Latin America and Caribbean', 'East Asia and Pacific',\n",
       "       'North America'], dtype=object)"
      ]
     },
     "execution_count": 22,
     "metadata": {},
     "output_type": "execute_result"
    }
   ],
   "source": [
    "gdp_food[\"Regions\"].unique()"
   ]
  },
  {
   "cell_type": "code",
   "execution_count": 23,
   "metadata": {},
   "outputs": [
    {
     "data": {
      "text/html": [
       "<div>\n",
       "<style scoped>\n",
       "    .dataframe tbody tr th:only-of-type {\n",
       "        vertical-align: middle;\n",
       "    }\n",
       "\n",
       "    .dataframe tbody tr th {\n",
       "        vertical-align: top;\n",
       "    }\n",
       "\n",
       "    .dataframe thead th {\n",
       "        text-align: right;\n",
       "    }\n",
       "</style>\n",
       "<table border=\"1\" class=\"dataframe\">\n",
       "  <thead>\n",
       "    <tr style=\"text-align: right;\">\n",
       "      <th></th>\n",
       "      <th>Country</th>\n",
       "      <th>Total Food Produced (millions)</th>\n",
       "      <th>GDP Per Capita</th>\n",
       "      <th>Population Size (millions)</th>\n",
       "      <th>Regions</th>\n",
       "    </tr>\n",
       "  </thead>\n",
       "  <tbody>\n",
       "    <tr>\n",
       "      <th>0</th>\n",
       "      <td>Afghanistan</td>\n",
       "      <td>5.477190</td>\n",
       "      <td>516.747871</td>\n",
       "      <td>3.892834</td>\n",
       "      <td>South Asia</td>\n",
       "    </tr>\n",
       "    <tr>\n",
       "      <th>11</th>\n",
       "      <td>Bangladesh</td>\n",
       "      <td>53.308693</td>\n",
       "      <td>2270.347535</td>\n",
       "      <td>16.468938</td>\n",
       "      <td>South Asia</td>\n",
       "    </tr>\n",
       "    <tr>\n",
       "      <th>17</th>\n",
       "      <td>Bhutan</td>\n",
       "      <td>0.209621</td>\n",
       "      <td>3000.777986</td>\n",
       "      <td>0.077161</td>\n",
       "      <td>South Asia</td>\n",
       "    </tr>\n",
       "    <tr>\n",
       "      <th>65</th>\n",
       "      <td>India</td>\n",
       "      <td>247.270061</td>\n",
       "      <td>1933.101069</td>\n",
       "      <td>138.000439</td>\n",
       "      <td>South Asia</td>\n",
       "    </tr>\n",
       "    <tr>\n",
       "      <th>88</th>\n",
       "      <td>Maldives</td>\n",
       "      <td>0.001374</td>\n",
       "      <td>6924.105745</td>\n",
       "      <td>0.054054</td>\n",
       "      <td>South Asia</td>\n",
       "    </tr>\n",
       "    <tr>\n",
       "      <th>102</th>\n",
       "      <td>Nepal</td>\n",
       "      <td>13.531306</td>\n",
       "      <td>1147.471971</td>\n",
       "      <td>2.913681</td>\n",
       "      <td>South Asia</td>\n",
       "    </tr>\n",
       "    <tr>\n",
       "      <th>112</th>\n",
       "      <td>Pakistan</td>\n",
       "      <td>180.446048</td>\n",
       "      <td>1359.514522</td>\n",
       "      <td>22.089233</td>\n",
       "      <td>South Asia</td>\n",
       "    </tr>\n",
       "    <tr>\n",
       "      <th>137</th>\n",
       "      <td>Sri Lanka</td>\n",
       "      <td>3.737842</td>\n",
       "      <td>3694.040948</td>\n",
       "      <td>2.191900</td>\n",
       "      <td>South Asia</td>\n",
       "    </tr>\n",
       "  </tbody>\n",
       "</table>\n",
       "</div>"
      ],
      "text/plain": [
       "         Country  Total Food Produced (millions)  GDP Per Capita  \\\n",
       "0    Afghanistan                        5.477190      516.747871   \n",
       "11    Bangladesh                       53.308693     2270.347535   \n",
       "17        Bhutan                        0.209621     3000.777986   \n",
       "65         India                      247.270061     1933.101069   \n",
       "88      Maldives                        0.001374     6924.105745   \n",
       "102        Nepal                       13.531306     1147.471971   \n",
       "112     Pakistan                      180.446048     1359.514522   \n",
       "137    Sri Lanka                        3.737842     3694.040948   \n",
       "\n",
       "     Population Size (millions)     Regions  \n",
       "0                      3.892834  South Asia  \n",
       "11                    16.468938  South Asia  \n",
       "17                     0.077161  South Asia  \n",
       "65                   138.000439  South Asia  \n",
       "88                     0.054054  South Asia  \n",
       "102                    2.913681  South Asia  \n",
       "112                   22.089233  South Asia  \n",
       "137                    2.191900  South Asia  "
      ]
     },
     "execution_count": 23,
     "metadata": {},
     "output_type": "execute_result"
    }
   ],
   "source": [
    "s_asia = gdp_food.loc[gdp_food[\"Regions\"] == \"South Asia\"]\n",
    "s_asia"
   ]
  },
  {
   "cell_type": "code",
   "execution_count": 24,
   "metadata": {},
   "outputs": [
    {
     "data": {
      "image/png": "[encoded data removed]",
      "text/plain": [
       "<Figure size 432x288 with 2 Axes>"
      ]
     },
     "metadata": {
      "needs_background": "light"
     },
     "output_type": "display_data"
    },
    {
     "name": "stdout",
     "output_type": "stream",
     "text": [
      "NormaltestResult(statistic=4.1166719614268725, pvalue=0.12766623231427585)\n",
      "NormaltestResult(statistic=7.017255813736865, pvalue=0.029937963943313047)\n"
     ]
    },
    {
     "name": "stderr",
     "output_type": "stream",
     "text": [
      "c:\\Users\\krist\\anaconda3\\lib\\site-packages\\scipy\\stats\\stats.py:1541: UserWarning: kurtosistest only valid for n>=20 ... continuing anyway, n=8\n",
      "  warnings.warn(\"kurtosistest only valid for n>=20 ... continuing \"\n"
     ]
    }
   ],
   "source": [
    "# Histogram\n",
    "fig, ax = plt.subplots(1, 2)\n",
    "s_asia.hist('Total Food Produced (millions)', ax=ax[0], color=\"powderblue\")\n",
    "s_asia.hist(\"GDP Per Capita\", ax=ax[1], color=\"lightskyblue\")\n",
    "ax[0].set_title(\"Histogram of the Total Food Produced\", wrap=True)\n",
    "ax[1].set_title(\"Histogram of GDP Per Capita\", wrap=True)\n",
    "ax[0].set_xlabel(\"Total Food Produced (millions)\")\n",
    "ax[1].set_xlabel(\"GDP Per Capita\")\n",
    "ax[0].set_ylabel(\"Count\")\n",
    "fig.tight_layout()\n",
    "plt.savefig(\"./Graphs/Question4-Images/histogram_south_asia.png\")\n",
    "plt.show()\n",
    "print(st.normaltest(s_asia[\"Total Food Produced (millions)\"]))\n",
    "print(st.normaltest(s_asia[\"GDP Per Capita\"]))"
   ]
  },
  {
   "cell_type": "code",
   "execution_count": 25,
   "metadata": {},
   "outputs": [
    {
     "data": {
      "image/png": "[encoded data removed]",
      "text/plain": [
       "<Figure size 432x288 with 2 Axes>"
      ]
     },
     "metadata": {
      "needs_background": "light"
     },
     "output_type": "display_data"
    }
   ],
   "source": [
    "fig1, ax1 = plt.subplots(1, 2)\n",
    "ax1[0].set_title(\"Boxplot: Total Food Produced in Millions\")\n",
    "ax1[1].set_title(\"Boxplot: GDP Per Capita\")\n",
    "\n",
    "s_asia.boxplot('Total Food Produced (millions)', ax=ax1[0])\n",
    "s_asia.boxplot('GDP Per Capita', ax=ax1[1])\n",
    "fig1.tight_layout()\n",
    "ax1[0].set_xticklabels([\"Total Food Produced (millions)\"])\n",
    "ax1[1].set_xticklabels([\"GDP Per Capita\"])\n",
    "plt.show()"
   ]
  },
  {
   "cell_type": "code",
   "execution_count": 26,
   "metadata": {},
   "outputs": [
    {
     "name": "stdout",
     "output_type": "stream",
     "text": [
      "The lower quartile is: 2.855786975\n",
      "The upper quartile is: 85.093031975\n",
      "The interquartile range is: 82.237245\n",
      "The the median is: 9.5042481 \n",
      "Values below -120.500080525 could be outliers.\n",
      "Values above 208.44889947500002 could be outliers.\n"
     ]
    }
   ],
   "source": [
    "quartiles = s_asia[\"Total Food Produced (millions)\"].quantile([.25,.5,.75])\n",
    "lowerq = quartiles[0.25]\n",
    "upperq = quartiles[0.75]\n",
    "iqr = upperq-lowerq\n",
    "\n",
    "print(f\"The lower quartile is: {lowerq}\")\n",
    "print(f\"The upper quartile is: {upperq}\")\n",
    "print(f\"The interquartile range is: {iqr}\")\n",
    "print(f\"The the median is: {quartiles[0.5]} \")\n",
    "\n",
    "lower_bound = lowerq - (1.5*iqr)\n",
    "upper_bound = upperq + (1.5*iqr)\n",
    "print(f\"Values below {lower_bound} could be outliers.\")\n",
    "print(f\"Values above {upper_bound} could be outliers.\")"
   ]
  },
  {
   "cell_type": "code",
   "execution_count": 27,
   "metadata": {},
   "outputs": [
    {
     "name": "stdout",
     "output_type": "stream",
     "text": [
      "The lower quartile is: 1306.503883991143\n",
      "The upper quartile is: 3174.0937264473378\n",
      "The interquartile range is: 1867.5898424561947\n",
      "The the median is: 2101.7243018698796 \n",
      "Values below -1494.880879693149 could be outliers.\n",
      "Values above 5975.47849013163 could be outliers.\n"
     ]
    }
   ],
   "source": [
    "quartiles = s_asia[\"GDP Per Capita\"].quantile([.25,.5,.75])\n",
    "lowerq = quartiles[0.25]\n",
    "upperq = quartiles[0.75]\n",
    "iqr = upperq-lowerq\n",
    "\n",
    "print(f\"The lower quartile is: {lowerq}\")\n",
    "print(f\"The upper quartile is: {upperq}\")\n",
    "print(f\"The interquartile range is: {iqr}\")\n",
    "print(f\"The the median is: {quartiles[0.5]} \")\n",
    "\n",
    "lower_bound = lowerq - (1.5*iqr)\n",
    "upper_bound = upperq + (1.5*iqr)\n",
    "print(f\"Values below {lower_bound} could be outliers.\")\n",
    "print(f\"Values above {upper_bound} could be outliers.\")"
   ]
  },
  {
   "cell_type": "code",
   "execution_count": 28,
   "metadata": {},
   "outputs": [],
   "source": [
    "x_values=s_asia[\"Total Food Produced (millions)\"]\n",
    "y_values=s_asia[\"GDP Per Capita\"]\n"
   ]
  },
  {
   "cell_type": "code",
   "execution_count": 29,
   "metadata": {},
   "outputs": [
    {
     "data": {
      "image/png": "[encoded data removed]",
      "text/plain": [
       "<Figure size 432x288 with 1 Axes>"
      ]
     },
     "metadata": {
      "needs_background": "light"
     },
     "output_type": "display_data"
    },
    {
     "name": "stdout",
     "output_type": "stream",
     "text": [
      "Correlation: -0.32\n"
     ]
    }
   ],
   "source": [
    "plt.scatter(x_values,y_values, c=\"seagreen\", edgecolors=\"darkgreen\")\n",
    "plt.xlabel(\"Total Food Produced (millions)\")\n",
    "plt.ylabel(\"GDP Per Capita\")\n",
    "plt.title(\"Total Food Produced in Asia and GDP Per Capita\\nCorrelation=-0.32\", wrap=True)\n",
    "plt.show()\n",
    "print(f\"Correlation: {round(st.pearsonr(x_values,y_values)[0],2)}\")"
   ]
  },
  {
   "cell_type": "markdown",
   "metadata": {},
   "source": [
    "Very weak negative correlation"
   ]
  },
  {
   "cell_type": "code",
   "execution_count": 30,
   "metadata": {},
   "outputs": [
    {
     "name": "stdout",
     "output_type": "stream",
     "text": [
      "The r-value is: 0.102282821835727\n"
     ]
    },
    {
     "data": {
      "image/png": "[encoded data removed]",
      "text/plain": [
       "<Figure size 432x288 with 1 Axes>"
      ]
     },
     "metadata": {
      "needs_background": "light"
     },
     "output_type": "display_data"
    }
   ],
   "source": [
    "(slope, intercept, rvalue, pvalue, stderr) = st.linregress(x_values, y_values)\n",
    "regress_values = x_values * slope + intercept\n",
    "line_eq = \"y = \" + str(round(slope,2)) + \"x + \" + str(round(intercept,2))\n",
    "plt.scatter(x_values,y_values)\n",
    "plt.plot(x_values,regress_values,\"r-\")\n",
    "plt.annotate(line_eq,(min(x_values)+1,min(y_values)+1),fontsize=15,color=\"red\")\n",
    "plt.xlabel(\"Total Food Produced (millions)\")\n",
    "plt.ylabel(\"GDP Per Capita\")\n",
    "plt.title(\"GDP Per Capita and Total Food Produced Model\")\n",
    "print(f\"The r-value is: {rvalue**2}\")\n",
    "plt.show()"
   ]
  },
  {
   "cell_type": "markdown",
   "metadata": {},
   "source": [
    "### Top 40% of GDP Per Capita Countries - Focus on Economic Wealth\n",
    "\n",
    "Not including the top 2%"
   ]
  },
  {
   "cell_type": "code",
   "execution_count": 31,
   "metadata": {},
   "outputs": [
    {
     "data": {
      "text/html": [
       "<div>\n",
       "<style scoped>\n",
       "    .dataframe tbody tr th:only-of-type {\n",
       "        vertical-align: middle;\n",
       "    }\n",
       "\n",
       "    .dataframe tbody tr th {\n",
       "        vertical-align: top;\n",
       "    }\n",
       "\n",
       "    .dataframe thead th {\n",
       "        text-align: right;\n",
       "    }\n",
       "</style>\n",
       "<table border=\"1\" class=\"dataframe\">\n",
       "  <thead>\n",
       "    <tr style=\"text-align: right;\">\n",
       "      <th></th>\n",
       "      <th>Country</th>\n",
       "      <th>Total Food Produced (millions)</th>\n",
       "      <th>GDP Per Capita</th>\n",
       "      <th>Population Size (millions)</th>\n",
       "      <th>Regions</th>\n",
       "    </tr>\n",
       "  </thead>\n",
       "  <tbody>\n",
       "    <tr>\n",
       "      <th>4</th>\n",
       "      <td>Antigua and Barbuda</td>\n",
       "      <td>0.021555</td>\n",
       "      <td>13992.744480</td>\n",
       "      <td>0.009793</td>\n",
       "      <td>Latin America and Caribbean</td>\n",
       "    </tr>\n",
       "    <tr>\n",
       "      <th>5</th>\n",
       "      <td>Argentina</td>\n",
       "      <td>38.132414</td>\n",
       "      <td>8585.694742</td>\n",
       "      <td>4.537676</td>\n",
       "      <td>Latin America and Caribbean</td>\n",
       "    </tr>\n",
       "    <tr>\n",
       "      <th>7</th>\n",
       "      <td>Australia</td>\n",
       "      <td>26.362003</td>\n",
       "      <td>51680.316523</td>\n",
       "      <td>2.569327</td>\n",
       "      <td>East Asia and Pacific</td>\n",
       "    </tr>\n",
       "    <tr>\n",
       "      <th>8</th>\n",
       "      <td>Austria</td>\n",
       "      <td>1.548362</td>\n",
       "      <td>48588.659385</td>\n",
       "      <td>0.891686</td>\n",
       "      <td>Europe and Central Asia</td>\n",
       "    </tr>\n",
       "    <tr>\n",
       "      <th>10</th>\n",
       "      <td>Bahrain</td>\n",
       "      <td>1.004125</td>\n",
       "      <td>20406.502326</td>\n",
       "      <td>0.170158</td>\n",
       "      <td>Middle East and North Africa</td>\n",
       "    </tr>\n",
       "    <tr>\n",
       "      <th>12</th>\n",
       "      <td>Barbados</td>\n",
       "      <td>0.441713</td>\n",
       "      <td>16318.748105</td>\n",
       "      <td>0.028737</td>\n",
       "      <td>Latin America and Caribbean</td>\n",
       "    </tr>\n",
       "    <tr>\n",
       "      <th>14</th>\n",
       "      <td>Belgium</td>\n",
       "      <td>2.268623</td>\n",
       "      <td>45189.366900</td>\n",
       "      <td>1.154424</td>\n",
       "      <td>Europe and Central Asia</td>\n",
       "    </tr>\n",
       "    <tr>\n",
       "      <th>21</th>\n",
       "      <td>Bulgaria</td>\n",
       "      <td>1.442610</td>\n",
       "      <td>10079.203381</td>\n",
       "      <td>0.693402</td>\n",
       "      <td>Europe and Central Asia</td>\n",
       "    </tr>\n",
       "    <tr>\n",
       "      <th>26</th>\n",
       "      <td>Canada</td>\n",
       "      <td>30.938579</td>\n",
       "      <td>43258.263872</td>\n",
       "      <td>3.803720</td>\n",
       "      <td>North America</td>\n",
       "    </tr>\n",
       "    <tr>\n",
       "      <th>29</th>\n",
       "      <td>Chile</td>\n",
       "      <td>13.795590</td>\n",
       "      <td>13220.570758</td>\n",
       "      <td>1.911621</td>\n",
       "      <td>Latin America and Caribbean</td>\n",
       "    </tr>\n",
       "    <tr>\n",
       "      <th>30</th>\n",
       "      <td>China</td>\n",
       "      <td>861.524402</td>\n",
       "      <td>10408.669756</td>\n",
       "      <td>141.110000</td>\n",
       "      <td>East Asia and Pacific</td>\n",
       "    </tr>\n",
       "    <tr>\n",
       "      <th>33</th>\n",
       "      <td>Costa Rica</td>\n",
       "      <td>3.854406</td>\n",
       "      <td>12201.926033</td>\n",
       "      <td>0.509411</td>\n",
       "      <td>Latin America and Caribbean</td>\n",
       "    </tr>\n",
       "    <tr>\n",
       "      <th>34</th>\n",
       "      <td>Croatia</td>\n",
       "      <td>2.044002</td>\n",
       "      <td>14132.486561</td>\n",
       "      <td>0.404768</td>\n",
       "      <td>Europe and Central Asia</td>\n",
       "    </tr>\n",
       "    <tr>\n",
       "      <th>35</th>\n",
       "      <td>Cuba</td>\n",
       "      <td>5.690568</td>\n",
       "      <td>9477.852873</td>\n",
       "      <td>1.132662</td>\n",
       "      <td>Latin America and Caribbean</td>\n",
       "    </tr>\n",
       "    <tr>\n",
       "      <th>36</th>\n",
       "      <td>Cyprus</td>\n",
       "      <td>0.077063</td>\n",
       "      <td>20451.294969</td>\n",
       "      <td>0.120736</td>\n",
       "      <td>Europe and Central Asia</td>\n",
       "    </tr>\n",
       "    <tr>\n",
       "      <th>37</th>\n",
       "      <td>Denmark</td>\n",
       "      <td>3.062379</td>\n",
       "      <td>61063.316430</td>\n",
       "      <td>0.583140</td>\n",
       "      <td>Europe and Central Asia</td>\n",
       "    </tr>\n",
       "    <tr>\n",
       "      <th>44</th>\n",
       "      <td>Estonia</td>\n",
       "      <td>0.475077</td>\n",
       "      <td>23054.358491</td>\n",
       "      <td>0.132948</td>\n",
       "      <td>Europe and Central Asia</td>\n",
       "    </tr>\n",
       "    <tr>\n",
       "      <th>48</th>\n",
       "      <td>Finland</td>\n",
       "      <td>1.548921</td>\n",
       "      <td>49160.837152</td>\n",
       "      <td>0.552954</td>\n",
       "      <td>Europe and Central Asia</td>\n",
       "    </tr>\n",
       "    <tr>\n",
       "      <th>49</th>\n",
       "      <td>France</td>\n",
       "      <td>41.697563</td>\n",
       "      <td>39037.122631</td>\n",
       "      <td>6.737991</td>\n",
       "      <td>Europe and Central Asia</td>\n",
       "    </tr>\n",
       "    <tr>\n",
       "      <th>50</th>\n",
       "      <td>French Polynesia</td>\n",
       "      <td>0.053436</td>\n",
       "      <td>20182.584503</td>\n",
       "      <td>0.028090</td>\n",
       "      <td>East Asia and Pacific</td>\n",
       "    </tr>\n",
       "    <tr>\n",
       "      <th>53</th>\n",
       "      <td>Germany</td>\n",
       "      <td>13.274930</td>\n",
       "      <td>46252.689304</td>\n",
       "      <td>8.316087</td>\n",
       "      <td>Europe and Central Asia</td>\n",
       "    </tr>\n",
       "    <tr>\n",
       "      <th>55</th>\n",
       "      <td>Greece</td>\n",
       "      <td>2.366289</td>\n",
       "      <td>17647.232688</td>\n",
       "      <td>1.070056</td>\n",
       "      <td>Europe and Central Asia</td>\n",
       "    </tr>\n",
       "    <tr>\n",
       "      <th>56</th>\n",
       "      <td>Grenada</td>\n",
       "      <td>0.034054</td>\n",
       "      <td>9273.199292</td>\n",
       "      <td>0.011252</td>\n",
       "      <td>Latin America and Caribbean</td>\n",
       "    </tr>\n",
       "    <tr>\n",
       "      <th>63</th>\n",
       "      <td>Hungary</td>\n",
       "      <td>6.371316</td>\n",
       "      <td>16075.973266</td>\n",
       "      <td>0.975015</td>\n",
       "      <td>Europe and Central Asia</td>\n",
       "    </tr>\n",
       "    <tr>\n",
       "      <th>64</th>\n",
       "      <td>Iceland</td>\n",
       "      <td>0.080977</td>\n",
       "      <td>59264.034091</td>\n",
       "      <td>0.036646</td>\n",
       "      <td>Europe and Central Asia</td>\n",
       "    </tr>\n",
       "    <tr>\n",
       "      <th>69</th>\n",
       "      <td>Israel</td>\n",
       "      <td>5.721127</td>\n",
       "      <td>44177.571225</td>\n",
       "      <td>0.921510</td>\n",
       "      <td>Middle East and North Africa</td>\n",
       "    </tr>\n",
       "    <tr>\n",
       "      <th>70</th>\n",
       "      <td>Italy</td>\n",
       "      <td>7.425048</td>\n",
       "      <td>31834.972618</td>\n",
       "      <td>5.944953</td>\n",
       "      <td>Europe and Central Asia</td>\n",
       "    </tr>\n",
       "    <tr>\n",
       "      <th>72</th>\n",
       "      <td>Japan</td>\n",
       "      <td>36.563009</td>\n",
       "      <td>39918.167558</td>\n",
       "      <td>12.626100</td>\n",
       "      <td>East Asia and Pacific</td>\n",
       "    </tr>\n",
       "    <tr>\n",
       "      <th>74</th>\n",
       "      <td>Kazakhstan</td>\n",
       "      <td>10.911799</td>\n",
       "      <td>9121.637138</td>\n",
       "      <td>1.875567</td>\n",
       "      <td>Europe and Central Asia</td>\n",
       "    </tr>\n",
       "    <tr>\n",
       "      <th>77</th>\n",
       "      <td>Kuwait</td>\n",
       "      <td>5.700338</td>\n",
       "      <td>24811.769710</td>\n",
       "      <td>0.427056</td>\n",
       "      <td>Middle East and North Africa</td>\n",
       "    </tr>\n",
       "    <tr>\n",
       "      <th>78</th>\n",
       "      <td>Latvia</td>\n",
       "      <td>0.514828</td>\n",
       "      <td>17703.953443</td>\n",
       "      <td>0.190045</td>\n",
       "      <td>Europe and Central Asia</td>\n",
       "    </tr>\n",
       "    <tr>\n",
       "      <th>82</th>\n",
       "      <td>Libya</td>\n",
       "      <td>4.896604</td>\n",
       "      <td>7614.325449</td>\n",
       "      <td>0.687129</td>\n",
       "      <td>Middle East and North Africa</td>\n",
       "    </tr>\n",
       "    <tr>\n",
       "      <th>83</th>\n",
       "      <td>Lithuania</td>\n",
       "      <td>1.093661</td>\n",
       "      <td>20232.302036</td>\n",
       "      <td>0.279488</td>\n",
       "      <td>Europe and Central Asia</td>\n",
       "    </tr>\n",
       "    <tr>\n",
       "      <th>87</th>\n",
       "      <td>Malaysia</td>\n",
       "      <td>41.129737</td>\n",
       "      <td>10412.347668</td>\n",
       "      <td>3.236600</td>\n",
       "      <td>East Asia and Pacific</td>\n",
       "    </tr>\n",
       "    <tr>\n",
       "      <th>90</th>\n",
       "      <td>Malta</td>\n",
       "      <td>0.013690</td>\n",
       "      <td>28946.462677</td>\n",
       "      <td>0.051533</td>\n",
       "      <td>Middle East and North Africa</td>\n",
       "    </tr>\n",
       "    <tr>\n",
       "      <th>93</th>\n",
       "      <td>Mauritius</td>\n",
       "      <td>1.932712</td>\n",
       "      <td>8632.752859</td>\n",
       "      <td>0.126574</td>\n",
       "      <td>Sub-Saharan Africa</td>\n",
       "    </tr>\n",
       "    <tr>\n",
       "      <th>94</th>\n",
       "      <td>Mexico</td>\n",
       "      <td>82.544780</td>\n",
       "      <td>8431.665017</td>\n",
       "      <td>12.893275</td>\n",
       "      <td>Latin America and Caribbean</td>\n",
       "    </tr>\n",
       "    <tr>\n",
       "      <th>96</th>\n",
       "      <td>Montenegro</td>\n",
       "      <td>0.129697</td>\n",
       "      <td>7694.633759</td>\n",
       "      <td>0.062131</td>\n",
       "      <td>Europe and Central Asia</td>\n",
       "    </tr>\n",
       "    <tr>\n",
       "      <th>101</th>\n",
       "      <td>Nauru</td>\n",
       "      <td>0.001143</td>\n",
       "      <td>10580.268188</td>\n",
       "      <td>0.001083</td>\n",
       "      <td>East Asia and Pacific</td>\n",
       "    </tr>\n",
       "    <tr>\n",
       "      <th>103</th>\n",
       "      <td>Netherlands</td>\n",
       "      <td>13.947133</td>\n",
       "      <td>52396.032210</td>\n",
       "      <td>1.744150</td>\n",
       "      <td>Europe and Central Asia</td>\n",
       "    </tr>\n",
       "    <tr>\n",
       "      <th>104</th>\n",
       "      <td>New Caledonia</td>\n",
       "      <td>0.071768</td>\n",
       "      <td>34694.550402</td>\n",
       "      <td>0.027196</td>\n",
       "      <td>East Asia and Pacific</td>\n",
       "    </tr>\n",
       "    <tr>\n",
       "      <th>105</th>\n",
       "      <td>New Zealand</td>\n",
       "      <td>6.674027</td>\n",
       "      <td>41596.505502</td>\n",
       "      <td>0.509020</td>\n",
       "      <td>East Asia and Pacific</td>\n",
       "    </tr>\n",
       "    <tr>\n",
       "      <th>111</th>\n",
       "      <td>Oman</td>\n",
       "      <td>1.022505</td>\n",
       "      <td>14485.386116</td>\n",
       "      <td>0.510662</td>\n",
       "      <td>Middle East and North Africa</td>\n",
       "    </tr>\n",
       "    <tr>\n",
       "      <th>113</th>\n",
       "      <td>Panama</td>\n",
       "      <td>3.167303</td>\n",
       "      <td>12509.835291</td>\n",
       "      <td>0.431477</td>\n",
       "      <td>Latin America and Caribbean</td>\n",
       "    </tr>\n",
       "    <tr>\n",
       "      <th>118</th>\n",
       "      <td>Poland</td>\n",
       "      <td>27.387075</td>\n",
       "      <td>15742.453726</td>\n",
       "      <td>3.789907</td>\n",
       "      <td>Europe and Central Asia</td>\n",
       "    </tr>\n",
       "    <tr>\n",
       "      <th>119</th>\n",
       "      <td>Portugal</td>\n",
       "      <td>1.225334</td>\n",
       "      <td>22194.566115</td>\n",
       "      <td>1.029708</td>\n",
       "      <td>Europe and Central Asia</td>\n",
       "    </tr>\n",
       "    <tr>\n",
       "      <th>120</th>\n",
       "      <td>Puerto Rico</td>\n",
       "      <td>1.571190</td>\n",
       "      <td>31429.866118</td>\n",
       "      <td>0.328154</td>\n",
       "      <td>Latin America and Caribbean</td>\n",
       "    </tr>\n",
       "    <tr>\n",
       "      <th>121</th>\n",
       "      <td>Qatar</td>\n",
       "      <td>0.299201</td>\n",
       "      <td>50124.385936</td>\n",
       "      <td>0.288106</td>\n",
       "      <td>Middle East and North Africa</td>\n",
       "    </tr>\n",
       "    <tr>\n",
       "      <th>122</th>\n",
       "      <td>Romania</td>\n",
       "      <td>4.882805</td>\n",
       "      <td>12956.566248</td>\n",
       "      <td>1.925752</td>\n",
       "      <td>Europe and Central Asia</td>\n",
       "    </tr>\n",
       "    <tr>\n",
       "      <th>126</th>\n",
       "      <td>Saudi Arabia</td>\n",
       "      <td>22.494059</td>\n",
       "      <td>20203.668878</td>\n",
       "      <td>3.481387</td>\n",
       "      <td>Middle East and North Africa</td>\n",
       "    </tr>\n",
       "    <tr>\n",
       "      <th>128</th>\n",
       "      <td>Serbia</td>\n",
       "      <td>3.979862</td>\n",
       "      <td>7730.691746</td>\n",
       "      <td>0.689913</td>\n",
       "      <td>Europe and Central Asia</td>\n",
       "    </tr>\n",
       "    <tr>\n",
       "      <th>129</th>\n",
       "      <td>Seychelles</td>\n",
       "      <td>0.013416</td>\n",
       "      <td>12193.886874</td>\n",
       "      <td>0.009846</td>\n",
       "      <td>Sub-Saharan Africa</td>\n",
       "    </tr>\n",
       "    <tr>\n",
       "      <th>131</th>\n",
       "      <td>Singapore</td>\n",
       "      <td>0.393863</td>\n",
       "      <td>60729.450349</td>\n",
       "      <td>0.568581</td>\n",
       "      <td>East Asia and Pacific</td>\n",
       "    </tr>\n",
       "    <tr>\n",
       "      <th>132</th>\n",
       "      <td>Slovenia</td>\n",
       "      <td>0.621814</td>\n",
       "      <td>25489.500228</td>\n",
       "      <td>0.210242</td>\n",
       "      <td>Europe and Central Asia</td>\n",
       "    </tr>\n",
       "    <tr>\n",
       "      <th>136</th>\n",
       "      <td>Spain</td>\n",
       "      <td>12.357640</td>\n",
       "      <td>27056.421751</td>\n",
       "      <td>4.736342</td>\n",
       "      <td>Europe and Central Asia</td>\n",
       "    </tr>\n",
       "    <tr>\n",
       "      <th>140</th>\n",
       "      <td>Sweden</td>\n",
       "      <td>2.390851</td>\n",
       "      <td>52300.206199</td>\n",
       "      <td>1.035344</td>\n",
       "      <td>Europe and Central Asia</td>\n",
       "    </tr>\n",
       "    <tr>\n",
       "      <th>146</th>\n",
       "      <td>Trinidad and Tobago</td>\n",
       "      <td>3.777971</td>\n",
       "      <td>15285.940487</td>\n",
       "      <td>0.139949</td>\n",
       "      <td>Latin America and Caribbean</td>\n",
       "    </tr>\n",
       "    <tr>\n",
       "      <th>151</th>\n",
       "      <td>United Arab Emirates</td>\n",
       "      <td>3.024236</td>\n",
       "      <td>36284.555243</td>\n",
       "      <td>0.989040</td>\n",
       "      <td>Middle East and North Africa</td>\n",
       "    </tr>\n",
       "    <tr>\n",
       "      <th>152</th>\n",
       "      <td>Uruguay</td>\n",
       "      <td>6.553330</td>\n",
       "      <td>15418.815309</td>\n",
       "      <td>0.347373</td>\n",
       "      <td>Latin America and Caribbean</td>\n",
       "    </tr>\n",
       "  </tbody>\n",
       "</table>\n",
       "</div>"
      ],
      "text/plain": [
       "                  Country  Total Food Produced (millions)  GDP Per Capita  \\\n",
       "4     Antigua and Barbuda                        0.021555    13992.744480   \n",
       "5               Argentina                       38.132414     8585.694742   \n",
       "7               Australia                       26.362003    51680.316523   \n",
       "8                 Austria                        1.548362    48588.659385   \n",
       "10                Bahrain                        1.004125    20406.502326   \n",
       "12               Barbados                        0.441713    16318.748105   \n",
       "14                Belgium                        2.268623    45189.366900   \n",
       "21               Bulgaria                        1.442610    10079.203381   \n",
       "26                 Canada                       30.938579    43258.263872   \n",
       "29                  Chile                       13.795590    13220.570758   \n",
       "30                  China                      861.524402    10408.669756   \n",
       "33             Costa Rica                        3.854406    12201.926033   \n",
       "34                Croatia                        2.044002    14132.486561   \n",
       "35                   Cuba                        5.690568     9477.852873   \n",
       "36                 Cyprus                        0.077063    20451.294969   \n",
       "37                Denmark                        3.062379    61063.316430   \n",
       "44                Estonia                        0.475077    23054.358491   \n",
       "48                Finland                        1.548921    49160.837152   \n",
       "49                 France                       41.697563    39037.122631   \n",
       "50       French Polynesia                        0.053436    20182.584503   \n",
       "53                Germany                       13.274930    46252.689304   \n",
       "55                 Greece                        2.366289    17647.232688   \n",
       "56                Grenada                        0.034054     9273.199292   \n",
       "63                Hungary                        6.371316    16075.973266   \n",
       "64                Iceland                        0.080977    59264.034091   \n",
       "69                 Israel                        5.721127    44177.571225   \n",
       "70                  Italy                        7.425048    31834.972618   \n",
       "72                  Japan                       36.563009    39918.167558   \n",
       "74             Kazakhstan                       10.911799     9121.637138   \n",
       "77                 Kuwait                        5.700338    24811.769710   \n",
       "78                 Latvia                        0.514828    17703.953443   \n",
       "82                  Libya                        4.896604     7614.325449   \n",
       "83              Lithuania                        1.093661    20232.302036   \n",
       "87               Malaysia                       41.129737    10412.347668   \n",
       "90                  Malta                        0.013690    28946.462677   \n",
       "93              Mauritius                        1.932712     8632.752859   \n",
       "94                 Mexico                       82.544780     8431.665017   \n",
       "96             Montenegro                        0.129697     7694.633759   \n",
       "101                 Nauru                        0.001143    10580.268188   \n",
       "103           Netherlands                       13.947133    52396.032210   \n",
       "104         New Caledonia                        0.071768    34694.550402   \n",
       "105           New Zealand                        6.674027    41596.505502   \n",
       "111                  Oman                        1.022505    14485.386116   \n",
       "113                Panama                        3.167303    12509.835291   \n",
       "118                Poland                       27.387075    15742.453726   \n",
       "119              Portugal                        1.225334    22194.566115   \n",
       "120           Puerto Rico                        1.571190    31429.866118   \n",
       "121                 Qatar                        0.299201    50124.385936   \n",
       "122               Romania                        4.882805    12956.566248   \n",
       "126          Saudi Arabia                       22.494059    20203.668878   \n",
       "128                Serbia                        3.979862     7730.691746   \n",
       "129            Seychelles                        0.013416    12193.886874   \n",
       "131             Singapore                        0.393863    60729.450349   \n",
       "132              Slovenia                        0.621814    25489.500228   \n",
       "136                 Spain                       12.357640    27056.421751   \n",
       "140                Sweden                        2.390851    52300.206199   \n",
       "146   Trinidad and Tobago                        3.777971    15285.940487   \n",
       "151  United Arab Emirates                        3.024236    36284.555243   \n",
       "152               Uruguay                        6.553330    15418.815309   \n",
       "\n",
       "     Population Size (millions)                       Regions  \n",
       "4                      0.009793   Latin America and Caribbean  \n",
       "5                      4.537676   Latin America and Caribbean  \n",
       "7                      2.569327         East Asia and Pacific  \n",
       "8                      0.891686       Europe and Central Asia  \n",
       "10                     0.170158  Middle East and North Africa  \n",
       "12                     0.028737   Latin America and Caribbean  \n",
       "14                     1.154424       Europe and Central Asia  \n",
       "21                     0.693402       Europe and Central Asia  \n",
       "26                     3.803720                 North America  \n",
       "29                     1.911621   Latin America and Caribbean  \n",
       "30                   141.110000         East Asia and Pacific  \n",
       "33                     0.509411   Latin America and Caribbean  \n",
       "34                     0.404768       Europe and Central Asia  \n",
       "35                     1.132662   Latin America and Caribbean  \n",
       "36                     0.120736       Europe and Central Asia  \n",
       "37                     0.583140       Europe and Central Asia  \n",
       "44                     0.132948       Europe and Central Asia  \n",
       "48                     0.552954       Europe and Central Asia  \n",
       "49                     6.737991       Europe and Central Asia  \n",
       "50                     0.028090         East Asia and Pacific  \n",
       "53                     8.316087       Europe and Central Asia  \n",
       "55                     1.070056       Europe and Central Asia  \n",
       "56                     0.011252   Latin America and Caribbean  \n",
       "63                     0.975015       Europe and Central Asia  \n",
       "64                     0.036646       Europe and Central Asia  \n",
       "69                     0.921510  Middle East and North Africa  \n",
       "70                     5.944953       Europe and Central Asia  \n",
       "72                    12.626100         East Asia and Pacific  \n",
       "74                     1.875567       Europe and Central Asia  \n",
       "77                     0.427056  Middle East and North Africa  \n",
       "78                     0.190045       Europe and Central Asia  \n",
       "82                     0.687129  Middle East and North Africa  \n",
       "83                     0.279488       Europe and Central Asia  \n",
       "87                     3.236600         East Asia and Pacific  \n",
       "90                     0.051533  Middle East and North Africa  \n",
       "93                     0.126574            Sub-Saharan Africa  \n",
       "94                    12.893275   Latin America and Caribbean  \n",
       "96                     0.062131       Europe and Central Asia  \n",
       "101                    0.001083         East Asia and Pacific  \n",
       "103                    1.744150       Europe and Central Asia  \n",
       "104                    0.027196         East Asia and Pacific  \n",
       "105                    0.509020         East Asia and Pacific  \n",
       "111                    0.510662  Middle East and North Africa  \n",
       "113                    0.431477   Latin America and Caribbean  \n",
       "118                    3.789907       Europe and Central Asia  \n",
       "119                    1.029708       Europe and Central Asia  \n",
       "120                    0.328154   Latin America and Caribbean  \n",
       "121                    0.288106  Middle East and North Africa  \n",
       "122                    1.925752       Europe and Central Asia  \n",
       "126                    3.481387  Middle East and North Africa  \n",
       "128                    0.689913       Europe and Central Asia  \n",
       "129                    0.009846            Sub-Saharan Africa  \n",
       "131                    0.568581         East Asia and Pacific  \n",
       "132                    0.210242       Europe and Central Asia  \n",
       "136                    4.736342       Europe and Central Asia  \n",
       "140                    1.035344       Europe and Central Asia  \n",
       "146                    0.139949   Latin America and Caribbean  \n",
       "151                    0.989040  Middle East and North Africa  \n",
       "152                    0.347373   Latin America and Caribbean  "
      ]
     },
     "execution_count": 31,
     "metadata": {},
     "output_type": "execute_result"
    }
   ],
   "source": [
    "top_40 = gdp_food.loc[(gdp_food[\"GDP Per Capita\"] >= gdp_food[\"GDP Per Capita\"].quantile(0.60)) & \n",
    "    (gdp_food[\"GDP Per Capita\"]<gdp_food[\"GDP Per Capita\"].quantile(0.98)), :]\n",
    "top_40"
   ]
  },
  {
   "cell_type": "code",
   "execution_count": 32,
   "metadata": {},
   "outputs": [
    {
     "data": {
      "image/png": "[encoded data removed]",
      "text/plain": [
       "<Figure size 432x288 with 1 Axes>"
      ]
     },
     "metadata": {
      "needs_background": "light"
     },
     "output_type": "display_data"
    },
    {
     "name": "stdout",
     "output_type": "stream",
     "text": [
      "NormaltestResult(statistic=8.36420507483937, pvalue=0.015266375673192422)\n"
     ]
    }
   ],
   "source": [
    "plt.hist(top_40['GDP Per Capita'])\n",
    "plt.xlabel('GDP Per Capita')\n",
    "plt.ylabel('Counts')\n",
    "plt.title(\"Histogram of the GDP Per Capita\")\n",
    "plt.show()\n",
    "print(st.normaltest(top_40[\"GDP Per Capita\"]))"
   ]
  },
  {
   "cell_type": "code",
   "execution_count": 33,
   "metadata": {},
   "outputs": [],
   "source": [
    "x_values = top_40[\"Total Food Produced (millions)\"]\n",
    "y_values = top_40[\"GDP Per Capita\"]"
   ]
  },
  {
   "cell_type": "code",
   "execution_count": 34,
   "metadata": {},
   "outputs": [
    {
     "data": {
      "image/png": "[encoded data removed]",
      "text/plain": [
       "<Figure size 432x288 with 1 Axes>"
      ]
     },
     "metadata": {
      "needs_background": "light"
     },
     "output_type": "display_data"
    },
    {
     "name": "stdout",
     "output_type": "stream",
     "text": [
      "Correlation: -0.13\n"
     ]
    }
   ],
   "source": [
    "plt.scatter(x_values,y_values)\n",
    "plt.xlabel(\"Total Food Produced\")\n",
    "plt.ylabel(\"GDP Per Capita\")\n",
    "plt.show()\n",
    "print(f\"Correlation: {round(st.pearsonr(x_values,y_values)[0],2)}\")"
   ]
  },
  {
   "cell_type": "markdown",
   "metadata": {},
   "source": [
    "## Human Development Index\n",
    "Those with score of 0.8 or higher is considered a First World Country\n",
    "- Low human development (0-.55)\n",
    "- Medium human development (.55-.70)\n",
    "- High human development (.70-80)\n",
    "- Very high human development (.80-1.0)"
   ]
  },
  {
   "cell_type": "code",
   "execution_count": 35,
   "metadata": {},
   "outputs": [
    {
     "data": {
      "text/html": [
       "<div>\n",
       "<style scoped>\n",
       "    .dataframe tbody tr th:only-of-type {\n",
       "        vertical-align: middle;\n",
       "    }\n",
       "\n",
       "    .dataframe tbody tr th {\n",
       "        vertical-align: top;\n",
       "    }\n",
       "\n",
       "    .dataframe thead th {\n",
       "        text-align: right;\n",
       "    }\n",
       "</style>\n",
       "<table border=\"1\" class=\"dataframe\">\n",
       "  <thead>\n",
       "    <tr style=\"text-align: right;\">\n",
       "      <th></th>\n",
       "      <th>Country</th>\n",
       "      <th>Country Code</th>\n",
       "      <th>HDI</th>\n",
       "    </tr>\n",
       "  </thead>\n",
       "  <tbody>\n",
       "    <tr>\n",
       "      <th>0</th>\n",
       "      <td>Afghanistan</td>\n",
       "      <td>AFG</td>\n",
       "      <td>0.511</td>\n",
       "    </tr>\n",
       "    <tr>\n",
       "      <th>1</th>\n",
       "      <td>Angola</td>\n",
       "      <td>AGO</td>\n",
       "      <td>0.581</td>\n",
       "    </tr>\n",
       "    <tr>\n",
       "      <th>2</th>\n",
       "      <td>Albania</td>\n",
       "      <td>ALB</td>\n",
       "      <td>0.795</td>\n",
       "    </tr>\n",
       "    <tr>\n",
       "      <th>3</th>\n",
       "      <td>Andorra</td>\n",
       "      <td>AND</td>\n",
       "      <td>0.868</td>\n",
       "    </tr>\n",
       "    <tr>\n",
       "      <th>4</th>\n",
       "      <td>United Arab Emirates</td>\n",
       "      <td>ARE</td>\n",
       "      <td>0.890</td>\n",
       "    </tr>\n",
       "  </tbody>\n",
       "</table>\n",
       "</div>"
      ],
      "text/plain": [
       "                Country Country Code    HDI\n",
       "0           Afghanistan          AFG  0.511\n",
       "1                Angola          AGO  0.581\n",
       "2               Albania          ALB  0.795\n",
       "3               Andorra          AND  0.868\n",
       "4  United Arab Emirates          ARE  0.890"
      ]
     },
     "execution_count": 35,
     "metadata": {},
     "output_type": "execute_result"
    }
   ],
   "source": [
    "hdi_df = pd.read_csv(\"./Resources/hdi.csv\")\n",
    "hdi_df.head()"
   ]
  },
  {
   "cell_type": "code",
   "execution_count": 36,
   "metadata": {},
   "outputs": [],
   "source": [
    "# Merge with food and gdp data\n",
    "merge_hdi = pd.merge(gdp_food, hdi_df[[\"Country\", \"HDI\"]], on=\"Country\")"
   ]
  },
  {
   "cell_type": "code",
   "execution_count": 37,
   "metadata": {},
   "outputs": [
    {
     "data": {
      "text/html": [
       "<div>\n",
       "<style scoped>\n",
       "    .dataframe tbody tr th:only-of-type {\n",
       "        vertical-align: middle;\n",
       "    }\n",
       "\n",
       "    .dataframe tbody tr th {\n",
       "        vertical-align: top;\n",
       "    }\n",
       "\n",
       "    .dataframe thead th {\n",
       "        text-align: right;\n",
       "    }\n",
       "</style>\n",
       "<table border=\"1\" class=\"dataframe\">\n",
       "  <thead>\n",
       "    <tr style=\"text-align: right;\">\n",
       "      <th></th>\n",
       "      <th>Country</th>\n",
       "      <th>Total Food Produced (millions)</th>\n",
       "      <th>GDP Per Capita</th>\n",
       "      <th>Population Size (millions)</th>\n",
       "      <th>Regions</th>\n",
       "      <th>HDI</th>\n",
       "    </tr>\n",
       "  </thead>\n",
       "  <tbody>\n",
       "    <tr>\n",
       "      <th>0</th>\n",
       "      <td>Afghanistan</td>\n",
       "      <td>5.477190</td>\n",
       "      <td>516.747871</td>\n",
       "      <td>3.892834</td>\n",
       "      <td>South Asia</td>\n",
       "      <td>0.511</td>\n",
       "    </tr>\n",
       "    <tr>\n",
       "      <th>1</th>\n",
       "      <td>Albania</td>\n",
       "      <td>1.290490</td>\n",
       "      <td>5332.160475</td>\n",
       "      <td>0.283785</td>\n",
       "      <td>Europe and Central Asia</td>\n",
       "      <td>0.795</td>\n",
       "    </tr>\n",
       "    <tr>\n",
       "      <th>2</th>\n",
       "      <td>Algeria</td>\n",
       "      <td>20.199229</td>\n",
       "      <td>3306.858208</td>\n",
       "      <td>4.385104</td>\n",
       "      <td>Middle East and North Africa</td>\n",
       "      <td>0.748</td>\n",
       "    </tr>\n",
       "    <tr>\n",
       "      <th>3</th>\n",
       "      <td>Angola</td>\n",
       "      <td>8.429773</td>\n",
       "      <td>1631.431691</td>\n",
       "      <td>3.286627</td>\n",
       "      <td>Sub-Saharan Africa</td>\n",
       "      <td>0.581</td>\n",
       "    </tr>\n",
       "    <tr>\n",
       "      <th>4</th>\n",
       "      <td>Antigua and Barbuda</td>\n",
       "      <td>0.021555</td>\n",
       "      <td>13992.744480</td>\n",
       "      <td>0.009793</td>\n",
       "      <td>Latin America and Caribbean</td>\n",
       "      <td>0.778</td>\n",
       "    </tr>\n",
       "  </tbody>\n",
       "</table>\n",
       "</div>"
      ],
      "text/plain": [
       "               Country  Total Food Produced (millions)  GDP Per Capita  \\\n",
       "0          Afghanistan                        5.477190      516.747871   \n",
       "1              Albania                        1.290490     5332.160475   \n",
       "2              Algeria                       20.199229     3306.858208   \n",
       "3               Angola                        8.429773     1631.431691   \n",
       "4  Antigua and Barbuda                        0.021555    13992.744480   \n",
       "\n",
       "   Population Size (millions)                       Regions    HDI  \n",
       "0                    3.892834                    South Asia  0.511  \n",
       "1                    0.283785       Europe and Central Asia  0.795  \n",
       "2                    4.385104  Middle East and North Africa  0.748  \n",
       "3                    3.286627            Sub-Saharan Africa  0.581  \n",
       "4                    0.009793   Latin America and Caribbean  0.778  "
      ]
     },
     "execution_count": 37,
     "metadata": {},
     "output_type": "execute_result"
    }
   ],
   "source": [
    "merge_hdi.head()"
   ]
  },
  {
   "cell_type": "markdown",
   "metadata": {},
   "source": [
    "#### Group Data by the 4 levels of HDI\n",
    "- Low human development (0-.55)\n",
    "- Medium human development (.55-.70)\n",
    "- High human development (.70-80)\n",
    "- Very high human development (.80-1.0)"
   ]
  },
  {
   "cell_type": "code",
   "execution_count": 38,
   "metadata": {},
   "outputs": [],
   "source": [
    "low_hdi = merge_hdi.loc[merge_hdi['HDI']<= 0.55, :]\n",
    "med_hdi = merge_hdi.loc[(merge_hdi['HDI']>0.55)&(merge_hdi['HDI']<=0.7), :]\n",
    "high_hdi = merge_hdi.loc[(merge_hdi['HDI']>0.7)&(merge_hdi['HDI']<=0.8), :]\n",
    "very_high_hdi = merge_hdi.loc[(merge_hdi['HDI']>0.8), :]"
   ]
  },
  {
   "cell_type": "code",
   "execution_count": 39,
   "metadata": {},
   "outputs": [
    {
     "name": "stdout",
     "output_type": "stream",
     "text": [
      "Low:\n",
      "Country                                       Uganda\n",
      "Total Food Produced (millions)             47.447814\n",
      "GDP Per Capita                           3219.701128\n",
      "Population Size (millions)                 20.613959\n",
      "Regions                           Sub-Saharan Africa\n",
      "HDI                                            0.546\n",
      "dtype: object\n",
      "\n",
      "Medium:\n",
      "Country                                     Zimbabwe\n",
      "Total Food Produced (millions)            247.270061\n",
      "GDP Per Capita                           7198.335884\n",
      "Population Size (millions)                138.000439\n",
      "Regions                           Sub-Saharan Africa\n",
      "HDI                                            0.686\n",
      "dtype: object\n",
      "\n",
      "High:\n",
      "Country                                   Uzbekistan\n",
      "Total Food Produced (millions)            861.524402\n",
      "GDP Per Capita                          15285.940487\n",
      "Population Size (millions)                    141.11\n",
      "Regions                           Sub-Saharan Africa\n",
      "HDI                                            0.796\n",
      "dtype: object\n",
      "\n",
      "Very High:\n",
      "Country                                      Uruguay\n",
      "Total Food Produced (millions)             41.697563\n",
      "GDP Per Capita                         116356.158037\n",
      "Population Size (millions)                   12.6261\n",
      "Regions                           Sub-Saharan Africa\n",
      "HDI                                            0.957\n",
      "dtype: object\n"
     ]
    }
   ],
   "source": [
    "print(f\"Low:\\n{low_hdi.max()}\")\n",
    "print(f\"\\nMedium:\\n{med_hdi.max()}\")\n",
    "print(f\"\\nHigh:\\n{high_hdi.max()}\")\n",
    "print(f\"\\nVery High:\\n{very_high_hdi.max()}\")"
   ]
  },
  {
   "cell_type": "code",
   "execution_count": 40,
   "metadata": {},
   "outputs": [
    {
     "name": "stderr",
     "output_type": "stream",
     "text": [
      "C:\\Users\\krist\\AppData\\Local\\Temp\\ipykernel_32516\\1411921957.py:2: SettingWithCopyWarning: \n",
      "A value is trying to be set on a copy of a slice from a DataFrame.\n",
      "Try using .loc[row_indexer,col_indexer] = value instead\n",
      "\n",
      "See the caveats in the documentation: https://pandas.pydata.org/pandas-docs/stable/user_guide/indexing.html#returning-a-view-versus-a-copy\n",
      "  low_hdi['HDI Range'] = ['Low' for x in range(0, len(low_hdi))]\n",
      "C:\\Users\\krist\\AppData\\Local\\Temp\\ipykernel_32516\\1411921957.py:3: SettingWithCopyWarning: \n",
      "A value is trying to be set on a copy of a slice from a DataFrame.\n",
      "Try using .loc[row_indexer,col_indexer] = value instead\n",
      "\n",
      "See the caveats in the documentation: https://pandas.pydata.org/pandas-docs/stable/user_guide/indexing.html#returning-a-view-versus-a-copy\n",
      "  med_hdi['HDI Range'] = [\"Medium\" for x in range(0, len(med_hdi))]\n",
      "C:\\Users\\krist\\AppData\\Local\\Temp\\ipykernel_32516\\1411921957.py:4: SettingWithCopyWarning: \n",
      "A value is trying to be set on a copy of a slice from a DataFrame.\n",
      "Try using .loc[row_indexer,col_indexer] = value instead\n",
      "\n",
      "See the caveats in the documentation: https://pandas.pydata.org/pandas-docs/stable/user_guide/indexing.html#returning-a-view-versus-a-copy\n",
      "  high_hdi['HDI Range'] = [\"High\" for x in range(0, len(high_hdi))]\n",
      "C:\\Users\\krist\\AppData\\Local\\Temp\\ipykernel_32516\\1411921957.py:5: SettingWithCopyWarning: \n",
      "A value is trying to be set on a copy of a slice from a DataFrame.\n",
      "Try using .loc[row_indexer,col_indexer] = value instead\n",
      "\n",
      "See the caveats in the documentation: https://pandas.pydata.org/pandas-docs/stable/user_guide/indexing.html#returning-a-view-versus-a-copy\n",
      "  very_high_hdi[\"HDI Range\"] = [\"Very High\" for x in range(0, len(very_high_hdi))]\n"
     ]
    },
    {
     "data": {
      "text/plain": [
       "150"
      ]
     },
     "execution_count": 40,
     "metadata": {},
     "output_type": "execute_result"
    }
   ],
   "source": [
    "# Create a column with it's value\n",
    "low_hdi['HDI Range'] = ['Low' for x in range(0, len(low_hdi))]\n",
    "med_hdi['HDI Range'] = [\"Medium\" for x in range(0, len(med_hdi))]\n",
    "high_hdi['HDI Range'] = [\"High\" for x in range(0, len(high_hdi))]\n",
    "very_high_hdi[\"HDI Range\"] = [\"Very High\" for x in range(0, len(very_high_hdi))]\n",
    "hdi_range_df = pd.concat([low_hdi, med_hdi, high_hdi, very_high_hdi], axis = 0)\n",
    "len(hdi_range_df)"
   ]
  },
  {
   "cell_type": "markdown",
   "metadata": {},
   "source": [
    "### South Asia HDI"
   ]
  },
  {
   "cell_type": "code",
   "execution_count": 41,
   "metadata": {},
   "outputs": [
    {
     "data": {
      "text/html": [
       "<div>\n",
       "<style scoped>\n",
       "    .dataframe tbody tr th:only-of-type {\n",
       "        vertical-align: middle;\n",
       "    }\n",
       "\n",
       "    .dataframe tbody tr th {\n",
       "        vertical-align: top;\n",
       "    }\n",
       "\n",
       "    .dataframe thead th {\n",
       "        text-align: right;\n",
       "    }\n",
       "</style>\n",
       "<table border=\"1\" class=\"dataframe\">\n",
       "  <thead>\n",
       "    <tr style=\"text-align: right;\">\n",
       "      <th></th>\n",
       "      <th>Country</th>\n",
       "      <th>Total Food Produced (millions)</th>\n",
       "      <th>GDP Per Capita</th>\n",
       "      <th>Population Size (millions)</th>\n",
       "      <th>Regions</th>\n",
       "      <th>HDI</th>\n",
       "      <th>HDI Range</th>\n",
       "    </tr>\n",
       "  </thead>\n",
       "  <tbody>\n",
       "    <tr>\n",
       "      <th>0</th>\n",
       "      <td>Afghanistan</td>\n",
       "      <td>5.477190</td>\n",
       "      <td>516.747871</td>\n",
       "      <td>3.892834</td>\n",
       "      <td>South Asia</td>\n",
       "      <td>0.511</td>\n",
       "      <td>Low</td>\n",
       "    </tr>\n",
       "    <tr>\n",
       "      <th>11</th>\n",
       "      <td>Bangladesh</td>\n",
       "      <td>53.308693</td>\n",
       "      <td>2270.347535</td>\n",
       "      <td>16.468938</td>\n",
       "      <td>South Asia</td>\n",
       "      <td>0.632</td>\n",
       "      <td>Medium</td>\n",
       "    </tr>\n",
       "    <tr>\n",
       "      <th>17</th>\n",
       "      <td>Bhutan</td>\n",
       "      <td>0.209621</td>\n",
       "      <td>3000.777986</td>\n",
       "      <td>0.077161</td>\n",
       "      <td>South Asia</td>\n",
       "      <td>0.654</td>\n",
       "      <td>Medium</td>\n",
       "    </tr>\n",
       "    <tr>\n",
       "      <th>63</th>\n",
       "      <td>India</td>\n",
       "      <td>247.270061</td>\n",
       "      <td>1933.101069</td>\n",
       "      <td>138.000439</td>\n",
       "      <td>South Asia</td>\n",
       "      <td>0.645</td>\n",
       "      <td>Medium</td>\n",
       "    </tr>\n",
       "    <tr>\n",
       "      <th>99</th>\n",
       "      <td>Nepal</td>\n",
       "      <td>13.531306</td>\n",
       "      <td>1147.471971</td>\n",
       "      <td>2.913681</td>\n",
       "      <td>South Asia</td>\n",
       "      <td>0.602</td>\n",
       "      <td>Medium</td>\n",
       "    </tr>\n",
       "    <tr>\n",
       "      <th>108</th>\n",
       "      <td>Pakistan</td>\n",
       "      <td>180.446048</td>\n",
       "      <td>1359.514522</td>\n",
       "      <td>22.089233</td>\n",
       "      <td>South Asia</td>\n",
       "      <td>0.557</td>\n",
       "      <td>Medium</td>\n",
       "    </tr>\n",
       "    <tr>\n",
       "      <th>86</th>\n",
       "      <td>Maldives</td>\n",
       "      <td>0.001374</td>\n",
       "      <td>6924.105745</td>\n",
       "      <td>0.054054</td>\n",
       "      <td>South Asia</td>\n",
       "      <td>0.740</td>\n",
       "      <td>High</td>\n",
       "    </tr>\n",
       "    <tr>\n",
       "      <th>131</th>\n",
       "      <td>Sri Lanka</td>\n",
       "      <td>3.737842</td>\n",
       "      <td>3694.040948</td>\n",
       "      <td>2.191900</td>\n",
       "      <td>South Asia</td>\n",
       "      <td>0.782</td>\n",
       "      <td>High</td>\n",
       "    </tr>\n",
       "  </tbody>\n",
       "</table>\n",
       "</div>"
      ],
      "text/plain": [
       "         Country  Total Food Produced (millions)  GDP Per Capita  \\\n",
       "0    Afghanistan                        5.477190      516.747871   \n",
       "11    Bangladesh                       53.308693     2270.347535   \n",
       "17        Bhutan                        0.209621     3000.777986   \n",
       "63         India                      247.270061     1933.101069   \n",
       "99         Nepal                       13.531306     1147.471971   \n",
       "108     Pakistan                      180.446048     1359.514522   \n",
       "86      Maldives                        0.001374     6924.105745   \n",
       "131    Sri Lanka                        3.737842     3694.040948   \n",
       "\n",
       "     Population Size (millions)     Regions    HDI HDI Range  \n",
       "0                      3.892834  South Asia  0.511       Low  \n",
       "11                    16.468938  South Asia  0.632    Medium  \n",
       "17                     0.077161  South Asia  0.654    Medium  \n",
       "63                   138.000439  South Asia  0.645    Medium  \n",
       "99                     2.913681  South Asia  0.602    Medium  \n",
       "108                   22.089233  South Asia  0.557    Medium  \n",
       "86                     0.054054  South Asia  0.740      High  \n",
       "131                    2.191900  South Asia  0.782      High  "
      ]
     },
     "execution_count": 41,
     "metadata": {},
     "output_type": "execute_result"
    }
   ],
   "source": [
    "s_asia_hdi = hdi_range_df.loc[hdi_range_df[\"Regions\"] == \"South Asia\"]\n",
    "s_asia_hdi"
   ]
  },
  {
   "cell_type": "code",
   "execution_count": 42,
   "metadata": {},
   "outputs": [
    {
     "data": {
      "text/plain": [
       "array(['Low', 'Medium', 'High', 'Very High'], dtype=object)"
      ]
     },
     "execution_count": 42,
     "metadata": {},
     "output_type": "execute_result"
    }
   ],
   "source": [
    "hdi_range_df[\"HDI Range\"].unique()"
   ]
  },
  {
   "cell_type": "code",
   "execution_count": 43,
   "metadata": {},
   "outputs": [
    {
     "data": {
      "image/png": "[encoded data removed]",
      "text/plain": [
       "<Figure size 432x288 with 2 Axes>"
      ]
     },
     "metadata": {
      "needs_background": "light"
     },
     "output_type": "display_data"
    },
    {
     "name": "stdout",
     "output_type": "stream",
     "text": [
      "NormaltestResult(statistic=4.1166719614268725, pvalue=0.12766623231427585)\n",
      "NormaltestResult(statistic=7.017255813736865, pvalue=0.029937963943313047)\n"
     ]
    },
    {
     "name": "stderr",
     "output_type": "stream",
     "text": [
      "c:\\Users\\krist\\anaconda3\\lib\\site-packages\\scipy\\stats\\stats.py:1541: UserWarning: kurtosistest only valid for n>=20 ... continuing anyway, n=8\n",
      "  warnings.warn(\"kurtosistest only valid for n>=20 ... continuing \"\n"
     ]
    }
   ],
   "source": [
    "# Histogram\n",
    "fig, ax = plt.subplots(1, 2)\n",
    "colors=sns.color_palette(['powderblue', 'lightskyblue', 'deepskyblue'])\n",
    "sns.histplot(data=s_asia_hdi, x='Total Food Produced (millions)', ax=ax[0], hue=\"HDI Range\", multiple=\"stack\", palette=colors, legend=None)\n",
    "sns.histplot(data=s_asia_hdi, x=\"GDP Per Capita\", ax=ax[1], hue=\"HDI Range\", multiple=\"stack\", palette=colors)\n",
    "ax[0].set_title(\"Histogram of the Total Food Produced\\nin South Asia\", wrap=True)\n",
    "ax[1].set_title(\"Histogram of GDP Per Capita\\nin South Asia\", wrap=True)\n",
    "ax[0].set_xlabel(\"Total Food Produced (millions)\")\n",
    "ax[1].set_xlabel(\"GDP Per Capita\")\n",
    "ax[0].set_ylabel(\"Count\")\n",
    "ax[1].set_ylim(0, 6)\n",
    "fig.tight_layout()\n",
    "plt.savefig(\"./Graphs/Question4-Images/histogram_south_asia_hdi.png\")\n",
    "plt.show()\n",
    "print(st.normaltest(s_asia[\"Total Food Produced (millions)\"]))\n",
    "print(st.normaltest(s_asia[\"GDP Per Capita\"]))"
   ]
  },
  {
   "cell_type": "code",
   "execution_count": 44,
   "metadata": {},
   "outputs": [
    {
     "name": "stderr",
     "output_type": "stream",
     "text": [
      "c:\\Users\\krist\\anaconda3\\lib\\site-packages\\seaborn\\_decorators.py:36: FutureWarning: Pass the following variables as keyword args: x, y. From version 0.12, the only valid positional argument will be `data`, and passing other arguments without an explicit keyword will result in an error or misinterpretation.\n",
      "  warnings.warn(\n"
     ]
    },
    {
     "data": {
      "image/png": "[encoded data removed]",
      "text/plain": [
       "<Figure size 436x360 with 1 Axes>"
      ]
     },
     "metadata": {
      "needs_background": "light"
     },
     "output_type": "display_data"
    }
   ],
   "source": [
    "x_values=s_asia_hdi['Total Food Produced (millions)']\n",
    "y_values=s_asia_hdi['GDP Per Capita']\n",
    "colors=sns.color_palette(['lightskyblue', 'deepskyblue', 'seagreen'])\n",
    "sns.lmplot(\"Total Food Produced (millions)\", \"GDP Per Capita\", data=s_asia_hdi, hue=\"HDI Range\",\n",
    "    fit_reg=False, palette=colors).set(\n",
    "    title=f\"Relationship between Total Food Produced and GDP Per Capita\\nAmong South Asian Countries\\nCorrelation:{round(st.pearsonr(x_values,y_values)[0],2)}\")\n",
    "plt.tight_layout()\n",
    "plt.savefig(\"./Graphs/Question4-Images/food_gdp_hdi_correlation.png\")\n",
    "plt.show()"
   ]
  },
  {
   "cell_type": "markdown",
   "metadata": {},
   "source": [
    "### Correlation Analysis for Total Food Produced and HDI"
   ]
  },
  {
   "cell_type": "code",
   "execution_count": 45,
   "metadata": {},
   "outputs": [],
   "source": [
    "x_values = merge_hdi['Total Food Produced (millions)']\n",
    "y_values = merge_hdi['HDI']"
   ]
  },
  {
   "cell_type": "code",
   "execution_count": 46,
   "metadata": {},
   "outputs": [
    {
     "data": {
      "image/png": "[encoded data removed]",
      "text/plain": [
       "<Figure size 432x288 with 1 Axes>"
      ]
     },
     "metadata": {
      "needs_background": "light"
     },
     "output_type": "display_data"
    },
    {
     "name": "stdout",
     "output_type": "stream",
     "text": [
      "Correlation: -0.0\n"
     ]
    }
   ],
   "source": [
    "plt.scatter(x_values,y_values)\n",
    "plt.xlabel(\"Total Food Produced (millions)\")\n",
    "plt.ylabel(\"Human Development Index\")\n",
    "plt.show()\n",
    "print(f\"Correlation: {round(st.pearsonr(x_values,y_values)[0],2)}\")"
   ]
  },
  {
   "cell_type": "markdown",
   "metadata": {},
   "source": [
    "No correlation between HDI and Food Produced"
   ]
  },
  {
   "cell_type": "code",
   "execution_count": 47,
   "metadata": {},
   "outputs": [
    {
     "data": {
      "image/png": "[encoded data removed]",
      "text/plain": [
       "<Figure size 432x288 with 1 Axes>"
      ]
     },
     "metadata": {
      "needs_background": "light"
     },
     "output_type": "display_data"
    },
    {
     "name": "stdout",
     "output_type": "stream",
     "text": [
      "Correlation: -0.04\n"
     ]
    }
   ],
   "source": [
    "x_values=merge_hdi['Population Size (millions)']\n",
    "y_values = merge_hdi['HDI']\n",
    "plt.scatter(x_values, y_values)\n",
    "plt.xlabel(\"Population Size\")\n",
    "plt.ylabel(\"Human Development Index\")\n",
    "plt.show()\n",
    "print(f\"Correlation: {round(st.pearsonr(x_values,y_values)[0],2)}\")"
   ]
  },
  {
   "cell_type": "code",
   "execution_count": 48,
   "metadata": {},
   "outputs": [],
   "source": [
    "# Look within first 95% quantile\n",
    "top_95 = merge_hdi.loc[merge_hdi['Population Size (millions)']<merge_hdi['Population Size (millions)'].quantile(0.95), :]"
   ]
  },
  {
   "cell_type": "code",
   "execution_count": 49,
   "metadata": {},
   "outputs": [
    {
     "data": {
      "image/png": "[encoded data removed]",
      "text/plain": [
       "<Figure size 432x288 with 1 Axes>"
      ]
     },
     "metadata": {
      "needs_background": "light"
     },
     "output_type": "display_data"
    },
    {
     "name": "stdout",
     "output_type": "stream",
     "text": [
      "Correlation: 0.78\n"
     ]
    }
   ],
   "source": [
    "x_values=top_95['Population Size (millions)']\n",
    "y_values=top_95['Total Food Produced (millions)']\n",
    "plt.scatter(x_values, y_values)\n",
    "plt.xlabel(\"Population Size (millions)\")\n",
    "plt.ylabel(\"Total Food Produced (millions)\")\n",
    "plt.show()\n",
    "print(f\"Correlation: {round(st.pearsonr(x_values,y_values)[0],2)}\")"
   ]
  },
  {
   "cell_type": "markdown",
   "metadata": {},
   "source": [
    "### Correlation Analysis with GDP Per Capita and HDI\n",
    "Should be correlated"
   ]
  },
  {
   "cell_type": "code",
   "execution_count": 50,
   "metadata": {},
   "outputs": [],
   "source": [
    "x_values = merge_hdi['GDP Per Capita']\n",
    "y_values = merge_hdi['HDI']"
   ]
  },
  {
   "cell_type": "code",
   "execution_count": 51,
   "metadata": {},
   "outputs": [
    {
     "data": {
      "image/png": "[encoded data removed]",
      "text/plain": [
       "<Figure size 432x288 with 1 Axes>"
      ]
     },
     "metadata": {
      "needs_background": "light"
     },
     "output_type": "display_data"
    },
    {
     "name": "stdout",
     "output_type": "stream",
     "text": [
      "Correlation: 0.7\n"
     ]
    }
   ],
   "source": [
    "plt.scatter(x_values,y_values)\n",
    "plt.xlabel(\"GDP Per Capita\")\n",
    "plt.ylabel(\"Human Development Index\")\n",
    "plt.show()\n",
    "print(f\"Correlation: {round(st.pearsonr(x_values,y_values)[0],2)}\")"
   ]
  },
  {
   "cell_type": "markdown",
   "metadata": {},
   "source": [
    "Strong Correlation; graph looks like it is exponential. At some point in gdp, the HDI index starts to level slow down in it's rate of increase."
   ]
  },
  {
   "cell_type": "markdown",
   "metadata": {},
   "source": [
    "Complete Correlation analyses on all 4 regions"
   ]
  },
  {
   "cell_type": "code",
   "execution_count": 52,
   "metadata": {},
   "outputs": [
    {
     "name": "stderr",
     "output_type": "stream",
     "text": [
      "c:\\Users\\krist\\anaconda3\\lib\\site-packages\\seaborn\\_decorators.py:36: FutureWarning: Pass the following variables as keyword args: x, y. From version 0.12, the only valid positional argument will be `data`, and passing other arguments without an explicit keyword will result in an error or misinterpretation.\n",
      "  warnings.warn(\n"
     ]
    },
    {
     "data": {
      "image/png": "[encoded data removed]",
      "text/plain": [
       "<Figure size 444.5x360 with 1 Axes>"
      ]
     },
     "metadata": {
      "needs_background": "light"
     },
     "output_type": "display_data"
    }
   ],
   "source": [
    "sns.set_palette(sns.color_palette(['crimson', 'darkorange', 'gold', 'steelblue']))\n",
    "sns.lmplot(\"Total Food Produced (millions)\", \"GDP Per Capita\", data=hdi_range_df, hue=\"HDI Range\", scatter_kws={'linewidths':1,'edgecolor':'black'},\n",
    "    fit_reg=False).set(\n",
    "    title=f\"Relationship between Total Food Produced and GDP Per Capita\\n(All Countries)\\nCorrelation:{round(st.pearsonr(x_values,y_values)[0],2)}\")\n",
    "plt.tight_layout()\n",
    "plt.savefig(\"./Graphs/Question4-Images/tot_food_gdp_hdi_correlation.png\")\n",
    "plt.show()"
   ]
  },
  {
   "cell_type": "code",
   "execution_count": 97,
   "metadata": {},
   "outputs": [
    {
     "name": "stderr",
     "output_type": "stream",
     "text": [
      "c:\\Users\\krist\\anaconda3\\lib\\site-packages\\seaborn\\_decorators.py:36: FutureWarning: Pass the following variables as keyword args: x, y. From version 0.12, the only valid positional argument will be `data`, and passing other arguments without an explicit keyword will result in an error or misinterpretation.\n",
      "  warnings.warn(\n"
     ]
    },
    {
     "data": {
      "image/png": "[encoded data removed]",
      "text/plain": [
       "<Figure size 444.5x360 with 1 Axes>"
      ]
     },
     "metadata": {
      "needs_background": "light"
     },
     "output_type": "display_data"
    }
   ],
   "source": [
    "# Population\n",
    "sns.lmplot(\"Population Size (millions)\",\"Total Food Produced (millions)\", data=hdi_range_df, hue=\"HDI Range\", scatter_kws={'linewidths':1,'edgecolor':'darkgreen'}, fit_reg=False)\n",
    "plt.show()"
   ]
  },
  {
   "cell_type": "code",
   "execution_count": 102,
   "metadata": {},
   "outputs": [
    {
     "data": {
      "image/png": "[encoded data removed]",
      "text/plain": [
       "<Figure size 432x288 with 1 Axes>"
      ]
     },
     "metadata": {
      "needs_background": "light"
     },
     "output_type": "display_data"
    },
    {
     "name": "stdout",
     "output_type": "stream",
     "text": [
      "Correlation: 0.19\n"
     ]
    }
   ],
   "source": [
    "low_x_values = low_hdi['Total Food Produced (millions)']\n",
    "low_y_values = low_hdi['GDP Per Capita']\n",
    "plt.scatter(low_x_values,low_y_values, c=\"seagreen\")\n",
    "plt.ylabel(\"GDP Per Capita\")\n",
    "plt.xlabel(\"Total Food Produced\")\n",
    "plt.show()\n",
    "print(f\"Correlation: {round(st.pearsonr(low_x_values,low_y_values)[0],2)}\")"
   ]
  },
  {
   "cell_type": "code",
   "execution_count": 104,
   "metadata": {},
   "outputs": [
    {
     "data": {
      "image/png": "[encoded data removed]",
      "text/plain": [
       "<Figure size 432x288 with 1 Axes>"
      ]
     },
     "metadata": {
      "needs_background": "light"
     },
     "output_type": "display_data"
    },
    {
     "name": "stdout",
     "output_type": "stream",
     "text": [
      "Correlation: -0.19\n"
     ]
    }
   ],
   "source": [
    "med_x_values = med_hdi['Total Food Produced (millions)']\n",
    "med_y_values = med_hdi['GDP Per Capita']\n",
    "plt.scatter(med_x_values,med_y_values, c=\"seagreen\")\n",
    "plt.ylabel(\"GDP Per Capita\")\n",
    "plt.xlabel(\"Total Food Produced\")\n",
    "plt.show()\n",
    "print(f\"Correlation: {round(st.pearsonr(med_x_values,med_y_values)[0],2)}\")"
   ]
  },
  {
   "cell_type": "code",
   "execution_count": 105,
   "metadata": {},
   "outputs": [
    {
     "data": {
      "image/png": "[encoded data removed]",
      "text/plain": [
       "<Figure size 432x288 with 1 Axes>"
      ]
     },
     "metadata": {
      "needs_background": "light"
     },
     "output_type": "display_data"
    },
    {
     "name": "stdout",
     "output_type": "stream",
     "text": [
      "Correlation: 0.17\n"
     ]
    }
   ],
   "source": [
    "high_x_values = high_hdi['Total Food Produced (millions)']\n",
    "high_y_values = high_hdi['GDP Per Capita']\n",
    "plt.scatter(high_x_values,high_y_values, c=\"seagreen\")\n",
    "plt.ylabel(\"GDP Per Capita\")\n",
    "plt.xlabel(\"Total Food Produced\")\n",
    "plt.show()\n",
    "print(f\"Correlation: {round(st.pearsonr(high_x_values,high_y_values)[0],2)}\")"
   ]
  },
  {
   "cell_type": "code",
   "execution_count": 106,
   "metadata": {},
   "outputs": [
    {
     "data": {
      "image/png": "[encoded data removed]",
      "text/plain": [
       "<Figure size 432x288 with 1 Axes>"
      ]
     },
     "metadata": {
      "needs_background": "light"
     },
     "output_type": "display_data"
    },
    {
     "name": "stdout",
     "output_type": "stream",
     "text": [
      "Correlation: -0.11\n"
     ]
    }
   ],
   "source": [
    "very_high_x_values = very_high_hdi['Total Food Produced (millions)']\n",
    "very_high_y_values = very_high_hdi['GDP Per Capita']\n",
    "plt.scatter(very_high_x_values,very_high_y_values, c=\"seagreen\")\n",
    "plt.ylabel(\"GDP Per Capita\")\n",
    "plt.xlabel(\"Total Food Produced\")\n",
    "plt.show()\n",
    "print(f\"Correlation: {round(st.pearsonr(very_high_x_values,very_high_y_values)[0],2)}\")"
   ]
  },
  {
   "cell_type": "code",
   "execution_count": 109,
   "metadata": {},
   "outputs": [],
   "source": [
    "# Create a Scatterplot Function\n",
    "def show_scat(x_values, y_values):\n",
    "    plt.scatter(x_values,y_values, c=\"seagreen\")\n",
    "    plt.xlabel(\"GDP Per Capita\")\n",
    "    plt.ylabel(\"Human Development Index\")\n",
    "    plt.show()\n",
    "    print(f\"Correlation: {round(st.pearsonr(x_values,y_values)[0],2)}\")"
   ]
  },
  {
   "cell_type": "code",
   "execution_count": 110,
   "metadata": {},
   "outputs": [
    {
     "data": {
      "image/png": "[encoded data removed]",
      "text/plain": [
       "<Figure size 432x288 with 1 Axes>"
      ]
     },
     "metadata": {
      "needs_background": "light"
     },
     "output_type": "display_data"
    },
    {
     "name": "stdout",
     "output_type": "stream",
     "text": [
      "Correlation: 0.07\n"
     ]
    }
   ],
   "source": [
    "show_scat(low_hdi['Total Food Produced (millions)'], low_hdi[\"HDI\"])"
   ]
  }
 ],
 "metadata": {
  "kernelspec": {
   "display_name": "Python 3.9.12 ('base')",
   "language": "python",
   "name": "python3"
  },
  "language_info": {
   "codemirror_mode": {
    "name": "ipython",
    "version": 3
   },
   "file_extension": ".py",
   "mimetype": "text/x-python",
   "name": "python",
   "nbconvert_exporter": "python",
   "pygments_lexer": "ipython3",
   "version": "3.9.12"
  },
  "orig_nbformat": 4,
  "vscode": {
   "interpreter": {
    "hash": "fd5f0602b361fcd80b6e43c9db32d5ff96b182a40640908c77b502a93aa9387e"
   }
  }
 },
 "nbformat": 4,
 "nbformat_minor": 2
}
