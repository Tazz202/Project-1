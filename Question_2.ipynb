{
 "cells": [
  {
   "cell_type": "code",
   "execution_count": 2,
   "metadata": {},
   "outputs": [],
   "source": [
    "import pandas as pd\n",
    "import matplotlib.pyplot as plt\n",
    "import numpy as np"
   ]
  },
  {
   "cell_type": "code",
   "execution_count": 3,
   "metadata": {},
   "outputs": [
    {
     "data": {
      "text/html": [
       "<div>\n",
       "<style scoped>\n",
       "    .dataframe tbody tr th:only-of-type {\n",
       "        vertical-align: middle;\n",
       "    }\n",
       "\n",
       "    .dataframe tbody tr th {\n",
       "        vertical-align: top;\n",
       "    }\n",
       "\n",
       "    .dataframe thead th {\n",
       "        text-align: right;\n",
       "    }\n",
       "</style>\n",
       "<table border=\"1\" class=\"dataframe\">\n",
       "  <thead>\n",
       "    <tr style=\"text-align: right;\">\n",
       "      <th></th>\n",
       "      <th>Country</th>\n",
       "      <th>Year</th>\n",
       "      <th>Value</th>\n",
       "      <th>Population Size</th>\n",
       "      <th>2020 GDP in USD</th>\n",
       "      <th>GDP Per Capita</th>\n",
       "    </tr>\n",
       "  </thead>\n",
       "  <tbody>\n",
       "    <tr>\n",
       "      <th>0</th>\n",
       "      <td>Afghanistan</td>\n",
       "      <td>2020</td>\n",
       "      <td>54771898.0</td>\n",
       "      <td>38928341.0</td>\n",
       "      <td>2.011614e+10</td>\n",
       "      <td>516.747871</td>\n",
       "    </tr>\n",
       "    <tr>\n",
       "      <th>1</th>\n",
       "      <td>Albania</td>\n",
       "      <td>2020</td>\n",
       "      <td>12904896.0</td>\n",
       "      <td>2837849.0</td>\n",
       "      <td>1.513187e+10</td>\n",
       "      <td>5332.160475</td>\n",
       "    </tr>\n",
       "    <tr>\n",
       "      <th>2</th>\n",
       "      <td>Algeria</td>\n",
       "      <td>2020</td>\n",
       "      <td>201992285.0</td>\n",
       "      <td>43851043.0</td>\n",
       "      <td>1.450092e+11</td>\n",
       "      <td>3306.858208</td>\n",
       "    </tr>\n",
       "    <tr>\n",
       "      <th>3</th>\n",
       "      <td>Angola</td>\n",
       "      <td>2020</td>\n",
       "      <td>84297733.0</td>\n",
       "      <td>32866268.0</td>\n",
       "      <td>5.361907e+10</td>\n",
       "      <td>1631.431691</td>\n",
       "    </tr>\n",
       "    <tr>\n",
       "      <th>4</th>\n",
       "      <td>Antigua and Barbuda</td>\n",
       "      <td>2020</td>\n",
       "      <td>215545.0</td>\n",
       "      <td>97928.0</td>\n",
       "      <td>1.370281e+09</td>\n",
       "      <td>13992.744480</td>\n",
       "    </tr>\n",
       "  </tbody>\n",
       "</table>\n",
       "</div>"
      ],
      "text/plain": [
       "               Country  Year        Value  Population Size  2020 GDP in USD  \\\n",
       "0          Afghanistan  2020   54771898.0       38928341.0     2.011614e+10   \n",
       "1              Albania  2020   12904896.0        2837849.0     1.513187e+10   \n",
       "2              Algeria  2020  201992285.0       43851043.0     1.450092e+11   \n",
       "3               Angola  2020   84297733.0       32866268.0     5.361907e+10   \n",
       "4  Antigua and Barbuda  2020     215545.0          97928.0     1.370281e+09   \n",
       "\n",
       "   GDP Per Capita  \n",
       "0      516.747871  \n",
       "1     5332.160475  \n",
       "2     3306.858208  \n",
       "3     1631.431691  \n",
       "4    13992.744480  "
      ]
     },
     "execution_count": 3,
     "metadata": {},
     "output_type": "execute_result"
    }
   ],
   "source": [
    "file = \"Resources/merged_data.csv\"\n",
    "\n",
    "data = pd.read_csv(file)\n",
    "data.head()"
   ]
  },
  {
   "cell_type": "markdown",
   "metadata": {},
   "source": [
    "Looking for the top 5 max and min populations"
   ]
  },
  {
   "cell_type": "code",
   "execution_count": 4,
   "metadata": {},
   "outputs": [
    {
     "data": {
      "text/plain": [
       "10834.0"
      ]
     },
     "execution_count": 4,
     "metadata": {},
     "output_type": "execute_result"
    }
   ],
   "source": [
    "data[\"Population Size\"].min()"
   ]
  },
  {
   "cell_type": "code",
   "execution_count": 5,
   "metadata": {},
   "outputs": [
    {
     "data": {
      "text/html": [
       "<div>\n",
       "<style scoped>\n",
       "    .dataframe tbody tr th:only-of-type {\n",
       "        vertical-align: middle;\n",
       "    }\n",
       "\n",
       "    .dataframe tbody tr th {\n",
       "        vertical-align: top;\n",
       "    }\n",
       "\n",
       "    .dataframe thead th {\n",
       "        text-align: right;\n",
       "    }\n",
       "</style>\n",
       "<table border=\"1\" class=\"dataframe\">\n",
       "  <thead>\n",
       "    <tr style=\"text-align: right;\">\n",
       "      <th></th>\n",
       "      <th>Country</th>\n",
       "      <th>Year</th>\n",
       "      <th>Value</th>\n",
       "      <th>Population Size</th>\n",
       "      <th>2020 GDP in USD</th>\n",
       "      <th>GDP Per Capita</th>\n",
       "    </tr>\n",
       "  </thead>\n",
       "  <tbody>\n",
       "    <tr>\n",
       "      <th>105</th>\n",
       "      <td>Nauru</td>\n",
       "      <td>2020</td>\n",
       "      <td>11426.0</td>\n",
       "      <td>10834.0</td>\n",
       "      <td>1.146266e+08</td>\n",
       "      <td>10580.268188</td>\n",
       "    </tr>\n",
       "  </tbody>\n",
       "</table>\n",
       "</div>"
      ],
      "text/plain": [
       "    Country  Year    Value  Population Size  2020 GDP in USD  GDP Per Capita\n",
       "105   Nauru  2020  11426.0          10834.0     1.146266e+08    10580.268188"
      ]
     },
     "execution_count": 5,
     "metadata": {},
     "output_type": "execute_result"
    }
   ],
   "source": [
    "data.loc[data[\"Population Size\"] == data[\"Population Size\"].min()]"
   ]
  },
  {
   "cell_type": "code",
   "execution_count": 6,
   "metadata": {},
   "outputs": [
    {
     "data": {
      "text/html": [
       "<div>\n",
       "<style scoped>\n",
       "    .dataframe tbody tr th:only-of-type {\n",
       "        vertical-align: middle;\n",
       "    }\n",
       "\n",
       "    .dataframe tbody tr th {\n",
       "        vertical-align: top;\n",
       "    }\n",
       "\n",
       "    .dataframe thead th {\n",
       "        text-align: right;\n",
       "    }\n",
       "</style>\n",
       "<table border=\"1\" class=\"dataframe\">\n",
       "  <thead>\n",
       "    <tr style=\"text-align: right;\">\n",
       "      <th></th>\n",
       "      <th>Country</th>\n",
       "      <th>Year</th>\n",
       "      <th>Value</th>\n",
       "      <th>Population Size</th>\n",
       "      <th>2020 GDP in USD</th>\n",
       "      <th>GDP Per Capita</th>\n",
       "    </tr>\n",
       "  </thead>\n",
       "  <tbody>\n",
       "    <tr>\n",
       "      <th>105</th>\n",
       "      <td>Nauru</td>\n",
       "      <td>2020</td>\n",
       "      <td>11426.0</td>\n",
       "      <td>10834.0</td>\n",
       "      <td>1.146266e+08</td>\n",
       "      <td>10580.268188</td>\n",
       "    </tr>\n",
       "    <tr>\n",
       "      <th>157</th>\n",
       "      <td>Tuvalu</td>\n",
       "      <td>2020</td>\n",
       "      <td>73782.0</td>\n",
       "      <td>11792.0</td>\n",
       "      <td>5.505471e+07</td>\n",
       "      <td>4668.818743</td>\n",
       "    </tr>\n",
       "    <tr>\n",
       "      <th>50</th>\n",
       "      <td>Faroe Islands</td>\n",
       "      <td>2020</td>\n",
       "      <td>76282.0</td>\n",
       "      <td>48865.0</td>\n",
       "      <td>3.240760e+09</td>\n",
       "      <td>66320.679198</td>\n",
       "    </tr>\n",
       "    <tr>\n",
       "      <th>95</th>\n",
       "      <td>Marshall Islands</td>\n",
       "      <td>2020</td>\n",
       "      <td>23062.0</td>\n",
       "      <td>59194.0</td>\n",
       "      <td>2.444624e+08</td>\n",
       "      <td>4129.850998</td>\n",
       "    </tr>\n",
       "    <tr>\n",
       "      <th>41</th>\n",
       "      <td>Dominica</td>\n",
       "      <td>2020</td>\n",
       "      <td>320279.0</td>\n",
       "      <td>71991.0</td>\n",
       "      <td>5.042148e+08</td>\n",
       "      <td>7003.859021</td>\n",
       "    </tr>\n",
       "  </tbody>\n",
       "</table>\n",
       "</div>"
      ],
      "text/plain": [
       "              Country  Year     Value  Population Size  2020 GDP in USD  \\\n",
       "105             Nauru  2020   11426.0          10834.0     1.146266e+08   \n",
       "157            Tuvalu  2020   73782.0          11792.0     5.505471e+07   \n",
       "50      Faroe Islands  2020   76282.0          48865.0     3.240760e+09   \n",
       "95   Marshall Islands  2020   23062.0          59194.0     2.444624e+08   \n",
       "41           Dominica  2020  320279.0          71991.0     5.042148e+08   \n",
       "\n",
       "     GDP Per Capita  \n",
       "105    10580.268188  \n",
       "157     4668.818743  \n",
       "50     66320.679198  \n",
       "95      4129.850998  \n",
       "41      7003.859021  "
      ]
     },
     "execution_count": 6,
     "metadata": {},
     "output_type": "execute_result"
    }
   ],
   "source": [
    "# found this from https://stackoverflow.com/questions/59477797/how-to-find-top-n-minimum-values-from-the-dataframe-python-3\n",
    "data.nsmallest(5, \"Population Size\")"
   ]
  },
  {
   "cell_type": "code",
   "execution_count": 7,
   "metadata": {},
   "outputs": [
    {
     "data": {
      "text/html": [
       "<div>\n",
       "<style scoped>\n",
       "    .dataframe tbody tr th:only-of-type {\n",
       "        vertical-align: middle;\n",
       "    }\n",
       "\n",
       "    .dataframe tbody tr th {\n",
       "        vertical-align: top;\n",
       "    }\n",
       "\n",
       "    .dataframe thead th {\n",
       "        text-align: right;\n",
       "    }\n",
       "</style>\n",
       "<table border=\"1\" class=\"dataframe\">\n",
       "  <thead>\n",
       "    <tr style=\"text-align: right;\">\n",
       "      <th></th>\n",
       "      <th>Country</th>\n",
       "      <th>Year</th>\n",
       "      <th>Value</th>\n",
       "      <th>Population Size</th>\n",
       "      <th>2020 GDP in USD</th>\n",
       "      <th>GDP Per Capita</th>\n",
       "    </tr>\n",
       "  </thead>\n",
       "  <tbody>\n",
       "    <tr>\n",
       "      <th>105</th>\n",
       "      <td>Nauru</td>\n",
       "      <td>2020</td>\n",
       "      <td>11426.0</td>\n",
       "      <td>10834.0</td>\n",
       "      <td>1.146266e+08</td>\n",
       "      <td>10580.268188</td>\n",
       "    </tr>\n",
       "    <tr>\n",
       "      <th>157</th>\n",
       "      <td>Tuvalu</td>\n",
       "      <td>2020</td>\n",
       "      <td>73782.0</td>\n",
       "      <td>11792.0</td>\n",
       "      <td>5.505471e+07</td>\n",
       "      <td>4668.818743</td>\n",
       "    </tr>\n",
       "    <tr>\n",
       "      <th>50</th>\n",
       "      <td>Faroe Islands</td>\n",
       "      <td>2020</td>\n",
       "      <td>76282.0</td>\n",
       "      <td>48865.0</td>\n",
       "      <td>3.240760e+09</td>\n",
       "      <td>66320.679198</td>\n",
       "    </tr>\n",
       "    <tr>\n",
       "      <th>95</th>\n",
       "      <td>Marshall Islands</td>\n",
       "      <td>2020</td>\n",
       "      <td>23062.0</td>\n",
       "      <td>59194.0</td>\n",
       "      <td>2.444624e+08</td>\n",
       "      <td>4129.850998</td>\n",
       "    </tr>\n",
       "    <tr>\n",
       "      <th>41</th>\n",
       "      <td>Dominica</td>\n",
       "      <td>2020</td>\n",
       "      <td>320279.0</td>\n",
       "      <td>71991.0</td>\n",
       "      <td>5.042148e+08</td>\n",
       "      <td>7003.859021</td>\n",
       "    </tr>\n",
       "  </tbody>\n",
       "</table>\n",
       "</div>"
      ],
      "text/plain": [
       "              Country  Year     Value  Population Size  2020 GDP in USD  \\\n",
       "105             Nauru  2020   11426.0          10834.0     1.146266e+08   \n",
       "157            Tuvalu  2020   73782.0          11792.0     5.505471e+07   \n",
       "50      Faroe Islands  2020   76282.0          48865.0     3.240760e+09   \n",
       "95   Marshall Islands  2020   23062.0          59194.0     2.444624e+08   \n",
       "41           Dominica  2020  320279.0          71991.0     5.042148e+08   \n",
       "\n",
       "     GDP Per Capita  \n",
       "105    10580.268188  \n",
       "157     4668.818743  \n",
       "50     66320.679198  \n",
       "95      4129.850998  \n",
       "41      7003.859021  "
      ]
     },
     "execution_count": 7,
     "metadata": {},
     "output_type": "execute_result"
    }
   ],
   "source": [
    "bottom5 = data.nsmallest(5, \"Population Size\")\n",
    "bottom5"
   ]
  },
  {
   "cell_type": "code",
   "execution_count": 8,
   "metadata": {},
   "outputs": [
    {
     "data": {
      "text/plain": [
       "7763932702.0"
      ]
     },
     "execution_count": 8,
     "metadata": {},
     "output_type": "execute_result"
    }
   ],
   "source": [
    "data[\"Population Size\"].max()"
   ]
  },
  {
   "cell_type": "code",
   "execution_count": 9,
   "metadata": {},
   "outputs": [
    {
     "data": {
      "text/html": [
       "<div>\n",
       "<style scoped>\n",
       "    .dataframe tbody tr th:only-of-type {\n",
       "        vertical-align: middle;\n",
       "    }\n",
       "\n",
       "    .dataframe tbody tr th {\n",
       "        vertical-align: top;\n",
       "    }\n",
       "\n",
       "    .dataframe thead th {\n",
       "        text-align: right;\n",
       "    }\n",
       "</style>\n",
       "<table border=\"1\" class=\"dataframe\">\n",
       "  <thead>\n",
       "    <tr style=\"text-align: right;\">\n",
       "      <th></th>\n",
       "      <th>Country</th>\n",
       "      <th>Year</th>\n",
       "      <th>Value</th>\n",
       "      <th>Population Size</th>\n",
       "      <th>2020 GDP in USD</th>\n",
       "      <th>GDP Per Capita</th>\n",
       "    </tr>\n",
       "  </thead>\n",
       "  <tbody>\n",
       "    <tr>\n",
       "      <th>164</th>\n",
       "      <td>World</td>\n",
       "      <td>2020</td>\n",
       "      <td>4.926536e+10</td>\n",
       "      <td>7.763933e+09</td>\n",
       "      <td>8.490681e+13</td>\n",
       "      <td>10936.057466</td>\n",
       "    </tr>\n",
       "  </tbody>\n",
       "</table>\n",
       "</div>"
      ],
      "text/plain": [
       "    Country  Year         Value  Population Size  2020 GDP in USD  \\\n",
       "164   World  2020  4.926536e+10     7.763933e+09     8.490681e+13   \n",
       "\n",
       "     GDP Per Capita  \n",
       "164    10936.057466  "
      ]
     },
     "execution_count": 9,
     "metadata": {},
     "output_type": "execute_result"
    }
   ],
   "source": [
    "data.loc[data[\"Population Size\"] == data[\"Population Size\"].max()]"
   ]
  },
  {
   "cell_type": "code",
   "execution_count": 10,
   "metadata": {},
   "outputs": [
    {
     "data": {
      "text/plain": [
       "Country                    Zimbabwe\n",
       "Year                           2020\n",
       "Value                  8615244017.0\n",
       "Population Size        1411100000.0\n",
       "2020 GDP in USD    14687673892882.0\n",
       "GDP Per Capita        116356.158037\n",
       "dtype: object"
      ]
     },
     "execution_count": 10,
     "metadata": {},
     "output_type": "execute_result"
    }
   ],
   "source": [
    "# need to drop world row since it is not a country\n",
    "data.drop([164], axis=0, inplace=True)\n",
    "data.max()"
   ]
  },
  {
   "cell_type": "code",
   "execution_count": 11,
   "metadata": {},
   "outputs": [
    {
     "data": {
      "text/html": [
       "<div>\n",
       "<style scoped>\n",
       "    .dataframe tbody tr th:only-of-type {\n",
       "        vertical-align: middle;\n",
       "    }\n",
       "\n",
       "    .dataframe tbody tr th {\n",
       "        vertical-align: top;\n",
       "    }\n",
       "\n",
       "    .dataframe thead th {\n",
       "        text-align: right;\n",
       "    }\n",
       "</style>\n",
       "<table border=\"1\" class=\"dataframe\">\n",
       "  <thead>\n",
       "    <tr style=\"text-align: right;\">\n",
       "      <th></th>\n",
       "      <th>Country</th>\n",
       "      <th>Year</th>\n",
       "      <th>Value</th>\n",
       "      <th>Population Size</th>\n",
       "      <th>2020 GDP in USD</th>\n",
       "      <th>GDP Per Capita</th>\n",
       "    </tr>\n",
       "  </thead>\n",
       "  <tbody>\n",
       "    <tr>\n",
       "      <th>32</th>\n",
       "      <td>China</td>\n",
       "      <td>2020</td>\n",
       "      <td>8.615244e+09</td>\n",
       "      <td>1.411100e+09</td>\n",
       "      <td>1.468767e+13</td>\n",
       "      <td>10408.669756</td>\n",
       "    </tr>\n",
       "  </tbody>\n",
       "</table>\n",
       "</div>"
      ],
      "text/plain": [
       "   Country  Year         Value  Population Size  2020 GDP in USD  \\\n",
       "32   China  2020  8.615244e+09     1.411100e+09     1.468767e+13   \n",
       "\n",
       "    GDP Per Capita  \n",
       "32    10408.669756  "
      ]
     },
     "execution_count": 11,
     "metadata": {},
     "output_type": "execute_result"
    }
   ],
   "source": [
    "data.loc[data[\"Population Size\"] == data[\"Population Size\"].max()]\n",
    "\n",
    "# now it looks good"
   ]
  },
  {
   "cell_type": "code",
   "execution_count": 12,
   "metadata": {},
   "outputs": [
    {
     "data": {
      "text/html": [
       "<div>\n",
       "<style scoped>\n",
       "    .dataframe tbody tr th:only-of-type {\n",
       "        vertical-align: middle;\n",
       "    }\n",
       "\n",
       "    .dataframe tbody tr th {\n",
       "        vertical-align: top;\n",
       "    }\n",
       "\n",
       "    .dataframe thead th {\n",
       "        text-align: right;\n",
       "    }\n",
       "</style>\n",
       "<table border=\"1\" class=\"dataframe\">\n",
       "  <thead>\n",
       "    <tr style=\"text-align: right;\">\n",
       "      <th></th>\n",
       "      <th>Country</th>\n",
       "      <th>Year</th>\n",
       "      <th>Value</th>\n",
       "      <th>Population Size</th>\n",
       "      <th>2020 GDP in USD</th>\n",
       "      <th>GDP Per Capita</th>\n",
       "    </tr>\n",
       "  </thead>\n",
       "  <tbody>\n",
       "    <tr>\n",
       "      <th>32</th>\n",
       "      <td>China</td>\n",
       "      <td>2020</td>\n",
       "      <td>8.615244e+09</td>\n",
       "      <td>1.411100e+09</td>\n",
       "      <td>1.468767e+13</td>\n",
       "      <td>10408.669756</td>\n",
       "    </tr>\n",
       "    <tr>\n",
       "      <th>69</th>\n",
       "      <td>India</td>\n",
       "      <td>2020</td>\n",
       "      <td>2.472701e+09</td>\n",
       "      <td>1.380004e+09</td>\n",
       "      <td>2.667688e+12</td>\n",
       "      <td>1933.101069</td>\n",
       "    </tr>\n",
       "    <tr>\n",
       "      <th>70</th>\n",
       "      <td>Indonesia</td>\n",
       "      <td>2020</td>\n",
       "      <td>4.127112e+09</td>\n",
       "      <td>2.735236e+08</td>\n",
       "      <td>1.058689e+12</td>\n",
       "      <td>3870.557620</td>\n",
       "    </tr>\n",
       "    <tr>\n",
       "      <th>116</th>\n",
       "      <td>Pakistan</td>\n",
       "      <td>2020</td>\n",
       "      <td>1.804460e+09</td>\n",
       "      <td>2.208923e+08</td>\n",
       "      <td>3.003063e+11</td>\n",
       "      <td>1359.514522</td>\n",
       "    </tr>\n",
       "    <tr>\n",
       "      <th>20</th>\n",
       "      <td>Brazil</td>\n",
       "      <td>2020</td>\n",
       "      <td>2.881277e+09</td>\n",
       "      <td>2.125594e+08</td>\n",
       "      <td>1.448566e+12</td>\n",
       "      <td>6814.875632</td>\n",
       "    </tr>\n",
       "  </tbody>\n",
       "</table>\n",
       "</div>"
      ],
      "text/plain": [
       "       Country  Year         Value  Population Size  2020 GDP in USD  \\\n",
       "32       China  2020  8.615244e+09     1.411100e+09     1.468767e+13   \n",
       "69       India  2020  2.472701e+09     1.380004e+09     2.667688e+12   \n",
       "70   Indonesia  2020  4.127112e+09     2.735236e+08     1.058689e+12   \n",
       "116   Pakistan  2020  1.804460e+09     2.208923e+08     3.003063e+11   \n",
       "20      Brazil  2020  2.881277e+09     2.125594e+08     1.448566e+12   \n",
       "\n",
       "     GDP Per Capita  \n",
       "32     10408.669756  \n",
       "69      1933.101069  \n",
       "70      3870.557620  \n",
       "116     1359.514522  \n",
       "20      6814.875632  "
      ]
     },
     "execution_count": 12,
     "metadata": {},
     "output_type": "execute_result"
    }
   ],
   "source": [
    "top5 = data.nlargest(5, \"Population Size\")\n",
    "top5"
   ]
  },
  {
   "cell_type": "code",
   "execution_count": 13,
   "metadata": {},
   "outputs": [
    {
     "data": {
      "text/html": [
       "<div>\n",
       "<style scoped>\n",
       "    .dataframe tbody tr th:only-of-type {\n",
       "        vertical-align: middle;\n",
       "    }\n",
       "\n",
       "    .dataframe tbody tr th {\n",
       "        vertical-align: top;\n",
       "    }\n",
       "\n",
       "    .dataframe thead th {\n",
       "        text-align: right;\n",
       "    }\n",
       "</style>\n",
       "<table border=\"1\" class=\"dataframe\">\n",
       "  <thead>\n",
       "    <tr style=\"text-align: right;\">\n",
       "      <th></th>\n",
       "      <th>Country</th>\n",
       "      <th>Year</th>\n",
       "      <th>Value</th>\n",
       "      <th>Population Size</th>\n",
       "      <th>2020 GDP in USD</th>\n",
       "      <th>GDP Per Capita</th>\n",
       "    </tr>\n",
       "  </thead>\n",
       "  <tbody>\n",
       "    <tr>\n",
       "      <th>105</th>\n",
       "      <td>Nauru</td>\n",
       "      <td>2020</td>\n",
       "      <td>11426.0</td>\n",
       "      <td>10834.0</td>\n",
       "      <td>1.146266e+08</td>\n",
       "      <td>10580.268188</td>\n",
       "    </tr>\n",
       "    <tr>\n",
       "      <th>157</th>\n",
       "      <td>Tuvalu</td>\n",
       "      <td>2020</td>\n",
       "      <td>73782.0</td>\n",
       "      <td>11792.0</td>\n",
       "      <td>5.505471e+07</td>\n",
       "      <td>4668.818743</td>\n",
       "    </tr>\n",
       "    <tr>\n",
       "      <th>50</th>\n",
       "      <td>Faroe Islands</td>\n",
       "      <td>2020</td>\n",
       "      <td>76282.0</td>\n",
       "      <td>48865.0</td>\n",
       "      <td>3.240760e+09</td>\n",
       "      <td>66320.679198</td>\n",
       "    </tr>\n",
       "    <tr>\n",
       "      <th>95</th>\n",
       "      <td>Marshall Islands</td>\n",
       "      <td>2020</td>\n",
       "      <td>23062.0</td>\n",
       "      <td>59194.0</td>\n",
       "      <td>2.444624e+08</td>\n",
       "      <td>4129.850998</td>\n",
       "    </tr>\n",
       "    <tr>\n",
       "      <th>41</th>\n",
       "      <td>Dominica</td>\n",
       "      <td>2020</td>\n",
       "      <td>320279.0</td>\n",
       "      <td>71991.0</td>\n",
       "      <td>5.042148e+08</td>\n",
       "      <td>7003.859021</td>\n",
       "    </tr>\n",
       "  </tbody>\n",
       "</table>\n",
       "</div>"
      ],
      "text/plain": [
       "              Country  Year     Value  Population Size  2020 GDP in USD  \\\n",
       "105             Nauru  2020   11426.0          10834.0     1.146266e+08   \n",
       "157            Tuvalu  2020   73782.0          11792.0     5.505471e+07   \n",
       "50      Faroe Islands  2020   76282.0          48865.0     3.240760e+09   \n",
       "95   Marshall Islands  2020   23062.0          59194.0     2.444624e+08   \n",
       "41           Dominica  2020  320279.0          71991.0     5.042148e+08   \n",
       "\n",
       "     GDP Per Capita  \n",
       "105    10580.268188  \n",
       "157     4668.818743  \n",
       "50     66320.679198  \n",
       "95      4129.850998  \n",
       "41      7003.859021  "
      ]
     },
     "execution_count": 13,
     "metadata": {},
     "output_type": "execute_result"
    }
   ],
   "source": [
    "bottom5"
   ]
  },
  {
   "cell_type": "code",
   "execution_count": 14,
   "metadata": {},
   "outputs": [
    {
     "name": "stdout",
     "output_type": "stream",
     "text": [
      "The top 5 most populous countries are: China, India, Indonesia, Pakistan and Brazil\n",
      "The bottom 5 most populous countries are: Nauru, Tuvalu, Faroe Islands, Marshall Islands and Dominica\n"
     ]
    }
   ],
   "source": [
    "print(f'The top 5 most populous countries are: China, India, Indonesia, Pakistan and Brazil')\n",
    "print(f'The bottom 5 most populous countries are: Nauru, Tuvalu, Faroe Islands, Marshall Islands and Dominica')"
   ]
  },
  {
   "cell_type": "code",
   "execution_count": 15,
   "metadata": {},
   "outputs": [
    {
     "data": {
      "text/plain": [
       "Country             object\n",
       "Year                 int64\n",
       "Value              float64\n",
       "Population Size    float64\n",
       "2020 GDP in USD    float64\n",
       "GDP Per Capita     float64\n",
       "dtype: object"
      ]
     },
     "execution_count": 15,
     "metadata": {},
     "output_type": "execute_result"
    }
   ],
   "source": [
    "top5.dtypes"
   ]
  },
  {
   "cell_type": "code",
   "execution_count": 48,
   "metadata": {},
   "outputs": [],
   "source": [
    "# drop_scientific_not = top5[\"Value\"].round(9)\n",
    "# drop_scientific_not"
   ]
  },
  {
   "cell_type": "code",
   "execution_count": 16,
   "metadata": {},
   "outputs": [
    {
     "data": {
      "text/plain": [
       "array([8.61524402e+09, 2.47270061e+09, 4.12711205e+09, 1.80446048e+09,\n",
       "       2.88127739e+09])"
      ]
     },
     "execution_count": 16,
     "metadata": {},
     "output_type": "execute_result"
    }
   ],
   "source": [
    "x_axis = np.array(top5[\"Country\"])\n",
    "x_axis\n",
    "\n",
    "y_axis = np.array(top5[\"Value\"])\n",
    "y_axis"
   ]
  },
  {
   "cell_type": "code",
   "execution_count": 17,
   "metadata": {},
   "outputs": [
    {
     "data": {
      "image/png": "[encoded data removed]",
      "text/plain": [
       "<Figure size 432x288 with 1 Axes>"
      ]
     },
     "metadata": {
      "needs_background": "light"
     },
     "output_type": "display_data"
    }
   ],
   "source": [
    "# metric tons is equivalent to tonnes\n",
    "plt.title(\"Top 5 Most Populated Countries\")\n",
    "plt.xlabel(\"Country\")\n",
    "plt.ylabel(\"Food Production in Metric Tons\")\n",
    "\n",
    "plt.bar(x_axis, y_axis, facecolor=\"red\", alpha=0.75, align=\"center\")\n",
    "plt.show()"
   ]
  },
  {
   "cell_type": "code",
   "execution_count": 18,
   "metadata": {},
   "outputs": [
    {
     "data": {
      "text/plain": [
       "array([ 11426.,  73782.,  76282.,  23062., 320279.])"
      ]
     },
     "execution_count": 18,
     "metadata": {},
     "output_type": "execute_result"
    }
   ],
   "source": [
    "x2_axis = np.array(bottom5[\"Country\"])\n",
    "x2_axis\n",
    "\n",
    "y2_axis = np.array(bottom5[\"Value\"])\n",
    "y2_axis"
   ]
  },
  {
   "cell_type": "code",
   "execution_count": 19,
   "metadata": {},
   "outputs": [
    {
     "data": {
      "image/png": "[encoded data removed]",
      "text/plain": [
       "<Figure size 432x288 with 1 Axes>"
      ]
     },
     "metadata": {
      "needs_background": "light"
     },
     "output_type": "display_data"
    }
   ],
   "source": [
    "plt.title(\"Top 5 Least Populated Countries\")\n",
    "plt.xlabel(\"Country\")\n",
    "plt.ylabel(\"Food Production in Metric Tons\")\n",
    "plt.xticks(rotation=45)\n",
    "plt.bar(x2_axis, y2_axis, facecolor=\"red\", alpha=0.75, align=\"center\")\n",
    "plt.show()"
   ]
  }
 ],
 "metadata": {
  "kernelspec": {
   "display_name": "Python 3.9.12 ('base')",
   "language": "python",
   "name": "python3"
  },
  "language_info": {
   "codemirror_mode": {
    "name": "ipython",
    "version": 3
   },
   "file_extension": ".py",
   "mimetype": "text/x-python",
   "name": "python",
   "nbconvert_exporter": "python",
   "pygments_lexer": "ipython3",
   "version": "3.9.12"
  },
  "orig_nbformat": 4,
  "vscode": {
   "interpreter": {
    "hash": "e9f13fa43e39423e6ba1cc7f788363ebf7fff1686fe7794312ea30598f7ca73d"
   }
  }
 },
 "nbformat": 4,
 "nbformat_minor": 2
}
