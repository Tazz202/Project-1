{
 "cells": [
  {
   "cell_type": "markdown",
   "metadata": {},
   "source": [
    "Question 2"
   ]
  },
  {
   "cell_type": "code",
   "execution_count": 1,
   "metadata": {},
   "outputs": [],
   "source": [
    "import pandas as pd\n",
    "import matplotlib.pyplot as plt\n",
    "import numpy as np\n",
    "import scipy.stats as st\n",
    "from scipy.stats import linregress"
   ]
  },
  {
   "cell_type": "code",
   "execution_count": 2,
   "metadata": {},
   "outputs": [
    {
     "data": {
      "text/html": [
       "<div>\n",
       "<style scoped>\n",
       "    .dataframe tbody tr th:only-of-type {\n",
       "        vertical-align: middle;\n",
       "    }\n",
       "\n",
       "    .dataframe tbody tr th {\n",
       "        vertical-align: top;\n",
       "    }\n",
       "\n",
       "    .dataframe thead th {\n",
       "        text-align: right;\n",
       "    }\n",
       "</style>\n",
       "<table border=\"1\" class=\"dataframe\">\n",
       "  <thead>\n",
       "    <tr style=\"text-align: right;\">\n",
       "      <th></th>\n",
       "      <th>Country</th>\n",
       "      <th>Year</th>\n",
       "      <th>Value</th>\n",
       "      <th>Population Size in Millions</th>\n",
       "      <th>2020 GDP in USD</th>\n",
       "      <th>GDP Per Capita</th>\n",
       "      <th>Production in Millions</th>\n",
       "    </tr>\n",
       "  </thead>\n",
       "  <tbody>\n",
       "    <tr>\n",
       "      <th>0</th>\n",
       "      <td>Afghanistan</td>\n",
       "      <td>2020</td>\n",
       "      <td>54771898.0</td>\n",
       "      <td>3.892834</td>\n",
       "      <td>2.011614e+10</td>\n",
       "      <td>516.747871</td>\n",
       "      <td>5.477190</td>\n",
       "    </tr>\n",
       "    <tr>\n",
       "      <th>1</th>\n",
       "      <td>Albania</td>\n",
       "      <td>2020</td>\n",
       "      <td>12904896.0</td>\n",
       "      <td>0.283785</td>\n",
       "      <td>1.513187e+10</td>\n",
       "      <td>5332.160475</td>\n",
       "      <td>1.290490</td>\n",
       "    </tr>\n",
       "    <tr>\n",
       "      <th>2</th>\n",
       "      <td>Algeria</td>\n",
       "      <td>2020</td>\n",
       "      <td>201992285.0</td>\n",
       "      <td>4.385104</td>\n",
       "      <td>1.450092e+11</td>\n",
       "      <td>3306.858208</td>\n",
       "      <td>20.199229</td>\n",
       "    </tr>\n",
       "    <tr>\n",
       "      <th>3</th>\n",
       "      <td>Angola</td>\n",
       "      <td>2020</td>\n",
       "      <td>84297733.0</td>\n",
       "      <td>3.286627</td>\n",
       "      <td>5.361907e+10</td>\n",
       "      <td>1631.431691</td>\n",
       "      <td>8.429773</td>\n",
       "    </tr>\n",
       "    <tr>\n",
       "      <th>4</th>\n",
       "      <td>Antigua and Barbuda</td>\n",
       "      <td>2020</td>\n",
       "      <td>215545.0</td>\n",
       "      <td>0.009793</td>\n",
       "      <td>1.370281e+09</td>\n",
       "      <td>13992.744480</td>\n",
       "      <td>0.021555</td>\n",
       "    </tr>\n",
       "  </tbody>\n",
       "</table>\n",
       "</div>"
      ],
      "text/plain": [
       "               Country  Year        Value  Population Size in Millions  \\\n",
       "0          Afghanistan  2020   54771898.0                     3.892834   \n",
       "1              Albania  2020   12904896.0                     0.283785   \n",
       "2              Algeria  2020  201992285.0                     4.385104   \n",
       "3               Angola  2020   84297733.0                     3.286627   \n",
       "4  Antigua and Barbuda  2020     215545.0                     0.009793   \n",
       "\n",
       "   2020 GDP in USD  GDP Per Capita  Production in Millions  \n",
       "0     2.011614e+10      516.747871                5.477190  \n",
       "1     1.513187e+10     5332.160475                1.290490  \n",
       "2     1.450092e+11     3306.858208               20.199229  \n",
       "3     5.361907e+10     1631.431691                8.429773  \n",
       "4     1.370281e+09    13992.744480                0.021555  "
      ]
     },
     "execution_count": 2,
     "metadata": {},
     "output_type": "execute_result"
    }
   ],
   "source": [
    "file = \"Resources/merged_data.csv\"\n",
    "\n",
    "\n",
    "original_data = pd.read_csv(file)\n",
    "\n",
    "original_data.head()"
   ]
  },
  {
   "cell_type": "markdown",
   "metadata": {},
   "source": [
    "Only filtering out South Asia region"
   ]
  },
  {
   "cell_type": "code",
   "execution_count": 3,
   "metadata": {},
   "outputs": [
    {
     "data": {
      "text/html": [
       "<div>\n",
       "<style scoped>\n",
       "    .dataframe tbody tr th:only-of-type {\n",
       "        vertical-align: middle;\n",
       "    }\n",
       "\n",
       "    .dataframe tbody tr th {\n",
       "        vertical-align: top;\n",
       "    }\n",
       "\n",
       "    .dataframe thead th {\n",
       "        text-align: right;\n",
       "    }\n",
       "</style>\n",
       "<table border=\"1\" class=\"dataframe\">\n",
       "  <thead>\n",
       "    <tr style=\"text-align: right;\">\n",
       "      <th></th>\n",
       "      <th>Country</th>\n",
       "      <th>Year</th>\n",
       "      <th>Value</th>\n",
       "      <th>Population Size in Millions</th>\n",
       "      <th>2020 GDP in USD</th>\n",
       "      <th>GDP Per Capita</th>\n",
       "      <th>Production in Millions</th>\n",
       "    </tr>\n",
       "  </thead>\n",
       "  <tbody>\n",
       "    <tr>\n",
       "      <th>0</th>\n",
       "      <td>Afghanistan</td>\n",
       "      <td>2020</td>\n",
       "      <td>5.477190e+07</td>\n",
       "      <td>3.892834</td>\n",
       "      <td>2.011614e+10</td>\n",
       "      <td>516.747871</td>\n",
       "      <td>5.477190</td>\n",
       "    </tr>\n",
       "    <tr>\n",
       "      <th>1</th>\n",
       "      <td>Bangladesh</td>\n",
       "      <td>2020</td>\n",
       "      <td>5.330869e+08</td>\n",
       "      <td>16.468938</td>\n",
       "      <td>3.739021e+11</td>\n",
       "      <td>2270.347535</td>\n",
       "      <td>53.308693</td>\n",
       "    </tr>\n",
       "    <tr>\n",
       "      <th>2</th>\n",
       "      <td>Bhutan</td>\n",
       "      <td>2020</td>\n",
       "      <td>2.096207e+06</td>\n",
       "      <td>0.077161</td>\n",
       "      <td>2.315436e+09</td>\n",
       "      <td>3000.777986</td>\n",
       "      <td>0.209621</td>\n",
       "    </tr>\n",
       "    <tr>\n",
       "      <th>3</th>\n",
       "      <td>India</td>\n",
       "      <td>2020</td>\n",
       "      <td>2.472701e+09</td>\n",
       "      <td>138.000439</td>\n",
       "      <td>2.667688e+12</td>\n",
       "      <td>1933.101069</td>\n",
       "      <td>247.270061</td>\n",
       "    </tr>\n",
       "    <tr>\n",
       "      <th>4</th>\n",
       "      <td>Nepal</td>\n",
       "      <td>2020</td>\n",
       "      <td>1.353131e+08</td>\n",
       "      <td>2.913681</td>\n",
       "      <td>3.343367e+10</td>\n",
       "      <td>1147.471971</td>\n",
       "      <td>13.531306</td>\n",
       "    </tr>\n",
       "    <tr>\n",
       "      <th>5</th>\n",
       "      <td>Pakistan</td>\n",
       "      <td>2020</td>\n",
       "      <td>1.804460e+09</td>\n",
       "      <td>22.089233</td>\n",
       "      <td>3.003063e+11</td>\n",
       "      <td>1359.514522</td>\n",
       "      <td>180.446048</td>\n",
       "    </tr>\n",
       "    <tr>\n",
       "      <th>6</th>\n",
       "      <td>Sri Lanka</td>\n",
       "      <td>2020</td>\n",
       "      <td>3.737842e+07</td>\n",
       "      <td>2.191900</td>\n",
       "      <td>8.096968e+10</td>\n",
       "      <td>3694.040948</td>\n",
       "      <td>3.737842</td>\n",
       "    </tr>\n",
       "  </tbody>\n",
       "</table>\n",
       "</div>"
      ],
      "text/plain": [
       "       Country  Year         Value  Population Size in Millions  \\\n",
       "0  Afghanistan  2020  5.477190e+07                     3.892834   \n",
       "1   Bangladesh  2020  5.330869e+08                    16.468938   \n",
       "2       Bhutan  2020  2.096207e+06                     0.077161   \n",
       "3        India  2020  2.472701e+09                   138.000439   \n",
       "4        Nepal  2020  1.353131e+08                     2.913681   \n",
       "5     Pakistan  2020  1.804460e+09                    22.089233   \n",
       "6    Sri Lanka  2020  3.737842e+07                     2.191900   \n",
       "\n",
       "   2020 GDP in USD  GDP Per Capita  Production in Millions  \n",
       "0     2.011614e+10      516.747871                5.477190  \n",
       "1     3.739021e+11     2270.347535               53.308693  \n",
       "2     2.315436e+09     3000.777986                0.209621  \n",
       "3     2.667688e+12     1933.101069              247.270061  \n",
       "4     3.343367e+10     1147.471971               13.531306  \n",
       "5     3.003063e+11     1359.514522              180.446048  \n",
       "6     8.096968e+10     3694.040948                3.737842  "
      ]
     },
     "execution_count": 3,
     "metadata": {},
     "output_type": "execute_result"
    }
   ],
   "source": [
    "filtered_data = original_data[original_data['Country'].isin(['Afghanistan', 'Bangladesh', 'Bhutan', 'India', 'Nepal', 'Pakistan', 'Sri Lanka'])].reset_index(drop=True)\n",
    "filtered_data"
   ]
  },
  {
   "cell_type": "code",
   "execution_count": 4,
   "metadata": {},
   "outputs": [
    {
     "data": {
      "text/html": [
       "<div>\n",
       "<style scoped>\n",
       "    .dataframe tbody tr th:only-of-type {\n",
       "        vertical-align: middle;\n",
       "    }\n",
       "\n",
       "    .dataframe tbody tr th {\n",
       "        vertical-align: top;\n",
       "    }\n",
       "\n",
       "    .dataframe thead th {\n",
       "        text-align: right;\n",
       "    }\n",
       "</style>\n",
       "<table border=\"1\" class=\"dataframe\">\n",
       "  <thead>\n",
       "    <tr style=\"text-align: right;\">\n",
       "      <th></th>\n",
       "      <th>Country</th>\n",
       "      <th>Year</th>\n",
       "      <th>Value</th>\n",
       "      <th>Population Size in Millions</th>\n",
       "      <th>2020 GDP in USD</th>\n",
       "      <th>GDP Per Capita</th>\n",
       "      <th>Production in Millions</th>\n",
       "    </tr>\n",
       "  </thead>\n",
       "  <tbody>\n",
       "    <tr>\n",
       "      <th>3</th>\n",
       "      <td>India</td>\n",
       "      <td>2020</td>\n",
       "      <td>2.472701e+09</td>\n",
       "      <td>138.000439</td>\n",
       "      <td>2.667688e+12</td>\n",
       "      <td>1933.101069</td>\n",
       "      <td>247.270061</td>\n",
       "    </tr>\n",
       "    <tr>\n",
       "      <th>5</th>\n",
       "      <td>Pakistan</td>\n",
       "      <td>2020</td>\n",
       "      <td>1.804460e+09</td>\n",
       "      <td>22.089233</td>\n",
       "      <td>3.003063e+11</td>\n",
       "      <td>1359.514522</td>\n",
       "      <td>180.446048</td>\n",
       "    </tr>\n",
       "    <tr>\n",
       "      <th>1</th>\n",
       "      <td>Bangladesh</td>\n",
       "      <td>2020</td>\n",
       "      <td>5.330869e+08</td>\n",
       "      <td>16.468938</td>\n",
       "      <td>3.739021e+11</td>\n",
       "      <td>2270.347535</td>\n",
       "      <td>53.308693</td>\n",
       "    </tr>\n",
       "    <tr>\n",
       "      <th>0</th>\n",
       "      <td>Afghanistan</td>\n",
       "      <td>2020</td>\n",
       "      <td>5.477190e+07</td>\n",
       "      <td>3.892834</td>\n",
       "      <td>2.011614e+10</td>\n",
       "      <td>516.747871</td>\n",
       "      <td>5.477190</td>\n",
       "    </tr>\n",
       "    <tr>\n",
       "      <th>4</th>\n",
       "      <td>Nepal</td>\n",
       "      <td>2020</td>\n",
       "      <td>1.353131e+08</td>\n",
       "      <td>2.913681</td>\n",
       "      <td>3.343367e+10</td>\n",
       "      <td>1147.471971</td>\n",
       "      <td>13.531306</td>\n",
       "    </tr>\n",
       "    <tr>\n",
       "      <th>6</th>\n",
       "      <td>Sri Lanka</td>\n",
       "      <td>2020</td>\n",
       "      <td>3.737842e+07</td>\n",
       "      <td>2.191900</td>\n",
       "      <td>8.096968e+10</td>\n",
       "      <td>3694.040948</td>\n",
       "      <td>3.737842</td>\n",
       "    </tr>\n",
       "    <tr>\n",
       "      <th>2</th>\n",
       "      <td>Bhutan</td>\n",
       "      <td>2020</td>\n",
       "      <td>2.096207e+06</td>\n",
       "      <td>0.077161</td>\n",
       "      <td>2.315436e+09</td>\n",
       "      <td>3000.777986</td>\n",
       "      <td>0.209621</td>\n",
       "    </tr>\n",
       "  </tbody>\n",
       "</table>\n",
       "</div>"
      ],
      "text/plain": [
       "       Country  Year         Value  Population Size in Millions  \\\n",
       "3        India  2020  2.472701e+09                   138.000439   \n",
       "5     Pakistan  2020  1.804460e+09                    22.089233   \n",
       "1   Bangladesh  2020  5.330869e+08                    16.468938   \n",
       "0  Afghanistan  2020  5.477190e+07                     3.892834   \n",
       "4        Nepal  2020  1.353131e+08                     2.913681   \n",
       "6    Sri Lanka  2020  3.737842e+07                     2.191900   \n",
       "2       Bhutan  2020  2.096207e+06                     0.077161   \n",
       "\n",
       "   2020 GDP in USD  GDP Per Capita  Production in Millions  \n",
       "3     2.667688e+12     1933.101069              247.270061  \n",
       "5     3.003063e+11     1359.514522              180.446048  \n",
       "1     3.739021e+11     2270.347535               53.308693  \n",
       "0     2.011614e+10      516.747871                5.477190  \n",
       "4     3.343367e+10     1147.471971               13.531306  \n",
       "6     8.096968e+10     3694.040948                3.737842  \n",
       "2     2.315436e+09     3000.777986                0.209621  "
      ]
     },
     "execution_count": 4,
     "metadata": {},
     "output_type": "execute_result"
    }
   ],
   "source": [
    "highest_pop = filtered_data.nlargest(7, [\"Population Size in Millions\"])\n",
    "highest_pop"
   ]
  },
  {
   "cell_type": "code",
   "execution_count": 11,
   "metadata": {},
   "outputs": [
    {
     "data": {
      "image/png": "[encoded data removed]",
      "text/plain": [
       "<Figure size 432x288 with 1 Axes>"
      ]
     },
     "metadata": {
      "needs_background": "light"
     },
     "output_type": "display_data"
    },
    {
     "name": "stdout",
     "output_type": "stream",
     "text": [
      "Correlation: 0.86\n"
     ]
    }
   ],
   "source": [
    "x_values=highest_pop[\"Population Size in Millions\"]\n",
    "y_values=highest_pop[\"Production in Millions\"]\n",
    "plt.scatter(x_values, y_values, c=\"green\")\n",
    "plt.title(\"Population Size and Production Correlation of 0.86\")\n",
    "plt.xlabel(\"Population Size (in Millions)\")\n",
    "plt.ylabel(\"Total Food Produced (in Millions)\")\n",
    "plt.savefig(\"Graphs/scatter_prod_vs_population.png\")\n",
    "plt.show()\n",
    "\n",
    "print(f\"Correlation: {round(st.pearsonr(x_values,y_values)[0],2)}\")"
   ]
  },
  {
   "cell_type": "code",
   "execution_count": 6,
   "metadata": {},
   "outputs": [
    {
     "data": {
      "image/png": "[encoded data removed]",
      "text/plain": [
       "<Figure size 432x288 with 1 Axes>"
      ]
     },
     "metadata": {
      "needs_background": "light"
     },
     "output_type": "display_data"
    },
    {
     "data": {
      "text/plain": [
       "<Figure size 576x432 with 0 Axes>"
      ]
     },
     "metadata": {},
     "output_type": "display_data"
    }
   ],
   "source": [
    "x = np.array(highest_pop[\"Country\"])\n",
    "x\n",
    "\n",
    "y = np.array(highest_pop[\"Production in Millions\"])\n",
    "y\n",
    "\n",
    "plt.title(\"Food Production in South Asian Countries\")\n",
    "plt.xlabel(\"Country\")\n",
    "plt.ylabel(\"Food Production in Metric Tons (in Millions)\")\n",
    "\n",
    "plt.xticks(rotation=45)\n",
    "\n",
    "# plt.yticks(arrange(y.max()),highest_pop[\"Value\"] / 1e7)\n",
    "plt.bar(x, y, color = ['green', 'forestgreen', 'seagreen', 'mediumseagreen', 'seagreen', 'forestgreen', 'green'], alpha=0.75, align=\"center\")\n",
    "plt.figure(figsize=(8,6))\n",
    "\n",
    "# saving as png\n",
    "\n",
    "plt.savefig(\"Graphs/food_prod_vs_population.png\")\n",
    "\n",
    "plt.show()"
   ]
  },
  {
   "cell_type": "code",
   "execution_count": 7,
   "metadata": {},
   "outputs": [
    {
     "data": {
      "image/png": "[encoded data removed]",
      "text/plain": [
       "<Figure size 432x288 with 1 Axes>"
      ]
     },
     "metadata": {
      "needs_background": "light"
     },
     "output_type": "display_data"
    },
    {
     "data": {
      "text/plain": [
       "<Figure size 576x432 with 0 Axes>"
      ]
     },
     "metadata": {},
     "output_type": "display_data"
    }
   ],
   "source": [
    "x = np.array(highest_pop[\"Country\"])\n",
    "x\n",
    "\n",
    "y2 = np.array(highest_pop[\"Population Size in Millions\"])\n",
    "y2\n",
    "\n",
    "plt.title(\"South Asian Countries Populations\")\n",
    "plt.xlabel(\"Country\")\n",
    "plt.ylabel(\"Population Size (in Millions)\")\n",
    "\n",
    "plt.xticks(rotation=45)\n",
    "# plt.yticks(arrange(y.max()),highest_pop[\"Value\"] / 1e7)\n",
    "plt.bar(x, y2, color = ['green', 'forestgreen', 'seagreen', 'mediumseagreen', 'seagreen', 'forestgreen', 'green'], alpha=0.75, align=\"center\")\n",
    "plt.figure(figsize=(8,6))\n",
    "\n",
    "# saving as png\n",
    "plt.savefig(\"Graphs/population_sizes.png\")\n",
    "\n",
    "plt.show()"
   ]
  },
  {
   "cell_type": "markdown",
   "metadata": {},
   "source": [
    "Analysis: There is a strong correlation between food production and population. The correlation has been calculated to be as 86% thus reinforcing the theory that there is a positive correlation between food production and population. So according to this data,\n",
    "the more population a country has, the more food is being produced. \n"
   ]
  }
 ],
 "metadata": {
  "kernelspec": {
   "display_name": "Python 3.9.12 ('base')",
   "language": "python",
   "name": "python3"
  },
  "language_info": {
   "codemirror_mode": {
    "name": "ipython",
    "version": 3
   },
   "file_extension": ".py",
   "mimetype": "text/x-python",
   "name": "python",
   "nbconvert_exporter": "python",
   "pygments_lexer": "ipython3",
   "version": "3.9.12"
  },
  "orig_nbformat": 4,
  "vscode": {
   "interpreter": {
    "hash": "e9f13fa43e39423e6ba1cc7f788363ebf7fff1686fe7794312ea30598f7ca73d"
   }
  }
 },
 "nbformat": 4,
 "nbformat_minor": 2
}
