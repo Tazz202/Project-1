{
 "cells": [
  {
   "cell_type": "markdown",
   "metadata": {},
   "source": [
    "Question 2"
   ]
  },
  {
   "cell_type": "code",
   "execution_count": 15,
   "metadata": {},
   "outputs": [],
   "source": [
    "import pandas as pd\n",
    "import matplotlib.pyplot as plt\n",
    "import numpy as np"
   ]
  },
  {
   "cell_type": "code",
   "execution_count": 16,
   "metadata": {},
   "outputs": [
    {
     "data": {
      "text/html": [
       "<div>\n",
       "<style scoped>\n",
       "    .dataframe tbody tr th:only-of-type {\n",
       "        vertical-align: middle;\n",
       "    }\n",
       "\n",
       "    .dataframe tbody tr th {\n",
       "        vertical-align: top;\n",
       "    }\n",
       "\n",
       "    .dataframe thead th {\n",
       "        text-align: right;\n",
       "    }\n",
       "</style>\n",
       "<table border=\"1\" class=\"dataframe\">\n",
       "  <thead>\n",
       "    <tr style=\"text-align: right;\">\n",
       "      <th></th>\n",
       "      <th>Country</th>\n",
       "      <th>Year</th>\n",
       "      <th>Value</th>\n",
       "      <th>Population Size</th>\n",
       "      <th>2020 GDP in USD</th>\n",
       "      <th>GDP Per Capita</th>\n",
       "    </tr>\n",
       "  </thead>\n",
       "  <tbody>\n",
       "    <tr>\n",
       "      <th>0</th>\n",
       "      <td>Afghanistan</td>\n",
       "      <td>2020</td>\n",
       "      <td>54771898.0</td>\n",
       "      <td>38928341.0</td>\n",
       "      <td>2.011614e+10</td>\n",
       "      <td>516.747871</td>\n",
       "    </tr>\n",
       "    <tr>\n",
       "      <th>1</th>\n",
       "      <td>Albania</td>\n",
       "      <td>2020</td>\n",
       "      <td>12904896.0</td>\n",
       "      <td>2837849.0</td>\n",
       "      <td>1.513187e+10</td>\n",
       "      <td>5332.160475</td>\n",
       "    </tr>\n",
       "    <tr>\n",
       "      <th>2</th>\n",
       "      <td>Algeria</td>\n",
       "      <td>2020</td>\n",
       "      <td>201992285.0</td>\n",
       "      <td>43851043.0</td>\n",
       "      <td>1.450092e+11</td>\n",
       "      <td>3306.858208</td>\n",
       "    </tr>\n",
       "    <tr>\n",
       "      <th>3</th>\n",
       "      <td>Angola</td>\n",
       "      <td>2020</td>\n",
       "      <td>84297733.0</td>\n",
       "      <td>32866268.0</td>\n",
       "      <td>5.361907e+10</td>\n",
       "      <td>1631.431691</td>\n",
       "    </tr>\n",
       "    <tr>\n",
       "      <th>4</th>\n",
       "      <td>Antigua and Barbuda</td>\n",
       "      <td>2020</td>\n",
       "      <td>215545.0</td>\n",
       "      <td>97928.0</td>\n",
       "      <td>1.370281e+09</td>\n",
       "      <td>13992.744480</td>\n",
       "    </tr>\n",
       "  </tbody>\n",
       "</table>\n",
       "</div>"
      ],
      "text/plain": [
       "               Country  Year        Value  Population Size  2020 GDP in USD  \\\n",
       "0          Afghanistan  2020   54771898.0       38928341.0     2.011614e+10   \n",
       "1              Albania  2020   12904896.0        2837849.0     1.513187e+10   \n",
       "2              Algeria  2020  201992285.0       43851043.0     1.450092e+11   \n",
       "3               Angola  2020   84297733.0       32866268.0     5.361907e+10   \n",
       "4  Antigua and Barbuda  2020     215545.0          97928.0     1.370281e+09   \n",
       "\n",
       "   GDP Per Capita  \n",
       "0      516.747871  \n",
       "1     5332.160475  \n",
       "2     3306.858208  \n",
       "3     1631.431691  \n",
       "4    13992.744480  "
      ]
     },
     "execution_count": 16,
     "metadata": {},
     "output_type": "execute_result"
    }
   ],
   "source": [
    "file = \"Resources/merged_data.csv\"\n",
    "\n",
    "\n",
    "original_data = pd.read_csv(file)\n",
    "\n",
    "original_data.head()"
   ]
  },
  {
   "cell_type": "markdown",
   "metadata": {},
   "source": [
    "Only filtering out South Asia region"
   ]
  },
  {
   "cell_type": "code",
   "execution_count": 17,
   "metadata": {},
   "outputs": [
    {
     "data": {
      "text/html": [
       "<div>\n",
       "<style scoped>\n",
       "    .dataframe tbody tr th:only-of-type {\n",
       "        vertical-align: middle;\n",
       "    }\n",
       "\n",
       "    .dataframe tbody tr th {\n",
       "        vertical-align: top;\n",
       "    }\n",
       "\n",
       "    .dataframe thead th {\n",
       "        text-align: right;\n",
       "    }\n",
       "</style>\n",
       "<table border=\"1\" class=\"dataframe\">\n",
       "  <thead>\n",
       "    <tr style=\"text-align: right;\">\n",
       "      <th></th>\n",
       "      <th>Country</th>\n",
       "      <th>Year</th>\n",
       "      <th>Value</th>\n",
       "      <th>Population Size</th>\n",
       "      <th>2020 GDP in USD</th>\n",
       "      <th>GDP Per Capita</th>\n",
       "    </tr>\n",
       "  </thead>\n",
       "  <tbody>\n",
       "    <tr>\n",
       "      <th>0</th>\n",
       "      <td>Afghanistan</td>\n",
       "      <td>2020</td>\n",
       "      <td>5.477190e+07</td>\n",
       "      <td>3.892834e+07</td>\n",
       "      <td>2.011614e+10</td>\n",
       "      <td>516.747871</td>\n",
       "    </tr>\n",
       "    <tr>\n",
       "      <th>1</th>\n",
       "      <td>Bangladesh</td>\n",
       "      <td>2020</td>\n",
       "      <td>5.330869e+08</td>\n",
       "      <td>1.646894e+08</td>\n",
       "      <td>3.739021e+11</td>\n",
       "      <td>2270.347535</td>\n",
       "    </tr>\n",
       "    <tr>\n",
       "      <th>2</th>\n",
       "      <td>Bhutan</td>\n",
       "      <td>2020</td>\n",
       "      <td>2.096207e+06</td>\n",
       "      <td>7.716120e+05</td>\n",
       "      <td>2.315436e+09</td>\n",
       "      <td>3000.777986</td>\n",
       "    </tr>\n",
       "    <tr>\n",
       "      <th>3</th>\n",
       "      <td>India</td>\n",
       "      <td>2020</td>\n",
       "      <td>2.472701e+09</td>\n",
       "      <td>1.380004e+09</td>\n",
       "      <td>2.667688e+12</td>\n",
       "      <td>1933.101069</td>\n",
       "    </tr>\n",
       "    <tr>\n",
       "      <th>4</th>\n",
       "      <td>Nepal</td>\n",
       "      <td>2020</td>\n",
       "      <td>1.353131e+08</td>\n",
       "      <td>2.913681e+07</td>\n",
       "      <td>3.343367e+10</td>\n",
       "      <td>1147.471971</td>\n",
       "    </tr>\n",
       "    <tr>\n",
       "      <th>5</th>\n",
       "      <td>Pakistan</td>\n",
       "      <td>2020</td>\n",
       "      <td>1.804460e+09</td>\n",
       "      <td>2.208923e+08</td>\n",
       "      <td>3.003063e+11</td>\n",
       "      <td>1359.514522</td>\n",
       "    </tr>\n",
       "    <tr>\n",
       "      <th>6</th>\n",
       "      <td>Sri Lanka</td>\n",
       "      <td>2020</td>\n",
       "      <td>3.737842e+07</td>\n",
       "      <td>2.191900e+07</td>\n",
       "      <td>8.096968e+10</td>\n",
       "      <td>3694.040948</td>\n",
       "    </tr>\n",
       "  </tbody>\n",
       "</table>\n",
       "</div>"
      ],
      "text/plain": [
       "       Country  Year         Value  Population Size  2020 GDP in USD  \\\n",
       "0  Afghanistan  2020  5.477190e+07     3.892834e+07     2.011614e+10   \n",
       "1   Bangladesh  2020  5.330869e+08     1.646894e+08     3.739021e+11   \n",
       "2       Bhutan  2020  2.096207e+06     7.716120e+05     2.315436e+09   \n",
       "3        India  2020  2.472701e+09     1.380004e+09     2.667688e+12   \n",
       "4        Nepal  2020  1.353131e+08     2.913681e+07     3.343367e+10   \n",
       "5     Pakistan  2020  1.804460e+09     2.208923e+08     3.003063e+11   \n",
       "6    Sri Lanka  2020  3.737842e+07     2.191900e+07     8.096968e+10   \n",
       "\n",
       "   GDP Per Capita  \n",
       "0      516.747871  \n",
       "1     2270.347535  \n",
       "2     3000.777986  \n",
       "3     1933.101069  \n",
       "4     1147.471971  \n",
       "5     1359.514522  \n",
       "6     3694.040948  "
      ]
     },
     "execution_count": 17,
     "metadata": {},
     "output_type": "execute_result"
    }
   ],
   "source": [
    "filtered_data = original_data[original_data['Country'].isin(['Afghanistan', 'Bangladesh', 'Bhutan', 'India', 'Nepal', 'Pakistan', 'Sri Lanka'])].reset_index(drop=True)\n",
    "filtered_data"
   ]
  },
  {
   "cell_type": "markdown",
   "metadata": {},
   "source": [
    "Now Getting top 5 and bottom 5 population sizes"
   ]
  },
  {
   "cell_type": "code",
   "execution_count": 18,
   "metadata": {},
   "outputs": [
    {
     "data": {
      "text/plain": [
       "1380004385.0"
      ]
     },
     "execution_count": 18,
     "metadata": {},
     "output_type": "execute_result"
    }
   ],
   "source": [
    "filtered_data[\"Population Size\"].max()"
   ]
  },
  {
   "cell_type": "code",
   "execution_count": 20,
   "metadata": {},
   "outputs": [
    {
     "data": {
      "text/html": [
       "<div>\n",
       "<style scoped>\n",
       "    .dataframe tbody tr th:only-of-type {\n",
       "        vertical-align: middle;\n",
       "    }\n",
       "\n",
       "    .dataframe tbody tr th {\n",
       "        vertical-align: top;\n",
       "    }\n",
       "\n",
       "    .dataframe thead th {\n",
       "        text-align: right;\n",
       "    }\n",
       "</style>\n",
       "<table border=\"1\" class=\"dataframe\">\n",
       "  <thead>\n",
       "    <tr style=\"text-align: right;\">\n",
       "      <th></th>\n",
       "      <th>Country</th>\n",
       "      <th>Year</th>\n",
       "      <th>Value</th>\n",
       "      <th>Population Size</th>\n",
       "      <th>2020 GDP in USD</th>\n",
       "      <th>GDP Per Capita</th>\n",
       "    </tr>\n",
       "  </thead>\n",
       "  <tbody>\n",
       "    <tr>\n",
       "      <th>3</th>\n",
       "      <td>India</td>\n",
       "      <td>2020</td>\n",
       "      <td>2.472701e+09</td>\n",
       "      <td>1.380004e+09</td>\n",
       "      <td>2.667688e+12</td>\n",
       "      <td>1933.101069</td>\n",
       "    </tr>\n",
       "  </tbody>\n",
       "</table>\n",
       "</div>"
      ],
      "text/plain": [
       "  Country  Year         Value  Population Size  2020 GDP in USD  \\\n",
       "3   India  2020  2.472701e+09     1.380004e+09     2.667688e+12   \n",
       "\n",
       "   GDP Per Capita  \n",
       "3     1933.101069  "
      ]
     },
     "execution_count": 20,
     "metadata": {},
     "output_type": "execute_result"
    }
   ],
   "source": [
    "filtered_data.loc[filtered_data[\"Population Size\"] == filtered_data[\"Population Size\"].max()]"
   ]
  },
  {
   "cell_type": "code",
   "execution_count": 21,
   "metadata": {},
   "outputs": [
    {
     "data": {
      "text/html": [
       "<div>\n",
       "<style scoped>\n",
       "    .dataframe tbody tr th:only-of-type {\n",
       "        vertical-align: middle;\n",
       "    }\n",
       "\n",
       "    .dataframe tbody tr th {\n",
       "        vertical-align: top;\n",
       "    }\n",
       "\n",
       "    .dataframe thead th {\n",
       "        text-align: right;\n",
       "    }\n",
       "</style>\n",
       "<table border=\"1\" class=\"dataframe\">\n",
       "  <thead>\n",
       "    <tr style=\"text-align: right;\">\n",
       "      <th></th>\n",
       "      <th>Country</th>\n",
       "      <th>Year</th>\n",
       "      <th>Value</th>\n",
       "      <th>Population Size</th>\n",
       "      <th>2020 GDP in USD</th>\n",
       "      <th>GDP Per Capita</th>\n",
       "    </tr>\n",
       "  </thead>\n",
       "  <tbody>\n",
       "    <tr>\n",
       "      <th>3</th>\n",
       "      <td>India</td>\n",
       "      <td>2020</td>\n",
       "      <td>2.472701e+09</td>\n",
       "      <td>1.380004e+09</td>\n",
       "      <td>2.667688e+12</td>\n",
       "      <td>1933.101069</td>\n",
       "    </tr>\n",
       "    <tr>\n",
       "      <th>5</th>\n",
       "      <td>Pakistan</td>\n",
       "      <td>2020</td>\n",
       "      <td>1.804460e+09</td>\n",
       "      <td>2.208923e+08</td>\n",
       "      <td>3.003063e+11</td>\n",
       "      <td>1359.514522</td>\n",
       "    </tr>\n",
       "    <tr>\n",
       "      <th>1</th>\n",
       "      <td>Bangladesh</td>\n",
       "      <td>2020</td>\n",
       "      <td>5.330869e+08</td>\n",
       "      <td>1.646894e+08</td>\n",
       "      <td>3.739021e+11</td>\n",
       "      <td>2270.347535</td>\n",
       "    </tr>\n",
       "    <tr>\n",
       "      <th>0</th>\n",
       "      <td>Afghanistan</td>\n",
       "      <td>2020</td>\n",
       "      <td>5.477190e+07</td>\n",
       "      <td>3.892834e+07</td>\n",
       "      <td>2.011614e+10</td>\n",
       "      <td>516.747871</td>\n",
       "    </tr>\n",
       "    <tr>\n",
       "      <th>4</th>\n",
       "      <td>Nepal</td>\n",
       "      <td>2020</td>\n",
       "      <td>1.353131e+08</td>\n",
       "      <td>2.913681e+07</td>\n",
       "      <td>3.343367e+10</td>\n",
       "      <td>1147.471971</td>\n",
       "    </tr>\n",
       "  </tbody>\n",
       "</table>\n",
       "</div>"
      ],
      "text/plain": [
       "       Country  Year         Value  Population Size  2020 GDP in USD  \\\n",
       "3        India  2020  2.472701e+09     1.380004e+09     2.667688e+12   \n",
       "5     Pakistan  2020  1.804460e+09     2.208923e+08     3.003063e+11   \n",
       "1   Bangladesh  2020  5.330869e+08     1.646894e+08     3.739021e+11   \n",
       "0  Afghanistan  2020  5.477190e+07     3.892834e+07     2.011614e+10   \n",
       "4        Nepal  2020  1.353131e+08     2.913681e+07     3.343367e+10   \n",
       "\n",
       "   GDP Per Capita  \n",
       "3     1933.101069  \n",
       "5     1359.514522  \n",
       "1     2270.347535  \n",
       "0      516.747871  \n",
       "4     1147.471971  "
      ]
     },
     "execution_count": 21,
     "metadata": {},
     "output_type": "execute_result"
    }
   ],
   "source": [
    "top5 = filtered_data.nlargest(5, \"Population Size\")\n",
    "top5"
   ]
  },
  {
   "cell_type": "code",
   "execution_count": 22,
   "metadata": {},
   "outputs": [
    {
     "data": {
      "text/plain": [
       "771612.0"
      ]
     },
     "execution_count": 22,
     "metadata": {},
     "output_type": "execute_result"
    }
   ],
   "source": [
    "filtered_data[\"Population Size\"].min()"
   ]
  },
  {
   "cell_type": "code",
   "execution_count": 23,
   "metadata": {},
   "outputs": [
    {
     "data": {
      "text/html": [
       "<div>\n",
       "<style scoped>\n",
       "    .dataframe tbody tr th:only-of-type {\n",
       "        vertical-align: middle;\n",
       "    }\n",
       "\n",
       "    .dataframe tbody tr th {\n",
       "        vertical-align: top;\n",
       "    }\n",
       "\n",
       "    .dataframe thead th {\n",
       "        text-align: right;\n",
       "    }\n",
       "</style>\n",
       "<table border=\"1\" class=\"dataframe\">\n",
       "  <thead>\n",
       "    <tr style=\"text-align: right;\">\n",
       "      <th></th>\n",
       "      <th>Country</th>\n",
       "      <th>Year</th>\n",
       "      <th>Value</th>\n",
       "      <th>Population Size</th>\n",
       "      <th>2020 GDP in USD</th>\n",
       "      <th>GDP Per Capita</th>\n",
       "    </tr>\n",
       "  </thead>\n",
       "  <tbody>\n",
       "    <tr>\n",
       "      <th>2</th>\n",
       "      <td>Bhutan</td>\n",
       "      <td>2020</td>\n",
       "      <td>2096207.0</td>\n",
       "      <td>771612.0</td>\n",
       "      <td>2.315436e+09</td>\n",
       "      <td>3000.777986</td>\n",
       "    </tr>\n",
       "  </tbody>\n",
       "</table>\n",
       "</div>"
      ],
      "text/plain": [
       "  Country  Year      Value  Population Size  2020 GDP in USD  GDP Per Capita\n",
       "2  Bhutan  2020  2096207.0         771612.0     2.315436e+09     3000.777986"
      ]
     },
     "execution_count": 23,
     "metadata": {},
     "output_type": "execute_result"
    }
   ],
   "source": [
    "filtered_data.loc[filtered_data[\"Population Size\"] == filtered_data[\"Population Size\"].min()]"
   ]
  },
  {
   "cell_type": "code",
   "execution_count": 24,
   "metadata": {},
   "outputs": [
    {
     "data": {
      "text/html": [
       "<div>\n",
       "<style scoped>\n",
       "    .dataframe tbody tr th:only-of-type {\n",
       "        vertical-align: middle;\n",
       "    }\n",
       "\n",
       "    .dataframe tbody tr th {\n",
       "        vertical-align: top;\n",
       "    }\n",
       "\n",
       "    .dataframe thead th {\n",
       "        text-align: right;\n",
       "    }\n",
       "</style>\n",
       "<table border=\"1\" class=\"dataframe\">\n",
       "  <thead>\n",
       "    <tr style=\"text-align: right;\">\n",
       "      <th></th>\n",
       "      <th>Country</th>\n",
       "      <th>Year</th>\n",
       "      <th>Value</th>\n",
       "      <th>Population Size</th>\n",
       "      <th>2020 GDP in USD</th>\n",
       "      <th>GDP Per Capita</th>\n",
       "    </tr>\n",
       "  </thead>\n",
       "  <tbody>\n",
       "    <tr>\n",
       "      <th>2</th>\n",
       "      <td>Bhutan</td>\n",
       "      <td>2020</td>\n",
       "      <td>2096207.0</td>\n",
       "      <td>771612.0</td>\n",
       "      <td>2.315436e+09</td>\n",
       "      <td>3000.777986</td>\n",
       "    </tr>\n",
       "    <tr>\n",
       "      <th>6</th>\n",
       "      <td>Sri Lanka</td>\n",
       "      <td>2020</td>\n",
       "      <td>37378424.0</td>\n",
       "      <td>21919000.0</td>\n",
       "      <td>8.096968e+10</td>\n",
       "      <td>3694.040948</td>\n",
       "    </tr>\n",
       "    <tr>\n",
       "      <th>4</th>\n",
       "      <td>Nepal</td>\n",
       "      <td>2020</td>\n",
       "      <td>135313064.0</td>\n",
       "      <td>29136808.0</td>\n",
       "      <td>3.343367e+10</td>\n",
       "      <td>1147.471971</td>\n",
       "    </tr>\n",
       "    <tr>\n",
       "      <th>0</th>\n",
       "      <td>Afghanistan</td>\n",
       "      <td>2020</td>\n",
       "      <td>54771898.0</td>\n",
       "      <td>38928341.0</td>\n",
       "      <td>2.011614e+10</td>\n",
       "      <td>516.747871</td>\n",
       "    </tr>\n",
       "    <tr>\n",
       "      <th>1</th>\n",
       "      <td>Bangladesh</td>\n",
       "      <td>2020</td>\n",
       "      <td>533086932.0</td>\n",
       "      <td>164689383.0</td>\n",
       "      <td>3.739021e+11</td>\n",
       "      <td>2270.347535</td>\n",
       "    </tr>\n",
       "  </tbody>\n",
       "</table>\n",
       "</div>"
      ],
      "text/plain": [
       "       Country  Year        Value  Population Size  2020 GDP in USD  \\\n",
       "2       Bhutan  2020    2096207.0         771612.0     2.315436e+09   \n",
       "6    Sri Lanka  2020   37378424.0       21919000.0     8.096968e+10   \n",
       "4        Nepal  2020  135313064.0       29136808.0     3.343367e+10   \n",
       "0  Afghanistan  2020   54771898.0       38928341.0     2.011614e+10   \n",
       "1   Bangladesh  2020  533086932.0      164689383.0     3.739021e+11   \n",
       "\n",
       "   GDP Per Capita  \n",
       "2     3000.777986  \n",
       "6     3694.040948  \n",
       "4     1147.471971  \n",
       "0      516.747871  \n",
       "1     2270.347535  "
      ]
     },
     "execution_count": 24,
     "metadata": {},
     "output_type": "execute_result"
    }
   ],
   "source": [
    "bottom5 = filtered_data.nsmallest(5, \"Population Size\")\n",
    "bottom5"
   ]
  },
  {
   "cell_type": "markdown",
   "metadata": {},
   "source": [
    "Graphing top 5 and bottom 5 populations"
   ]
  },
  {
   "cell_type": "code",
   "execution_count": 25,
   "metadata": {},
   "outputs": [
    {
     "data": {
      "text/plain": [
       "array([2.47270061e+09, 1.80446048e+09, 5.33086932e+08, 5.47718980e+07,\n",
       "       1.35313064e+08])"
      ]
     },
     "execution_count": 25,
     "metadata": {},
     "output_type": "execute_result"
    }
   ],
   "source": [
    "x_axis = np.array(top5[\"Country\"])\n",
    "x_axis\n",
    "\n",
    "y_axis = np.array(top5[\"Value\"])\n",
    "y_axis"
   ]
  },
  {
   "cell_type": "code",
   "execution_count": 26,
   "metadata": {},
   "outputs": [
    {
     "data": {
      "image/png": "[encoded data removed]",
      "text/plain": [
       "<Figure size 432x288 with 1 Axes>"
      ]
     },
     "metadata": {
      "needs_background": "light"
     },
     "output_type": "display_data"
    }
   ],
   "source": [
    "plt.title(\"Top 5 Most Populated South Asian Countries\")\n",
    "plt.xlabel(\"Country\")\n",
    "plt.ylabel(\"Food Production in Metric Tons\")\n",
    "\n",
    "plt.bar(x_axis, y_axis, facecolor=\"red\", alpha=0.75, align=\"center\")\n",
    "plt.show()"
   ]
  },
  {
   "cell_type": "code",
   "execution_count": 27,
   "metadata": {},
   "outputs": [
    {
     "data": {
      "text/plain": [
       "array([2.09620700e+06, 3.73784240e+07, 1.35313064e+08, 5.47718980e+07,\n",
       "       5.33086932e+08])"
      ]
     },
     "execution_count": 27,
     "metadata": {},
     "output_type": "execute_result"
    }
   ],
   "source": [
    "x2_axis = np.array(bottom5[\"Country\"])\n",
    "x2_axis\n",
    "\n",
    "y2_axis = np.array(bottom5[\"Value\"])\n",
    "y2_axis"
   ]
  },
  {
   "cell_type": "code",
   "execution_count": 28,
   "metadata": {},
   "outputs": [
    {
     "data": {
      "image/png": "[encoded data removed]",
      "text/plain": [
       "<Figure size 432x288 with 1 Axes>"
      ]
     },
     "metadata": {
      "needs_background": "light"
     },
     "output_type": "display_data"
    }
   ],
   "source": [
    "plt.title(\"Top 5 Least Populated South Asian Countries\")\n",
    "plt.xlabel(\"Country\")\n",
    "plt.ylabel(\"Food Production in Metric Tons\")\n",
    "# plt.xticks(rotation=45)\n",
    "plt.bar(x2_axis, y2_axis, facecolor=\"red\", alpha=0.75, align=\"center\")\n",
    "plt.show()"
   ]
  }
 ],
 "metadata": {
  "kernelspec": {
   "display_name": "Python 3.9.12 ('base')",
   "language": "python",
   "name": "python3"
  },
  "language_info": {
   "codemirror_mode": {
    "name": "ipython",
    "version": 3
   },
   "file_extension": ".py",
   "mimetype": "text/x-python",
   "name": "python",
   "nbconvert_exporter": "python",
   "pygments_lexer": "ipython3",
   "version": "3.9.12"
  },
  "orig_nbformat": 4,
  "vscode": {
   "interpreter": {
    "hash": "e9f13fa43e39423e6ba1cc7f788363ebf7fff1686fe7794312ea30598f7ca73d"
   }
  }
 },
 "nbformat": 4,
 "nbformat_minor": 2
}
