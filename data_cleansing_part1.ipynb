{
 "cells": [
  {
   "cell_type": "markdown",
   "metadata": {},
   "source": [
    "We have accumulated 4 datasets:\n",
    "- World Food Wealth Bank - Crop Data\n",
    "- World Food Wealth Bank - Live Stock Data\n",
    "- World Food Wealth Bank - Population\n",
    "- World GDP\n",
    "\n",
    "\n",
    "Our dataset for the World Food Wealth Bank was too large to import into our Project 1 GitHub Repository. Therefore, we must narrow down the scope of our data.\n",
    "We decided to focus our data towards the most recent year available within the World Food Wealth Bank data which is 2020."
   ]
  },
  {
   "cell_type": "code",
   "execution_count": 230,
   "metadata": {},
   "outputs": [],
   "source": [
    "# Import libraries\n",
    "import pandas as pd"
   ]
  },
  {
   "cell_type": "code",
   "execution_count": 231,
   "metadata": {},
   "outputs": [],
   "source": [
    "# import data\n",
    "crop_df = pd.read_csv(\"./Foodbank_data/crop1.csv\")\n",
    "live_stock_df = pd.read_csv(\"./Foodbank_data/live1.csv\")\n",
    "pop_df = pd.read_csv(\"./Foodbank_data/pop1.csv\")\n"
   ]
  },
  {
   "cell_type": "code",
   "execution_count": 232,
   "metadata": {},
   "outputs": [
    {
     "data": {
      "text/html": [
       "<div>\n",
       "<style scoped>\n",
       "    .dataframe tbody tr th:only-of-type {\n",
       "        vertical-align: middle;\n",
       "    }\n",
       "\n",
       "    .dataframe tbody tr th {\n",
       "        vertical-align: top;\n",
       "    }\n",
       "\n",
       "    .dataframe thead th {\n",
       "        text-align: right;\n",
       "    }\n",
       "</style>\n",
       "<table border=\"1\" class=\"dataframe\">\n",
       "  <thead>\n",
       "    <tr style=\"text-align: right;\">\n",
       "      <th></th>\n",
       "      <th>Area</th>\n",
       "      <th>Item</th>\n",
       "      <th>Element</th>\n",
       "      <th>Year</th>\n",
       "      <th>Unit</th>\n",
       "      <th>Value</th>\n",
       "    </tr>\n",
       "  </thead>\n",
       "  <tbody>\n",
       "    <tr>\n",
       "      <th>45</th>\n",
       "      <td>Afghanistan</td>\n",
       "      <td>Almonds, with shell</td>\n",
       "      <td>Area harvested</td>\n",
       "      <td>2020</td>\n",
       "      <td>ha</td>\n",
       "      <td>22134.0</td>\n",
       "    </tr>\n",
       "    <tr>\n",
       "      <th>90</th>\n",
       "      <td>Afghanistan</td>\n",
       "      <td>Almonds, with shell</td>\n",
       "      <td>Yield</td>\n",
       "      <td>2020</td>\n",
       "      <td>hg/ha</td>\n",
       "      <td>17759.0</td>\n",
       "    </tr>\n",
       "    <tr>\n",
       "      <th>136</th>\n",
       "      <td>Afghanistan</td>\n",
       "      <td>Almonds, with shell</td>\n",
       "      <td>Production</td>\n",
       "      <td>2020</td>\n",
       "      <td>tonnes</td>\n",
       "      <td>39307.0</td>\n",
       "    </tr>\n",
       "    <tr>\n",
       "      <th>196</th>\n",
       "      <td>Afghanistan</td>\n",
       "      <td>Anise, badian, fennel, coriander</td>\n",
       "      <td>Area harvested</td>\n",
       "      <td>2020</td>\n",
       "      <td>ha</td>\n",
       "      <td>25759.0</td>\n",
       "    </tr>\n",
       "    <tr>\n",
       "      <th>231</th>\n",
       "      <td>Afghanistan</td>\n",
       "      <td>Anise, badian, fennel, coriander</td>\n",
       "      <td>Yield</td>\n",
       "      <td>2020</td>\n",
       "      <td>hg/ha</td>\n",
       "      <td>7138.0</td>\n",
       "    </tr>\n",
       "  </tbody>\n",
       "</table>\n",
       "</div>"
      ],
      "text/plain": [
       "            Area                              Item         Element  Year  \\\n",
       "45   Afghanistan               Almonds, with shell  Area harvested  2020   \n",
       "90   Afghanistan               Almonds, with shell           Yield  2020   \n",
       "136  Afghanistan               Almonds, with shell      Production  2020   \n",
       "196  Afghanistan  Anise, badian, fennel, coriander  Area harvested  2020   \n",
       "231  Afghanistan  Anise, badian, fennel, coriander           Yield  2020   \n",
       "\n",
       "       Unit    Value  \n",
       "45       ha  22134.0  \n",
       "90    hg/ha  17759.0  \n",
       "136  tonnes  39307.0  \n",
       "196      ha  25759.0  \n",
       "231   hg/ha   7138.0  "
      ]
     },
     "execution_count": 232,
     "metadata": {},
     "output_type": "execute_result"
    }
   ],
   "source": [
    "crop_2020 = crop_df.loc[crop_df['Year'] == 2020, :]\n",
    "crop_2020.head()"
   ]
  },
  {
   "cell_type": "code",
   "execution_count": 233,
   "metadata": {},
   "outputs": [
    {
     "data": {
      "text/html": [
       "<div>\n",
       "<style scoped>\n",
       "    .dataframe tbody tr th:only-of-type {\n",
       "        vertical-align: middle;\n",
       "    }\n",
       "\n",
       "    .dataframe tbody tr th {\n",
       "        vertical-align: top;\n",
       "    }\n",
       "\n",
       "    .dataframe thead th {\n",
       "        text-align: right;\n",
       "    }\n",
       "</style>\n",
       "<table border=\"1\" class=\"dataframe\">\n",
       "  <thead>\n",
       "    <tr style=\"text-align: right;\">\n",
       "      <th></th>\n",
       "      <th>Area</th>\n",
       "      <th>Item</th>\n",
       "      <th>Element</th>\n",
       "      <th>Year</th>\n",
       "      <th>Unit</th>\n",
       "      <th>Value</th>\n",
       "    </tr>\n",
       "  </thead>\n",
       "  <tbody>\n",
       "    <tr>\n",
       "      <th>59</th>\n",
       "      <td>Afghanistan</td>\n",
       "      <td>Asses</td>\n",
       "      <td>Stocks</td>\n",
       "      <td>2020</td>\n",
       "      <td>Head</td>\n",
       "      <td>1535435.0</td>\n",
       "    </tr>\n",
       "    <tr>\n",
       "      <th>119</th>\n",
       "      <td>Afghanistan</td>\n",
       "      <td>Camels</td>\n",
       "      <td>Stocks</td>\n",
       "      <td>2020</td>\n",
       "      <td>Head</td>\n",
       "      <td>168928.0</td>\n",
       "    </tr>\n",
       "    <tr>\n",
       "      <th>179</th>\n",
       "      <td>Afghanistan</td>\n",
       "      <td>Cattle</td>\n",
       "      <td>Stocks</td>\n",
       "      <td>2020</td>\n",
       "      <td>Head</td>\n",
       "      <td>5085807.0</td>\n",
       "    </tr>\n",
       "    <tr>\n",
       "      <th>239</th>\n",
       "      <td>Afghanistan</td>\n",
       "      <td>Chickens</td>\n",
       "      <td>Stocks</td>\n",
       "      <td>2020</td>\n",
       "      <td>1000 Head</td>\n",
       "      <td>13724.0</td>\n",
       "    </tr>\n",
       "    <tr>\n",
       "      <th>299</th>\n",
       "      <td>Afghanistan</td>\n",
       "      <td>Goats</td>\n",
       "      <td>Stocks</td>\n",
       "      <td>2020</td>\n",
       "      <td>Head</td>\n",
       "      <td>7967043.0</td>\n",
       "    </tr>\n",
       "  </tbody>\n",
       "</table>\n",
       "</div>"
      ],
      "text/plain": [
       "            Area      Item Element  Year       Unit      Value\n",
       "59   Afghanistan     Asses  Stocks  2020       Head  1535435.0\n",
       "119  Afghanistan    Camels  Stocks  2020       Head   168928.0\n",
       "179  Afghanistan    Cattle  Stocks  2020       Head  5085807.0\n",
       "239  Afghanistan  Chickens  Stocks  2020  1000 Head    13724.0\n",
       "299  Afghanistan     Goats  Stocks  2020       Head  7967043.0"
      ]
     },
     "execution_count": 233,
     "metadata": {},
     "output_type": "execute_result"
    }
   ],
   "source": [
    "live_2020 = live_stock_df.loc[live_stock_df['Year']==2020, :]\n",
    "live_2020.head()"
   ]
  },
  {
   "cell_type": "code",
   "execution_count": 234,
   "metadata": {},
   "outputs": [
    {
     "name": "stdout",
     "output_type": "stream",
     "text": [
      "Crop Columns: Index(['Area', 'Item', 'Element', 'Year', 'Unit', 'Value'], dtype='object')\n",
      "Live Stock Columns: Index(['Area', 'Item', 'Element', 'Year', 'Unit', 'Value'], dtype='object')\n",
      "Population Columns: Index(['Country Name', 'Country Code', '1960', '1961', '1962', '1963', '1964',\n",
      "       '1965', '1966', '1967', '1968', '1969', '1970', '1971', '1972', '1973',\n",
      "       '1974', '1975', '1976', '1977', '1978', '1979', '1980', '1981', '1982',\n",
      "       '1983', '1984', '1985', '1986', '1987', '1988', '1989', '1990', '1991',\n",
      "       '1992', '1993', '1994', '1995', '1996', '1997', '1998', '1999', '2000',\n",
      "       '2001', '2002', '2003', '2004', '2005', '2006', '2007', '2008', '2009',\n",
      "       '2010', '2011', '2012', '2013', '2014', '2015', '2016', '2017', '2018',\n",
      "       '2019', '2020', '2021'],\n",
      "      dtype='object')\n"
     ]
    }
   ],
   "source": [
    "# Columns\n",
    "print(f\"Crop Columns: {crop_2020.columns}\")\n",
    "print(f\"Live Stock Columns: {live_2020.columns}\")\n",
    "print(f\"Population Columns: {pop_df.columns}\")"
   ]
  },
  {
   "cell_type": "markdown",
   "metadata": {},
   "source": [
    "Crop Columns:\n",
    "- Area: Country/region\n",
    "- Item: Crop\n",
    "- Element: Area harvested, Yield, or Production of the crop\n",
    "- Year: Only 2020 since that is our focus\n",
    "- Unit: Unit of measure based on the element value\n",
    "- Value: The number of units for the crop"
   ]
  },
  {
   "cell_type": "markdown",
   "metadata": {},
   "source": [
    "Live Stock Columns:\n",
    "- Area: Country\n",
    "- Item: Live stock\n",
    "- Element: Type\n",
    "- Year\n",
    "- Unit: Unit of measure for the element type\n",
    "- Value: The value count based on the unit of measure\n",
    "\n",
    "The column titles are the same as the crop dataset. However, the Population dataset does not have the same columns. We will filter the population data set to contain only the year 2020.\n",
    "\n",
    "Do we need both Country Name and Country Code?\n"
   ]
  },
  {
   "cell_type": "code",
   "execution_count": 235,
   "metadata": {},
   "outputs": [
    {
     "name": "stdout",
     "output_type": "stream",
     "text": [
      "Length of Population dataframe: 266\n",
      "Number of unique values of Country Name: 266\n",
      "Number of unique Country Code: 266\n"
     ]
    }
   ],
   "source": [
    "print(f\"Length of Population dataframe: {len(pop_df)}\")\n",
    "print(f\"Number of unique values of Country Name: {len(pop_df['Country Name'].value_counts())}\")\n",
    "print(f\"Number of unique Country Code: {len(pop_df['Country Code'].value_counts())}\")"
   ]
  },
  {
   "cell_type": "markdown",
   "metadata": {},
   "source": [
    "The length of Country Name and Country Code are the same as the number of rows in the data. Therefore, all rows are unique in this dataset. We remove Country Code since we do not need it."
   ]
  },
  {
   "cell_type": "code",
   "execution_count": 236,
   "metadata": {},
   "outputs": [
    {
     "data": {
      "text/html": [
       "<div>\n",
       "<style scoped>\n",
       "    .dataframe tbody tr th:only-of-type {\n",
       "        vertical-align: middle;\n",
       "    }\n",
       "\n",
       "    .dataframe tbody tr th {\n",
       "        vertical-align: top;\n",
       "    }\n",
       "\n",
       "    .dataframe thead th {\n",
       "        text-align: right;\n",
       "    }\n",
       "</style>\n",
       "<table border=\"1\" class=\"dataframe\">\n",
       "  <thead>\n",
       "    <tr style=\"text-align: right;\">\n",
       "      <th></th>\n",
       "      <th>Country</th>\n",
       "      <th>Population Size</th>\n",
       "    </tr>\n",
       "  </thead>\n",
       "  <tbody>\n",
       "    <tr>\n",
       "      <th>0</th>\n",
       "      <td>Aruba</td>\n",
       "      <td>106766.0</td>\n",
       "    </tr>\n",
       "    <tr>\n",
       "      <th>1</th>\n",
       "      <td>Africa Eastern and Southern</td>\n",
       "      <td>677243299.0</td>\n",
       "    </tr>\n",
       "    <tr>\n",
       "      <th>2</th>\n",
       "      <td>Afghanistan</td>\n",
       "      <td>38928341.0</td>\n",
       "    </tr>\n",
       "    <tr>\n",
       "      <th>3</th>\n",
       "      <td>Africa Western and Central</td>\n",
       "      <td>458803476.0</td>\n",
       "    </tr>\n",
       "    <tr>\n",
       "      <th>4</th>\n",
       "      <td>Angola</td>\n",
       "      <td>32866268.0</td>\n",
       "    </tr>\n",
       "  </tbody>\n",
       "</table>\n",
       "</div>"
      ],
      "text/plain": [
       "                       Country  Population Size\n",
       "0                        Aruba         106766.0\n",
       "1  Africa Eastern and Southern      677243299.0\n",
       "2                  Afghanistan       38928341.0\n",
       "3   Africa Western and Central      458803476.0\n",
       "4                       Angola       32866268.0"
      ]
     },
     "execution_count": 236,
     "metadata": {},
     "output_type": "execute_result"
    }
   ],
   "source": [
    "pop_2020 = pop_df.loc[:, (\"Country Name\", \"2020\")]\n",
    "# Rename columns to match data\n",
    "pop_2020 = pop_2020.rename(columns={\"Country Name\":\"Country\",\"2020\":\"Population Size\"})\n",
    "pop_2020.columns\n",
    "pop_2020.head()"
   ]
  },
  {
   "cell_type": "code",
   "execution_count": 237,
   "metadata": {},
   "outputs": [],
   "source": [
    "# Rename \"Area\" to \"Country Name\" for Crop and Live Stock Data\n",
    "crop_2020 = crop_2020.rename(columns={\"Area\": \"Country\"})\n",
    "live_2020 = live_2020.rename(columns={\"Area\": \"Country\"})"
   ]
  },
  {
   "cell_type": "code",
   "execution_count": 238,
   "metadata": {},
   "outputs": [
    {
     "name": "stdout",
     "output_type": "stream",
     "text": [
      "Crop data types: Country     object\n",
      "Item        object\n",
      "Element     object\n",
      "Year         int64\n",
      "Unit        object\n",
      "Value      float64\n",
      "dtype: object\n",
      "Live Stock data types: Country     object\n",
      "Item        object\n",
      "Element     object\n",
      "Year         int64\n",
      "Unit        object\n",
      "Value      float64\n",
      "dtype: object\n",
      "Population data type: Country             object\n",
      "Population Size    float64\n",
      "dtype: object\n"
     ]
    }
   ],
   "source": [
    "# Column Data Types\n",
    "print(f\"Crop data types: {crop_2020.dtypes}\")\n",
    "print(f\"Live Stock data types: {live_2020.dtypes}\")\n",
    "print(f\"Population data type: {pop_2020.dtypes}\")"
   ]
  },
  {
   "cell_type": "markdown",
   "metadata": {},
   "source": [
    "Data types are correct and matching for both crop and live stock data. Population data types are correct as well."
   ]
  },
  {
   "cell_type": "code",
   "execution_count": 239,
   "metadata": {},
   "outputs": [
    {
     "name": "stdout",
     "output_type": "stream",
     "text": [
      "Crop value counts: Country    35406\n",
      "Item       35406\n",
      "Element    35406\n",
      "Year       35406\n",
      "Unit       35406\n",
      "Value      34461\n",
      "dtype: int64\n",
      "Live stock value counts: Country    2046\n",
      "Item       2046\n",
      "Element    2046\n",
      "Year       2046\n",
      "Unit       2046\n",
      "Value      2004\n",
      "dtype: int64\n",
      "Population value counts: Country            266\n",
      "Population Size    264\n",
      "dtype: int64\n"
     ]
    }
   ],
   "source": [
    "# Missing Data\n",
    "print(f\"Crop value counts: {crop_2020.count()}\")\n",
    "print(f\"Live stock value counts: {live_2020.count()}\")\n",
    "print(f\"Population value counts: {pop_2020.count()}\")"
   ]
  },
  {
   "cell_type": "code",
   "execution_count": 240,
   "metadata": {},
   "outputs": [
    {
     "data": {
      "text/html": [
       "<div>\n",
       "<style scoped>\n",
       "    .dataframe tbody tr th:only-of-type {\n",
       "        vertical-align: middle;\n",
       "    }\n",
       "\n",
       "    .dataframe tbody tr th {\n",
       "        vertical-align: top;\n",
       "    }\n",
       "\n",
       "    .dataframe thead th {\n",
       "        text-align: right;\n",
       "    }\n",
       "</style>\n",
       "<table border=\"1\" class=\"dataframe\">\n",
       "  <thead>\n",
       "    <tr style=\"text-align: right;\">\n",
       "      <th></th>\n",
       "      <th>Country</th>\n",
       "      <th>Item</th>\n",
       "      <th>Element</th>\n",
       "      <th>Year</th>\n",
       "      <th>Unit</th>\n",
       "      <th>Value</th>\n",
       "    </tr>\n",
       "  </thead>\n",
       "  <tbody>\n",
       "    <tr>\n",
       "      <th>8704</th>\n",
       "      <td>Albania</td>\n",
       "      <td>Fruit, stone nes</td>\n",
       "      <td>Area harvested</td>\n",
       "      <td>2020</td>\n",
       "      <td>ha</td>\n",
       "      <td>NaN</td>\n",
       "    </tr>\n",
       "    <tr>\n",
       "      <th>8719</th>\n",
       "      <td>Albania</td>\n",
       "      <td>Fruit, stone nes</td>\n",
       "      <td>Production</td>\n",
       "      <td>2020</td>\n",
       "      <td>tonnes</td>\n",
       "      <td>NaN</td>\n",
       "    </tr>\n",
       "    <tr>\n",
       "      <th>9966</th>\n",
       "      <td>Albania</td>\n",
       "      <td>Mushrooms and truffles</td>\n",
       "      <td>Area harvested</td>\n",
       "      <td>2020</td>\n",
       "      <td>ha</td>\n",
       "      <td>NaN</td>\n",
       "    </tr>\n",
       "    <tr>\n",
       "      <th>12150</th>\n",
       "      <td>Albania</td>\n",
       "      <td>Rice, paddy</td>\n",
       "      <td>Area harvested</td>\n",
       "      <td>2020</td>\n",
       "      <td>ha</td>\n",
       "      <td>NaN</td>\n",
       "    </tr>\n",
       "    <tr>\n",
       "      <th>12243</th>\n",
       "      <td>Albania</td>\n",
       "      <td>Rice, paddy</td>\n",
       "      <td>Production</td>\n",
       "      <td>2020</td>\n",
       "      <td>tonnes</td>\n",
       "      <td>NaN</td>\n",
       "    </tr>\n",
       "    <tr>\n",
       "      <th>...</th>\n",
       "      <td>...</td>\n",
       "      <td>...</td>\n",
       "      <td>...</td>\n",
       "      <td>...</td>\n",
       "      <td>...</td>\n",
       "      <td>...</td>\n",
       "    </tr>\n",
       "    <tr>\n",
       "      <th>1861714</th>\n",
       "      <td>Low Income Food Deficit Countries</td>\n",
       "      <td>Flax fibre and tow</td>\n",
       "      <td>Production</td>\n",
       "      <td>2020</td>\n",
       "      <td>tonnes</td>\n",
       "      <td>NaN</td>\n",
       "    </tr>\n",
       "    <tr>\n",
       "      <th>1866042</th>\n",
       "      <td>Low Income Food Deficit Countries</td>\n",
       "      <td>Mushrooms and truffles</td>\n",
       "      <td>Area harvested</td>\n",
       "      <td>2020</td>\n",
       "      <td>ha</td>\n",
       "      <td>NaN</td>\n",
       "    </tr>\n",
       "    <tr>\n",
       "      <th>1883875</th>\n",
       "      <td>Net Food Importing Developing Countries</td>\n",
       "      <td>Hemp tow waste</td>\n",
       "      <td>Area harvested</td>\n",
       "      <td>2020</td>\n",
       "      <td>ha</td>\n",
       "      <td>NaN</td>\n",
       "    </tr>\n",
       "    <tr>\n",
       "      <th>1883904</th>\n",
       "      <td>Net Food Importing Developing Countries</td>\n",
       "      <td>Hemp tow waste</td>\n",
       "      <td>Production</td>\n",
       "      <td>2020</td>\n",
       "      <td>tonnes</td>\n",
       "      <td>NaN</td>\n",
       "    </tr>\n",
       "    <tr>\n",
       "      <th>1886259</th>\n",
       "      <td>Net Food Importing Developing Countries</td>\n",
       "      <td>Mushrooms and truffles</td>\n",
       "      <td>Area harvested</td>\n",
       "      <td>2020</td>\n",
       "      <td>ha</td>\n",
       "      <td>NaN</td>\n",
       "    </tr>\n",
       "  </tbody>\n",
       "</table>\n",
       "<p>945 rows × 6 columns</p>\n",
       "</div>"
      ],
      "text/plain": [
       "                                         Country                    Item  \\\n",
       "8704                                     Albania        Fruit, stone nes   \n",
       "8719                                     Albania        Fruit, stone nes   \n",
       "9966                                     Albania  Mushrooms and truffles   \n",
       "12150                                    Albania             Rice, paddy   \n",
       "12243                                    Albania             Rice, paddy   \n",
       "...                                          ...                     ...   \n",
       "1861714        Low Income Food Deficit Countries      Flax fibre and tow   \n",
       "1866042        Low Income Food Deficit Countries  Mushrooms and truffles   \n",
       "1883875  Net Food Importing Developing Countries          Hemp tow waste   \n",
       "1883904  Net Food Importing Developing Countries          Hemp tow waste   \n",
       "1886259  Net Food Importing Developing Countries  Mushrooms and truffles   \n",
       "\n",
       "                Element  Year    Unit  Value  \n",
       "8704     Area harvested  2020      ha    NaN  \n",
       "8719         Production  2020  tonnes    NaN  \n",
       "9966     Area harvested  2020      ha    NaN  \n",
       "12150    Area harvested  2020      ha    NaN  \n",
       "12243        Production  2020  tonnes    NaN  \n",
       "...                 ...   ...     ...    ...  \n",
       "1861714      Production  2020  tonnes    NaN  \n",
       "1866042  Area harvested  2020      ha    NaN  \n",
       "1883875  Area harvested  2020      ha    NaN  \n",
       "1883904      Production  2020  tonnes    NaN  \n",
       "1886259  Area harvested  2020      ha    NaN  \n",
       "\n",
       "[945 rows x 6 columns]"
      ]
     },
     "execution_count": 240,
     "metadata": {},
     "output_type": "execute_result"
    }
   ],
   "source": [
    "# Value column has 34461 values\n",
    "# What kind of values are missing?\n",
    "crop_2020_missing = crop_2020.loc[crop_2020['Value'].isna(), :]\n",
    "crop_2020_missing"
   ]
  },
  {
   "cell_type": "markdown",
   "metadata": {},
   "source": [
    "Does the missing values mean that the country does not produce that crop? If so, the NaN value should be 0.\n",
    "\n",
    "What is Low Income Food Deficit Countries?\n",
    "What is Net Food Importing Developing Countries?\n",
    "\n",
    "These are bundles of countries that are categorized into one group. The GDP dataset does not include these categories. Therefore, it will be removed when we do a left join by Country with the GDP dataset.\n",
    "\n",
    "The value of any missing data can be 0.\n",
    "\n"
   ]
  },
  {
   "cell_type": "code",
   "execution_count": 241,
   "metadata": {},
   "outputs": [
    {
     "data": {
      "text/plain": [
       "35406"
      ]
     },
     "execution_count": 241,
     "metadata": {},
     "output_type": "execute_result"
    }
   ],
   "source": [
    "crop_2020_no_missing = crop_2020.copy()\n",
    "crop_2020_no_missing['Value'] = [val if type(val) == 'float' else 0 for val in crop_2020_no_missing['Value']]\n",
    "len(crop_2020_no_missing['Value'])"
   ]
  },
  {
   "cell_type": "code",
   "execution_count": 242,
   "metadata": {},
   "outputs": [
    {
     "data": {
      "text/plain": [
       "Country    35406\n",
       "Item       35406\n",
       "Element    35406\n",
       "Year       35406\n",
       "Unit       35406\n",
       "Value      35406\n",
       "dtype: int64"
      ]
     },
     "execution_count": 242,
     "metadata": {},
     "output_type": "execute_result"
    }
   ],
   "source": [
    "# Check if it worked for all columns\n",
    "crop_2020_no_missing.count()"
   ]
  },
  {
   "cell_type": "code",
   "execution_count": 243,
   "metadata": {},
   "outputs": [
    {
     "data": {
      "text/html": [
       "<div>\n",
       "<style scoped>\n",
       "    .dataframe tbody tr th:only-of-type {\n",
       "        vertical-align: middle;\n",
       "    }\n",
       "\n",
       "    .dataframe tbody tr th {\n",
       "        vertical-align: top;\n",
       "    }\n",
       "\n",
       "    .dataframe thead th {\n",
       "        text-align: right;\n",
       "    }\n",
       "</style>\n",
       "<table border=\"1\" class=\"dataframe\">\n",
       "  <thead>\n",
       "    <tr style=\"text-align: right;\">\n",
       "      <th></th>\n",
       "      <th>Country</th>\n",
       "      <th>Item</th>\n",
       "      <th>Element</th>\n",
       "      <th>Year</th>\n",
       "      <th>Unit</th>\n",
       "      <th>Value</th>\n",
       "    </tr>\n",
       "  </thead>\n",
       "  <tbody>\n",
       "    <tr>\n",
       "      <th>839</th>\n",
       "      <td>Albania</td>\n",
       "      <td>Ducks</td>\n",
       "      <td>Stocks</td>\n",
       "      <td>2020</td>\n",
       "      <td>1000 Head</td>\n",
       "      <td>NaN</td>\n",
       "    </tr>\n",
       "    <tr>\n",
       "      <th>899</th>\n",
       "      <td>Albania</td>\n",
       "      <td>Geese and guinea fowls</td>\n",
       "      <td>Stocks</td>\n",
       "      <td>2020</td>\n",
       "      <td>1000 Head</td>\n",
       "      <td>NaN</td>\n",
       "    </tr>\n",
       "    <tr>\n",
       "      <th>1079</th>\n",
       "      <td>Albania</td>\n",
       "      <td>Mules</td>\n",
       "      <td>Stocks</td>\n",
       "      <td>2020</td>\n",
       "      <td>Head</td>\n",
       "      <td>NaN</td>\n",
       "    </tr>\n",
       "    <tr>\n",
       "      <th>4068</th>\n",
       "      <td>Australia</td>\n",
       "      <td>Buffaloes</td>\n",
       "      <td>Stocks</td>\n",
       "      <td>2020</td>\n",
       "      <td>Head</td>\n",
       "      <td>NaN</td>\n",
       "    </tr>\n",
       "    <tr>\n",
       "      <th>5616</th>\n",
       "      <td>Bahamas</td>\n",
       "      <td>Horses</td>\n",
       "      <td>Stocks</td>\n",
       "      <td>2020</td>\n",
       "      <td>Head</td>\n",
       "      <td>NaN</td>\n",
       "    </tr>\n",
       "    <tr>\n",
       "      <th>5768</th>\n",
       "      <td>Bahrain</td>\n",
       "      <td>Asses</td>\n",
       "      <td>Stocks</td>\n",
       "      <td>2020</td>\n",
       "      <td>Head</td>\n",
       "      <td>NaN</td>\n",
       "    </tr>\n",
       "    <tr>\n",
       "      <th>9442</th>\n",
       "      <td>Bolivia (Plurinational State of)</td>\n",
       "      <td>Beehives</td>\n",
       "      <td>Stocks</td>\n",
       "      <td>2020</td>\n",
       "      <td>No</td>\n",
       "      <td>NaN</td>\n",
       "    </tr>\n",
       "    <tr>\n",
       "      <th>15596</th>\n",
       "      <td>Central African Republic</td>\n",
       "      <td>Asses</td>\n",
       "      <td>Stocks</td>\n",
       "      <td>2020</td>\n",
       "      <td>Head</td>\n",
       "      <td>NaN</td>\n",
       "    </tr>\n",
       "    <tr>\n",
       "      <th>18236</th>\n",
       "      <td>China, Hong Kong SAR</td>\n",
       "      <td>Geese and guinea fowls</td>\n",
       "      <td>Stocks</td>\n",
       "      <td>2020</td>\n",
       "      <td>1000 Head</td>\n",
       "      <td>NaN</td>\n",
       "    </tr>\n",
       "    <tr>\n",
       "      <th>21488</th>\n",
       "      <td>Cook Islands</td>\n",
       "      <td>Ducks</td>\n",
       "      <td>Stocks</td>\n",
       "      <td>2020</td>\n",
       "      <td>1000 Head</td>\n",
       "      <td>NaN</td>\n",
       "    </tr>\n",
       "    <tr>\n",
       "      <th>22358</th>\n",
       "      <td>Côte d'Ivoire</td>\n",
       "      <td>Ducks</td>\n",
       "      <td>Stocks</td>\n",
       "      <td>2020</td>\n",
       "      <td>1000 Head</td>\n",
       "      <td>NaN</td>\n",
       "    </tr>\n",
       "    <tr>\n",
       "      <th>25176</th>\n",
       "      <td>Democratic Republic of the Congo</td>\n",
       "      <td>Asses</td>\n",
       "      <td>Stocks</td>\n",
       "      <td>2020</td>\n",
       "      <td>Head</td>\n",
       "      <td>NaN</td>\n",
       "    </tr>\n",
       "    <tr>\n",
       "      <th>25402</th>\n",
       "      <td>Democratic Republic of the Congo</td>\n",
       "      <td>Horses</td>\n",
       "      <td>Stocks</td>\n",
       "      <td>2020</td>\n",
       "      <td>Head</td>\n",
       "      <td>NaN</td>\n",
       "    </tr>\n",
       "    <tr>\n",
       "      <th>31850</th>\n",
       "      <td>Finland</td>\n",
       "      <td>Ducks</td>\n",
       "      <td>Stocks</td>\n",
       "      <td>2020</td>\n",
       "      <td>1000 Head</td>\n",
       "      <td>NaN</td>\n",
       "    </tr>\n",
       "    <tr>\n",
       "      <th>33575</th>\n",
       "      <td>French Polynesia</td>\n",
       "      <td>Rabbits and hares</td>\n",
       "      <td>Stocks</td>\n",
       "      <td>2020</td>\n",
       "      <td>1000 Head</td>\n",
       "      <td>NaN</td>\n",
       "    </tr>\n",
       "    <tr>\n",
       "      <th>43838</th>\n",
       "      <td>Iran (Islamic Republic of)</td>\n",
       "      <td>Pigs</td>\n",
       "      <td>Stocks</td>\n",
       "      <td>2020</td>\n",
       "      <td>Head</td>\n",
       "      <td>NaN</td>\n",
       "    </tr>\n",
       "    <tr>\n",
       "      <th>44676</th>\n",
       "      <td>Ireland</td>\n",
       "      <td>Ducks</td>\n",
       "      <td>Stocks</td>\n",
       "      <td>2020</td>\n",
       "      <td>1000 Head</td>\n",
       "      <td>NaN</td>\n",
       "    </tr>\n",
       "    <tr>\n",
       "      <th>44736</th>\n",
       "      <td>Ireland</td>\n",
       "      <td>Geese and guinea fowls</td>\n",
       "      <td>Stocks</td>\n",
       "      <td>2020</td>\n",
       "      <td>1000 Head</td>\n",
       "      <td>NaN</td>\n",
       "    </tr>\n",
       "    <tr>\n",
       "      <th>52348</th>\n",
       "      <td>Libya</td>\n",
       "      <td>Mules</td>\n",
       "      <td>Stocks</td>\n",
       "      <td>2020</td>\n",
       "      <td>Head</td>\n",
       "      <td>NaN</td>\n",
       "    </tr>\n",
       "    <tr>\n",
       "      <th>55189</th>\n",
       "      <td>Malta</td>\n",
       "      <td>Ducks</td>\n",
       "      <td>Stocks</td>\n",
       "      <td>2020</td>\n",
       "      <td>1000 Head</td>\n",
       "      <td>NaN</td>\n",
       "    </tr>\n",
       "    <tr>\n",
       "      <th>61548</th>\n",
       "      <td>Netherlands</td>\n",
       "      <td>Beehives</td>\n",
       "      <td>Stocks</td>\n",
       "      <td>2020</td>\n",
       "      <td>No</td>\n",
       "      <td>NaN</td>\n",
       "    </tr>\n",
       "    <tr>\n",
       "      <th>61726</th>\n",
       "      <td>Netherlands</td>\n",
       "      <td>Ducks</td>\n",
       "      <td>Stocks</td>\n",
       "      <td>2020</td>\n",
       "      <td>1000 Head</td>\n",
       "      <td>NaN</td>\n",
       "    </tr>\n",
       "    <tr>\n",
       "      <th>64032</th>\n",
       "      <td>Nigeria</td>\n",
       "      <td>Beehives</td>\n",
       "      <td>Stocks</td>\n",
       "      <td>2020</td>\n",
       "      <td>No</td>\n",
       "      <td>NaN</td>\n",
       "    </tr>\n",
       "    <tr>\n",
       "      <th>65739</th>\n",
       "      <td>Oman</td>\n",
       "      <td>Ducks</td>\n",
       "      <td>Stocks</td>\n",
       "      <td>2020</td>\n",
       "      <td>1000 Head</td>\n",
       "      <td>NaN</td>\n",
       "    </tr>\n",
       "    <tr>\n",
       "      <th>70231</th>\n",
       "      <td>Portugal</td>\n",
       "      <td>Ducks</td>\n",
       "      <td>Stocks</td>\n",
       "      <td>2020</td>\n",
       "      <td>1000 Head</td>\n",
       "      <td>NaN</td>\n",
       "    </tr>\n",
       "    <tr>\n",
       "      <th>72000</th>\n",
       "      <td>Republic of Korea</td>\n",
       "      <td>Mules</td>\n",
       "      <td>Stocks</td>\n",
       "      <td>2020</td>\n",
       "      <td>Head</td>\n",
       "      <td>NaN</td>\n",
       "    </tr>\n",
       "    <tr>\n",
       "      <th>78570</th>\n",
       "      <td>Singapore</td>\n",
       "      <td>Buffaloes</td>\n",
       "      <td>Stocks</td>\n",
       "      <td>2020</td>\n",
       "      <td>Head</td>\n",
       "      <td>NaN</td>\n",
       "    </tr>\n",
       "    <tr>\n",
       "      <th>78750</th>\n",
       "      <td>Singapore</td>\n",
       "      <td>Ducks</td>\n",
       "      <td>Stocks</td>\n",
       "      <td>2020</td>\n",
       "      <td>1000 Head</td>\n",
       "      <td>NaN</td>\n",
       "    </tr>\n",
       "    <tr>\n",
       "      <th>78870</th>\n",
       "      <td>Singapore</td>\n",
       "      <td>Pigs</td>\n",
       "      <td>Stocks</td>\n",
       "      <td>2020</td>\n",
       "      <td>Head</td>\n",
       "      <td>NaN</td>\n",
       "    </tr>\n",
       "    <tr>\n",
       "      <th>80892</th>\n",
       "      <td>South Sudan</td>\n",
       "      <td>Beehives</td>\n",
       "      <td>Stocks</td>\n",
       "      <td>2020</td>\n",
       "      <td>No</td>\n",
       "      <td>NaN</td>\n",
       "    </tr>\n",
       "    <tr>\n",
       "      <th>80901</th>\n",
       "      <td>South Sudan</td>\n",
       "      <td>Camels</td>\n",
       "      <td>Stocks</td>\n",
       "      <td>2020</td>\n",
       "      <td>Head</td>\n",
       "      <td>NaN</td>\n",
       "    </tr>\n",
       "    <tr>\n",
       "      <th>80937</th>\n",
       "      <td>South Sudan</td>\n",
       "      <td>Horses</td>\n",
       "      <td>Stocks</td>\n",
       "      <td>2020</td>\n",
       "      <td>Head</td>\n",
       "      <td>NaN</td>\n",
       "    </tr>\n",
       "    <tr>\n",
       "      <th>80946</th>\n",
       "      <td>South Sudan</td>\n",
       "      <td>Mules</td>\n",
       "      <td>Stocks</td>\n",
       "      <td>2020</td>\n",
       "      <td>Head</td>\n",
       "      <td>NaN</td>\n",
       "    </tr>\n",
       "    <tr>\n",
       "      <th>86954</th>\n",
       "      <td>Togo</td>\n",
       "      <td>Rabbits and hares</td>\n",
       "      <td>Stocks</td>\n",
       "      <td>2020</td>\n",
       "      <td>1000 Head</td>\n",
       "      <td>NaN</td>\n",
       "    </tr>\n",
       "    <tr>\n",
       "      <th>89956</th>\n",
       "      <td>Tuvalu</td>\n",
       "      <td>Goats</td>\n",
       "      <td>Stocks</td>\n",
       "      <td>2020</td>\n",
       "      <td>Head</td>\n",
       "      <td>NaN</td>\n",
       "    </tr>\n",
       "    <tr>\n",
       "      <th>91116</th>\n",
       "      <td>United Arab Emirates</td>\n",
       "      <td>Rabbits and hares</td>\n",
       "      <td>Stocks</td>\n",
       "      <td>2020</td>\n",
       "      <td>1000 Head</td>\n",
       "      <td>NaN</td>\n",
       "    </tr>\n",
       "    <tr>\n",
       "      <th>91236</th>\n",
       "      <td>United Kingdom of Great Britain and Northern I...</td>\n",
       "      <td>Beehives</td>\n",
       "      <td>Stocks</td>\n",
       "      <td>2020</td>\n",
       "      <td>No</td>\n",
       "      <td>NaN</td>\n",
       "    </tr>\n",
       "    <tr>\n",
       "      <th>92676</th>\n",
       "      <td>United States of America</td>\n",
       "      <td>Mules</td>\n",
       "      <td>Stocks</td>\n",
       "      <td>2020</td>\n",
       "      <td>Head</td>\n",
       "      <td>NaN</td>\n",
       "    </tr>\n",
       "    <tr>\n",
       "      <th>113974</th>\n",
       "      <td>Southern Europe</td>\n",
       "      <td>Mules</td>\n",
       "      <td>Stocks</td>\n",
       "      <td>2020</td>\n",
       "      <td>Head</td>\n",
       "      <td>NaN</td>\n",
       "    </tr>\n",
       "    <tr>\n",
       "      <th>115507</th>\n",
       "      <td>Oceania</td>\n",
       "      <td>Rabbits and hares</td>\n",
       "      <td>Stocks</td>\n",
       "      <td>2020</td>\n",
       "      <td>1000 Head</td>\n",
       "      <td>NaN</td>\n",
       "    </tr>\n",
       "    <tr>\n",
       "      <th>115717</th>\n",
       "      <td>Australia and New Zealand</td>\n",
       "      <td>Buffaloes</td>\n",
       "      <td>Stocks</td>\n",
       "      <td>2020</td>\n",
       "      <td>Head</td>\n",
       "      <td>NaN</td>\n",
       "    </tr>\n",
       "    <tr>\n",
       "      <th>117430</th>\n",
       "      <td>Polynesia</td>\n",
       "      <td>Rabbits and hares</td>\n",
       "      <td>Stocks</td>\n",
       "      <td>2020</td>\n",
       "      <td>1000 Head</td>\n",
       "      <td>NaN</td>\n",
       "    </tr>\n",
       "  </tbody>\n",
       "</table>\n",
       "</div>"
      ],
      "text/plain": [
       "                                                  Country  \\\n",
       "839                                               Albania   \n",
       "899                                               Albania   \n",
       "1079                                              Albania   \n",
       "4068                                            Australia   \n",
       "5616                                              Bahamas   \n",
       "5768                                              Bahrain   \n",
       "9442                     Bolivia (Plurinational State of)   \n",
       "15596                            Central African Republic   \n",
       "18236                                China, Hong Kong SAR   \n",
       "21488                                        Cook Islands   \n",
       "22358                                       Côte d'Ivoire   \n",
       "25176                    Democratic Republic of the Congo   \n",
       "25402                    Democratic Republic of the Congo   \n",
       "31850                                             Finland   \n",
       "33575                                    French Polynesia   \n",
       "43838                          Iran (Islamic Republic of)   \n",
       "44676                                             Ireland   \n",
       "44736                                             Ireland   \n",
       "52348                                               Libya   \n",
       "55189                                               Malta   \n",
       "61548                                         Netherlands   \n",
       "61726                                         Netherlands   \n",
       "64032                                             Nigeria   \n",
       "65739                                                Oman   \n",
       "70231                                            Portugal   \n",
       "72000                                   Republic of Korea   \n",
       "78570                                           Singapore   \n",
       "78750                                           Singapore   \n",
       "78870                                           Singapore   \n",
       "80892                                         South Sudan   \n",
       "80901                                         South Sudan   \n",
       "80937                                         South Sudan   \n",
       "80946                                         South Sudan   \n",
       "86954                                                Togo   \n",
       "89956                                              Tuvalu   \n",
       "91116                                United Arab Emirates   \n",
       "91236   United Kingdom of Great Britain and Northern I...   \n",
       "92676                            United States of America   \n",
       "113974                                    Southern Europe   \n",
       "115507                                            Oceania   \n",
       "115717                          Australia and New Zealand   \n",
       "117430                                          Polynesia   \n",
       "\n",
       "                          Item Element  Year       Unit  Value  \n",
       "839                      Ducks  Stocks  2020  1000 Head    NaN  \n",
       "899     Geese and guinea fowls  Stocks  2020  1000 Head    NaN  \n",
       "1079                     Mules  Stocks  2020       Head    NaN  \n",
       "4068                 Buffaloes  Stocks  2020       Head    NaN  \n",
       "5616                    Horses  Stocks  2020       Head    NaN  \n",
       "5768                     Asses  Stocks  2020       Head    NaN  \n",
       "9442                  Beehives  Stocks  2020         No    NaN  \n",
       "15596                    Asses  Stocks  2020       Head    NaN  \n",
       "18236   Geese and guinea fowls  Stocks  2020  1000 Head    NaN  \n",
       "21488                    Ducks  Stocks  2020  1000 Head    NaN  \n",
       "22358                    Ducks  Stocks  2020  1000 Head    NaN  \n",
       "25176                    Asses  Stocks  2020       Head    NaN  \n",
       "25402                   Horses  Stocks  2020       Head    NaN  \n",
       "31850                    Ducks  Stocks  2020  1000 Head    NaN  \n",
       "33575        Rabbits and hares  Stocks  2020  1000 Head    NaN  \n",
       "43838                     Pigs  Stocks  2020       Head    NaN  \n",
       "44676                    Ducks  Stocks  2020  1000 Head    NaN  \n",
       "44736   Geese and guinea fowls  Stocks  2020  1000 Head    NaN  \n",
       "52348                    Mules  Stocks  2020       Head    NaN  \n",
       "55189                    Ducks  Stocks  2020  1000 Head    NaN  \n",
       "61548                 Beehives  Stocks  2020         No    NaN  \n",
       "61726                    Ducks  Stocks  2020  1000 Head    NaN  \n",
       "64032                 Beehives  Stocks  2020         No    NaN  \n",
       "65739                    Ducks  Stocks  2020  1000 Head    NaN  \n",
       "70231                    Ducks  Stocks  2020  1000 Head    NaN  \n",
       "72000                    Mules  Stocks  2020       Head    NaN  \n",
       "78570                Buffaloes  Stocks  2020       Head    NaN  \n",
       "78750                    Ducks  Stocks  2020  1000 Head    NaN  \n",
       "78870                     Pigs  Stocks  2020       Head    NaN  \n",
       "80892                 Beehives  Stocks  2020         No    NaN  \n",
       "80901                   Camels  Stocks  2020       Head    NaN  \n",
       "80937                   Horses  Stocks  2020       Head    NaN  \n",
       "80946                    Mules  Stocks  2020       Head    NaN  \n",
       "86954        Rabbits and hares  Stocks  2020  1000 Head    NaN  \n",
       "89956                    Goats  Stocks  2020       Head    NaN  \n",
       "91116        Rabbits and hares  Stocks  2020  1000 Head    NaN  \n",
       "91236                 Beehives  Stocks  2020         No    NaN  \n",
       "92676                    Mules  Stocks  2020       Head    NaN  \n",
       "113974                   Mules  Stocks  2020       Head    NaN  \n",
       "115507       Rabbits and hares  Stocks  2020  1000 Head    NaN  \n",
       "115717               Buffaloes  Stocks  2020       Head    NaN  \n",
       "117430       Rabbits and hares  Stocks  2020  1000 Head    NaN  "
      ]
     },
     "execution_count": 243,
     "metadata": {},
     "output_type": "execute_result"
    }
   ],
   "source": [
    "# Isolate the rows with missing values for live stock data\n",
    "live_2020_missing = live_2020.loc[live_2020['Value'].isna(), :]\n",
    "live_2020_missing"
   ]
  },
  {
   "cell_type": "markdown",
   "metadata": {},
   "source": [
    "Are there really no bees in the United Kingdom? There are no pigs in Singapore?\n",
    "\n",
    "Did a google search and there are more than 250 species of bees in the UK. https://www.woodlandtrust.org.uk/blog/2019/05/types-of-bee-in-the-uk/\n",
    "\n",
    "These missing values are inaccurate and it would be safe to remove them."
   ]
  },
  {
   "cell_type": "code",
   "execution_count": 244,
   "metadata": {},
   "outputs": [
    {
     "data": {
      "text/plain": [
       "Country    2004\n",
       "Item       2004\n",
       "Element    2004\n",
       "Year       2004\n",
       "Unit       2004\n",
       "Value      2004\n",
       "dtype: int64"
      ]
     },
     "execution_count": 244,
     "metadata": {},
     "output_type": "execute_result"
    }
   ],
   "source": [
    "# Delete missing data\n",
    "live_2020_no_missing = live_2020.dropna(how='any')\n",
    "live_2020_no_missing.count()"
   ]
  },
  {
   "cell_type": "code",
   "execution_count": 245,
   "metadata": {},
   "outputs": [
    {
     "data": {
      "text/html": [
       "<div>\n",
       "<style scoped>\n",
       "    .dataframe tbody tr th:only-of-type {\n",
       "        vertical-align: middle;\n",
       "    }\n",
       "\n",
       "    .dataframe tbody tr th {\n",
       "        vertical-align: top;\n",
       "    }\n",
       "\n",
       "    .dataframe thead th {\n",
       "        text-align: right;\n",
       "    }\n",
       "</style>\n",
       "<table border=\"1\" class=\"dataframe\">\n",
       "  <thead>\n",
       "    <tr style=\"text-align: right;\">\n",
       "      <th></th>\n",
       "      <th>Country</th>\n",
       "      <th>Item</th>\n",
       "      <th>Element</th>\n",
       "      <th>Year</th>\n",
       "      <th>Unit</th>\n",
       "      <th>Value</th>\n",
       "    </tr>\n",
       "  </thead>\n",
       "  <tbody>\n",
       "    <tr>\n",
       "      <th>59</th>\n",
       "      <td>Afghanistan</td>\n",
       "      <td>Asses</td>\n",
       "      <td>Stocks</td>\n",
       "      <td>2020</td>\n",
       "      <td>Head</td>\n",
       "      <td>1535435.0</td>\n",
       "    </tr>\n",
       "    <tr>\n",
       "      <th>119</th>\n",
       "      <td>Afghanistan</td>\n",
       "      <td>Camels</td>\n",
       "      <td>Stocks</td>\n",
       "      <td>2020</td>\n",
       "      <td>Head</td>\n",
       "      <td>168928.0</td>\n",
       "    </tr>\n",
       "    <tr>\n",
       "      <th>179</th>\n",
       "      <td>Afghanistan</td>\n",
       "      <td>Cattle</td>\n",
       "      <td>Stocks</td>\n",
       "      <td>2020</td>\n",
       "      <td>Head</td>\n",
       "      <td>5085807.0</td>\n",
       "    </tr>\n",
       "    <tr>\n",
       "      <th>239</th>\n",
       "      <td>Afghanistan</td>\n",
       "      <td>Chickens</td>\n",
       "      <td>Stocks</td>\n",
       "      <td>2020</td>\n",
       "      <td>1000 Head</td>\n",
       "      <td>13724.0</td>\n",
       "    </tr>\n",
       "    <tr>\n",
       "      <th>299</th>\n",
       "      <td>Afghanistan</td>\n",
       "      <td>Goats</td>\n",
       "      <td>Stocks</td>\n",
       "      <td>2020</td>\n",
       "      <td>Head</td>\n",
       "      <td>7967043.0</td>\n",
       "    </tr>\n",
       "  </tbody>\n",
       "</table>\n",
       "</div>"
      ],
      "text/plain": [
       "         Country      Item Element  Year       Unit      Value\n",
       "59   Afghanistan     Asses  Stocks  2020       Head  1535435.0\n",
       "119  Afghanistan    Camels  Stocks  2020       Head   168928.0\n",
       "179  Afghanistan    Cattle  Stocks  2020       Head  5085807.0\n",
       "239  Afghanistan  Chickens  Stocks  2020  1000 Head    13724.0\n",
       "299  Afghanistan     Goats  Stocks  2020       Head  7967043.0"
      ]
     },
     "execution_count": 245,
     "metadata": {},
     "output_type": "execute_result"
    }
   ],
   "source": [
    "live_2020_no_missing.head()"
   ]
  },
  {
   "cell_type": "code",
   "execution_count": 246,
   "metadata": {},
   "outputs": [
    {
     "data": {
      "text/html": [
       "<div>\n",
       "<style scoped>\n",
       "    .dataframe tbody tr th:only-of-type {\n",
       "        vertical-align: middle;\n",
       "    }\n",
       "\n",
       "    .dataframe tbody tr th {\n",
       "        vertical-align: top;\n",
       "    }\n",
       "\n",
       "    .dataframe thead th {\n",
       "        text-align: right;\n",
       "    }\n",
       "</style>\n",
       "<table border=\"1\" class=\"dataframe\">\n",
       "  <thead>\n",
       "    <tr style=\"text-align: right;\">\n",
       "      <th></th>\n",
       "      <th>Country</th>\n",
       "      <th>Population Size</th>\n",
       "    </tr>\n",
       "  </thead>\n",
       "  <tbody>\n",
       "    <tr>\n",
       "      <th>69</th>\n",
       "      <td>Eritrea</td>\n",
       "      <td>NaN</td>\n",
       "    </tr>\n",
       "    <tr>\n",
       "      <th>110</th>\n",
       "      <td>Not classified</td>\n",
       "      <td>NaN</td>\n",
       "    </tr>\n",
       "  </tbody>\n",
       "</table>\n",
       "</div>"
      ],
      "text/plain": [
       "            Country  Population Size\n",
       "69          Eritrea              NaN\n",
       "110  Not classified              NaN"
      ]
     },
     "execution_count": 246,
     "metadata": {},
     "output_type": "execute_result"
    }
   ],
   "source": [
    "# Check for missing values in Population\n",
    "pop_2020_missing = pop_2020.loc[pop_2020['Population Size'].isna(), :]\n",
    "pop_2020_missing"
   ]
  },
  {
   "cell_type": "markdown",
   "metadata": {},
   "source": [
    "Do we need to keep Eritrea?\n",
    "\n",
    "Check if the Crop and Live Stock data has Eritrea as a Country."
   ]
  },
  {
   "cell_type": "code",
   "execution_count": 247,
   "metadata": {},
   "outputs": [
    {
     "name": "stdout",
     "output_type": "stream",
     "text": [
      "Does Eritrea exist in the crop data? True\n",
      "Does Eritrea exist in the live stock data? True\n"
     ]
    }
   ],
   "source": [
    "print(f\"Does Eritrea exist in the crop data? {len(crop_2020_no_missing.loc[crop_2020_no_missing['Country'] == 'Eritrea', :]) > 0}\")\n",
    "print(f\"Does Eritrea exist in the live stock data? {len(live_2020_no_missing.loc[live_2020_no_missing['Country'] == 'Eritrea', :]) > 0}\")\n"
   ]
  },
  {
   "cell_type": "markdown",
   "metadata": {},
   "source": [
    "Eritrea exists therefore we should find the population size by googling.\n",
    "\n",
    "Eritrea population is 3,654,768 according to this website: https://www.worldometers.info/world-population/eritrea-population/"
   ]
  },
  {
   "cell_type": "code",
   "execution_count": 248,
   "metadata": {},
   "outputs": [
    {
     "data": {
      "text/html": [
       "<div>\n",
       "<style scoped>\n",
       "    .dataframe tbody tr th:only-of-type {\n",
       "        vertical-align: middle;\n",
       "    }\n",
       "\n",
       "    .dataframe tbody tr th {\n",
       "        vertical-align: top;\n",
       "    }\n",
       "\n",
       "    .dataframe thead th {\n",
       "        text-align: right;\n",
       "    }\n",
       "</style>\n",
       "<table border=\"1\" class=\"dataframe\">\n",
       "  <thead>\n",
       "    <tr style=\"text-align: right;\">\n",
       "      <th></th>\n",
       "      <th>Country</th>\n",
       "      <th>Population Size</th>\n",
       "    </tr>\n",
       "  </thead>\n",
       "  <tbody>\n",
       "    <tr>\n",
       "      <th>69</th>\n",
       "      <td>Eritrea</td>\n",
       "      <td>3654768.0</td>\n",
       "    </tr>\n",
       "  </tbody>\n",
       "</table>\n",
       "</div>"
      ],
      "text/plain": [
       "    Country  Population Size\n",
       "69  Eritrea        3654768.0"
      ]
     },
     "execution_count": 248,
     "metadata": {},
     "output_type": "execute_result"
    }
   ],
   "source": [
    "pop_2020_no_missing = pop_2020.copy()\n",
    "pop_2020_no_missing.loc[pop_2020_no_missing[\"Country\"] == \"Eritrea\", \"Population Size\"] = 3654768\n",
    "pop_2020_no_missing.loc[pop_2020_no_missing[\"Country\"] == \"Eritrea\", :] "
   ]
  },
  {
   "cell_type": "code",
   "execution_count": 249,
   "metadata": {},
   "outputs": [
    {
     "name": "stdout",
     "output_type": "stream",
     "text": [
      "265\n"
     ]
    }
   ],
   "source": [
    "pop_2020_no_missing = pop_2020_no_missing.dropna(how=\"any\")\n",
    "print(f\"{len(pop_2020_no_missing)}\")"
   ]
  },
  {
   "cell_type": "code",
   "execution_count": 250,
   "metadata": {},
   "outputs": [
    {
     "name": "stdout",
     "output_type": "stream",
     "text": [
      "Number of duplicate rows in crop data: 0\n",
      "Number of duplicate rows in live stock data: 0\n"
     ]
    }
   ],
   "source": [
    "# Check for duplicate rows in general\n",
    "double_crop = crop_2020_no_missing[crop_2020_no_missing.duplicated()]\n",
    "double_live = live_2020_no_missing[live_2020_no_missing.duplicated()]\n",
    "print(f\"Number of duplicate rows in crop data: {len(double_crop)}\")\n",
    "print(f\"Number of duplicate rows in live stock data: {len(double_live)}\")\n"
   ]
  },
  {
   "cell_type": "code",
   "execution_count": 252,
   "metadata": {},
   "outputs": [
    {
     "name": "stdout",
     "output_type": "stream",
     "text": [
      "Number of duplicate rows in crop data: 0\n",
      "Number of duplicate rows in live stock data: 0\n"
     ]
    }
   ],
   "source": [
    "# Check for duplicate crops/live stock per country\n",
    "double_crop2 = crop_2020_no_missing[crop_2020_no_missing.loc[:, ('Country', 'Item', 'Element')].duplicated()]\n",
    "double_live2 = live_2020_no_missing[live_2020_no_missing.loc[:, ('Country', 'Item', 'Element')].duplicated()]\n",
    "print(f\"Number of duplicate rows in crop data: {len(double_crop2)}\")\n",
    "print(f\"Number of duplicate rows in live stock data: {len(double_live2)}\")"
   ]
  },
  {
   "cell_type": "markdown",
   "metadata": {},
   "source": [
    "No duplicate rows."
   ]
  },
  {
   "cell_type": "code",
   "execution_count": 253,
   "metadata": {},
   "outputs": [
    {
     "name": "stdout",
     "output_type": "stream",
     "text": [
      "Crop Unit of Measurements: ['ha' 'hg/ha' 'tonnes']\n",
      "Live stock Unit of Measurements: ['Head' '1000 Head' 'No']\n"
     ]
    }
   ],
   "source": [
    "# What are the unit measurements?\n",
    "print(f\"Crop Unit of Measurements: {crop_2020_no_missing['Unit'].unique()}\")\n",
    "print(f\"Live stock Unit of Measurements: {live_2020_no_missing['Unit'].unique()}\")"
   ]
  },
  {
   "cell_type": "markdown",
   "metadata": {},
   "source": [
    "Crop Units: \n",
    "- ha = hectare (associated with the Element column value Area harvested)\n",
    "- hg/ha = hectagram/hectare (associated with the Element column value Yield)\n",
    "- tonnes (associated with the Element column value Production)\n",
    "\n",
    "We will be focusing on the Production value. Therefore, we will only be keeping the rows where Element is \"Production\"."
   ]
  },
  {
   "cell_type": "markdown",
   "metadata": {},
   "source": [
    "Live Stock Units:\n",
    "- Head: count per live stock\n",
    "- 1000 Head: Value will be multiplied by 1000\n",
    "\n",
    "Should we use Heads or 1000 Heads as a unit of measurement?\n"
   ]
  },
  {
   "cell_type": "code",
   "execution_count": 254,
   "metadata": {},
   "outputs": [
    {
     "data": {
      "text/plain": [
       "99"
      ]
     },
     "execution_count": 254,
     "metadata": {},
     "output_type": "execute_result"
    }
   ],
   "source": [
    "# Are there any live stock values that are less than 1000?\n",
    "len(live_2020_no_missing.loc[(live_2020_no_missing[\"Value\"]<1000)&(live_2020_no_missing[\"Unit\"] == \"Head\"), :])"
   ]
  },
  {
   "cell_type": "markdown",
   "metadata": {},
   "source": [
    "There are live stock with less than 1000 heads. Therefore, we should convert 1000 Head to Heads."
   ]
  },
  {
   "cell_type": "code",
   "execution_count": 255,
   "metadata": {},
   "outputs": [
    {
     "data": {
      "text/html": [
       "<div>\n",
       "<style scoped>\n",
       "    .dataframe tbody tr th:only-of-type {\n",
       "        vertical-align: middle;\n",
       "    }\n",
       "\n",
       "    .dataframe tbody tr th {\n",
       "        vertical-align: top;\n",
       "    }\n",
       "\n",
       "    .dataframe thead th {\n",
       "        text-align: right;\n",
       "    }\n",
       "</style>\n",
       "<table border=\"1\" class=\"dataframe\">\n",
       "  <thead>\n",
       "    <tr style=\"text-align: right;\">\n",
       "      <th></th>\n",
       "      <th>Country</th>\n",
       "      <th>Item</th>\n",
       "      <th>Element</th>\n",
       "      <th>Year</th>\n",
       "      <th>Unit</th>\n",
       "      <th>Value</th>\n",
       "    </tr>\n",
       "  </thead>\n",
       "  <tbody>\n",
       "    <tr>\n",
       "      <th>59</th>\n",
       "      <td>Afghanistan</td>\n",
       "      <td>Asses</td>\n",
       "      <td>Stocks</td>\n",
       "      <td>2020</td>\n",
       "      <td>Head</td>\n",
       "      <td>1535435.0</td>\n",
       "    </tr>\n",
       "    <tr>\n",
       "      <th>119</th>\n",
       "      <td>Afghanistan</td>\n",
       "      <td>Camels</td>\n",
       "      <td>Stocks</td>\n",
       "      <td>2020</td>\n",
       "      <td>Head</td>\n",
       "      <td>168928.0</td>\n",
       "    </tr>\n",
       "    <tr>\n",
       "      <th>179</th>\n",
       "      <td>Afghanistan</td>\n",
       "      <td>Cattle</td>\n",
       "      <td>Stocks</td>\n",
       "      <td>2020</td>\n",
       "      <td>Head</td>\n",
       "      <td>5085807.0</td>\n",
       "    </tr>\n",
       "    <tr>\n",
       "      <th>239</th>\n",
       "      <td>Afghanistan</td>\n",
       "      <td>Chickens</td>\n",
       "      <td>Stocks</td>\n",
       "      <td>2020</td>\n",
       "      <td>1000 Head</td>\n",
       "      <td>13724.0</td>\n",
       "    </tr>\n",
       "    <tr>\n",
       "      <th>299</th>\n",
       "      <td>Afghanistan</td>\n",
       "      <td>Goats</td>\n",
       "      <td>Stocks</td>\n",
       "      <td>2020</td>\n",
       "      <td>Head</td>\n",
       "      <td>7967043.0</td>\n",
       "    </tr>\n",
       "  </tbody>\n",
       "</table>\n",
       "</div>"
      ],
      "text/plain": [
       "         Country      Item Element  Year       Unit      Value\n",
       "59   Afghanistan     Asses  Stocks  2020       Head  1535435.0\n",
       "119  Afghanistan    Camels  Stocks  2020       Head   168928.0\n",
       "179  Afghanistan    Cattle  Stocks  2020       Head  5085807.0\n",
       "239  Afghanistan  Chickens  Stocks  2020  1000 Head    13724.0\n",
       "299  Afghanistan     Goats  Stocks  2020       Head  7967043.0"
      ]
     },
     "execution_count": 255,
     "metadata": {},
     "output_type": "execute_result"
    }
   ],
   "source": [
    "conv_live_2020 = live_2020_no_missing.copy()\n",
    "# Convertsion formula: 1000 * Value = # Heads\n",
    "conv_live_2020.head()"
   ]
  },
  {
   "cell_type": "code",
   "execution_count": 256,
   "metadata": {},
   "outputs": [
    {
     "data": {
      "text/html": [
       "<div>\n",
       "<style scoped>\n",
       "    .dataframe tbody tr th:only-of-type {\n",
       "        vertical-align: middle;\n",
       "    }\n",
       "\n",
       "    .dataframe tbody tr th {\n",
       "        vertical-align: top;\n",
       "    }\n",
       "\n",
       "    .dataframe thead th {\n",
       "        text-align: right;\n",
       "    }\n",
       "</style>\n",
       "<table border=\"1\" class=\"dataframe\">\n",
       "  <thead>\n",
       "    <tr style=\"text-align: right;\">\n",
       "      <th></th>\n",
       "      <th>Country</th>\n",
       "      <th>Item</th>\n",
       "      <th>Element</th>\n",
       "      <th>Year</th>\n",
       "      <th>Unit</th>\n",
       "      <th>Value</th>\n",
       "    </tr>\n",
       "  </thead>\n",
       "  <tbody>\n",
       "    <tr>\n",
       "      <th>59</th>\n",
       "      <td>Afghanistan</td>\n",
       "      <td>Asses</td>\n",
       "      <td>Stocks</td>\n",
       "      <td>2020</td>\n",
       "      <td>Head</td>\n",
       "      <td>1535435.0</td>\n",
       "    </tr>\n",
       "    <tr>\n",
       "      <th>119</th>\n",
       "      <td>Afghanistan</td>\n",
       "      <td>Camels</td>\n",
       "      <td>Stocks</td>\n",
       "      <td>2020</td>\n",
       "      <td>Head</td>\n",
       "      <td>168928.0</td>\n",
       "    </tr>\n",
       "    <tr>\n",
       "      <th>179</th>\n",
       "      <td>Afghanistan</td>\n",
       "      <td>Cattle</td>\n",
       "      <td>Stocks</td>\n",
       "      <td>2020</td>\n",
       "      <td>Head</td>\n",
       "      <td>5085807.0</td>\n",
       "    </tr>\n",
       "    <tr>\n",
       "      <th>239</th>\n",
       "      <td>Afghanistan</td>\n",
       "      <td>Chickens</td>\n",
       "      <td>Stocks</td>\n",
       "      <td>2020</td>\n",
       "      <td>Head</td>\n",
       "      <td>13724000.0</td>\n",
       "    </tr>\n",
       "    <tr>\n",
       "      <th>299</th>\n",
       "      <td>Afghanistan</td>\n",
       "      <td>Goats</td>\n",
       "      <td>Stocks</td>\n",
       "      <td>2020</td>\n",
       "      <td>Head</td>\n",
       "      <td>7967043.0</td>\n",
       "    </tr>\n",
       "  </tbody>\n",
       "</table>\n",
       "</div>"
      ],
      "text/plain": [
       "         Country      Item Element  Year  Unit       Value\n",
       "59   Afghanistan     Asses  Stocks  2020  Head   1535435.0\n",
       "119  Afghanistan    Camels  Stocks  2020  Head    168928.0\n",
       "179  Afghanistan    Cattle  Stocks  2020  Head   5085807.0\n",
       "239  Afghanistan  Chickens  Stocks  2020  Head  13724000.0\n",
       "299  Afghanistan     Goats  Stocks  2020  Head   7967043.0"
      ]
     },
     "execution_count": 256,
     "metadata": {},
     "output_type": "execute_result"
    }
   ],
   "source": [
    "conv_live_2020.loc[conv_live_2020[\"Unit\"]==\"1000 Head\", \"Value\"] *= 1000\n",
    "conv_live_2020['Unit'] = conv_live_2020['Unit'].replace({\"1000 Head\": \"Head\"})\n",
    "conv_live_2020.head()"
   ]
  },
  {
   "cell_type": "markdown",
   "metadata": {},
   "source": [
    "All the 1000 Head values have been adjusted. Notice Chickens got multipled by 1000 while the rest remained the same.\n",
    "\n",
    "\n",
    "What does the unit No stand for?"
   ]
  },
  {
   "cell_type": "code",
   "execution_count": 257,
   "metadata": {},
   "outputs": [
    {
     "data": {
      "text/plain": [
       "Beehives    134\n",
       "Name: Item, dtype: int64"
      ]
     },
     "execution_count": 257,
     "metadata": {},
     "output_type": "execute_result"
    }
   ],
   "source": [
    "conv_live_2020.loc[conv_live_2020['Unit']==\"No\", 'Item'].value_counts()"
   ]
  },
  {
   "cell_type": "markdown",
   "metadata": {},
   "source": [
    "The unit of measure \"No\" is only for beehives. We can assume it stands for \"Number\"."
   ]
  },
  {
   "cell_type": "code",
   "execution_count": 258,
   "metadata": {},
   "outputs": [
    {
     "data": {
      "text/plain": [
       "array(['Production'], dtype=object)"
      ]
     },
     "execution_count": 258,
     "metadata": {},
     "output_type": "execute_result"
    }
   ],
   "source": [
    "# Filter data to only include Production\n",
    "crop_2020_production = crop_2020_no_missing.loc[crop_2020_no_missing['Element'] == 'Production', :]\n",
    "crop_2020_production['Element'].unique()"
   ]
  },
  {
   "cell_type": "code",
   "execution_count": 259,
   "metadata": {},
   "outputs": [
    {
     "data": {
      "text/plain": [
       "array(['tonnes'], dtype=object)"
      ]
     },
     "execution_count": 259,
     "metadata": {},
     "output_type": "execute_result"
    }
   ],
   "source": [
    "# All the Unit values should be the same\n",
    "crop_2020_production['Unit'].unique()"
   ]
  },
  {
   "cell_type": "markdown",
   "metadata": {},
   "source": [
    "Unit only contains 'tonnes'. We can remove this data columns 'Element' and 'Unit' potentially later, and rename the column 'Value' to 'Production Value (tonnes)'."
   ]
  },
  {
   "cell_type": "markdown",
   "metadata": {},
   "source": [
    "### Merge the datasets"
   ]
  },
  {
   "cell_type": "code",
   "execution_count": 263,
   "metadata": {},
   "outputs": [
    {
     "data": {
      "text/plain": [
       "Country    14239\n",
       "Item       14239\n",
       "Element    14239\n",
       "Year       14239\n",
       "Unit       14239\n",
       "Value      14239\n",
       "dtype: int64"
      ]
     },
     "execution_count": 263,
     "metadata": {},
     "output_type": "execute_result"
    }
   ],
   "source": [
    "# Combine Crop and Live Stock Data First\n",
    "crop_live_df = pd.concat([crop_2020_production, conv_live_2020])\n",
    "crop_live_df.count()"
   ]
  },
  {
   "cell_type": "code",
   "execution_count": 267,
   "metadata": {},
   "outputs": [
    {
     "data": {
      "text/plain": [
       "14239"
      ]
     },
     "execution_count": 267,
     "metadata": {},
     "output_type": "execute_result"
    }
   ],
   "source": [
    "len(crop_2020_production)+len(conv_live_2020)"
   ]
  },
  {
   "cell_type": "markdown",
   "metadata": {},
   "source": [
    "Appended the crop and live stock datasets correctly since the lengths match.\n",
    "\n",
    "Now merge this data set with the population."
   ]
  },
  {
   "cell_type": "code",
   "execution_count": 268,
   "metadata": {},
   "outputs": [
    {
     "data": {
      "text/html": [
       "<div>\n",
       "<style scoped>\n",
       "    .dataframe tbody tr th:only-of-type {\n",
       "        vertical-align: middle;\n",
       "    }\n",
       "\n",
       "    .dataframe tbody tr th {\n",
       "        vertical-align: top;\n",
       "    }\n",
       "\n",
       "    .dataframe thead th {\n",
       "        text-align: right;\n",
       "    }\n",
       "</style>\n",
       "<table border=\"1\" class=\"dataframe\">\n",
       "  <thead>\n",
       "    <tr style=\"text-align: right;\">\n",
       "      <th></th>\n",
       "      <th>Country</th>\n",
       "      <th>Item</th>\n",
       "      <th>Element</th>\n",
       "      <th>Year</th>\n",
       "      <th>Unit</th>\n",
       "      <th>Value</th>\n",
       "      <th>Population Size</th>\n",
       "    </tr>\n",
       "  </thead>\n",
       "  <tbody>\n",
       "    <tr>\n",
       "      <th>0</th>\n",
       "      <td>Afghanistan</td>\n",
       "      <td>Almonds, with shell</td>\n",
       "      <td>Production</td>\n",
       "      <td>2020</td>\n",
       "      <td>tonnes</td>\n",
       "      <td>0.000000e+00</td>\n",
       "      <td>3.892834e+07</td>\n",
       "    </tr>\n",
       "    <tr>\n",
       "      <th>1</th>\n",
       "      <td>Afghanistan</td>\n",
       "      <td>Anise, badian, fennel, coriander</td>\n",
       "      <td>Production</td>\n",
       "      <td>2020</td>\n",
       "      <td>tonnes</td>\n",
       "      <td>0.000000e+00</td>\n",
       "      <td>3.892834e+07</td>\n",
       "    </tr>\n",
       "    <tr>\n",
       "      <th>2</th>\n",
       "      <td>Afghanistan</td>\n",
       "      <td>Apples</td>\n",
       "      <td>Production</td>\n",
       "      <td>2020</td>\n",
       "      <td>tonnes</td>\n",
       "      <td>0.000000e+00</td>\n",
       "      <td>3.892834e+07</td>\n",
       "    </tr>\n",
       "    <tr>\n",
       "      <th>3</th>\n",
       "      <td>Afghanistan</td>\n",
       "      <td>Apricots</td>\n",
       "      <td>Production</td>\n",
       "      <td>2020</td>\n",
       "      <td>tonnes</td>\n",
       "      <td>0.000000e+00</td>\n",
       "      <td>3.892834e+07</td>\n",
       "    </tr>\n",
       "    <tr>\n",
       "      <th>4</th>\n",
       "      <td>Afghanistan</td>\n",
       "      <td>Barley</td>\n",
       "      <td>Production</td>\n",
       "      <td>2020</td>\n",
       "      <td>tonnes</td>\n",
       "      <td>0.000000e+00</td>\n",
       "      <td>3.892834e+07</td>\n",
       "    </tr>\n",
       "    <tr>\n",
       "      <th>...</th>\n",
       "      <td>...</td>\n",
       "      <td>...</td>\n",
       "      <td>...</td>\n",
       "      <td>...</td>\n",
       "      <td>...</td>\n",
       "      <td>...</td>\n",
       "      <td>...</td>\n",
       "    </tr>\n",
       "    <tr>\n",
       "      <th>8956</th>\n",
       "      <td>World</td>\n",
       "      <td>Horses</td>\n",
       "      <td>Stocks</td>\n",
       "      <td>2020</td>\n",
       "      <td>Head</td>\n",
       "      <td>5.999818e+07</td>\n",
       "      <td>7.763933e+09</td>\n",
       "    </tr>\n",
       "    <tr>\n",
       "      <th>8957</th>\n",
       "      <td>World</td>\n",
       "      <td>Mules</td>\n",
       "      <td>Stocks</td>\n",
       "      <td>2020</td>\n",
       "      <td>Head</td>\n",
       "      <td>7.912425e+06</td>\n",
       "      <td>7.763933e+09</td>\n",
       "    </tr>\n",
       "    <tr>\n",
       "      <th>8958</th>\n",
       "      <td>World</td>\n",
       "      <td>Pigs</td>\n",
       "      <td>Stocks</td>\n",
       "      <td>2020</td>\n",
       "      <td>Head</td>\n",
       "      <td>9.526320e+08</td>\n",
       "      <td>7.763933e+09</td>\n",
       "    </tr>\n",
       "    <tr>\n",
       "      <th>8959</th>\n",
       "      <td>World</td>\n",
       "      <td>Rabbits and hares</td>\n",
       "      <td>Stocks</td>\n",
       "      <td>2020</td>\n",
       "      <td>Head</td>\n",
       "      <td>1.925890e+08</td>\n",
       "      <td>7.763933e+09</td>\n",
       "    </tr>\n",
       "    <tr>\n",
       "      <th>8960</th>\n",
       "      <td>World</td>\n",
       "      <td>Sheep</td>\n",
       "      <td>Stocks</td>\n",
       "      <td>2020</td>\n",
       "      <td>Head</td>\n",
       "      <td>1.263137e+09</td>\n",
       "      <td>7.763933e+09</td>\n",
       "    </tr>\n",
       "  </tbody>\n",
       "</table>\n",
       "<p>8961 rows × 7 columns</p>\n",
       "</div>"
      ],
      "text/plain": [
       "          Country                              Item     Element  Year    Unit  \\\n",
       "0     Afghanistan               Almonds, with shell  Production  2020  tonnes   \n",
       "1     Afghanistan  Anise, badian, fennel, coriander  Production  2020  tonnes   \n",
       "2     Afghanistan                            Apples  Production  2020  tonnes   \n",
       "3     Afghanistan                          Apricots  Production  2020  tonnes   \n",
       "4     Afghanistan                            Barley  Production  2020  tonnes   \n",
       "...           ...                               ...         ...   ...     ...   \n",
       "8956        World                            Horses      Stocks  2020    Head   \n",
       "8957        World                             Mules      Stocks  2020    Head   \n",
       "8958        World                              Pigs      Stocks  2020    Head   \n",
       "8959        World                 Rabbits and hares      Stocks  2020    Head   \n",
       "8960        World                             Sheep      Stocks  2020    Head   \n",
       "\n",
       "             Value  Population Size  \n",
       "0     0.000000e+00     3.892834e+07  \n",
       "1     0.000000e+00     3.892834e+07  \n",
       "2     0.000000e+00     3.892834e+07  \n",
       "3     0.000000e+00     3.892834e+07  \n",
       "4     0.000000e+00     3.892834e+07  \n",
       "...            ...              ...  \n",
       "8956  5.999818e+07     7.763933e+09  \n",
       "8957  7.912425e+06     7.763933e+09  \n",
       "8958  9.526320e+08     7.763933e+09  \n",
       "8959  1.925890e+08     7.763933e+09  \n",
       "8960  1.263137e+09     7.763933e+09  \n",
       "\n",
       "[8961 rows x 7 columns]"
      ]
     },
     "execution_count": 268,
     "metadata": {},
     "output_type": "execute_result"
    }
   ],
   "source": [
    "compl_df = pd.merge(crop_live_df, pop_2020_no_missing, on=\"Country\")\n",
    "compl_df"
   ]
  },
  {
   "cell_type": "code",
   "execution_count": 274,
   "metadata": {},
   "outputs": [
    {
     "data": {
      "text/plain": [
       "Country            8961\n",
       "Item               8961\n",
       "Element            8961\n",
       "Year               8961\n",
       "Unit               8961\n",
       "Value              8961\n",
       "Population Size    8961\n",
       "dtype: int64"
      ]
     },
     "execution_count": 274,
     "metadata": {},
     "output_type": "execute_result"
    }
   ],
   "source": [
    "compl_df.count()\n",
    "# len(compl_df[\"Country\"].unique())\n",
    "# len(pop_2020_no_missing)\n",
    "# compl_df['Country'].value_counts()"
   ]
  },
  {
   "cell_type": "code",
   "execution_count": 275,
   "metadata": {},
   "outputs": [],
   "source": [
    "# Import to CSV file\n",
    "compl_df.to_csv(\"./foodbank2020.csv\")"
   ]
  }
 ],
 "metadata": {
  "kernelspec": {
   "display_name": "Python 3.9.12 ('base')",
   "language": "python",
   "name": "python3"
  },
  "language_info": {
   "codemirror_mode": {
    "name": "ipython",
    "version": 3
   },
   "file_extension": ".py",
   "mimetype": "text/x-python",
   "name": "python",
   "nbconvert_exporter": "python",
   "pygments_lexer": "ipython3",
   "version": "3.9.12"
  },
  "orig_nbformat": 4,
  "vscode": {
   "interpreter": {
    "hash": "451d2264f7fe9ea4aed8c4fe3c72fa0b32d9ba08acb963d1646278e19bdadf77"
   }
  }
 },
 "nbformat": 4,
 "nbformat_minor": 2
}
