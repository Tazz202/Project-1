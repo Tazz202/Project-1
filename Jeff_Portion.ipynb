{
 "cells": [
  {
   "cell_type": "code",
   "execution_count": 43,
   "metadata": {},
   "outputs": [],
   "source": [
    "import pandas as pd\n",
    "import numpy as np\n",
    "import scipy.stats\n",
    "from scipy.stats import linregress\n",
    "import matplotlib.pyplot as plt\n",
    "import matplotlib.ticker as ticker\n",
    "from matplotlib.ticker import ScalarFormatter"
   ]
  },
  {
   "cell_type": "code",
   "execution_count": 44,
   "metadata": {},
   "outputs": [],
   "source": [
    "#Reading the csv files\n",
    "\n",
    "combined_df=pd.read_csv(\"Resources/combined.csv\") #contains all the individual food items\n",
    "\n",
    "merged_df=pd.read_csv(\"Resources/merged_data.csv\").reset_index(drop=True) #contains the summary/total food production per country\n"
   ]
  },
  {
   "cell_type": "code",
   "execution_count": 45,
   "metadata": {},
   "outputs": [],
   "source": [
    "#merged_df=merged_df.reset_index(drop=True)\n"
   ]
  },
  {
   "cell_type": "markdown",
   "metadata": {},
   "source": [
    "VARIABLES"
   ]
  },
  {
   "cell_type": "code",
   "execution_count": 46,
   "metadata": {},
   "outputs": [],
   "source": [
    "dropped_columns_df=combined_df.drop(['Item', 'Year', 'Unit', 'Population Size', 'GDP Per Capita', '2020 GDP in USD'], axis=1)"
   ]
  },
  {
   "cell_type": "code",
   "execution_count": 47,
   "metadata": {},
   "outputs": [],
   "source": [
    "dropped_columns_df2=merged_df.drop(['Year', 'Population Size', 'GDP Per Capita', '2020 GDP in USD'], axis=1)\n",
    "# grouped_dropped_columns_df2=dropped_columns_df2.groupby(['Country'])['Value']\n",
    "# grouped_dropped_columns_df2.head()"
   ]
  },
  {
   "cell_type": "code",
   "execution_count": 48,
   "metadata": {},
   "outputs": [
    {
     "data": {
      "text/plain": [
       "12479260"
      ]
     },
     "execution_count": 48,
     "metadata": {},
     "output_type": "execute_result"
    }
   ],
   "source": [
    "#Group by country name, element=production, element=stocks, value\n",
    "\n",
    "afghan_only=dropped_columns_df.loc[dropped_columns_df['Country'] =='Afghanistan']\n",
    "afghan_only_crop=afghan_only.loc[afghan_only['Element']=='Production']\n",
    "afghan_only_crop_total=afghan_only_crop['Value'].sum() \n",
    "afghan_only_crop_total=(int(afghan_only_crop_total))#***\n",
    "afghan_only_livestock=afghan_only.loc[afghan_only['Element']=='Stocks']\n",
    "afghan_only_livestock_total=afghan_only_livestock['Value'].sum()\n",
    "afghan_only_livestock_total=(int(afghan_only_livestock_total))#***\n",
    "afghan_only_crop_total"
   ]
  },
  {
   "cell_type": "code",
   "execution_count": 49,
   "metadata": {},
   "outputs": [
    {
     "data": {
      "text/plain": [
       "24432963"
      ]
     },
     "execution_count": 49,
     "metadata": {},
     "output_type": "execute_result"
    }
   ],
   "source": [
    "Nepal_only=dropped_columns_df.loc[dropped_columns_df['Country'] =='Nepal']\n",
    "Nepal_only_crop=Nepal_only.loc[Nepal_only['Element']=='Production']\n",
    "Nepal_only_crop_total=Nepal_only_crop['Value'].sum() \n",
    "Nepal_only_crop_total=(int(Nepal_only_crop_total))#***\n",
    "Nepal_only_livestock=Nepal_only.loc[Nepal_only['Element']=='Stocks']\n",
    "Nepal_only_livestock_total=Nepal_only_livestock['Value'].sum() \n",
    "Nepal_only_livestock_total=(int(Nepal_only_livestock_total))#***\n",
    "Nepal_only_crop_total"
   ]
  },
  {
   "cell_type": "code",
   "execution_count": 50,
   "metadata": {},
   "outputs": [
    {
     "data": {
      "text/plain": [
       "149767384"
      ]
     },
     "execution_count": 50,
     "metadata": {},
     "output_type": "execute_result"
    }
   ],
   "source": [
    "Pakistan_only=dropped_columns_df.loc[dropped_columns_df['Country'] =='Pakistan']\n",
    "Pakistan_only_crop=Pakistan_only.loc[Pakistan_only['Element']=='Production']\n",
    "Pakistan_only_crop_total=Pakistan_only_crop['Value'].sum() \n",
    "Pakistan_only_crop_total=(int(Pakistan_only_crop_total))#***\n",
    "Pakistan_only_livestock=Pakistan_only.loc[Pakistan_only['Element']=='Stocks']\n",
    "Pakistan_only_livestock_total=Pakistan_only_livestock['Value'].sum()\n",
    "Pakistan_only_livestock_total=(int(Pakistan_only_livestock_total))#***\n",
    "Pakistan_only_crop_total"
   ]
  },
  {
   "cell_type": "code",
   "execution_count": 51,
   "metadata": {},
   "outputs": [
    {
     "name": "stdout",
     "output_type": "stream",
     "text": [
      "88583770 444503162\n"
     ]
    }
   ],
   "source": [
    "Bangladesh_only=dropped_columns_df.loc[dropped_columns_df['Country'] =='Bangladesh']\n",
    "Bangladesh_only_crop=Bangladesh_only.loc[Bangladesh_only['Element']=='Production']\n",
    "Bangladesh_only_crop_total=Bangladesh_only_crop['Value'].sum() \n",
    "Bangladesh_only_crop_total=(int(Bangladesh_only_crop_total))#***\n",
    "Bangladesh_only_livestock=Bangladesh_only.loc[Bangladesh_only['Element']=='Stocks']\n",
    "Bangladesh_only_livestock_total=Bangladesh_only_livestock['Value'].sum()\n",
    "Bangladesh_only_livestock_total=(int(Bangladesh_only_livestock_total))#***\n",
    "print(Bangladesh_only_crop_total, Bangladesh_only_livestock_total)"
   ]
  },
  {
   "cell_type": "code",
   "execution_count": 52,
   "metadata": {},
   "outputs": [
    {
     "name": "stdout",
     "output_type": "stream",
     "text": [
      "1101656233 1371044381\n"
     ]
    }
   ],
   "source": [
    "India_only=dropped_columns_df.loc[dropped_columns_df['Country'] =='India']\n",
    "India_only_crop=India_only.loc[India_only['Element']=='Production']\n",
    "India_only_crop_total=India_only_crop['Value'].sum() \n",
    "India_only_crop_total=(int(India_only_crop_total))#***\n",
    "India_only_livestock=India_only.loc[India_only['Element']=='Stocks']\n",
    "India_only_livestock_total=India_only_livestock['Value'].sum() \n",
    "India_only_livestock_total=(int(India_only_livestock_total))#***\n",
    "print(India_only_crop_total, India_only_livestock_total)"
   ]
  },
  {
   "cell_type": "code",
   "execution_count": 53,
   "metadata": {},
   "outputs": [
    {
     "name": "stdout",
     "output_type": "stream",
     "text": [
      "320661 1775546\n"
     ]
    }
   ],
   "source": [
    "Bhutan_only=dropped_columns_df.loc[dropped_columns_df['Country'] =='Bhutan']\n",
    "Bhutan_only_crop=Bhutan_only.loc[Bhutan_only['Element']=='Production']\n",
    "Bhutan_only_crop_total=Bhutan_only_crop['Value'].sum() \n",
    "Bhutan_only_crop_total=(int(Bhutan_only_crop_total))#***\n",
    "Bhutan_only_livestock=Bhutan_only.loc[Bhutan_only['Element']=='Stocks']\n",
    "Bhutan_only_livestock_total=Bhutan_only_livestock['Value'].sum() \n",
    "Bhutan_only_livestock_total=(int(Bhutan_only_livestock_total))#***\n",
    "print(Bhutan_only_crop_total, Bhutan_only_livestock_total)"
   ]
  },
  {
   "cell_type": "code",
   "execution_count": 54,
   "metadata": {},
   "outputs": [
    {
     "name": "stdout",
     "output_type": "stream",
     "text": [
      "11220162 26158262\n"
     ]
    }
   ],
   "source": [
    "SriLanka_only=dropped_columns_df.loc[dropped_columns_df['Country'] =='Sri Lanka']\n",
    "SriLanka_only_crop=SriLanka_only.loc[SriLanka_only['Element']=='Production']\n",
    "SriLanka_only_crop_total=SriLanka_only_crop['Value'].sum() \n",
    "SriLanka_only_crop_total=(int(SriLanka_only_crop_total))#***\n",
    "SriLanka_only_livestock=SriLanka_only.loc[SriLanka_only['Element']=='Stocks']\n",
    "SriLanka_only_livestock_total=SriLanka_only_livestock['Value'].sum() \n",
    "SriLanka_only_livestock_total=(int(SriLanka_only_livestock_total))#***\n",
    "print(SriLanka_only_crop_total, SriLanka_only_livestock_total)"
   ]
  },
  {
   "cell_type": "markdown",
   "metadata": {},
   "source": [
    "SCATTER PLOT:\n",
    "Crops vs Livestock"
   ]
  },
  {
   "cell_type": "code",
   "execution_count": 55,
   "metadata": {},
   "outputs": [
    {
     "data": {
      "image/png": "[encoded data removed]",
      "text/plain": [
       "<Figure size 1512x864 with 1 Axes>"
      ]
     },
     "metadata": {
      "needs_background": "light"
     },
     "output_type": "display_data"
    }
   ],
   "source": [
    "from __future__ import annotations\n",
    "\n",
    "\n",
    "y_axis1=(India_only_crop_total, afghan_only_crop_total,  Pakistan_only_crop_total, Nepal_only_crop_total, Bangladesh_only_crop_total, Bhutan_only_crop_total, SriLanka_only_crop_total)\n",
    "#country_list=['India', 'Afghanistan', 'Pakistan', 'Nepal', 'Bangladesh']\n",
    "x_axis1=(India_only_livestock_total, afghan_only_livestock_total,  Pakistan_only_livestock_total, Nepal_only_livestock_total, Bangladesh_only_livestock_total, Bhutan_only_crop_total, SriLanka_only_livestock_total)\n",
    "plt.figure(figsize=(21, 12))\n",
    "annotations=['I', 'A', 'P', 'N', 'Ba', 'Bh', \"SL\"]\n",
    "plt.scatter(x_axis1, y_axis1, marker=\"o\", c='blue', edgecolors=\"black\", label='Crops in tonnes; Livestock per head')\n",
    "plt.ticklabel_format(useOffset=False)\n",
    "plt.xlabel('Livestock Total Production per head')\n",
    "plt.ylabel('Crop Total Production by tonnes')\n",
    "plt.title('South Asia Food Production')\n",
    "\n",
    "\n",
    "for i, label in enumerate(annotations):\n",
    "    plt.annotate(label, (x_axis1[i], y_axis1[i]))\n",
    "plt.savefig('Crops vs Livestock')\n",
    "\n",
    "#how to get labels on each point. Will use first letter of each country per relevant point"
   ]
  },
  {
   "cell_type": "markdown",
   "metadata": {},
   "source": [
    "BAR CHART: Total Food Production"
   ]
  },
  {
   "cell_type": "code",
   "execution_count": 56,
   "metadata": {},
   "outputs": [],
   "source": [
    "#variables\n",
    "\n",
    "# afghan_only2=dropped_columns_df2.loc[dropped_columns_df2['Country'] =='Afghanistan']\n",
    "# afghan_only2=afghan_only2[\"Value\"]\n",
    "# Nepal_only2=dropped_columns_df2.loc[dropped_columns_df2['Country'] =='Nepal']\n",
    "# Nepal_only2=Nepal_only2['Value']\n",
    "# #Nepal_only2=Nepal_only2.loc[Nepal_only2.wd==1, 'Value'].values[0]\n",
    "# Pakistan_only2=dropped_columns_df2.loc[dropped_columns_df2['Country'] =='Pakistan']\n",
    "# Pakistan_only2=Pakistan_only2['Value']\n",
    "# Bangladesh_only2=dropped_columns_df2.loc[dropped_columns_df2['Country'] =='Bangladesh']\n",
    "# Bangladesh_only2=Bangladesh_only2['Value']\n",
    "# India_only2=dropped_columns_df2.loc[dropped_columns_df2['Country'] =='India']\n",
    "# India_only2=India_only2['Value']\n",
    "# Nepal_only2\n"
   ]
  },
  {
   "cell_type": "code",
   "execution_count": 57,
   "metadata": {},
   "outputs": [],
   "source": [
    "# y_axis2=(India_only2, afghan_only2,  Pakistan_only2, Nepal_only2, Bangladesh_only2)\n",
    "# #x_axis2=('India', 'Afghanistan', 'Pakistan', 'Nepal', 'Bangladesh')\n",
    "# x_axis2=np.arange(len(y_axis2))"
   ]
  },
  {
   "cell_type": "code",
   "execution_count": 58,
   "metadata": {},
   "outputs": [
    {
     "data": {
      "text/html": [
       "<div>\n",
       "<style scoped>\n",
       "    .dataframe tbody tr th:only-of-type {\n",
       "        vertical-align: middle;\n",
       "    }\n",
       "\n",
       "    .dataframe tbody tr th {\n",
       "        vertical-align: top;\n",
       "    }\n",
       "\n",
       "    .dataframe thead th {\n",
       "        text-align: right;\n",
       "    }\n",
       "</style>\n",
       "<table border=\"1\" class=\"dataframe\">\n",
       "  <thead>\n",
       "    <tr style=\"text-align: right;\">\n",
       "      <th></th>\n",
       "      <th>Country</th>\n",
       "      <th>Year</th>\n",
       "      <th>Value</th>\n",
       "      <th>Population Size</th>\n",
       "      <th>2020 GDP in USD</th>\n",
       "      <th>GDP Per Capita</th>\n",
       "    </tr>\n",
       "  </thead>\n",
       "  <tbody>\n",
       "    <tr>\n",
       "      <th>0</th>\n",
       "      <td>Afghanistan</td>\n",
       "      <td>2020</td>\n",
       "      <td>5.477190e+07</td>\n",
       "      <td>3.892834e+07</td>\n",
       "      <td>2.011614e+10</td>\n",
       "      <td>516.747871</td>\n",
       "    </tr>\n",
       "    <tr>\n",
       "      <th>1</th>\n",
       "      <td>Bangladesh</td>\n",
       "      <td>2020</td>\n",
       "      <td>5.330869e+08</td>\n",
       "      <td>1.646894e+08</td>\n",
       "      <td>3.739021e+11</td>\n",
       "      <td>2270.347535</td>\n",
       "    </tr>\n",
       "    <tr>\n",
       "      <th>2</th>\n",
       "      <td>Bhutan</td>\n",
       "      <td>2020</td>\n",
       "      <td>2.096207e+06</td>\n",
       "      <td>7.716120e+05</td>\n",
       "      <td>2.315436e+09</td>\n",
       "      <td>3000.777986</td>\n",
       "    </tr>\n",
       "    <tr>\n",
       "      <th>3</th>\n",
       "      <td>India</td>\n",
       "      <td>2020</td>\n",
       "      <td>2.472701e+09</td>\n",
       "      <td>1.380004e+09</td>\n",
       "      <td>2.667688e+12</td>\n",
       "      <td>1933.101069</td>\n",
       "    </tr>\n",
       "    <tr>\n",
       "      <th>4</th>\n",
       "      <td>Nepal</td>\n",
       "      <td>2020</td>\n",
       "      <td>1.353131e+08</td>\n",
       "      <td>2.913681e+07</td>\n",
       "      <td>3.343367e+10</td>\n",
       "      <td>1147.471971</td>\n",
       "    </tr>\n",
       "    <tr>\n",
       "      <th>5</th>\n",
       "      <td>Pakistan</td>\n",
       "      <td>2020</td>\n",
       "      <td>1.804460e+09</td>\n",
       "      <td>2.208923e+08</td>\n",
       "      <td>3.003063e+11</td>\n",
       "      <td>1359.514522</td>\n",
       "    </tr>\n",
       "    <tr>\n",
       "      <th>6</th>\n",
       "      <td>Sri Lanka</td>\n",
       "      <td>2020</td>\n",
       "      <td>3.737842e+07</td>\n",
       "      <td>2.191900e+07</td>\n",
       "      <td>8.096968e+10</td>\n",
       "      <td>3694.040948</td>\n",
       "    </tr>\n",
       "  </tbody>\n",
       "</table>\n",
       "</div>"
      ],
      "text/plain": [
       "       Country  Year         Value  Population Size  2020 GDP in USD  \\\n",
       "0  Afghanistan  2020  5.477190e+07     3.892834e+07     2.011614e+10   \n",
       "1   Bangladesh  2020  5.330869e+08     1.646894e+08     3.739021e+11   \n",
       "2       Bhutan  2020  2.096207e+06     7.716120e+05     2.315436e+09   \n",
       "3        India  2020  2.472701e+09     1.380004e+09     2.667688e+12   \n",
       "4        Nepal  2020  1.353131e+08     2.913681e+07     3.343367e+10   \n",
       "5     Pakistan  2020  1.804460e+09     2.208923e+08     3.003063e+11   \n",
       "6    Sri Lanka  2020  3.737842e+07     2.191900e+07     8.096968e+10   \n",
       "\n",
       "   GDP Per Capita  \n",
       "0      516.747871  \n",
       "1     2270.347535  \n",
       "2     3000.777986  \n",
       "3     1933.101069  \n",
       "4     1147.471971  \n",
       "5     1359.514522  \n",
       "6     3694.040948  "
      ]
     },
     "execution_count": 58,
     "metadata": {},
     "output_type": "execute_result"
    }
   ],
   "source": [
    "filtered_data = merged_df[merged_df['Country'].isin(['Afghanistan', 'Bangladesh', 'Bhutan', 'India', 'Nepal', 'Pakistan', 'Sri Lanka'])].reset_index(drop=True)\n",
    "filtered_data"
   ]
  },
  {
   "cell_type": "code",
   "execution_count": 59,
   "metadata": {},
   "outputs": [
    {
     "data": {
      "text/plain": [
       "array([5.47718980e+07, 5.33086932e+08, 2.09620700e+06, 2.47270061e+09,\n",
       "       1.35313064e+08, 1.80446048e+09, 3.73784240e+07])"
      ]
     },
     "execution_count": 59,
     "metadata": {},
     "output_type": "execute_result"
    }
   ],
   "source": [
    "x_axis2 = np.array(filtered_data[\"Country\"])\n",
    "x_axis2\n",
    "\n",
    "y_axis2 = np.array(filtered_data[\"Value\"])\n",
    "y_axis2"
   ]
  },
  {
   "cell_type": "code",
   "execution_count": 60,
   "metadata": {},
   "outputs": [
    {
     "data": {
      "image/png": "[encoded data removed]",
      "text/plain": [
       "<Figure size 720x864 with 1 Axes>"
      ]
     },
     "metadata": {
      "needs_background": "light"
     },
     "output_type": "display_data"
    }
   ],
   "source": [
    "\n",
    "plt.figure(figsize=(10, 12))\n",
    "plt.bar(x_axis2, y_axis2)\n",
    "plt.savefig('Total Food Production')"
   ]
  },
  {
   "cell_type": "markdown",
   "metadata": {},
   "source": [
    "PIE CHART: Food production as a whole "
   ]
  },
  {
   "cell_type": "code",
   "execution_count": 61,
   "metadata": {},
   "outputs": [
    {
     "data": {
      "text/plain": [
       "array([5.47718980e+07, 5.33086932e+08, 2.09620700e+06, 2.47270061e+09,\n",
       "       1.35313064e+08, 1.80446048e+09, 3.73784240e+07])"
      ]
     },
     "execution_count": 61,
     "metadata": {},
     "output_type": "execute_result"
    }
   ],
   "source": [
    "y_axis2"
   ]
  },
  {
   "cell_type": "code",
   "execution_count": 62,
   "metadata": {},
   "outputs": [],
   "source": [
    "#labels:['Afghanistan', 'Bangladesh', 'Bhutan', 'India', 'Nepal', 'Pakistan', 'Sri Lanka']\n",
    "labels=['Afghanistan', 'Bangladesh', 'Bhutan', 'India', 'Nepal', 'Pakistan', 'Sri Lanka']\n",
    "country_data=y_axis2\n",
    "colors = [\"springgreen\", \"orange\", \"lightcoral\", \"lightskyblue\",\"mediumpurple\", \"chocolate\", \"gold\"]"
   ]
  },
  {
   "cell_type": "code",
   "execution_count": 68,
   "metadata": {},
   "outputs": [
    {
     "data": {
      "text/plain": [
       "<function matplotlib.pyplot.show(close=None, block=None)>"
      ]
     },
     "execution_count": 68,
     "metadata": {},
     "output_type": "execute_result"
    },
    {
     "data": {
      "image/png": "[encoded data removed]",
      "text/plain": [
       "<Figure size 432x288 with 1 Axes>"
      ]
     },
     "metadata": {},
     "output_type": "display_data"
    }
   ],
   "source": [
    "# plt.figure(figsize=(8, 8))\n",
    "plt.pie(country_data, colors=colors, labels=labels,\n",
    "        autopct=\"%1.1f%%\", shadow=True)\n",
    "plt.title('2020 Total Food Production - South Asia')\n",
    "plt.tight_layout() #doing this just made the chart bigger, but it is actually kind of helpful doing that\n",
    "plt.savefig('Food Production Pie Chart')\n",
    "plt.show"
   ]
  }
 ],
 "metadata": {
  "kernelspec": {
   "display_name": "Python 3.9.12 ('base')",
   "language": "python",
   "name": "python3"
  },
  "language_info": {
   "codemirror_mode": {
    "name": "ipython",
    "version": 3
   },
   "file_extension": ".py",
   "mimetype": "text/x-python",
   "name": "python",
   "nbconvert_exporter": "python",
   "pygments_lexer": "ipython3",
   "version": "3.9.12"
  },
  "orig_nbformat": 4,
  "vscode": {
   "interpreter": {
    "hash": "451d2264f7fe9ea4aed8c4fe3c72fa0b32d9ba08acb963d1646278e19bdadf77"
   }
  }
 },
 "nbformat": 4,
 "nbformat_minor": 2
}
