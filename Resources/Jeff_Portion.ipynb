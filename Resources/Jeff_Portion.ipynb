{
 "cells": [
  {
   "cell_type": "code",
   "execution_count": 1,
   "metadata": {},
   "outputs": [],
   "source": [
    "import pandas as pd\n",
    "import numpy as np\n",
    "import scipy.stats as st\n",
    "from scipy.stats import linregress\n",
    "import matplotlib.pyplot as plt\n",
    "import matplotlib.ticker as ticker\n",
    "from matplotlib.ticker import ScalarFormatter"
   ]
  },
  {
   "cell_type": "code",
   "execution_count": 2,
   "metadata": {},
   "outputs": [],
   "source": [
    "#Reading the csv files\n",
    "\n",
    "combined_df=pd.read_csv(\"../Resources/combined.csv\") #contains all the individual food items\n",
    "\n",
    "merged_df=pd.read_csv(\"../Resources/merged_data.csv\").reset_index(drop=True) #contains the summary/total food production per country\n"
   ]
  },
  {
   "cell_type": "code",
   "execution_count": 3,
   "metadata": {},
   "outputs": [],
   "source": [
    "#merged_df=merged_df.reset_index(drop=True)\n"
   ]
  },
  {
   "cell_type": "markdown",
   "metadata": {},
   "source": [
    "VARIABLES"
   ]
  },
  {
   "cell_type": "code",
   "execution_count": 4,
   "metadata": {},
   "outputs": [],
   "source": [
    "dropped_columns_df=combined_df.drop(['Item', 'Year', 'Unit', 'Population Size', 'GDP Per Capita', '2020 GDP in USD'], axis=1)\n",
    "#dropped_columns_df=dropped_columns_df(['Value']/1000000)"
   ]
  },
  {
   "cell_type": "code",
   "execution_count": 5,
   "metadata": {},
   "outputs": [],
   "source": [
    "dropped_columns_df2=merged_df.drop(['Year', 'Value', 'Population Size in Millions', 'GDP Per Capita', '2020 GDP in USD'], axis=1)\n"
   ]
  },
  {
   "cell_type": "code",
   "execution_count": 6,
   "metadata": {},
   "outputs": [
    {
     "data": {
      "text/plain": [
       "12.47926"
      ]
     },
     "execution_count": 6,
     "metadata": {},
     "output_type": "execute_result"
    }
   ],
   "source": [
    "#Group by country name, element=production, element=stocks, value\n",
    "#be sure to put 'in millions'\n",
    "afghan_only=dropped_columns_df.loc[dropped_columns_df['Country'] =='Afghanistan']\n",
    "afghan_only_crop=afghan_only.loc[afghan_only['Element']=='Production']\n",
    "afghan_only_crop_total=afghan_only_crop['Value'].sum() \n",
    "afghan_only_crop_total=(int(afghan_only_crop_total))\n",
    "afghan_only_crop_total=afghan_only_crop_total/1000000#***\n",
    "afghan_only_livestock=afghan_only.loc[afghan_only['Element']=='Stocks']\n",
    "afghan_only_livestock_total=afghan_only_livestock['Value'].sum()\n",
    "afghan_only_livestock_total=(int(afghan_only_livestock_total))\n",
    "afghan_only_livestock_total=afghan_only_livestock_total/1000000#***\n",
    "\n",
    "afghan_only_crop_total"
   ]
  },
  {
   "cell_type": "code",
   "execution_count": 7,
   "metadata": {},
   "outputs": [
    {
     "data": {
      "text/plain": [
       "24.432963"
      ]
     },
     "execution_count": 7,
     "metadata": {},
     "output_type": "execute_result"
    }
   ],
   "source": [
    "Nepal_only=dropped_columns_df.loc[dropped_columns_df['Country'] =='Nepal']\n",
    "Nepal_only_crop=Nepal_only.loc[Nepal_only['Element']=='Production']\n",
    "Nepal_only_crop_total=Nepal_only_crop['Value'].sum() \n",
    "Nepal_only_crop_total=(int(Nepal_only_crop_total))\n",
    "Nepal_only_crop_total=Nepal_only_crop_total/1000000#***\n",
    "Nepal_only_livestock=Nepal_only.loc[Nepal_only['Element']=='Stocks']\n",
    "Nepal_only_livestock_total=Nepal_only_livestock['Value'].sum() \n",
    "Nepal_only_livestock_total=(int(Nepal_only_livestock_total))\n",
    "Nepal_only_livestock_total=Nepal_only_livestock_total/1000000#***\n",
    "Nepal_only_crop_total"
   ]
  },
  {
   "cell_type": "code",
   "execution_count": 8,
   "metadata": {},
   "outputs": [
    {
     "data": {
      "text/plain": [
       "149.767384"
      ]
     },
     "execution_count": 8,
     "metadata": {},
     "output_type": "execute_result"
    }
   ],
   "source": [
    "Pakistan_only=dropped_columns_df.loc[dropped_columns_df['Country'] =='Pakistan']\n",
    "Pakistan_only_crop=Pakistan_only.loc[Pakistan_only['Element']=='Production']\n",
    "Pakistan_only_crop_total=Pakistan_only_crop['Value'].sum() \n",
    "Pakistan_only_crop_total=(int(Pakistan_only_crop_total))\n",
    "Pakistan_only_crop_total=Pakistan_only_crop_total/1000000#***\n",
    "Pakistan_only_livestock=Pakistan_only.loc[Pakistan_only['Element']=='Stocks']\n",
    "Pakistan_only_livestock_total=Pakistan_only_livestock['Value'].sum()\n",
    "Pakistan_only_livestock_total=(int(Pakistan_only_livestock_total))\n",
    "Pakistan_only_livestock_total=Pakistan_only_livestock_total/1000000#***\n",
    "Pakistan_only_crop_total"
   ]
  },
  {
   "cell_type": "code",
   "execution_count": 9,
   "metadata": {},
   "outputs": [
    {
     "name": "stdout",
     "output_type": "stream",
     "text": [
      "88.58377 444.503162\n"
     ]
    }
   ],
   "source": [
    "Bangladesh_only=dropped_columns_df.loc[dropped_columns_df['Country'] =='Bangladesh']\n",
    "Bangladesh_only_crop=Bangladesh_only.loc[Bangladesh_only['Element']=='Production']\n",
    "Bangladesh_only_crop_total=Bangladesh_only_crop['Value'].sum() \n",
    "Bangladesh_only_crop_total=(int(Bangladesh_only_crop_total))\n",
    "Bangladesh_only_crop_total=Bangladesh_only_crop_total/1000000#***\n",
    "Bangladesh_only_livestock=Bangladesh_only.loc[Bangladesh_only['Element']=='Stocks']\n",
    "Bangladesh_only_livestock_total=Bangladesh_only_livestock['Value'].sum()\n",
    "Bangladesh_only_livestock_total=(int(Bangladesh_only_livestock_total))\n",
    "Bangladesh_only_livestock_total=Bangladesh_only_livestock_total/1000000#***\n",
    "print(Bangladesh_only_crop_total, Bangladesh_only_livestock_total)"
   ]
  },
  {
   "cell_type": "code",
   "execution_count": 10,
   "metadata": {},
   "outputs": [
    {
     "name": "stdout",
     "output_type": "stream",
     "text": [
      "1101.656233 1371.044381\n"
     ]
    }
   ],
   "source": [
    "India_only=dropped_columns_df.loc[dropped_columns_df['Country'] =='India']\n",
    "India_only_crop=India_only.loc[India_only['Element']=='Production']\n",
    "India_only_crop_total=India_only_crop['Value'].sum() \n",
    "India_only_crop_total=(int(India_only_crop_total))\n",
    "India_only_crop_total=India_only_crop_total/1000000#***\n",
    "India_only_livestock=India_only.loc[India_only['Element']=='Stocks']\n",
    "India_only_livestock_total=India_only_livestock['Value'].sum() \n",
    "India_only_livestock_total=(int(India_only_livestock_total))\n",
    "India_only_livestock_total=India_only_livestock_total/1000000#***\n",
    "print(India_only_crop_total, India_only_livestock_total)"
   ]
  },
  {
   "cell_type": "code",
   "execution_count": 11,
   "metadata": {},
   "outputs": [
    {
     "name": "stdout",
     "output_type": "stream",
     "text": [
      "0.320661 1.775546\n"
     ]
    }
   ],
   "source": [
    "Bhutan_only=dropped_columns_df.loc[dropped_columns_df['Country'] =='Bhutan']\n",
    "Bhutan_only_crop=Bhutan_only.loc[Bhutan_only['Element']=='Production']\n",
    "Bhutan_only_crop_total=Bhutan_only_crop['Value'].sum() \n",
    "Bhutan_only_crop_total=(int(Bhutan_only_crop_total))\n",
    "Bhutan_only_crop_total=Bhutan_only_crop_total/1000000#***\n",
    "Bhutan_only_livestock=Bhutan_only.loc[Bhutan_only['Element']=='Stocks']\n",
    "Bhutan_only_livestock_total=Bhutan_only_livestock['Value'].sum() \n",
    "Bhutan_only_livestock_total=(int(Bhutan_only_livestock_total))\n",
    "Bhutan_only_livestock_total=Bhutan_only_livestock_total/1000000#***\n",
    "print(Bhutan_only_crop_total, Bhutan_only_livestock_total)"
   ]
  },
  {
   "cell_type": "code",
   "execution_count": 12,
   "metadata": {},
   "outputs": [
    {
     "name": "stdout",
     "output_type": "stream",
     "text": [
      "11.220162 26.158262\n"
     ]
    }
   ],
   "source": [
    "SriLanka_only=dropped_columns_df.loc[dropped_columns_df['Country'] =='Sri Lanka']\n",
    "SriLanka_only_crop=SriLanka_only.loc[SriLanka_only['Element']=='Production']\n",
    "SriLanka_only_crop_total=SriLanka_only_crop['Value'].sum() \n",
    "SriLanka_only_crop_total=(int(SriLanka_only_crop_total))\n",
    "SriLanka_only_crop_total=SriLanka_only_crop_total/1000000#***\n",
    "SriLanka_only_livestock=SriLanka_only.loc[SriLanka_only['Element']=='Stocks']\n",
    "SriLanka_only_livestock_total=SriLanka_only_livestock['Value'].sum() \n",
    "SriLanka_only_livestock_total=(int(SriLanka_only_livestock_total))\n",
    "SriLanka_only_livestock_total=SriLanka_only_livestock_total/1000000#***\n",
    "print(SriLanka_only_crop_total, SriLanka_only_livestock_total)"
   ]
  },
  {
   "cell_type": "code",
   "execution_count": 13,
   "metadata": {},
   "outputs": [],
   "source": [
    "\n",
    "# country_list=['India', 'Afghanistan', 'Pakistan', 'Nepal', 'Bangladesh','Bhutan','Sri Lanka']\n",
    "# y_axis1 = [India_only_crop_total, afghan_only_crop_total,  Pakistan_only_crop_total, Nepal_only_crop_total, Bangladesh_only_crop_total, Bhutan_only_crop_total, SriLanka_only_crop_total]\n",
    "# x_axis1 = [India_only_livestock_total, afghan_only_livestock_total,  Pakistan_only_livestock_total, Nepal_only_livestock_total, Bangladesh_only_livestock_total, Bhutan_only_crop_total, SriLanka_only_livestock_total]"
   ]
  },
  {
   "cell_type": "code",
   "execution_count": 14,
   "metadata": {},
   "outputs": [],
   "source": [
    "# annotations=['I', 'A', 'P', 'N', 'Ba', 'Bh', \"SL\"]\n",
    "# crop_live_df = pd.DataFrame({'Country': country_list, 'Live Stock Total': x_axis1, 'Crop Total in Tonnes': y_axis1})\n",
    "\n",
    "# fig, ax = plt.subplots()\n",
    "# plt.figure(figsize=(21, 12))\n",
    "# colors = {'India':'green',\n",
    "# \t'Afghanistan':'red',\n",
    "# \t'Pakistan':'blue',\n",
    "# \t'Nepal':'black',\n",
    "# \t'Bangladesh':'orange',\n",
    "# \t'Bhutan':'gold',\n",
    "# \t'Sri Lanka':'purple'}\n",
    "# ax.scatter(crop_live_df['Live Stock Total'], crop_live_df['Crop Total in Tonnes'], label=country_list, c=crop_live_df['Country'].map(colors))\n",
    "# plt.ticklabel_format(useOffset=False)\n",
    "# plt.xlabel('Livestock Total Production per head')\n",
    "# plt.ylabel('Crop Total Production by tonnes')\n",
    "# plt.title('South Asia Food Production in 10,000s')\n",
    "# #plt.legend(loc=\"upper left\")\n",
    "# #for i, label in enumerate(annotations):\n",
    "#     #plt.annotate(label, (x_axis1[i], y_axis1[i]))\n",
    "\n",
    "# # plt.savefig('Scatter')"
   ]
  },
  {
   "cell_type": "markdown",
   "metadata": {},
   "source": [
    "SCATTER PLOT:\n",
    "Crops vs Livestock"
   ]
  },
  {
   "cell_type": "code",
   "execution_count": 25,
   "metadata": {},
   "outputs": [
    {
     "name": "stdout",
     "output_type": "stream",
     "text": [
      "Correlation: 0.64\n"
     ]
    },
    {
     "data": {
      "image/png": "[encoded data removed]",
      "text/plain": [
       "<Figure size 1080x504 with 1 Axes>"
      ]
     },
     "metadata": {
      "needs_background": "light"
     },
     "output_type": "display_data"
    }
   ],
   "source": [
    "from __future__ import annotations\n",
    "\n",
    "#colors={'India':'mediumseagreen', 'Afghanistan':'red', 'Pakistan':'blue', 'Nepal': 'black', 'Bangladesh':'orange', 'Bhutan':'purple'}\n",
    "colors=('mediumseagreen', 'red', 'blue', 'black', 'orange', 'purple', 'salmon')\n",
    "country_list=['India', 'Afghanistan', 'Pakistan', 'Nepal', 'Bangladesh','Bhutan','Sri Lanka']\n",
    "y_axis1=(India_only_crop_total, afghan_only_crop_total,  Pakistan_only_crop_total, Nepal_only_crop_total, Bangladesh_only_crop_total, Bhutan_only_crop_total, SriLanka_only_crop_total)\n",
    "x_axis1=(India_only_livestock_total, afghan_only_livestock_total,  Pakistan_only_livestock_total, Nepal_only_livestock_total, Bangladesh_only_livestock_total, Bhutan_only_crop_total, SriLanka_only_livestock_total)\n",
    "plt.figure(figsize=(15, 7))\n",
    "#annotations=['I', 'A', 'P', 'N', 'Ba', 'Bh', \"SL\"]\n",
    "plt.scatter(x_axis1, y_axis1, marker=\"o\", edgecolors=\"black\", label='Crops in tonnes; Livestock per head', s=100, c=colors)\n",
    "plt.ticklabel_format(useOffset=False)\n",
    "plt.xlabel('Livestock Total Production per head (in millions)')\n",
    "plt.ylabel('Crop Total Production by tonnes (in millions)')\n",
    "plt.title('South Asia Food Production -Crop/Livestock')\n",
    "#plt.legend(handles=[y_axis,], loc=\"upper left\")\n",
    "# for i, country in enumerate(country_list):\n",
    "#     plt.legend(country_list[i], loc=\"upper left\")\n",
    "\n",
    "#for i, label in enumerate(annotations):\n",
    "#     plt.annotate(label, (x_axis1[i], y_axis1[i]))\n",
    "print(f\"Correlation: {round(st.pearsonr(x_axis1,y_axis1)[0],2)}\")\n",
    "plt.savefig('Scatter')\n",
    "\n",
    "#how to get labels on each point. Will use first letter of each country per relevant point"
   ]
  },
  {
   "cell_type": "markdown",
   "metadata": {},
   "source": [
    "Analysis: India and Pakistan produce the most food by far, but with an opposite emphasis on livestock versus crops. This may be due to a relative lack of arable land in Pakistan as compared to India, which would incentivize the Pakistanis to focus their efforts on livestock. \n",
    "Even though Bhutan looks like it produces nothing, it is simply ALMOST nothing, especially when compared to the outlier India. Sri Lanka and Afghanistan are close behind. It is likely that Afghanistan and Sri Lanka import much of their needed food (Sri Lanka's recent food crisis notwithstanding). Bangladesh clearly produces more livestock than crops, but not by much. Much of that country is tropical and sub-tropical rainforest, so it would make sense that food production would be more difficult and costly. \n",
    "All of this being said, more research and data analysis into the geography, climate, and political situations would yield more accurate and indepth analysis."
   ]
  },
  {
   "cell_type": "markdown",
   "metadata": {},
   "source": [
    "BAR CHART: Total Food Production"
   ]
  },
  {
   "cell_type": "code",
   "execution_count": 16,
   "metadata": {},
   "outputs": [],
   "source": [
    "#variables\n",
    "\n",
    "# afghan_only2=dropped_columns_df2.loc[dropped_columns_df2['Country'] =='Afghanistan']\n",
    "# afghan_only2=afghan_only2[\"Value\"]\n",
    "# Nepal_only2=dropped_columns_df2.loc[dropped_columns_df2['Country'] =='Nepal']\n",
    "# Nepal_only2=Nepal_only2['Value']\n",
    "# #Nepal_only2=Nepal_only2.loc[Nepal_only2.wd==1, 'Value'].values[0]\n",
    "# Pakistan_only2=dropped_columns_df2.loc[dropped_columns_df2['Country'] =='Pakistan']\n",
    "# Pakistan_only2=Pakistan_only2['Value']\n",
    "# Bangladesh_only2=dropped_columns_df2.loc[dropped_columns_df2['Country'] =='Bangladesh']\n",
    "# Bangladesh_only2=Bangladesh_only2['Value']\n",
    "# India_only2=dropped_columns_df2.loc[dropped_columns_df2['Country'] =='India']\n",
    "# India_only2=India_only2['Value']\n",
    "# Nepal_only2\n"
   ]
  },
  {
   "cell_type": "code",
   "execution_count": 17,
   "metadata": {},
   "outputs": [],
   "source": [
    "# y_axis2=(India_only2, afghan_only2,  Pakistan_only2, Nepal_only2, Bangladesh_only2)\n",
    "# #x_axis2=('India', 'Afghanistan', 'Pakistan', 'Nepal', 'Bangladesh')\n",
    "# x_axis2=np.arange(len(y_axis2))"
   ]
  },
  {
   "cell_type": "code",
   "execution_count": 18,
   "metadata": {},
   "outputs": [
    {
     "data": {
      "text/html": [
       "<div>\n",
       "<style scoped>\n",
       "    .dataframe tbody tr th:only-of-type {\n",
       "        vertical-align: middle;\n",
       "    }\n",
       "\n",
       "    .dataframe tbody tr th {\n",
       "        vertical-align: top;\n",
       "    }\n",
       "\n",
       "    .dataframe thead th {\n",
       "        text-align: right;\n",
       "    }\n",
       "</style>\n",
       "<table border=\"1\" class=\"dataframe\">\n",
       "  <thead>\n",
       "    <tr style=\"text-align: right;\">\n",
       "      <th></th>\n",
       "      <th>Country</th>\n",
       "      <th>Production in Millions</th>\n",
       "    </tr>\n",
       "  </thead>\n",
       "  <tbody>\n",
       "    <tr>\n",
       "      <th>0</th>\n",
       "      <td>Afghanistan</td>\n",
       "      <td>5.477190</td>\n",
       "    </tr>\n",
       "    <tr>\n",
       "      <th>1</th>\n",
       "      <td>Bangladesh</td>\n",
       "      <td>53.308693</td>\n",
       "    </tr>\n",
       "    <tr>\n",
       "      <th>2</th>\n",
       "      <td>Bhutan</td>\n",
       "      <td>0.209621</td>\n",
       "    </tr>\n",
       "    <tr>\n",
       "      <th>3</th>\n",
       "      <td>India</td>\n",
       "      <td>247.270061</td>\n",
       "    </tr>\n",
       "    <tr>\n",
       "      <th>4</th>\n",
       "      <td>Nepal</td>\n",
       "      <td>13.531306</td>\n",
       "    </tr>\n",
       "    <tr>\n",
       "      <th>5</th>\n",
       "      <td>Pakistan</td>\n",
       "      <td>180.446048</td>\n",
       "    </tr>\n",
       "    <tr>\n",
       "      <th>6</th>\n",
       "      <td>Sri Lanka</td>\n",
       "      <td>3.737842</td>\n",
       "    </tr>\n",
       "  </tbody>\n",
       "</table>\n",
       "</div>"
      ],
      "text/plain": [
       "       Country  Production in Millions\n",
       "0  Afghanistan                5.477190\n",
       "1   Bangladesh               53.308693\n",
       "2       Bhutan                0.209621\n",
       "3        India              247.270061\n",
       "4        Nepal               13.531306\n",
       "5     Pakistan              180.446048\n",
       "6    Sri Lanka                3.737842"
      ]
     },
     "execution_count": 18,
     "metadata": {},
     "output_type": "execute_result"
    }
   ],
   "source": [
    "filtered_data = dropped_columns_df2[dropped_columns_df2['Country'].isin(['Afghanistan', 'Bangladesh', 'Bhutan', 'India', 'Nepal', 'Pakistan', 'Sri Lanka'])].reset_index(drop=True)\n",
    "filtered_data"
   ]
  },
  {
   "cell_type": "code",
   "execution_count": 19,
   "metadata": {},
   "outputs": [
    {
     "data": {
      "text/plain": [
       "array([5.47718980e+00, 5.33086932e+01, 2.09620700e-01, 2.47270061e+02,\n",
       "       1.35313064e+01, 1.80446048e+02, 3.73784240e+00])"
      ]
     },
     "execution_count": 19,
     "metadata": {},
     "output_type": "execute_result"
    }
   ],
   "source": [
    "x_axis2 = np.array(filtered_data[\"Country\"])\n",
    "x_axis2\n",
    "\n",
    "y_axis2 = np.array(filtered_data[\"Production in Millions\"])\n",
    "y_axis2"
   ]
  },
  {
   "cell_type": "code",
   "execution_count": 20,
   "metadata": {},
   "outputs": [],
   "source": [
    "colors1=['green', 'forestgreen', 'seagreen', 'mediumseagreen', 'seagreen', 'forestgreen', 'green']"
   ]
  },
  {
   "cell_type": "code",
   "execution_count": 21,
   "metadata": {},
   "outputs": [
    {
     "data": {
      "image/png": "[encoded data removed]",
      "text/plain": [
       "<Figure size 576x432 with 1 Axes>"
      ]
     },
     "metadata": {
      "needs_background": "light"
     },
     "output_type": "display_data"
    }
   ],
   "source": [
    "\n",
    "plt.figure(figsize=(8, 6))\n",
    "plt.bar(x_axis2, y_axis2, color=colors1)\n",
    "plt.ylabel('Total Food Production (in millions of tons)')\n",
    "plt.savefig('Bar Chart')"
   ]
  },
  {
   "cell_type": "markdown",
   "metadata": {},
   "source": [
    "Analysis:"
   ]
  },
  {
   "cell_type": "markdown",
   "metadata": {},
   "source": [
    "PIE CHART: Food production as a whole "
   ]
  },
  {
   "cell_type": "code",
   "execution_count": 22,
   "metadata": {},
   "outputs": [
    {
     "data": {
      "text/plain": [
       "array([5.47718980e+00, 5.33086932e+01, 2.09620700e-01, 2.47270061e+02,\n",
       "       1.35313064e+01, 1.80446048e+02, 3.73784240e+00])"
      ]
     },
     "execution_count": 22,
     "metadata": {},
     "output_type": "execute_result"
    }
   ],
   "source": [
    "y_axis2"
   ]
  },
  {
   "cell_type": "code",
   "execution_count": 23,
   "metadata": {},
   "outputs": [],
   "source": [
    "#labels:['Afghanistan', 'Bangladesh', 'Bhutan', 'India', 'Nepal', 'Pakistan', 'Sri Lanka']\n",
    "labels=['Afghanistan', 'Bangladesh', 'Bhutan', 'India', 'Nepal', 'Pakistan', 'Sri Lanka']\n",
    "country_data=y_axis2\n",
    "colors = [\"springgreen\", \"orange\", \"lightcoral\", \"lightskyblue\",\"mediumpurple\", \"chocolate\", \"gold\"]"
   ]
  },
  {
   "cell_type": "code",
   "execution_count": 24,
   "metadata": {},
   "outputs": [
    {
     "data": {
      "image/png": "[encoded data removed]",
      "text/plain": [
       "<Figure size 864x864 with 1 Axes>"
      ]
     },
     "metadata": {},
     "output_type": "display_data"
    }
   ],
   "source": [
    "plt.figure(figsize=(12, 12))\n",
    "plt.pie(country_data, labels=labels, colors=colors,\n",
    "        autopct=\"%1.1f%%\", shadow=True, startangle=140,)\n",
    "plt.title('2020 Total Food Production by Country - South Asia')\n",
    "plt.tight_layout() #doing this just made the chart bigger, but it is actually kind of helpful doing that\n",
    "plt.savefig('Pie Chart')"
   ]
  }
 ],
 "metadata": {
  "kernelspec": {
   "display_name": "Python 3.9.12 ('base')",
   "language": "python",
   "name": "python3"
  },
  "language_info": {
   "codemirror_mode": {
    "name": "ipython",
    "version": 3
   },
   "file_extension": ".py",
   "mimetype": "text/x-python",
   "name": "python",
   "nbconvert_exporter": "python",
   "pygments_lexer": "ipython3",
   "version": "3.9.12"
  },
  "orig_nbformat": 4,
  "vscode": {
   "interpreter": {
    "hash": "9129e57c9ad0832b8c5a23e319c476629b1a6d041425cb8fc5fd19eee72be3b7"
   }
  }
 },
 "nbformat": 4,
 "nbformat_minor": 2
}
